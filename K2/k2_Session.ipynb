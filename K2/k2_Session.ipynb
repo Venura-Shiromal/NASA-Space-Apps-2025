{
 "cells": [
  {
   "cell_type": "markdown",
   "id": "cbba806f-c388-4c3d-a22a-2708c7744271",
   "metadata": {},
   "source": [
    "[![Open In Colab](https://colab.research.google.com/assets/colab-badge.svg)](https://colab.research.google.com/github/Venura-Shiromal/NASA-Space-Apps-2025/blob/main/K2/k2_Session.ipynb)"
   ]
  },
  {
   "cell_type": "markdown",
   "id": "f0949a84-1b12-444d-ae80-0f299320327c",
   "metadata": {},
   "source": [
    "## Prerequisities"
   ]
  },
  {
   "cell_type": "code",
   "execution_count": 1,
   "id": "774b0bb5-d512-422e-a32d-fc93df3a823b",
   "metadata": {},
   "outputs": [],
   "source": [
    "### If hasn't installed already\n",
    "# !pip install pandas\n",
    "# !pip install numpy\n",
    "# !pip install onnxruntime"
   ]
  },
  {
   "cell_type": "code",
   "execution_count": 2,
   "id": "6a932380-dfc3-444f-abf5-2f0205ba69af",
   "metadata": {},
   "outputs": [],
   "source": [
    "import pandas as pd\n",
    "import numpy as np\n",
    "import onnxruntime as ort"
   ]
  },
  {
   "cell_type": "markdown",
   "id": "92a98a03-c0f1-4c53-8dee-91a8f7ef60e8",
   "metadata": {},
   "source": [
    "# Loading Data"
   ]
  },
  {
   "cell_type": "code",
   "execution_count": 3,
   "id": "297df721-eb28-4aa4-b4e4-63e714999468",
   "metadata": {},
   "outputs": [],
   "source": [
    "df = pd.read_csv(\"predict.csv\")"
   ]
  },
  {
   "cell_type": "markdown",
   "id": "67cdce3c-e8af-46bb-93a2-9ae0d2f73d12",
   "metadata": {},
   "source": [
    "## Fixing Data"
   ]
  },
  {
   "cell_type": "markdown",
   "id": "141ed521-0b3d-4797-981d-b919f888c1d5",
   "metadata": {},
   "source": [
    "### Selecting Features"
   ]
  },
  {
   "cell_type": "code",
   "execution_count": 4,
   "id": "0205cc3a-5a45-4fe7-8868-08123939b72b",
   "metadata": {},
   "outputs": [],
   "source": [
    "features = [\n",
    "        'sy_snum', \n",
    "        'sy_pnum', \n",
    "        'discoverymethod', \n",
    "        'disc_facility', \n",
    "        'soltype', \n",
    "        'pl_controv_flag', \n",
    "        'pl_orbper', \n",
    "        'ttv_flag', \n",
    "        'st_rad', \n",
    "        'sy_dist', \n",
    "        'sy_vmag', \n",
    "        'sy_kmag', \n",
    "        'sy_gaiamag'\n",
    "]\n",
    "\n",
    "df = df[features]"
   ]
  },
  {
   "cell_type": "markdown",
   "id": "1709f0bd-655c-4abc-977a-86c9a71e94d6",
   "metadata": {},
   "source": [
    "### Mapping Data"
   ]
  },
  {
   "cell_type": "code",
   "execution_count": 5,
   "id": "d1fe046b-163f-4b8a-a4dc-02cd916cac31",
   "metadata": {},
   "outputs": [],
   "source": [
    "method_map = {\n",
    "    'Transit': 2,\n",
    "    'Radial Velocity': 1,\n",
    "    'Microlensing': 0\n",
    "}\n",
    "\n",
    "facility_map = {\n",
    "    \"K2\": 0,\n",
    "    \"HATNet\": 1,\n",
    "    \"HATSouth\": 2,\n",
    "    \"Multiple Observatories\": 3,\n",
    "    \"Roque de los Muchachos Observatory\": 4,\n",
    "    \"CHaracterising ExOPlanets Satellite (CHEOPS)\": 5,\n",
    "    \"La Silla Observatory\": 6,\n",
    "    \"Qatar\": 7,\n",
    "    \"SuperWASP-South\": 8,\n",
    "    \"SuperWASP\": 9\n",
    "}\n",
    "\n",
    "sol_map = {\n",
    "    \"Published Confirmed\": 1.0,\n",
    "    \"Published Candidate\": 0.0\n",
    "}\n",
    "\n",
    "df[\"discoverymethod\"] = df[\"discoverymethod\"].map(method_map)\n",
    "df[\"disc_facility\"] = df[\"disc_facility\"].map(facility_map)\n",
    "df[\"soltype\"] = df[\"soltype\"].map(sol_map)"
   ]
  },
  {
   "cell_type": "markdown",
   "id": "915885da-1d15-4e2c-9d9f-9d952dc3c3b3",
   "metadata": {},
   "source": [
    "### Filling Empty Cells"
   ]
  },
  {
   "cell_type": "code",
   "execution_count": 6,
   "id": "51a178a2-c332-4139-9f94-033f7176a047",
   "metadata": {},
   "outputs": [],
   "source": [
    "for col in [\"discoverymethod\", \"disc_facility\", \"soltype\"]:\n",
    "    if df[col].isnull().any():\n",
    "        df.fillna({col: df[col].mode()[0]}, inplace=True)\n",
    "\n",
    "df = df.fillna(df.mean()) "
   ]
  },
  {
   "cell_type": "markdown",
   "id": "35f34810-713f-4109-a604-42103f338489",
   "metadata": {},
   "source": [
    "## Making Final Input Array"
   ]
  },
  {
   "cell_type": "code",
   "execution_count": 7,
   "id": "94423123-1eb0-41bf-9d64-1644d77c375e",
   "metadata": {},
   "outputs": [],
   "source": [
    "x = df.to_numpy().astype(np.float32) "
   ]
  },
  {
   "cell_type": "markdown",
   "id": "89e478bb-ec2e-4a76-a34d-b29a6eac588a",
   "metadata": {},
   "source": [
    "# Loading Model"
   ]
  },
  {
   "cell_type": "code",
   "execution_count": 8,
   "id": "46a508c8-e4e5-41eb-a6fb-63e406a96de6",
   "metadata": {},
   "outputs": [],
   "source": [
    "session = ort.InferenceSession(\"k2_model.onnx\")"
   ]
  },
  {
   "cell_type": "markdown",
   "id": "78e7686f-9e86-4a8e-b4ab-59f10050b0db",
   "metadata": {},
   "source": [
    "# Giving Input and Getting Output"
   ]
  },
  {
   "cell_type": "code",
   "execution_count": 9,
   "id": "e4ef41e9-1cf8-4fa6-a8e1-eb5357568854",
   "metadata": {},
   "outputs": [],
   "source": [
    "input_name = session.get_inputs()[0].name\n",
    "outputs = session.run(None, {input_name: x})"
   ]
  },
  {
   "cell_type": "markdown",
   "id": "2fee3e06-4f7d-4410-a1ed-f304242a8fc3",
   "metadata": {},
   "source": [
    "# Formatting Output"
   ]
  },
  {
   "cell_type": "markdown",
   "id": "e844d019-bcb7-4cd4-9eec-41b975b31d8d",
   "metadata": {},
   "source": [
    "## Selecting Max Probability Values"
   ]
  },
  {
   "cell_type": "code",
   "execution_count": 10,
   "id": "30da675e-773c-4b70-bea1-e0b5ea59a0d2",
   "metadata": {},
   "outputs": [
    {
     "data": {
      "text/plain": [
       "' Label only '"
      ]
     },
     "execution_count": 10,
     "metadata": {},
     "output_type": "execute_result"
    }
   ],
   "source": [
    "probs_list = outputs[1]\n",
    "\n",
    "''' Label and Probability '''\n",
    "y_pred = [(max(d, key=d.get), max(d.values())) for d in probs_list]\n",
    "\n",
    "''' Label only '''\n",
    "#y_pred = [max(d, key=d.get) for d in probs_list]"
   ]
  },
  {
   "cell_type": "markdown",
   "id": "64eb8cf9-7c80-4449-98bc-11b9184691f0",
   "metadata": {},
   "source": [
    "## Mapping Labels"
   ]
  },
  {
   "cell_type": "code",
   "execution_count": 11,
   "id": "d72d962a-0161-46a7-80ec-a1ef544ba24c",
   "metadata": {},
   "outputs": [
    {
     "data": {
      "text/plain": [
       "' Just prints the output '"
      ]
     },
     "execution_count": 11,
     "metadata": {},
     "output_type": "execute_result"
    }
   ],
   "source": [
    "label_map = {\n",
    "    'CONFIRMED': 1,\n",
    "    'CANDIDATE': 0,\n",
    "    'FALSE POSITIVE': -1\n",
    "}\n",
    "\n",
    "num_to_label = {v: k for k, v in label_map.items()}\n",
    "\n",
    "mapped_predictions = [(num_to_label[cls], prob) for cls, prob in y_pred]\n",
    "\n",
    "''' Just prints the output '''\n",
    "#for label, prob in mapped_predictions:\n",
    "    #print(f\"Disposition: {label}, Probability: {prob*100:.2f}%\")"
   ]
  },
  {
   "cell_type": "markdown",
   "id": "05105237-d595-4f37-8704-12174f2fb16b",
   "metadata": {},
   "source": [
    "# Output as CSV"
   ]
  },
  {
   "cell_type": "code",
   "execution_count": 12,
   "id": "b4a9a7fd-49d3-4744-9267-a7fd4542d2f7",
   "metadata": {},
   "outputs": [
    {
     "name": "stdout",
     "output_type": "stream",
     "text": [
      "Predictions.csv\n"
     ]
    }
   ],
   "source": [
    "df_out = pd.DataFrame(mapped_predictions, columns=[\"Disposition\", \"Probability\"])\n",
    "\n",
    "df_out[\"Probability\"] = (df_out[\"Probability\"] * 100).round(2)\n",
    "\n",
    "df_out.to_csv(\"predictions.csv\", index=False)\n",
    "\n",
    "print(\"Predictions.csv\")"
   ]
  }
 ],
 "metadata": {
  "kernelspec": {
   "display_name": "Python 3 (ipykernel)",
   "language": "python",
   "name": "python3"
  },
  "language_info": {
   "codemirror_mode": {
    "name": "ipython",
    "version": 3
   },
   "file_extension": ".py",
   "mimetype": "text/x-python",
   "name": "python",
   "nbconvert_exporter": "python",
   "pygments_lexer": "ipython3",
   "version": "3.13.7"
  }
 },
 "nbformat": 4,
 "nbformat_minor": 5
}
