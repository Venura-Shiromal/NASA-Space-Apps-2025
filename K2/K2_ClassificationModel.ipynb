{
  "cells": [
    {
      "cell_type": "markdown",
      "metadata": {
        "id": "4XcNyBVLmAeY"
      },
      "source": [
        "[![Open In Colab](https://colab.research.google.com/assets/colab-badge.svg)](https://colab.research.google.com/github/Venura-Shiromal/NASA-Space-Apps-2025/blob/main/K2/K2_ClassificationModel.ipynb)"
      ]
    },
    {
      "cell_type": "markdown",
      "metadata": {
        "id": "qZwhouh0vW8A"
      },
      "source": [
        "## Prerequisities"
      ]
    },
    {
      "cell_type": "code",
      "execution_count": null,
      "metadata": {
        "id": "jyn3rXAOvGc6"
      },
      "outputs": [],
      "source": [
        "### If hasn't installed already\n",
        "# !pip install pandas\n",
        "# !pip install catboost\n",
        "# !pip install sklearn\n",
        "# !pip install numpy\n",
        "# !pip install matplotlib\n",
        "# !pip install seaborn"
      ]
    },
    {
      "cell_type": "code",
      "execution_count": null,
      "metadata": {
        "id": "Sx0W_aW_Yyo0"
      },
      "outputs": [],
      "source": [
        "import pandas as pd\n",
        "from catboost import CatBoostClassifier\n",
        "from sklearn.model_selection import train_test_split, StratifiedKFold\n",
        "from sklearn.metrics import classification_report, confusion_matrix, accuracy_score, precision_score, recall_score, f1_score\n",
        "from sklearn.utils.class_weight import compute_class_weight\n",
        "import numpy as np\n",
        "\n",
        "import matplotlib.pyplot as plt\n",
        "import seaborn as sns"
      ]
    },
    {
      "cell_type": "markdown",
      "metadata": {
        "id": "VVyWLHQuky2K"
      },
      "source": [
        "# Loading Data"
      ]
    },
    {
      "cell_type": "code",
      "execution_count": null,
      "metadata": {
        "id": "uC2Meugwkt7e"
      },
      "outputs": [],
      "source": [
        "k2 = pd.read_csv('k2_Data.csv', comment='#')"
      ]
    },
    {
      "cell_type": "markdown",
      "metadata": {
        "id": "07Hmh6kFmtFN"
      },
      "source": [
        "## Feature Selection"
      ]
    },
    {
      "cell_type": "code",
      "execution_count": null,
      "metadata": {
        "id": "TrGOOBvmlER9"
      },
      "outputs": [],
      "source": [
        "drop_cols = [\n",
        "            # not needed\n",
        "            \"default_flag\",\n",
        "            \"disc_year\",\n",
        "            \"pl_refname\",\n",
        "            \"pl_name\",\n",
        "            \"hostname\",\n",
        "            \"disp_refname\",\n",
        "            \"pl_orbperlim\",\n",
        "            \"st_refname\",\n",
        "            \"st_radlim\",\n",
        "            \"sy_refname\",\n",
        "            \"rastr\",\n",
        "            \"ra\",\n",
        "            \"decstr\",\n",
        "            \"dec\",\n",
        "            \"sy_disterr1\",\n",
        "            \"sy_disterr2\",\n",
        "            \"sy_vmagerr1\",\n",
        "            \"sy_vmagerr2\",\n",
        "            \"sy_kmagerr1\",\n",
        "            \"sy_kmagerr2\",\n",
        "            \"sy_gaiamagerr1\",\n",
        "            \"sy_gaiamagerr2\",\n",
        "            \"rowupdate\",\n",
        "            \"pl_pubdate\",\n",
        "            \"releasedate\",\n",
        "\n",
        "            # too much missing\n",
        "            \"pl_bmassjerr1\",\n",
        "            \"st_raderr2\",\n",
        "            \"pl_insollim\",\n",
        "            \"st_logg\",\n",
        "            \"st_meterr2\",\n",
        "            \"pl_eqtlim\",\n",
        "            \"pl_insol\",\n",
        "            \"pl_radelim\",\n",
        "            \"pl_radjerr1\",\n",
        "            \"st_spectype\",\n",
        "            \"pl_eqterr1\",\n",
        "            \"pl_bmassjerr2\",\n",
        "            \"st_loggerr1\",\n",
        "            \"st_tefferr1\",\n",
        "            \"st_masslim\",\n",
        "            \"st_teff\",\n",
        "            \"pl_radjerr2\",\n",
        "            \"pl_bmassj\",\n",
        "            \"pl_orbsmax\",\n",
        "            \"pl_eqt\",\n",
        "            \"pl_orbeccenlim\",\n",
        "            \"pl_radeerr2\",\n",
        "            \"pl_orbeccenerr2\",\n",
        "            \"pl_orbsmaxerr1\",\n",
        "            \"pl_orbeccen\",\n",
        "            \"pl_bmasseerr1\",\n",
        "            \"st_meterr1\",\n",
        "            \"pl_insolerr1\",\n",
        "            \"pl_eqterr2\",\n",
        "            \"st_loggerr2\",\n",
        "            \"pl_orbpererr1\",\n",
        "            \"pl_orbeccenerr1\",\n",
        "            \"st_masserr2\",\n",
        "            \"pl_radeerr1\",\n",
        "            \"pl_orbsmaxerr2\",\n",
        "            \"st_tefflim\",\n",
        "            \"st_masserr1\",\n",
        "            \"pl_orbpererr2\",\n",
        "            \"pl_bmasse\",\n",
        "            \"pl_bmassprov\",\n",
        "            \"pl_insolerr2\",\n",
        "            \"st_logglim\",\n",
        "            \"pl_radj\",\n",
        "            \"pl_orbsmaxlim\",\n",
        "            \"st_tefferr2\",\n",
        "            \"pl_bmasselim\",\n",
        "            \"pl_radjlim\",\n",
        "            \"st_metlim\",\n",
        "            \"st_raderr1\",\n",
        "            \"st_mass\",\n",
        "            \"st_metratio\",\n",
        "            \"pl_bmassjlim\",\n",
        "            \"pl_bmasseerr2\",\n",
        "            \"pl_rade\",\n",
        "            \"st_met\"\n",
        "    ]\n",
        "\n",
        "sel_cols = [\n",
        "    'disposition',       # Archive Disposition\n",
        "    'sy_snum',           # Number of Stars in System\n",
        "    'sy_pnum',           # Number of Planets in System\n",
        "    'discoverymethod',   # Discovery Method\n",
        "    'disc_facility',     # Discovery Facility\n",
        "    'soltype',           # Solution Type\n",
        "    'pl_controv_flag',   # Controversial Flag\n",
        "    'pl_orbper',         # Planet Orbital Period [days]\n",
        "    'ttv_flag',          # Transit Timing Variations Flag\n",
        "    'st_rad',            # Stellar Radius [Solar Radius]\n",
        "    'sy_dist',           # System Distance [pc]\n",
        "    'sy_vmag',           # V (Johnson) Magnitude\n",
        "    'sy_kmag',           # Ks (2MASS) Magnitude\n",
        "    'sy_gaiamag'         # Gaia Magnitude\n",
        "]"
      ]
    },
    {
      "cell_type": "markdown",
      "metadata": {
        "id": "JKSIKT4To9HZ"
      },
      "source": [
        "## Label Mapping"
      ]
    },
    {
      "cell_type": "code",
      "execution_count": null,
      "metadata": {
        "id": "_8K-UEG5o_DS"
      },
      "outputs": [],
      "source": [
        "label_map = {\n",
        "    'CONFIRMED': 1,   # Confirmed Planet\n",
        "    'CANDIDATE': 0,   # Planetary Candidate\n",
        "    'FALSE POSITIVE': -1,  # False Positive\n",
        "    'REFUTED': -1   # False Alarm\n",
        "}\n",
        "\n",
        "method_map = {\n",
        "    'Transit': 2,\n",
        "    'Radial Velocity': 1,\n",
        "    'Microlensing': 0\n",
        "}\n",
        "\n",
        "'''\n",
        "spectral_map = {\n",
        "    'K3': 0, 'G': 1, 'G8': 2, 'K5': 3, 'K0': 4, 'K2': 5, 'M4': 6, 'F8': 7, 'K7': 8,\n",
        "    'G2': 9, 'G3': 10, 'F0': 11, 'G5': 12, 'G7': 13, 'G1': 14, 'G9': 15, 'M0': 16,\n",
        "    'G0': 17, 'M3': 18, 'K4': 19, 'G4': 20, 'F2': 21, 'F7': 22, 'G5 V': 23, 'M5': 24,\n",
        "    'M2': 25, 'M1': 26, 'A III': 27, 'F5 V': 28, 'F5': 29, 'F9': 30, 'F6': 31, 'G6': 32,\n",
        "    'G8 IV/V': 33, 'M2.5 V': 34, 'K6 V': 35, 'K7 V': 36, 'K5 V': 37, 'F': 38, 'G0 V': 39,\n",
        "    'G V': 40, 'K0 V': 41, 'F6 V': 42, 'K1': 43, 'F9 IV': 44, 'K3 V': 45, 'M1.0 V': 46,\n",
        "    'M1.5 V': 47, 'M1 V': 48, 'K5.5': 49, 'M3 V': 50, 'G8 V': 51, 'K1 V': 52, 'G6 V': 53,\n",
        "    'M3.0 V': 54, 'M0.0 V': 55, 'G9 V': 56, 'K2 V': 57, 'M0.0': 58, 'M0 V': 59, 'F9 V': 60,\n",
        "    'G2 V': 61, 'M0.5 V': 62, 'M4.5': 63, 'M4.5 V': 64, 'G7 IV/V': 65, 'G7 V': 66, 'G3 V': 67,\n",
        "    'M V': 68, 'M0.0&plusmn;0.5 V': 69, 'M(3.5+/-0.5) V': 70, 'M3.3': 71, 'K4 V': 72,\n",
        "    'M4 V': 73, 'M5 V': 74, 'K7.5 V': 75, 'G4 V': 76, 'M3.0': 77, 'F8 V': 78, 'G0 IV': 79,\n",
        "    'K6': 80, 'K3.5 V': 81\n",
        "}\n",
        "'''\n",
        "\n",
        "facility_map = {\n",
        "    \"K2\": 0,\n",
        "    \"HATNet\": 1,\n",
        "    \"HATSouth\": 2,\n",
        "    \"Multiple Observatories\": 3,\n",
        "    \"Roque de los Muchachos Observatory\": 4,\n",
        "    \"CHaracterising ExOPlanets Satellite (CHEOPS)\": 5,\n",
        "    \"La Silla Observatory\": 6,\n",
        "    \"Qatar\": 7,\n",
        "    \"SuperWASP-South\": 8,\n",
        "    \"SuperWASP\": 9\n",
        "}\n",
        "\n",
        "sol_map = {\n",
        "    \"Published Confirmed\": 1.0,\n",
        "    \"Published Candidate\": 0.0\n",
        "}\n",
        "\n",
        "k2[\"disposition\"] = k2[\"disposition\"].map(label_map)\n",
        "k2[\"discoverymethod\"] = k2[\"discoverymethod\"].map(method_map)\n",
        "#k2['st_spectype'] = k2['st_spectype'].map(spectral_map)\n",
        "k2[\"disc_facility\"] = k2[\"disc_facility\"].map(facility_map)\n",
        "k2[\"soltype\"] = k2[\"soltype\"].map(sol_map)"
      ]
    },
    {
      "cell_type": "markdown",
      "metadata": {
        "id": "KQkoFxvTmAee"
      },
      "source": [
        "### Removing Duplicates"
      ]
    },
    {
      "cell_type": "code",
      "execution_count": null,
      "metadata": {
        "id": "oeE92XTGmAee"
      },
      "outputs": [],
      "source": [
        "k2 = k2[k2[\"default_flag\"] == 1]"
      ]
    },
    {
      "cell_type": "markdown",
      "metadata": {
        "id": "59n9RFoYmAee"
      },
      "source": [
        "### Selecting Features"
      ]
    },
    {
      "cell_type": "code",
      "execution_count": null,
      "metadata": {
        "id": "fXjI11wnmAee"
      },
      "outputs": [],
      "source": [
        "k2 = k2.drop(columns=drop_cols)"
      ]
    },
    {
      "cell_type": "markdown",
      "metadata": {
        "id": "Ne4pIk6jr0N-"
      },
      "source": [
        "### Filling empty cells"
      ]
    },
    {
      "cell_type": "code",
      "execution_count": null,
      "metadata": {
        "id": "SeH6ipCEpvRY"
      },
      "outputs": [],
      "source": [
        "for col in [\"discoverymethod\", \"disc_facility\", \"soltype\"]:\n",
        "    if k2[col].isnull().any():\n",
        "        k2.fillna({col: k2[col].mode()[0]}, inplace=True)\n",
        "\n",
        "k2 = k2.fillna(k2.mean())"
      ]
    },
    {
      "cell_type": "markdown",
      "metadata": {
        "id": "DILU0J92sQkD"
      },
      "source": [
        "### Diagnoise if want"
      ]
    },
    {
      "cell_type": "code",
      "execution_count": null,
      "metadata": {
        "id": "-vAY-1XHsPL_"
      },
      "outputs": [],
      "source": [
        "#print(k2.shape[0])\n",
        "#print(k2[\"disposition\"].unique())\n",
        "#print(k2.dtypes)\n",
        "#np.isnan(k2).sum()\n",
        "#k2.head()"
      ]
    },
    {
      "cell_type": "markdown",
      "metadata": {
        "id": "BZZYmmphpiL2"
      },
      "source": [
        "# Defining data sets"
      ]
    },
    {
      "cell_type": "code",
      "execution_count": null,
      "metadata": {
        "id": "PcnhnqBQpRHx"
      },
      "outputs": [],
      "source": [
        "X = k2.drop(\"disposition\", axis=1)\n",
        "y = k2[\"disposition\"]"
      ]
    },
    {
      "cell_type": "code",
      "execution_count": null,
      "metadata": {
        "id": "AOpgnjyLpoV6"
      },
      "outputs": [],
      "source": [
        "X_train, X_test, y_train, y_test = train_test_split(\n",
        "    X, y, test_size=0.2, stratify=y, random_state=42\n",
        "    )"
      ]
    },
    {
      "cell_type": "markdown",
      "metadata": {
        "id": "2y8mTfRp05y2"
      },
      "source": [
        "## Defining Classes"
      ]
    },
    {
      "cell_type": "code",
      "execution_count": null,
      "metadata": {
        "id": "wawMFEOe091B"
      },
      "outputs": [],
      "source": [
        "classes = np.unique(y_train)"
      ]
    },
    {
      "cell_type": "markdown",
      "metadata": {
        "id": "NUalJl3109ld"
      },
      "source": [
        "## Calculating Class Weights"
      ]
    },
    {
      "cell_type": "code",
      "execution_count": null,
      "metadata": {
        "id": "Jl0IYZY6wvIU"
      },
      "outputs": [],
      "source": [
        "weights = compute_class_weight(\"balanced\", classes=classes, y=y_train)"
      ]
    },
    {
      "cell_type": "markdown",
      "metadata": {
        "id": "l05vbhRO137y"
      },
      "source": [
        "### Combining both"
      ]
    },
    {
      "cell_type": "code",
      "execution_count": null,
      "metadata": {
        "id": "u01MI-W11Ylq"
      },
      "outputs": [],
      "source": [
        "class_weights = dict(zip(classes, weights))"
      ]
    },
    {
      "cell_type": "markdown",
      "metadata": {
        "id": "B2ktYZ_CLb8M"
      },
      "source": [
        "## Cross-validation"
      ]
    },
    {
      "cell_type": "code",
      "execution_count": null,
      "metadata": {
        "id": "tBDk3uGRKDF8"
      },
      "outputs": [],
      "source": [
        "skf = StratifiedKFold(n_splits=5, shuffle=True, random_state=42)\n",
        "\n",
        "for train_idx, valid_idx in skf.split(X, y):\n",
        "    X_train, X_valid = X.iloc[train_idx], X.iloc[valid_idx]\n",
        "    y_train, y_valid = y.iloc[train_idx], y.iloc[valid_idx]"
      ]
    },
    {
      "cell_type": "markdown",
      "metadata": {
        "id": "6WdykEBY2F1v"
      },
      "source": [
        "# Cat Boost Initiation"
      ]
    },
    {
      "cell_type": "markdown",
      "metadata": {
        "id": "disXqpzB24me"
      },
      "source": [
        "## Parameters\n"
      ]
    },
    {
      "cell_type": "code",
      "execution_count": null,
      "metadata": {
        "id": "whC-nezHq_WX"
      },
      "outputs": [],
      "source": [
        "model = CatBoostClassifier(\n",
        "    iterations=2500,\n",
        "    depth=8,\n",
        "    learning_rate=0.04,\n",
        "    loss_function=\"MultiClass\",\n",
        "    eval_metric=\"MultiClass\",\n",
        "    l2_leaf_reg=5,\n",
        "    early_stopping_rounds=50,\n",
        "    random_seed=42,\n",
        "    verbose=50,\n",
        "    class_weights=class_weights\n",
        ")"
      ]
    },
    {
      "cell_type": "markdown",
      "metadata": {
        "id": "zCqAjS8C3eCP"
      },
      "source": [
        "# Training"
      ]
    },
    {
      "cell_type": "code",
      "execution_count": null,
      "metadata": {
        "id": "uMb-AlB93Uej"
      },
      "outputs": [],
      "source": [
        "model.fit(X_train, y_train, eval_set=(X_test, y_test))"
      ]
    },
    {
      "cell_type": "markdown",
      "metadata": {
        "id": "FntxgSBsErX3"
      },
      "source": [
        "## Plotting Loss"
      ]
    },
    {
      "cell_type": "code",
      "execution_count": null,
      "metadata": {
        "id": "wVlp_T4NErEP"
      },
      "outputs": [],
      "source": [
        "evals_result = model.get_evals_result()\n",
        "\n",
        "train_loss = evals_result['learn']['MultiClass']\n",
        "valid_loss = evals_result['validation']['MultiClass']\n",
        "\n",
        "plt.figure(figsize=(10,6))\n",
        "plt.plot(train_loss, label='Training Loss')\n",
        "plt.plot(valid_loss, label='Validation Loss')\n",
        "plt.xlabel('Iteration')\n",
        "plt.ylabel('MultiClass Loss')\n",
        "plt.title('CatBoost Training & Validation Loss')\n",
        "plt.legend()\n",
        "plt.grid(True)\n",
        "plt.show()"
      ]
    },
    {
      "cell_type": "markdown",
      "metadata": {
        "id": "WkJMiODf3jU8"
      },
      "source": [
        "# Evaluation"
      ]
    },
    {
      "cell_type": "code",
      "execution_count": null,
      "metadata": {
        "id": "RlM3Gy033jCW"
      },
      "outputs": [],
      "source": [
        "y_pred = model.predict(X_test)"
      ]
    },
    {
      "cell_type": "markdown",
      "metadata": {
        "id": "z-JQB_2z547j"
      },
      "source": [
        "## Confusion Matrix"
      ]
    },
    {
      "cell_type": "code",
      "execution_count": null,
      "metadata": {
        "id": "CMTh0eHt4dxE"
      },
      "outputs": [],
      "source": [
        "cm = confusion_matrix(y_test, y_pred)\n",
        "\n",
        "class_names = [\"FALSE POSITIVE\", \"CANDIDATE\", \"CONFIRMED\"]\n",
        "\n",
        "plt.figure(figsize=(6,5))\n",
        "sns.heatmap(cm, annot=True, fmt='d', cmap='Blues',\n",
        "            xticklabels=class_names, yticklabels=class_names)\n",
        "plt.ylabel('True label')\n",
        "plt.xlabel('Predicted label')\n",
        "plt.title('Confusion Matrix')\n",
        "plt.show()"
      ]
    },
    {
      "cell_type": "markdown",
      "metadata": {
        "id": "niTwN6Ni6l4e"
      },
      "source": [
        "## Accuracy"
      ]
    },
    {
      "cell_type": "code",
      "execution_count": null,
      "metadata": {
        "id": "5Ir2HlhM6oU_"
      },
      "outputs": [],
      "source": [
        "acc = accuracy_score(y_test, y_pred)\n",
        "precision = precision_score(y_test, y_pred, average='weighted')\n",
        "recall = recall_score(y_test, y_pred, average='weighted')\n",
        "f1 = f1_score(y_test, y_pred, average='weighted')\n",
        "\n",
        "print(\"Accuracy: {:.2f}%\".format(acc * 100))\n",
        "print(\"Precision Score: {:.2f}%\".format(precision * 100))\n",
        "print(\"Recall Score: {:.2f}%\".format(recall * 100))\n",
        "print(\"F1 Score: {:.2f}%\".format(f1 * 100))"
      ]
    },
    {
      "cell_type": "markdown",
      "metadata": {
        "id": "AG3c9EWVmAej"
      },
      "source": [
        "# Saving Model"
      ]
    },
    {
      "cell_type": "code",
      "execution_count": null,
      "metadata": {
        "id": "ZY7M-a9MmAej"
      },
      "outputs": [],
      "source": [
        "model.save_model(\"k2_model.onnx\", format=\"onnx\")"
      ]
    }
  ],
  "metadata": {
    "accelerator": "GPU",
    "colab": {
      "gpuType": "T4",
      "provenance": []
    },
    "kernelspec": {
      "display_name": "Python 3 (ipykernel)",
      "language": "python",
      "name": "python3"
    },
    "language_info": {
      "codemirror_mode": {
        "name": "ipython",
        "version": 3
      },
      "file_extension": ".py",
      "mimetype": "text/x-python",
      "name": "python",
      "nbconvert_exporter": "python",
      "pygments_lexer": "ipython3",
      "version": "3.13.7"
    }
  },
  "nbformat": 4,
  "nbformat_minor": 0
}