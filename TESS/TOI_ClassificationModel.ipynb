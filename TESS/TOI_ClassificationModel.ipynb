{
  "cells": [
    {
      "cell_type": "markdown",
      "metadata": {
        "id": "view-in-github",
        "colab_type": "text"
      },
      "source": [
        "<a href=\"https://colab.research.google.com/github/Venura-Shiromal/NASA-Space-Apps-2025/blob/main/TESS/TOI_ClassificationModel.ipynb\" target=\"_parent\"><img src=\"https://colab.research.google.com/assets/colab-badge.svg\" alt=\"Open In Colab\"/></a>"
      ]
    },
    {
      "cell_type": "code",
      "execution_count": 2,
      "metadata": {
        "id": "dIyQR6pZ-t8K"
      },
      "outputs": [],
      "source": [
        "# just in case if needed\n",
        "#!pip install catboost\n",
        "#!pip install pandas\n",
        "#!pip install numpy\n",
        "#!pip install scikit-learn\n",
        "#!pip install matplotlib\n",
        "#!pip install seaborn"
      ]
    },
    {
      "cell_type": "markdown",
      "metadata": {
        "id": "fLvcuXZUkvI3"
      },
      "source": [
        "## Prerequisities"
      ]
    },
    {
      "cell_type": "code",
      "execution_count": 62,
      "metadata": {
        "id": "Sx0W_aW_Yyo0"
      },
      "outputs": [],
      "source": [
        "import pandas as pd\n",
        "from catboost import CatBoostClassifier\n",
        "from sklearn.model_selection import train_test_split, StratifiedKFold\n",
        "from sklearn.metrics import classification_report, confusion_matrix, accuracy_score\n",
        "from sklearn.utils.class_weight import compute_class_weight\n",
        "import numpy as np\n",
        "\n",
        "import matplotlib.pyplot as plt\n",
        "import seaborn as sns"
      ]
    },
    {
      "cell_type": "markdown",
      "metadata": {
        "id": "VVyWLHQuky2K"
      },
      "source": [
        "## Loading Data"
      ]
    },
    {
      "cell_type": "code",
      "execution_count": 82,
      "metadata": {
        "id": "uC2Meugwkt7e"
      },
      "outputs": [],
      "source": [
        "toi = pd.read_csv('TOI_Data.csv', comment='#')"
      ]
    },
    {
      "cell_type": "markdown",
      "metadata": {
        "id": "07Hmh6kFmtFN"
      },
      "source": [
        "## Feature Selection"
      ]
    },
    {
      "cell_type": "code",
      "execution_count": 83,
      "metadata": {
        "id": "TrGOOBvmlER9"
      },
      "outputs": [],
      "source": [
        "features = [\n",
        "    \"tfopwg_disp\",\n",
        "    \"pl_orbper\",\n",
        "    \"pl_trandurh\",\n",
        "    \"pl_trandep\",\n",
        "    \"pl_rade\",\n",
        "    \"pl_insol\",\n",
        "    \"pl_eqt\",\n",
        "    \"st_tmag\",\n",
        "    \"st_dist\",\n",
        "    \"st_teff\",\n",
        "    \"st_rad\",\n",
        "    \"st_logg\"\n",
        "]\n",
        "\n",
        "drop_list = [\n",
        "    \"toi\", \"tid\",\n",
        "    \"rastr\", \"ra\", \"decstr\", \"dec\",\n",
        "    \"st_pmra\", \"st_pmraerr1\", \"st_pmraerr2\", \"st_pmralim\",\n",
        "    \"st_pmdec\", \"st_pmdecerr1\", \"st_pmdecerr2\", \"st_pmdeclim\",\n",
        "    \"pl_tranmid\", \"pl_tranmiderr1\", \"pl_tranmiderr2\", \"pl_tranmidlim\",\n",
        "    \"pl_orbpererr1\", \"pl_orbpererr2\", \"pl_orbperlim\",\n",
        "    \"pl_trandurherr1\", \"pl_trandurherr2\", \"pl_trandurhlim\",\n",
        "    \"pl_trandeperr1\", \"pl_trandeperr2\", \"pl_trandeplim\",\n",
        "    \"pl_radelim\",\n",
        "    \"st_tmagerr1\", \"st_tmagerr2\", \"st_tmaglim\",\n",
        "    \"st_disterr1\", \"st_disterr2\", \"st_distlim\",\n",
        "    \"st_tefferr1\", \"st_tefferr2\", \"st_tefflim\",\n",
        "    \"st_logglim\",\n",
        "    \"st_radlim\",\n",
        "    \"toi_created\", \"rowupdate\",\n",
        "\n",
        "    # Missing Data\n",
        "    \"pl_radeerr1\", \"pl_radeerr2\",\n",
        "    \"pl_insolerr1\", \"pl_insolerr2\", \"pl_insollim\",\n",
        "    \"pl_eqterr1\", \"pl_eqterr2\", \"pl_eqtlim\",\n",
        "    \"st_loggerr1\", \"st_loggerr2\",\n",
        "    \"st_raderr1\", \"st_raderr2\"\n",
        "]\n"
      ]
    },
    {
      "cell_type": "code",
      "execution_count": 84,
      "metadata": {
        "id": "WuvHti_MBYuu"
      },
      "outputs": [],
      "source": [
        "toi = toi[features]"
      ]
    },
    {
      "cell_type": "markdown",
      "metadata": {
        "id": "JKSIKT4To9HZ"
      },
      "source": [
        "Label Mapping"
      ]
    },
    {
      "cell_type": "code",
      "execution_count": 85,
      "metadata": {
        "id": "_8K-UEG5o_DS"
      },
      "outputs": [],
      "source": [
        "label_map = {\n",
        "    \"CP\": 1,   # Confirmed Planet\n",
        "    \"KP\": 1,   # Known Planet\n",
        "    \"PC\": 0,   # Planetary Candidate\n",
        "    \"APC\": 0,  # Ambiguous Planetary Candidate\n",
        "    \"FP\": -1,  # False Positive\n",
        "    \"FA\": -1   # False Alarm\n",
        "}\n",
        "\n",
        "toi[\"tfopwg_disp\"] = toi[\"tfopwg_disp\"].map(label_map)"
      ]
    },
    {
      "cell_type": "markdown",
      "metadata": {
        "id": "Ne4pIk6jr0N-"
      },
      "source": [
        "## Filling empty cells"
      ]
    },
    {
      "cell_type": "code",
      "execution_count": 86,
      "metadata": {
        "colab": {
          "base_uri": "https://localhost:8080/"
        },
        "id": "I79FaLU-rz4P",
        "outputId": "f55c17fc-788f-4d9e-d9a8-176e6fbbca73"
      },
      "outputs": [
        {
          "output_type": "stream",
          "name": "stderr",
          "text": [
            "/tmp/ipython-input-1020813461.py:2: FutureWarning: A value is trying to be set on a copy of a DataFrame or Series through chained assignment using an inplace method.\n",
            "The behavior will change in pandas 3.0. This inplace method will never work because the intermediate object on which we are setting values always behaves as a copy.\n",
            "\n",
            "For example, when doing 'df[col].method(value, inplace=True)', try using 'df.method({col: value}, inplace=True)' or df[col] = df[col].method(value) instead, to perform the operation inplace on the original object.\n",
            "\n",
            "\n",
            "  toi[col].fillna(toi[col].median(), inplace=True)\n"
          ]
        }
      ],
      "source": [
        "for col in features:\n",
        "    toi[col].fillna(toi[col].median(), inplace=True)"
      ]
    },
    {
      "cell_type": "markdown",
      "metadata": {
        "id": "DILU0J92sQkD"
      },
      "source": [
        "### Diagnoise"
      ]
    },
    {
      "cell_type": "code",
      "execution_count": 68,
      "metadata": {
        "id": "-vAY-1XHsPL_"
      },
      "outputs": [],
      "source": [
        "#print(toi.isna().sum()[toi.isna().sum() > 0])\n",
        "#for col in features:\n",
        "#    print(toi[col].dtype)"
      ]
    },
    {
      "cell_type": "markdown",
      "metadata": {
        "id": "BZZYmmphpiL2"
      },
      "source": [
        "## Defining data sets"
      ]
    },
    {
      "cell_type": "code",
      "execution_count": 87,
      "metadata": {
        "id": "PcnhnqBQpRHx"
      },
      "outputs": [],
      "source": [
        "X = toi.drop(\"tfopwg_disp\", axis=1)\n",
        "y = toi[\"tfopwg_disp\"]"
      ]
    },
    {
      "cell_type": "code",
      "execution_count": 88,
      "metadata": {
        "id": "AOpgnjyLpoV6"
      },
      "outputs": [],
      "source": [
        "X_train, X_test, y_train, y_test = train_test_split(\n",
        "    X, y, test_size=0.2, stratify=y, random_state=42\n",
        "    )"
      ]
    },
    {
      "cell_type": "markdown",
      "metadata": {
        "id": "2y8mTfRp05y2"
      },
      "source": [
        "Defining Classes"
      ]
    },
    {
      "cell_type": "code",
      "execution_count": 89,
      "metadata": {
        "id": "wawMFEOe091B"
      },
      "outputs": [],
      "source": [
        "classes = np.unique(y_train)"
      ]
    },
    {
      "cell_type": "markdown",
      "metadata": {
        "id": "NUalJl3109ld"
      },
      "source": [
        "Calculating Class Weights"
      ]
    },
    {
      "cell_type": "code",
      "execution_count": 90,
      "metadata": {
        "id": "Jl0IYZY6wvIU"
      },
      "outputs": [],
      "source": [
        "weights = compute_class_weight(\"balanced\", classes=classes, y=y_train)"
      ]
    },
    {
      "cell_type": "markdown",
      "metadata": {
        "id": "l05vbhRO137y"
      },
      "source": [
        "Combining both"
      ]
    },
    {
      "cell_type": "code",
      "execution_count": 91,
      "metadata": {
        "id": "u01MI-W11Ylq"
      },
      "outputs": [],
      "source": [
        "class_weights = dict(zip(classes, weights))"
      ]
    },
    {
      "cell_type": "markdown",
      "metadata": {
        "id": "B2ktYZ_CLb8M"
      },
      "source": [
        "### Cross-validation"
      ]
    },
    {
      "cell_type": "code",
      "execution_count": 92,
      "metadata": {
        "id": "tBDk3uGRKDF8"
      },
      "outputs": [],
      "source": [
        "skf = StratifiedKFold(n_splits=5, shuffle=True, random_state=42)\n",
        "\n",
        "for train_idx, valid_idx in skf.split(X, y):\n",
        "    X_train, X_valid = X.iloc[train_idx], X.iloc[valid_idx]\n",
        "    y_train, y_valid = y.iloc[train_idx], y.iloc[valid_idx]"
      ]
    },
    {
      "cell_type": "markdown",
      "metadata": {
        "id": "6WdykEBY2F1v"
      },
      "source": [
        "## Cat Boost Initiation"
      ]
    },
    {
      "cell_type": "markdown",
      "metadata": {
        "id": "disXqpzB24me"
      },
      "source": [
        "### Parameters\n"
      ]
    },
    {
      "cell_type": "code",
      "execution_count": 104,
      "metadata": {
        "id": "VCVzo7F63Aa4"
      },
      "outputs": [],
      "source": [
        "max_ite = 5000\n",
        "dep = 8\n",
        "l_rate = 0.04"
      ]
    },
    {
      "cell_type": "code",
      "execution_count": 105,
      "metadata": {
        "id": "whC-nezHq_WX"
      },
      "outputs": [],
      "source": [
        "model = CatBoostClassifier(\n",
        "    iterations=max_ite,\n",
        "    depth=dep,\n",
        "    learning_rate=l_rate,\n",
        "    loss_function=\"MultiClass\",\n",
        "    eval_metric=\"MultiClass\",\n",
        "    l2_leaf_reg=7,\n",
        "    border_count=1024,\n",
        "    early_stopping_rounds=50,\n",
        "    random_seed=42,\n",
        "    verbose=50,\n",
        "    class_weights=class_weights\n",
        ")\n"
      ]
    },
    {
      "cell_type": "markdown",
      "metadata": {
        "id": "zCqAjS8C3eCP"
      },
      "source": [
        "# Training"
      ]
    },
    {
      "cell_type": "code",
      "execution_count": 106,
      "metadata": {
        "colab": {
          "base_uri": "https://localhost:8080/"
        },
        "id": "uMb-AlB93Uej",
        "outputId": "13e94575-83d5-4681-920c-63e0e5537946"
      },
      "outputs": [
        {
          "output_type": "stream",
          "name": "stdout",
          "text": [
            "0:\tlearn: 1.0849149\ttest: 1.0849105\tbest: 1.0849105 (0)\ttotal: 80.8ms\tremaining: 6m 43s\n",
            "50:\tlearn: 0.8298330\ttest: 0.8348135\tbest: 0.8348135 (50)\ttotal: 5.04s\tremaining: 8m 9s\n",
            "100:\tlearn: 0.7565985\ttest: 0.7679173\tbest: 0.7679173 (100)\ttotal: 9.06s\tremaining: 7m 19s\n",
            "150:\tlearn: 0.7096054\ttest: 0.7256843\tbest: 0.7256843 (150)\ttotal: 13.1s\tremaining: 6m 59s\n",
            "200:\tlearn: 0.6764730\ttest: 0.6967478\tbest: 0.6967478 (200)\ttotal: 18s\tremaining: 7m 9s\n",
            "250:\tlearn: 0.6459917\ttest: 0.6708153\tbest: 0.6708153 (250)\ttotal: 22s\tremaining: 6m 55s\n",
            "300:\tlearn: 0.6187495\ttest: 0.6481939\tbest: 0.6481939 (300)\ttotal: 26s\tremaining: 6m 45s\n",
            "350:\tlearn: 0.5966216\ttest: 0.6304888\tbest: 0.6304888 (350)\ttotal: 30.9s\tremaining: 6m 49s\n",
            "400:\tlearn: 0.5774323\ttest: 0.6147079\tbest: 0.6147079 (400)\ttotal: 35s\tremaining: 6m 41s\n",
            "450:\tlearn: 0.5577942\ttest: 0.5987213\tbest: 0.5987213 (450)\ttotal: 39s\tremaining: 6m 33s\n",
            "500:\tlearn: 0.5386658\ttest: 0.5839333\tbest: 0.5839333 (500)\ttotal: 43.9s\tremaining: 6m 34s\n",
            "550:\tlearn: 0.5223725\ttest: 0.5710817\tbest: 0.5710817 (550)\ttotal: 47.9s\tremaining: 6m 26s\n",
            "600:\tlearn: 0.5074861\ttest: 0.5601749\tbest: 0.5601749 (600)\ttotal: 52.3s\tremaining: 6m 22s\n",
            "650:\tlearn: 0.4937282\ttest: 0.5494149\tbest: 0.5494149 (650)\ttotal: 56.8s\tremaining: 6m 19s\n",
            "700:\tlearn: 0.4801469\ttest: 0.5388472\tbest: 0.5388472 (700)\ttotal: 1m\tremaining: 6m 12s\n",
            "750:\tlearn: 0.4673632\ttest: 0.5289883\tbest: 0.5289883 (750)\ttotal: 1m 5s\tremaining: 6m 11s\n",
            "800:\tlearn: 0.4545801\ttest: 0.5187121\tbest: 0.5187121 (800)\ttotal: 1m 9s\tremaining: 6m 5s\n",
            "850:\tlearn: 0.4432261\ttest: 0.5104845\tbest: 0.5104845 (850)\ttotal: 1m 13s\tremaining: 5m 58s\n",
            "900:\tlearn: 0.4324877\ttest: 0.5019511\tbest: 0.5019511 (900)\ttotal: 1m 18s\tremaining: 5m 57s\n",
            "950:\tlearn: 0.4219103\ttest: 0.4936730\tbest: 0.4936730 (950)\ttotal: 1m 22s\tremaining: 5m 51s\n",
            "1000:\tlearn: 0.4119007\ttest: 0.4859164\tbest: 0.4859164 (1000)\ttotal: 1m 26s\tremaining: 5m 45s\n",
            "1050:\tlearn: 0.4021024\ttest: 0.4781755\tbest: 0.4781755 (1050)\ttotal: 1m 31s\tremaining: 5m 43s\n",
            "1100:\tlearn: 0.3926098\ttest: 0.4710439\tbest: 0.4710439 (1100)\ttotal: 1m 35s\tremaining: 5m 37s\n",
            "1150:\tlearn: 0.3841654\ttest: 0.4645361\tbest: 0.4645361 (1150)\ttotal: 1m 39s\tremaining: 5m 32s\n",
            "1200:\tlearn: 0.3751448\ttest: 0.4568985\tbest: 0.4568985 (1200)\ttotal: 1m 44s\tremaining: 5m 29s\n",
            "1250:\tlearn: 0.3659973\ttest: 0.4503143\tbest: 0.4503143 (1250)\ttotal: 1m 48s\tremaining: 5m 24s\n",
            "1300:\tlearn: 0.3577945\ttest: 0.4431941\tbest: 0.4431941 (1300)\ttotal: 1m 52s\tremaining: 5m 18s\n",
            "1350:\tlearn: 0.3506589\ttest: 0.4373087\tbest: 0.4373087 (1350)\ttotal: 1m 57s\tremaining: 5m 16s\n",
            "1400:\tlearn: 0.3433096\ttest: 0.4314388\tbest: 0.4314388 (1400)\ttotal: 2m\tremaining: 5m 10s\n",
            "1450:\tlearn: 0.3362190\ttest: 0.4256612\tbest: 0.4256612 (1450)\ttotal: 2m 4s\tremaining: 5m 5s\n",
            "1500:\tlearn: 0.3291925\ttest: 0.4204542\tbest: 0.4204542 (1500)\ttotal: 2m 9s\tremaining: 5m 2s\n",
            "1550:\tlearn: 0.3224201\ttest: 0.4150529\tbest: 0.4150529 (1550)\ttotal: 2m 13s\tremaining: 4m 57s\n",
            "1600:\tlearn: 0.3164142\ttest: 0.4098539\tbest: 0.4098539 (1600)\ttotal: 2m 17s\tremaining: 4m 52s\n",
            "1650:\tlearn: 0.3098573\ttest: 0.4047956\tbest: 0.4047956 (1650)\ttotal: 2m 22s\tremaining: 4m 48s\n",
            "1700:\tlearn: 0.3042148\ttest: 0.4002414\tbest: 0.4002414 (1700)\ttotal: 2m 26s\tremaining: 4m 43s\n",
            "1750:\tlearn: 0.2987434\ttest: 0.3958141\tbest: 0.3958141 (1750)\ttotal: 2m 30s\tremaining: 4m 39s\n",
            "1800:\tlearn: 0.2930986\ttest: 0.3914811\tbest: 0.3914811 (1800)\ttotal: 2m 34s\tremaining: 4m 35s\n",
            "1850:\tlearn: 0.2874964\ttest: 0.3871055\tbest: 0.3871055 (1850)\ttotal: 2m 38s\tremaining: 4m 30s\n",
            "1900:\tlearn: 0.2826306\ttest: 0.3833861\tbest: 0.3833861 (1900)\ttotal: 2m 43s\tremaining: 4m 26s\n",
            "1950:\tlearn: 0.2774100\ttest: 0.3798499\tbest: 0.3798499 (1950)\ttotal: 2m 47s\tremaining: 4m 21s\n",
            "2000:\tlearn: 0.2728691\ttest: 0.3763052\tbest: 0.3763052 (2000)\ttotal: 2m 51s\tremaining: 4m 16s\n",
            "2050:\tlearn: 0.2677528\ttest: 0.3723479\tbest: 0.3723479 (2050)\ttotal: 2m 56s\tremaining: 4m 13s\n",
            "2100:\tlearn: 0.2629253\ttest: 0.3691156\tbest: 0.3691156 (2100)\ttotal: 3m\tremaining: 4m 8s\n",
            "2150:\tlearn: 0.2584527\ttest: 0.3656086\tbest: 0.3656086 (2150)\ttotal: 3m 3s\tremaining: 4m 3s\n",
            "2200:\tlearn: 0.2540343\ttest: 0.3621267\tbest: 0.3621267 (2200)\ttotal: 3m 8s\tremaining: 4m\n",
            "2250:\tlearn: 0.2493525\ttest: 0.3588207\tbest: 0.3588207 (2250)\ttotal: 3m 12s\tremaining: 3m 55s\n",
            "2300:\tlearn: 0.2447441\ttest: 0.3553771\tbest: 0.3553771 (2300)\ttotal: 3m 16s\tremaining: 3m 51s\n",
            "2350:\tlearn: 0.2402598\ttest: 0.3522616\tbest: 0.3522616 (2350)\ttotal: 3m 21s\tremaining: 3m 47s\n",
            "2400:\tlearn: 0.2361851\ttest: 0.3492564\tbest: 0.3492564 (2400)\ttotal: 3m 25s\tremaining: 3m 42s\n",
            "2450:\tlearn: 0.2327211\ttest: 0.3469193\tbest: 0.3469193 (2450)\ttotal: 3m 29s\tremaining: 3m 38s\n",
            "2500:\tlearn: 0.2288987\ttest: 0.3440698\tbest: 0.3440698 (2500)\ttotal: 3m 34s\tremaining: 3m 34s\n",
            "2550:\tlearn: 0.2252707\ttest: 0.3417427\tbest: 0.3417427 (2550)\ttotal: 3m 38s\tremaining: 3m 29s\n",
            "2600:\tlearn: 0.2215892\ttest: 0.3391997\tbest: 0.3391997 (2600)\ttotal: 3m 43s\tremaining: 3m 26s\n",
            "2650:\tlearn: 0.2180458\ttest: 0.3364516\tbest: 0.3364516 (2650)\ttotal: 3m 48s\tremaining: 3m 22s\n",
            "2700:\tlearn: 0.2146849\ttest: 0.3340233\tbest: 0.3340173 (2699)\ttotal: 3m 52s\tremaining: 3m 18s\n",
            "2750:\tlearn: 0.2114952\ttest: 0.3318586\tbest: 0.3318586 (2750)\ttotal: 3m 57s\tremaining: 3m 13s\n",
            "2800:\tlearn: 0.2082170\ttest: 0.3296522\tbest: 0.3296522 (2800)\ttotal: 4m 1s\tremaining: 3m 9s\n",
            "2850:\tlearn: 0.2050848\ttest: 0.3269861\tbest: 0.3269861 (2850)\ttotal: 4m 5s\tremaining: 3m 5s\n",
            "2900:\tlearn: 0.2018965\ttest: 0.3249577\tbest: 0.3249577 (2900)\ttotal: 4m 10s\tremaining: 3m 1s\n",
            "2950:\tlearn: 0.1990730\ttest: 0.3230275\tbest: 0.3230275 (2950)\ttotal: 4m 14s\tremaining: 2m 56s\n",
            "3000:\tlearn: 0.1963699\ttest: 0.3210382\tbest: 0.3210382 (3000)\ttotal: 4m 18s\tremaining: 2m 52s\n",
            "3050:\tlearn: 0.1935493\ttest: 0.3190403\tbest: 0.3190403 (3050)\ttotal: 4m 23s\tremaining: 2m 48s\n",
            "3100:\tlearn: 0.1908301\ttest: 0.3171043\tbest: 0.3171043 (3100)\ttotal: 4m 27s\tremaining: 2m 43s\n",
            "3150:\tlearn: 0.1881951\ttest: 0.3153788\tbest: 0.3153788 (3150)\ttotal: 4m 31s\tremaining: 2m 39s\n",
            "3200:\tlearn: 0.1856183\ttest: 0.3136592\tbest: 0.3136592 (3200)\ttotal: 4m 35s\tremaining: 2m 35s\n",
            "3250:\tlearn: 0.1831553\ttest: 0.3120820\tbest: 0.3120820 (3250)\ttotal: 4m 39s\tremaining: 2m 30s\n",
            "3300:\tlearn: 0.1807337\ttest: 0.3102476\tbest: 0.3102476 (3300)\ttotal: 4m 43s\tremaining: 2m 26s\n",
            "3350:\tlearn: 0.1783368\ttest: 0.3087015\tbest: 0.3087015 (3350)\ttotal: 4m 48s\tremaining: 2m 22s\n",
            "3400:\tlearn: 0.1760168\ttest: 0.3071166\tbest: 0.3071166 (3400)\ttotal: 4m 52s\tremaining: 2m 17s\n",
            "3450:\tlearn: 0.1735341\ttest: 0.3054587\tbest: 0.3054587 (3450)\ttotal: 4m 56s\tremaining: 2m 13s\n",
            "3500:\tlearn: 0.1714621\ttest: 0.3043562\tbest: 0.3043562 (3500)\ttotal: 5m 1s\tremaining: 2m 9s\n",
            "3550:\tlearn: 0.1694081\ttest: 0.3029207\tbest: 0.3029207 (3550)\ttotal: 5m 5s\tremaining: 2m 4s\n",
            "3600:\tlearn: 0.1672048\ttest: 0.3011294\tbest: 0.3011294 (3600)\ttotal: 5m 9s\tremaining: 2m\n",
            "3650:\tlearn: 0.1650706\ttest: 0.2996871\tbest: 0.2996871 (3650)\ttotal: 5m 13s\tremaining: 1m 56s\n",
            "3700:\tlearn: 0.1628883\ttest: 0.2980787\tbest: 0.2980787 (3700)\ttotal: 5m 17s\tremaining: 1m 51s\n",
            "3750:\tlearn: 0.1609477\ttest: 0.2968640\tbest: 0.2968640 (3750)\ttotal: 5m 21s\tremaining: 1m 47s\n",
            "3800:\tlearn: 0.1588820\ttest: 0.2955192\tbest: 0.2955147 (3799)\ttotal: 5m 26s\tremaining: 1m 43s\n",
            "3850:\tlearn: 0.1571161\ttest: 0.2945520\tbest: 0.2945520 (3850)\ttotal: 5m 30s\tremaining: 1m 38s\n",
            "3900:\tlearn: 0.1553016\ttest: 0.2935850\tbest: 0.2935850 (3900)\ttotal: 5m 34s\tremaining: 1m 34s\n",
            "3950:\tlearn: 0.1532764\ttest: 0.2922076\tbest: 0.2922076 (3950)\ttotal: 5m 39s\tremaining: 1m 30s\n",
            "4000:\tlearn: 0.1515220\ttest: 0.2910944\tbest: 0.2910944 (4000)\ttotal: 5m 42s\tremaining: 1m 25s\n",
            "4050:\tlearn: 0.1499027\ttest: 0.2899648\tbest: 0.2899648 (4050)\ttotal: 5m 47s\tremaining: 1m 21s\n",
            "4100:\tlearn: 0.1482389\ttest: 0.2888578\tbest: 0.2888303 (4098)\ttotal: 5m 51s\tremaining: 1m 17s\n",
            "4150:\tlearn: 0.1465091\ttest: 0.2878171\tbest: 0.2878156 (4149)\ttotal: 5m 55s\tremaining: 1m 12s\n",
            "4200:\tlearn: 0.1447472\ttest: 0.2866428\tbest: 0.2866428 (4200)\ttotal: 6m\tremaining: 1m 8s\n",
            "4250:\tlearn: 0.1431097\ttest: 0.2854971\tbest: 0.2854971 (4250)\ttotal: 6m 4s\tremaining: 1m 4s\n",
            "4300:\tlearn: 0.1415320\ttest: 0.2843662\tbest: 0.2843598 (4299)\ttotal: 6m 8s\tremaining: 59.8s\n",
            "4350:\tlearn: 0.1399220\ttest: 0.2832150\tbest: 0.2832150 (4350)\ttotal: 6m 12s\tremaining: 55.6s\n",
            "4400:\tlearn: 0.1383689\ttest: 0.2822515\tbest: 0.2822515 (4400)\ttotal: 6m 16s\tremaining: 51.3s\n",
            "4450:\tlearn: 0.1367672\ttest: 0.2813321\tbest: 0.2813321 (4450)\ttotal: 6m 20s\tremaining: 47s\n",
            "4500:\tlearn: 0.1352782\ttest: 0.2805021\tbest: 0.2805021 (4500)\ttotal: 6m 25s\tremaining: 42.8s\n",
            "4550:\tlearn: 0.1338619\ttest: 0.2795748\tbest: 0.2795748 (4550)\ttotal: 6m 29s\tremaining: 38.5s\n",
            "4600:\tlearn: 0.1323535\ttest: 0.2788288\tbest: 0.2788216 (4599)\ttotal: 6m 33s\tremaining: 34.2s\n",
            "4650:\tlearn: 0.1310770\ttest: 0.2778076\tbest: 0.2778076 (4650)\ttotal: 6m 38s\tremaining: 29.9s\n",
            "4700:\tlearn: 0.1297177\ttest: 0.2771553\tbest: 0.2771553 (4700)\ttotal: 6m 42s\tremaining: 25.6s\n",
            "4750:\tlearn: 0.1282428\ttest: 0.2764311\tbest: 0.2764311 (4750)\ttotal: 6m 46s\tremaining: 21.3s\n",
            "4800:\tlearn: 0.1269641\ttest: 0.2756704\tbest: 0.2756704 (4800)\ttotal: 6m 51s\tremaining: 17.1s\n",
            "4850:\tlearn: 0.1256080\ttest: 0.2750655\tbest: 0.2750655 (4850)\ttotal: 6m 55s\tremaining: 12.8s\n",
            "4900:\tlearn: 0.1243128\ttest: 0.2741173\tbest: 0.2741046 (4899)\ttotal: 6m 59s\tremaining: 8.47s\n",
            "4950:\tlearn: 0.1229883\ttest: 0.2734442\tbest: 0.2734442 (4950)\ttotal: 7m 4s\tremaining: 4.2s\n",
            "4999:\tlearn: 0.1216944\ttest: 0.2724281\tbest: 0.2724281 (4999)\ttotal: 7m 8s\tremaining: 0us\n",
            "\n",
            "bestTest = 0.272428056\n",
            "bestIteration = 4999\n",
            "\n"
          ]
        },
        {
          "output_type": "execute_result",
          "data": {
            "text/plain": [
              "<catboost.core.CatBoostClassifier at 0x7c2720135820>"
            ]
          },
          "metadata": {},
          "execution_count": 106
        }
      ],
      "source": [
        "model.fit(X_train, y_train, eval_set=(X_test, y_test))"
      ]
    },
    {
      "cell_type": "markdown",
      "metadata": {
        "id": "FntxgSBsErX3"
      },
      "source": [
        "### Plotting Loss"
      ]
    },
    {
      "cell_type": "code",
      "execution_count": 107,
      "metadata": {
        "colab": {
          "base_uri": "https://localhost:8080/",
          "height": 564
        },
        "id": "wVlp_T4NErEP",
        "outputId": "a71d1f11-294f-4a61-9f66-e312f4557baf"
      },
      "outputs": [
        {
          "output_type": "display_data",
          "data": {
            "text/plain": [
              "<Figure size 1000x600 with 1 Axes>"
            ],
            "image/png": "[encoded data removed]"
          },
          "metadata": {}
        }
      ],
      "source": [
        "evals_result = model.get_evals_result()\n",
        "\n",
        "train_loss = evals_result['learn']['MultiClass']\n",
        "valid_loss = evals_result['validation']['MultiClass']\n",
        "\n",
        "# Plot\n",
        "plt.figure(figsize=(10,6))\n",
        "plt.plot(train_loss, label='Training Loss')\n",
        "plt.plot(valid_loss, label='Validation Loss')\n",
        "plt.xlabel('Iteration')\n",
        "plt.ylabel('MultiClass Loss')\n",
        "plt.title('CatBoost Training & Validation Loss')\n",
        "plt.legend()\n",
        "plt.grid(True)\n",
        "plt.show()"
      ]
    },
    {
      "cell_type": "markdown",
      "metadata": {
        "id": "WkJMiODf3jU8"
      },
      "source": [
        "# Evaluation"
      ]
    },
    {
      "cell_type": "code",
      "execution_count": 108,
      "metadata": {
        "id": "RlM3Gy033jCW"
      },
      "outputs": [],
      "source": [
        "y_pred = model.predict(X_test)"
      ]
    },
    {
      "cell_type": "markdown",
      "metadata": {
        "id": "z-JQB_2z547j"
      },
      "source": [
        "### Confusion Matrix"
      ]
    },
    {
      "cell_type": "code",
      "execution_count": 109,
      "metadata": {
        "colab": {
          "base_uri": "https://localhost:8080/",
          "height": 487
        },
        "id": "CMTh0eHt4dxE",
        "outputId": "fd071528-4819-4f3f-a7a9-73ec1c88e48f"
      },
      "outputs": [
        {
          "output_type": "display_data",
          "data": {
            "text/plain": [
              "<Figure size 600x500 with 2 Axes>"
            ],
            "image/png": "[encoded data removed]"
          },
          "metadata": {}
        }
      ],
      "source": [
        "cm = confusion_matrix(y_test, y_pred)\n",
        "\n",
        "class_names = [\"FP\", \"APC/PC\", \"CP/KP\"]\n",
        "\n",
        "plt.figure(figsize=(6,5))\n",
        "sns.heatmap(cm, annot=True, fmt='d', cmap='Blues',\n",
        "            xticklabels=class_names, yticklabels=class_names)\n",
        "plt.ylabel('True label')\n",
        "plt.xlabel('Predicted label')\n",
        "plt.title('Confusion Matrix')\n",
        "plt.show()"
      ]
    },
    {
      "cell_type": "markdown",
      "metadata": {
        "id": "niTwN6Ni6l4e"
      },
      "source": [
        "Accuracy"
      ]
    },
    {
      "cell_type": "code",
      "execution_count": 110,
      "metadata": {
        "colab": {
          "base_uri": "https://localhost:8080/"
        },
        "id": "5Ir2HlhM6oU_",
        "outputId": "41021891-de71-4e32-bc98-c58dbe14d210"
      },
      "outputs": [
        {
          "output_type": "stream",
          "name": "stdout",
          "text": [
            "Accuracy: 93.90%\n"
          ]
        }
      ],
      "source": [
        "acc = accuracy_score(y_test, y_pred)\n",
        "print(\"Accuracy: {:.2f}%\".format(acc * 100))"
      ]
    },
    {
      "cell_type": "code",
      "source": [
        "model.save_model(\"TESS_Model.onnx\", format=\"onnx\")"
      ],
      "metadata": {
        "id": "3wqJEEsJYY_k"
      },
      "execution_count": null,
      "outputs": []
    }
  ],
  "metadata": {
    "accelerator": "GPU",
    "colab": {
      "gpuType": "T4",
      "provenance": [],
      "include_colab_link": true
    },
    "kernelspec": {
      "display_name": "Python 3 (ipykernel)",
      "language": "python",
      "name": "python3"
    },
    "language_info": {
      "codemirror_mode": {
        "name": "ipython",
        "version": 3
      },
      "file_extension": ".py",
      "mimetype": "text/x-python",
      "name": "python",
      "nbconvert_exporter": "python",
      "pygments_lexer": "ipython3",
      "version": "3.13.7"
    }
  },
  "nbformat": 4,
  "nbformat_minor": 0
}