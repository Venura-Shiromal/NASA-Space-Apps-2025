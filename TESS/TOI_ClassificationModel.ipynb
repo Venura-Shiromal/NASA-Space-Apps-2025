{
  "cells": [
    {
      "cell_type": "markdown",
      "metadata": {
        "id": "view-in-github",
        "colab_type": "text"
      },
      "source": [
        "<a href=\"https://colab.research.google.com/github/Venura-Shiromal/NASA-Space-Apps-2025/blob/main/TESS/TOI_ClassificationModel.ipynb\" target=\"_parent\"><img src=\"https://colab.research.google.com/assets/colab-badge.svg\" alt=\"Open In Colab\"/></a>"
      ]
    },
    {
      "cell_type": "code",
      "execution_count": 2,
      "metadata": {
        "id": "dIyQR6pZ-t8K"
      },
      "outputs": [],
      "source": [
        "# just in case if needed\n",
        "#!pip install catboost\n",
        "#!pip install pandas\n",
        "#!pip install numpy\n",
        "#!pip install scikit-learn\n",
        "#!pip install matplotlib\n",
        "#!pip install seaborn"
      ]
    },
    {
      "cell_type": "markdown",
      "metadata": {
        "id": "fLvcuXZUkvI3"
      },
      "source": [
        "## Prerequisities"
      ]
    },
    {
      "cell_type": "code",
      "execution_count": 62,
      "metadata": {
        "id": "Sx0W_aW_Yyo0"
      },
      "outputs": [],
      "source": [
        "import pandas as pd\n",
        "from catboost import CatBoostClassifier\n",
        "from sklearn.model_selection import train_test_split, StratifiedKFold\n",
        "from sklearn.metrics import classification_report, confusion_matrix, accuracy_score\n",
        "from sklearn.utils.class_weight import compute_class_weight\n",
        "import numpy as np\n",
        "\n",
        "import matplotlib.pyplot as plt\n",
        "import seaborn as sns"
      ]
    },
    {
      "cell_type": "markdown",
      "metadata": {
        "id": "VVyWLHQuky2K"
      },
      "source": [
        "## Loading Data"
      ]
    },
    {
      "cell_type": "code",
      "execution_count": 63,
      "metadata": {
        "colab": {
          "base_uri": "https://localhost:8080/",
          "height": 429
        },
        "id": "uC2Meugwkt7e",
        "outputId": "8b42d3e1-f75d-426c-f2b5-00df49f9b30e"
      },
      "outputs": [
        {
          "output_type": "execute_result",
          "data": {
            "text/plain": [
              "       toi        tid tfopwg_disp         rastr          ra         decstr  \\\n",
              "0  1000.01   50365310          FP  07h29m25.85s  112.357708  -12d41m45.46s   \n",
              "1  1001.01   88863718          PC  08h10m19.31s  122.580465  -05d30m49.87s   \n",
              "2  1002.01  124709665          FP  06h58m54.47s  104.726966  -10d34m49.64s   \n",
              "3  1003.01  106997505          FP  07h22m14.39s  110.559945  -25d12m25.26s   \n",
              "4  1004.01  238597883          FP  08h08m42.77s  122.178195  -48d48m10.12s   \n",
              "\n",
              "         dec  st_pmra  st_pmraerr1  st_pmraerr2  ...  st_logg  st_loggerr1  \\\n",
              "0 -12.695960   -5.964        0.085       -0.085  ...     4.19         0.07   \n",
              "1  -5.513852   -4.956        0.102       -0.102  ...     4.03         0.09   \n",
              "2 -10.580455   -1.462        0.206       -0.206  ...      NaN          NaN   \n",
              "3 -25.207017   -0.939        0.041       -0.041  ...     4.15         1.64   \n",
              "4 -48.802811   -4.496        0.069       -0.069  ...     4.14         0.07   \n",
              "\n",
              "   st_loggerr2  st_logglim   st_rad  st_raderr1  st_raderr2  st_radlim  \\\n",
              "0        -0.07           0  2.16986    0.072573   -0.072573          0   \n",
              "1        -0.09           0  2.01000    0.090000   -0.090000          0   \n",
              "2          NaN           0  5.73000         NaN         NaN          0   \n",
              "3        -1.64           0      NaN         NaN         NaN          0   \n",
              "4        -0.07           0  2.15000    0.060000   -0.060000          0   \n",
              "\n",
              "           toi_created            rowupdate  \n",
              "0  2019-07-24 15:58:33  2024-09-09 10:08:01  \n",
              "1  2019-07-24 15:58:33  2023-04-03 14:31:04  \n",
              "2  2019-07-24 15:58:33  2022-07-11 16:02:02  \n",
              "3  2019-07-24 15:58:33  2022-02-23 10:10:02  \n",
              "4  2019-07-24 15:58:33  2024-09-09 10:08:01  \n",
              "\n",
              "[5 rows x 65 columns]"
            ],
            "text/html": [
              "\n",
              "  <div id=\"df-6ac0cb4a-2944-4dfb-9576-d7f4fe50cc1d\" class=\"colab-df-container\">\n",
              "    <div>\n",
              "<style scoped>\n",
              "    .dataframe tbody tr th:only-of-type {\n",
              "        vertical-align: middle;\n",
              "    }\n",
              "\n",
              "    .dataframe tbody tr th {\n",
              "        vertical-align: top;\n",
              "    }\n",
              "\n",
              "    .dataframe thead th {\n",
              "        text-align: right;\n",
              "    }\n",
              "</style>\n",
              "<table border=\"1\" class=\"dataframe\">\n",
              "  <thead>\n",
              "    <tr style=\"text-align: right;\">\n",
              "      <th></th>\n",
              "      <th>toi</th>\n",
              "      <th>tid</th>\n",
              "      <th>tfopwg_disp</th>\n",
              "      <th>rastr</th>\n",
              "      <th>ra</th>\n",
              "      <th>decstr</th>\n",
              "      <th>dec</th>\n",
              "      <th>st_pmra</th>\n",
              "      <th>st_pmraerr1</th>\n",
              "      <th>st_pmraerr2</th>\n",
              "      <th>...</th>\n",
              "      <th>st_logg</th>\n",
              "      <th>st_loggerr1</th>\n",
              "      <th>st_loggerr2</th>\n",
              "      <th>st_logglim</th>\n",
              "      <th>st_rad</th>\n",
              "      <th>st_raderr1</th>\n",
              "      <th>st_raderr2</th>\n",
              "      <th>st_radlim</th>\n",
              "      <th>toi_created</th>\n",
              "      <th>rowupdate</th>\n",
              "    </tr>\n",
              "  </thead>\n",
              "  <tbody>\n",
              "    <tr>\n",
              "      <th>0</th>\n",
              "      <td>1000.01</td>\n",
              "      <td>50365310</td>\n",
              "      <td>FP</td>\n",
              "      <td>07h29m25.85s</td>\n",
              "      <td>112.357708</td>\n",
              "      <td>-12d41m45.46s</td>\n",
              "      <td>-12.695960</td>\n",
              "      <td>-5.964</td>\n",
              "      <td>0.085</td>\n",
              "      <td>-0.085</td>\n",
              "      <td>...</td>\n",
              "      <td>4.19</td>\n",
              "      <td>0.07</td>\n",
              "      <td>-0.07</td>\n",
              "      <td>0</td>\n",
              "      <td>2.16986</td>\n",
              "      <td>0.072573</td>\n",
              "      <td>-0.072573</td>\n",
              "      <td>0</td>\n",
              "      <td>2019-07-24 15:58:33</td>\n",
              "      <td>2024-09-09 10:08:01</td>\n",
              "    </tr>\n",
              "    <tr>\n",
              "      <th>1</th>\n",
              "      <td>1001.01</td>\n",
              "      <td>88863718</td>\n",
              "      <td>PC</td>\n",
              "      <td>08h10m19.31s</td>\n",
              "      <td>122.580465</td>\n",
              "      <td>-05d30m49.87s</td>\n",
              "      <td>-5.513852</td>\n",
              "      <td>-4.956</td>\n",
              "      <td>0.102</td>\n",
              "      <td>-0.102</td>\n",
              "      <td>...</td>\n",
              "      <td>4.03</td>\n",
              "      <td>0.09</td>\n",
              "      <td>-0.09</td>\n",
              "      <td>0</td>\n",
              "      <td>2.01000</td>\n",
              "      <td>0.090000</td>\n",
              "      <td>-0.090000</td>\n",
              "      <td>0</td>\n",
              "      <td>2019-07-24 15:58:33</td>\n",
              "      <td>2023-04-03 14:31:04</td>\n",
              "    </tr>\n",
              "    <tr>\n",
              "      <th>2</th>\n",
              "      <td>1002.01</td>\n",
              "      <td>124709665</td>\n",
              "      <td>FP</td>\n",
              "      <td>06h58m54.47s</td>\n",
              "      <td>104.726966</td>\n",
              "      <td>-10d34m49.64s</td>\n",
              "      <td>-10.580455</td>\n",
              "      <td>-1.462</td>\n",
              "      <td>0.206</td>\n",
              "      <td>-0.206</td>\n",
              "      <td>...</td>\n",
              "      <td>NaN</td>\n",
              "      <td>NaN</td>\n",
              "      <td>NaN</td>\n",
              "      <td>0</td>\n",
              "      <td>5.73000</td>\n",
              "      <td>NaN</td>\n",
              "      <td>NaN</td>\n",
              "      <td>0</td>\n",
              "      <td>2019-07-24 15:58:33</td>\n",
              "      <td>2022-07-11 16:02:02</td>\n",
              "    </tr>\n",
              "    <tr>\n",
              "      <th>3</th>\n",
              "      <td>1003.01</td>\n",
              "      <td>106997505</td>\n",
              "      <td>FP</td>\n",
              "      <td>07h22m14.39s</td>\n",
              "      <td>110.559945</td>\n",
              "      <td>-25d12m25.26s</td>\n",
              "      <td>-25.207017</td>\n",
              "      <td>-0.939</td>\n",
              "      <td>0.041</td>\n",
              "      <td>-0.041</td>\n",
              "      <td>...</td>\n",
              "      <td>4.15</td>\n",
              "      <td>1.64</td>\n",
              "      <td>-1.64</td>\n",
              "      <td>0</td>\n",
              "      <td>NaN</td>\n",
              "      <td>NaN</td>\n",
              "      <td>NaN</td>\n",
              "      <td>0</td>\n",
              "      <td>2019-07-24 15:58:33</td>\n",
              "      <td>2022-02-23 10:10:02</td>\n",
              "    </tr>\n",
              "    <tr>\n",
              "      <th>4</th>\n",
              "      <td>1004.01</td>\n",
              "      <td>238597883</td>\n",
              "      <td>FP</td>\n",
              "      <td>08h08m42.77s</td>\n",
              "      <td>122.178195</td>\n",
              "      <td>-48d48m10.12s</td>\n",
              "      <td>-48.802811</td>\n",
              "      <td>-4.496</td>\n",
              "      <td>0.069</td>\n",
              "      <td>-0.069</td>\n",
              "      <td>...</td>\n",
              "      <td>4.14</td>\n",
              "      <td>0.07</td>\n",
              "      <td>-0.07</td>\n",
              "      <td>0</td>\n",
              "      <td>2.15000</td>\n",
              "      <td>0.060000</td>\n",
              "      <td>-0.060000</td>\n",
              "      <td>0</td>\n",
              "      <td>2019-07-24 15:58:33</td>\n",
              "      <td>2024-09-09 10:08:01</td>\n",
              "    </tr>\n",
              "  </tbody>\n",
              "</table>\n",
              "<p>5 rows × 65 columns</p>\n",
              "</div>\n",
              "    <div class=\"colab-df-buttons\">\n",
              "\n",
              "  <div class=\"colab-df-container\">\n",
              "    <button class=\"colab-df-convert\" onclick=\"convertToInteractive('df-6ac0cb4a-2944-4dfb-9576-d7f4fe50cc1d')\"\n",
              "            title=\"Convert this dataframe to an interactive table.\"\n",
              "            style=\"display:none;\">\n",
              "\n",
              "  <svg xmlns=\"http://www.w3.org/2000/svg\" height=\"24px\" viewBox=\"0 -960 960 960\">\n",
              "    <path d=\"M120-120v-720h720v720H120Zm60-500h600v-160H180v160Zm220 220h160v-160H400v160Zm0 220h160v-160H400v160ZM180-400h160v-160H180v160Zm440 0h160v-160H620v160ZM180-180h160v-160H180v160Zm440 0h160v-160H620v160Z\"/>\n",
              "  </svg>\n",
              "    </button>\n",
              "\n",
              "  <style>\n",
              "    .colab-df-container {\n",
              "      display:flex;\n",
              "      gap: 12px;\n",
              "    }\n",
              "\n",
              "    .colab-df-convert {\n",
              "      background-color: #E8F0FE;\n",
              "      border: none;\n",
              "      border-radius: 50%;\n",
              "      cursor: pointer;\n",
              "      display: none;\n",
              "      fill: #1967D2;\n",
              "      height: 32px;\n",
              "      padding: 0 0 0 0;\n",
              "      width: 32px;\n",
              "    }\n",
              "\n",
              "    .colab-df-convert:hover {\n",
              "      background-color: #E2EBFA;\n",
              "      box-shadow: 0px 1px 2px rgba(60, 64, 67, 0.3), 0px 1px 3px 1px rgba(60, 64, 67, 0.15);\n",
              "      fill: #174EA6;\n",
              "    }\n",
              "\n",
              "    .colab-df-buttons div {\n",
              "      margin-bottom: 4px;\n",
              "    }\n",
              "\n",
              "    [theme=dark] .colab-df-convert {\n",
              "      background-color: #3B4455;\n",
              "      fill: #D2E3FC;\n",
              "    }\n",
              "\n",
              "    [theme=dark] .colab-df-convert:hover {\n",
              "      background-color: #434B5C;\n",
              "      box-shadow: 0px 1px 3px 1px rgba(0, 0, 0, 0.15);\n",
              "      filter: drop-shadow(0px 1px 2px rgba(0, 0, 0, 0.3));\n",
              "      fill: #FFFFFF;\n",
              "    }\n",
              "  </style>\n",
              "\n",
              "    <script>\n",
              "      const buttonEl =\n",
              "        document.querySelector('#df-6ac0cb4a-2944-4dfb-9576-d7f4fe50cc1d button.colab-df-convert');\n",
              "      buttonEl.style.display =\n",
              "        google.colab.kernel.accessAllowed ? 'block' : 'none';\n",
              "\n",
              "      async function convertToInteractive(key) {\n",
              "        const element = document.querySelector('#df-6ac0cb4a-2944-4dfb-9576-d7f4fe50cc1d');\n",
              "        const dataTable =\n",
              "          await google.colab.kernel.invokeFunction('convertToInteractive',\n",
              "                                                    [key], {});\n",
              "        if (!dataTable) return;\n",
              "\n",
              "        const docLinkHtml = 'Like what you see? Visit the ' +\n",
              "          '<a target=\"_blank\" href=https://colab.research.google.com/notebooks/data_table.ipynb>data table notebook</a>'\n",
              "          + ' to learn more about interactive tables.';\n",
              "        element.innerHTML = '';\n",
              "        dataTable['output_type'] = 'display_data';\n",
              "        await google.colab.output.renderOutput(dataTable, element);\n",
              "        const docLink = document.createElement('div');\n",
              "        docLink.innerHTML = docLinkHtml;\n",
              "        element.appendChild(docLink);\n",
              "      }\n",
              "    </script>\n",
              "  </div>\n",
              "\n",
              "\n",
              "    <div id=\"df-f0a954c1-e62c-42dd-8db9-e9287c7b5bd8\">\n",
              "      <button class=\"colab-df-quickchart\" onclick=\"quickchart('df-f0a954c1-e62c-42dd-8db9-e9287c7b5bd8')\"\n",
              "                title=\"Suggest charts\"\n",
              "                style=\"display:none;\">\n",
              "\n",
              "<svg xmlns=\"http://www.w3.org/2000/svg\" height=\"24px\"viewBox=\"0 0 24 24\"\n",
              "     width=\"24px\">\n",
              "    <g>\n",
              "        <path d=\"M19 3H5c-1.1 0-2 .9-2 2v14c0 1.1.9 2 2 2h14c1.1 0 2-.9 2-2V5c0-1.1-.9-2-2-2zM9 17H7v-7h2v7zm4 0h-2V7h2v10zm4 0h-2v-4h2v4z\"/>\n",
              "    </g>\n",
              "</svg>\n",
              "      </button>\n",
              "\n",
              "<style>\n",
              "  .colab-df-quickchart {\n",
              "      --bg-color: #E8F0FE;\n",
              "      --fill-color: #1967D2;\n",
              "      --hover-bg-color: #E2EBFA;\n",
              "      --hover-fill-color: #174EA6;\n",
              "      --disabled-fill-color: #AAA;\n",
              "      --disabled-bg-color: #DDD;\n",
              "  }\n",
              "\n",
              "  [theme=dark] .colab-df-quickchart {\n",
              "      --bg-color: #3B4455;\n",
              "      --fill-color: #D2E3FC;\n",
              "      --hover-bg-color: #434B5C;\n",
              "      --hover-fill-color: #FFFFFF;\n",
              "      --disabled-bg-color: #3B4455;\n",
              "      --disabled-fill-color: #666;\n",
              "  }\n",
              "\n",
              "  .colab-df-quickchart {\n",
              "    background-color: var(--bg-color);\n",
              "    border: none;\n",
              "    border-radius: 50%;\n",
              "    cursor: pointer;\n",
              "    display: none;\n",
              "    fill: var(--fill-color);\n",
              "    height: 32px;\n",
              "    padding: 0;\n",
              "    width: 32px;\n",
              "  }\n",
              "\n",
              "  .colab-df-quickchart:hover {\n",
              "    background-color: var(--hover-bg-color);\n",
              "    box-shadow: 0 1px 2px rgba(60, 64, 67, 0.3), 0 1px 3px 1px rgba(60, 64, 67, 0.15);\n",
              "    fill: var(--button-hover-fill-color);\n",
              "  }\n",
              "\n",
              "  .colab-df-quickchart-complete:disabled,\n",
              "  .colab-df-quickchart-complete:disabled:hover {\n",
              "    background-color: var(--disabled-bg-color);\n",
              "    fill: var(--disabled-fill-color);\n",
              "    box-shadow: none;\n",
              "  }\n",
              "\n",
              "  .colab-df-spinner {\n",
              "    border: 2px solid var(--fill-color);\n",
              "    border-color: transparent;\n",
              "    border-bottom-color: var(--fill-color);\n",
              "    animation:\n",
              "      spin 1s steps(1) infinite;\n",
              "  }\n",
              "\n",
              "  @keyframes spin {\n",
              "    0% {\n",
              "      border-color: transparent;\n",
              "      border-bottom-color: var(--fill-color);\n",
              "      border-left-color: var(--fill-color);\n",
              "    }\n",
              "    20% {\n",
              "      border-color: transparent;\n",
              "      border-left-color: var(--fill-color);\n",
              "      border-top-color: var(--fill-color);\n",
              "    }\n",
              "    30% {\n",
              "      border-color: transparent;\n",
              "      border-left-color: var(--fill-color);\n",
              "      border-top-color: var(--fill-color);\n",
              "      border-right-color: var(--fill-color);\n",
              "    }\n",
              "    40% {\n",
              "      border-color: transparent;\n",
              "      border-right-color: var(--fill-color);\n",
              "      border-top-color: var(--fill-color);\n",
              "    }\n",
              "    60% {\n",
              "      border-color: transparent;\n",
              "      border-right-color: var(--fill-color);\n",
              "    }\n",
              "    80% {\n",
              "      border-color: transparent;\n",
              "      border-right-color: var(--fill-color);\n",
              "      border-bottom-color: var(--fill-color);\n",
              "    }\n",
              "    90% {\n",
              "      border-color: transparent;\n",
              "      border-bottom-color: var(--fill-color);\n",
              "    }\n",
              "  }\n",
              "</style>\n",
              "\n",
              "      <script>\n",
              "        async function quickchart(key) {\n",
              "          const quickchartButtonEl =\n",
              "            document.querySelector('#' + key + ' button');\n",
              "          quickchartButtonEl.disabled = true;  // To prevent multiple clicks.\n",
              "          quickchartButtonEl.classList.add('colab-df-spinner');\n",
              "          try {\n",
              "            const charts = await google.colab.kernel.invokeFunction(\n",
              "                'suggestCharts', [key], {});\n",
              "          } catch (error) {\n",
              "            console.error('Error during call to suggestCharts:', error);\n",
              "          }\n",
              "          quickchartButtonEl.classList.remove('colab-df-spinner');\n",
              "          quickchartButtonEl.classList.add('colab-df-quickchart-complete');\n",
              "        }\n",
              "        (() => {\n",
              "          let quickchartButtonEl =\n",
              "            document.querySelector('#df-f0a954c1-e62c-42dd-8db9-e9287c7b5bd8 button');\n",
              "          quickchartButtonEl.style.display =\n",
              "            google.colab.kernel.accessAllowed ? 'block' : 'none';\n",
              "        })();\n",
              "      </script>\n",
              "    </div>\n",
              "\n",
              "    </div>\n",
              "  </div>\n"
            ],
            "application/vnd.google.colaboratory.intrinsic+json": {
              "type": "dataframe",
              "variable_name": "toi"
            }
          },
          "metadata": {},
          "execution_count": 63
        }
      ],
      "source": [
        "toi = pd.read_csv('TOI_Data.csv', comment='#')\n",
        "toi.head()"
      ]
    },
    {
      "cell_type": "markdown",
      "metadata": {
        "id": "07Hmh6kFmtFN"
      },
      "source": [
        "## Feature Selection"
      ]
    },
    {
      "cell_type": "code",
      "execution_count": 64,
      "metadata": {
        "id": "TrGOOBvmlER9"
      },
      "outputs": [],
      "source": [
        "features = [\n",
        "    \"tfopwg_disp\",\n",
        "    \"pl_orbper\",\n",
        "    \"pl_trandurh\",\n",
        "    \"pl_trandep\",\n",
        "    \"pl_rade\",\n",
        "    \"pl_insol\",\n",
        "    \"pl_eqt\",\n",
        "    \"st_tmag\",\n",
        "    \"st_dist\",\n",
        "    \"st_teff\",\n",
        "    \"st_rad\",\n",
        "    \"st_logg\"\n",
        "]\n",
        "\n",
        "drop_list = [\n",
        "    \"toi\", \"tid\",\n",
        "    \"rastr\", \"ra\", \"decstr\", \"dec\",\n",
        "    \"st_pmra\", \"st_pmraerr1\", \"st_pmraerr2\", \"st_pmralim\",\n",
        "    \"st_pmdec\", \"st_pmdecerr1\", \"st_pmdecerr2\", \"st_pmdeclim\",\n",
        "    \"pl_tranmid\", \"pl_tranmiderr1\", \"pl_tranmiderr2\", \"pl_tranmidlim\",\n",
        "    \"pl_orbpererr1\", \"pl_orbpererr2\", \"pl_orbperlim\",\n",
        "    \"pl_trandurherr1\", \"pl_trandurherr2\", \"pl_trandurhlim\",\n",
        "    \"pl_trandeperr1\", \"pl_trandeperr2\", \"pl_trandeplim\",\n",
        "    \"pl_radelim\",\n",
        "    \"st_tmagerr1\", \"st_tmagerr2\", \"st_tmaglim\",\n",
        "    \"st_disterr1\", \"st_disterr2\", \"st_distlim\",\n",
        "    \"st_tefferr1\", \"st_tefferr2\", \"st_tefflim\",\n",
        "    \"st_logglim\",\n",
        "    \"st_radlim\",\n",
        "    \"toi_created\", \"rowupdate\",\n",
        "\n",
        "    # Missing Data\n",
        "    \"pl_radeerr1\", \"pl_radeerr2\",\n",
        "    \"pl_insolerr1\", \"pl_insolerr2\", \"pl_insollim\",\n",
        "    \"pl_eqterr1\", \"pl_eqterr2\", \"pl_eqtlim\",\n",
        "    \"st_loggerr1\", \"st_loggerr2\",\n",
        "    \"st_raderr1\", \"st_raderr2\"\n",
        "]\n"
      ]
    },
    {
      "cell_type": "code",
      "execution_count": 65,
      "metadata": {
        "id": "WuvHti_MBYuu"
      },
      "outputs": [],
      "source": [
        "toi = toi[features]"
      ]
    },
    {
      "cell_type": "markdown",
      "metadata": {
        "id": "JKSIKT4To9HZ"
      },
      "source": [
        "Label Mapping"
      ]
    },
    {
      "cell_type": "code",
      "execution_count": 66,
      "metadata": {
        "id": "_8K-UEG5o_DS"
      },
      "outputs": [],
      "source": [
        "label_map = {\n",
        "    \"CP\": 1,   # Confirmed Planet\n",
        "    \"KP\": 1,   # Known Planet\n",
        "    \"PC\": 0,   # Planetary Candidate\n",
        "    \"APC\": 0,  # Ambiguous Planetary Candidate\n",
        "    \"FP\": -1,  # False Positive\n",
        "    \"FA\": -1   # False Alarm\n",
        "}\n",
        "\n",
        "toi[\"tfopwg_disp\"] = toi[\"tfopwg_disp\"].map(label_map)"
      ]
    },
    {
      "cell_type": "markdown",
      "metadata": {
        "id": "Ne4pIk6jr0N-"
      },
      "source": [
        "## Filling empty cells"
      ]
    },
    {
      "cell_type": "code",
      "execution_count": 67,
      "metadata": {
        "id": "I79FaLU-rz4P"
      },
      "outputs": [],
      "source": [
        "for col in features:\n",
        "    toi.fillna({col: toi[col].mean()}, inplace=True)"
      ]
    },
    {
      "cell_type": "markdown",
      "metadata": {
        "id": "DILU0J92sQkD"
      },
      "source": [
        "### Diagnoise"
      ]
    },
    {
      "cell_type": "code",
      "execution_count": 68,
      "metadata": {
        "id": "-vAY-1XHsPL_"
      },
      "outputs": [],
      "source": [
        "#print(toi.isna().sum()[toi.isna().sum() > 0])\n",
        "#for col in features:\n",
        "#    print(toi[col].dtype)"
      ]
    },
    {
      "cell_type": "markdown",
      "metadata": {
        "id": "BZZYmmphpiL2"
      },
      "source": [
        "## Defining data sets"
      ]
    },
    {
      "cell_type": "code",
      "execution_count": 69,
      "metadata": {
        "id": "PcnhnqBQpRHx"
      },
      "outputs": [],
      "source": [
        "X = toi.drop(\"tfopwg_disp\", axis=1)\n",
        "y = toi[\"tfopwg_disp\"]"
      ]
    },
    {
      "cell_type": "code",
      "execution_count": 70,
      "metadata": {
        "id": "AOpgnjyLpoV6"
      },
      "outputs": [],
      "source": [
        "X_train, X_test, y_train, y_test = train_test_split(\n",
        "    X, y, test_size=0.2, stratify=y, random_state=42\n",
        "    )"
      ]
    },
    {
      "cell_type": "markdown",
      "metadata": {
        "id": "2y8mTfRp05y2"
      },
      "source": [
        "Defining Classes"
      ]
    },
    {
      "cell_type": "code",
      "execution_count": 71,
      "metadata": {
        "id": "wawMFEOe091B"
      },
      "outputs": [],
      "source": [
        "classes = np.unique(y_train)"
      ]
    },
    {
      "cell_type": "markdown",
      "metadata": {
        "id": "NUalJl3109ld"
      },
      "source": [
        "Calculating Class Weights"
      ]
    },
    {
      "cell_type": "code",
      "execution_count": 72,
      "metadata": {
        "id": "Jl0IYZY6wvIU"
      },
      "outputs": [],
      "source": [
        "weights = compute_class_weight(\"balanced\", classes=classes, y=y_train)"
      ]
    },
    {
      "cell_type": "markdown",
      "metadata": {
        "id": "l05vbhRO137y"
      },
      "source": [
        "Combining both"
      ]
    },
    {
      "cell_type": "code",
      "execution_count": 73,
      "metadata": {
        "id": "u01MI-W11Ylq"
      },
      "outputs": [],
      "source": [
        "class_weights = dict(zip(classes, weights))"
      ]
    },
    {
      "cell_type": "markdown",
      "metadata": {
        "id": "B2ktYZ_CLb8M"
      },
      "source": [
        "### Cross-validation"
      ]
    },
    {
      "cell_type": "code",
      "execution_count": 74,
      "metadata": {
        "id": "tBDk3uGRKDF8"
      },
      "outputs": [],
      "source": [
        "skf = StratifiedKFold(n_splits=5, shuffle=True, random_state=42)\n",
        "\n",
        "for train_idx, valid_idx in skf.split(X, y):\n",
        "    X_train, X_valid = X.iloc[train_idx], X.iloc[valid_idx]\n",
        "    y_train, y_valid = y.iloc[train_idx], y.iloc[valid_idx]"
      ]
    },
    {
      "cell_type": "markdown",
      "metadata": {
        "id": "6WdykEBY2F1v"
      },
      "source": [
        "## Cat Boost Initiation"
      ]
    },
    {
      "cell_type": "markdown",
      "metadata": {
        "id": "disXqpzB24me"
      },
      "source": [
        "### Parameters\n"
      ]
    },
    {
      "cell_type": "code",
      "execution_count": 75,
      "metadata": {
        "id": "VCVzo7F63Aa4"
      },
      "outputs": [],
      "source": [
        "max_ite = 3000\n",
        "dep = 8\n",
        "l_rate = 0.04"
      ]
    },
    {
      "cell_type": "code",
      "execution_count": 76,
      "metadata": {
        "id": "whC-nezHq_WX"
      },
      "outputs": [],
      "source": [
        "model = CatBoostClassifier(\n",
        "    iterations=max_ite,\n",
        "    depth=dep,\n",
        "    learning_rate=l_rate,\n",
        "    loss_function=\"MultiClass\",\n",
        "    eval_metric=\"MultiClass\",\n",
        "    l2_leaf_reg=7,\n",
        "    border_count=1024,\n",
        "    early_stopping_rounds=50,\n",
        "    random_seed=42,\n",
        "    verbose=50,\n",
        "    class_weights=class_weights\n",
        ")\n"
      ]
    },
    {
      "cell_type": "markdown",
      "metadata": {
        "id": "zCqAjS8C3eCP"
      },
      "source": [
        "# Training"
      ]
    },
    {
      "cell_type": "code",
      "execution_count": 77,
      "metadata": {
        "colab": {
          "base_uri": "https://localhost:8080/"
        },
        "id": "uMb-AlB93Uej",
        "outputId": "7e7ea2d3-063d-4797-ca14-e63d4cb5fd14"
      },
      "outputs": [
        {
          "output_type": "stream",
          "name": "stdout",
          "text": [
            "0:\tlearn: 1.0846920\ttest: 1.0848108\tbest: 1.0848108 (0)\ttotal: 152ms\tremaining: 7m 34s\n",
            "50:\tlearn: 0.8242764\ttest: 0.8296760\tbest: 0.8296760 (50)\ttotal: 4.97s\tremaining: 4m 47s\n",
            "100:\tlearn: 0.7514853\ttest: 0.7618234\tbest: 0.7618234 (100)\ttotal: 8.93s\tremaining: 4m 16s\n",
            "150:\tlearn: 0.7048321\ttest: 0.7190384\tbest: 0.7190384 (150)\ttotal: 13.5s\tremaining: 4m 15s\n",
            "200:\tlearn: 0.6706771\ttest: 0.6887502\tbest: 0.6887502 (200)\ttotal: 17.9s\tremaining: 4m 8s\n",
            "250:\tlearn: 0.6411617\ttest: 0.6641477\tbest: 0.6641477 (250)\ttotal: 21.9s\tremaining: 3m 59s\n",
            "300:\tlearn: 0.6156984\ttest: 0.6437589\tbest: 0.6437589 (300)\ttotal: 26.8s\tremaining: 4m\n",
            "350:\tlearn: 0.5949396\ttest: 0.6267828\tbest: 0.6267828 (350)\ttotal: 30.8s\tremaining: 3m 52s\n",
            "400:\tlearn: 0.5756471\ttest: 0.6117588\tbest: 0.6117588 (400)\ttotal: 34.8s\tremaining: 3m 45s\n",
            "450:\tlearn: 0.5566580\ttest: 0.5961867\tbest: 0.5961867 (450)\ttotal: 39.8s\tremaining: 3m 45s\n",
            "500:\tlearn: 0.5386182\ttest: 0.5812644\tbest: 0.5812644 (500)\ttotal: 43.8s\tremaining: 3m 38s\n",
            "550:\tlearn: 0.5226157\ttest: 0.5686829\tbest: 0.5686829 (550)\ttotal: 47.8s\tremaining: 3m 32s\n",
            "600:\tlearn: 0.5063116\ttest: 0.5554170\tbest: 0.5554170 (600)\ttotal: 52.8s\tremaining: 3m 30s\n",
            "650:\tlearn: 0.4928612\ttest: 0.5448147\tbest: 0.5448147 (650)\ttotal: 56.7s\tremaining: 3m 24s\n",
            "700:\tlearn: 0.4796217\ttest: 0.5337680\tbest: 0.5337680 (700)\ttotal: 1m\tremaining: 3m 19s\n",
            "750:\tlearn: 0.4669544\ttest: 0.5236204\tbest: 0.5236204 (750)\ttotal: 1m 5s\tremaining: 3m 16s\n",
            "800:\tlearn: 0.4540871\ttest: 0.5133987\tbest: 0.5133987 (800)\ttotal: 1m 9s\tremaining: 3m 11s\n",
            "850:\tlearn: 0.4423163\ttest: 0.5038756\tbest: 0.5038756 (850)\ttotal: 1m 13s\tremaining: 3m 5s\n",
            "900:\tlearn: 0.4310454\ttest: 0.4946613\tbest: 0.4946613 (900)\ttotal: 1m 18s\tremaining: 3m 2s\n",
            "950:\tlearn: 0.4200345\ttest: 0.4860139\tbest: 0.4860139 (950)\ttotal: 1m 22s\tremaining: 2m 57s\n",
            "1000:\tlearn: 0.4099737\ttest: 0.4778384\tbest: 0.4778384 (1000)\ttotal: 1m 27s\tremaining: 2m 53s\n",
            "1050:\tlearn: 0.4001037\ttest: 0.4701507\tbest: 0.4701507 (1050)\ttotal: 1m 31s\tremaining: 2m 49s\n",
            "1100:\tlearn: 0.3908738\ttest: 0.4634093\tbest: 0.4634093 (1100)\ttotal: 1m 35s\tremaining: 2m 44s\n",
            "1150:\tlearn: 0.3822095\ttest: 0.4570511\tbest: 0.4570511 (1150)\ttotal: 1m 40s\tremaining: 2m 41s\n",
            "1200:\tlearn: 0.3728857\ttest: 0.4496458\tbest: 0.4496458 (1200)\ttotal: 1m 44s\tremaining: 2m 36s\n",
            "1250:\tlearn: 0.3643460\ttest: 0.4431872\tbest: 0.4431872 (1250)\ttotal: 1m 48s\tremaining: 2m 31s\n",
            "1300:\tlearn: 0.3568287\ttest: 0.4375036\tbest: 0.4375036 (1300)\ttotal: 1m 53s\tremaining: 2m 28s\n",
            "1350:\tlearn: 0.3491295\ttest: 0.4312353\tbest: 0.4312353 (1350)\ttotal: 1m 57s\tremaining: 2m 23s\n",
            "1400:\tlearn: 0.3421288\ttest: 0.4260081\tbest: 0.4260081 (1400)\ttotal: 2m 1s\tremaining: 2m 18s\n",
            "1450:\tlearn: 0.3349777\ttest: 0.4211831\tbest: 0.4211831 (1450)\ttotal: 2m 6s\tremaining: 2m 14s\n",
            "1500:\tlearn: 0.3282917\ttest: 0.4161436\tbest: 0.4161436 (1500)\ttotal: 2m 10s\tremaining: 2m 9s\n",
            "1550:\tlearn: 0.3211792\ttest: 0.4100275\tbest: 0.4100275 (1550)\ttotal: 2m 14s\tremaining: 2m 5s\n",
            "1600:\tlearn: 0.3149033\ttest: 0.4051315\tbest: 0.4051315 (1600)\ttotal: 2m 18s\tremaining: 2m 1s\n",
            "1650:\tlearn: 0.3083127\ttest: 0.4001848\tbest: 0.4001848 (1650)\ttotal: 2m 22s\tremaining: 1m 56s\n",
            "1700:\tlearn: 0.3027283\ttest: 0.3959380\tbest: 0.3959380 (1700)\ttotal: 2m 28s\tremaining: 1m 53s\n",
            "1750:\tlearn: 0.2968922\ttest: 0.3915226\tbest: 0.3915226 (1750)\ttotal: 2m 32s\tremaining: 1m 49s\n",
            "1800:\tlearn: 0.2916918\ttest: 0.3878389\tbest: 0.3878389 (1800)\ttotal: 2m 36s\tremaining: 1m 44s\n",
            "1850:\tlearn: 0.2862280\ttest: 0.3833327\tbest: 0.3833327 (1850)\ttotal: 2m 41s\tremaining: 1m 40s\n",
            "1900:\tlearn: 0.2815488\ttest: 0.3797086\tbest: 0.3797086 (1900)\ttotal: 2m 45s\tremaining: 1m 35s\n",
            "1950:\tlearn: 0.2764618\ttest: 0.3761868\tbest: 0.3761868 (1950)\ttotal: 2m 49s\tremaining: 1m 31s\n",
            "2000:\tlearn: 0.2715507\ttest: 0.3726371\tbest: 0.3726371 (2000)\ttotal: 2m 54s\tremaining: 1m 27s\n",
            "2050:\tlearn: 0.2665556\ttest: 0.3687832\tbest: 0.3687832 (2050)\ttotal: 2m 58s\tremaining: 1m 22s\n",
            "2100:\tlearn: 0.2622563\ttest: 0.3660254\tbest: 0.3660254 (2100)\ttotal: 3m 2s\tremaining: 1m 18s\n",
            "2150:\tlearn: 0.2581240\ttest: 0.3629274\tbest: 0.3629274 (2150)\ttotal: 3m 7s\tremaining: 1m 13s\n",
            "2200:\tlearn: 0.2536305\ttest: 0.3595136\tbest: 0.3595136 (2200)\ttotal: 3m 11s\tremaining: 1m 9s\n",
            "2250:\tlearn: 0.2492896\ttest: 0.3562901\tbest: 0.3562901 (2250)\ttotal: 3m 15s\tremaining: 1m 4s\n",
            "2300:\tlearn: 0.2445752\ttest: 0.3529490\tbest: 0.3529490 (2300)\ttotal: 3m 19s\tremaining: 1m\n",
            "2350:\tlearn: 0.2399515\ttest: 0.3500941\tbest: 0.3500941 (2350)\ttotal: 3m 23s\tremaining: 56.3s\n",
            "2400:\tlearn: 0.2358790\ttest: 0.3467575\tbest: 0.3467575 (2400)\ttotal: 3m 27s\tremaining: 51.9s\n",
            "2450:\tlearn: 0.2322905\ttest: 0.3442303\tbest: 0.3442303 (2450)\ttotal: 3m 32s\tremaining: 47.7s\n",
            "2500:\tlearn: 0.2285510\ttest: 0.3414813\tbest: 0.3414813 (2500)\ttotal: 3m 36s\tremaining: 43.2s\n",
            "2550:\tlearn: 0.2251012\ttest: 0.3392120\tbest: 0.3392120 (2550)\ttotal: 3m 40s\tremaining: 38.8s\n",
            "2600:\tlearn: 0.2215285\ttest: 0.3368110\tbest: 0.3367819 (2599)\ttotal: 3m 45s\tremaining: 34.6s\n",
            "2650:\tlearn: 0.2180233\ttest: 0.3341029\tbest: 0.3341029 (2650)\ttotal: 3m 49s\tremaining: 30.2s\n",
            "2700:\tlearn: 0.2146525\ttest: 0.3315328\tbest: 0.3315328 (2700)\ttotal: 3m 53s\tremaining: 25.8s\n",
            "2750:\tlearn: 0.2115200\ttest: 0.3294106\tbest: 0.3294106 (2750)\ttotal: 3m 58s\tremaining: 21.6s\n",
            "2800:\tlearn: 0.2083771\ttest: 0.3269778\tbest: 0.3269778 (2800)\ttotal: 4m 2s\tremaining: 17.2s\n",
            "2850:\tlearn: 0.2052133\ttest: 0.3245272\tbest: 0.3245272 (2850)\ttotal: 4m 6s\tremaining: 12.9s\n",
            "2900:\tlearn: 0.2020651\ttest: 0.3223154\tbest: 0.3223154 (2900)\ttotal: 4m 11s\tremaining: 8.57s\n",
            "2950:\tlearn: 0.1990235\ttest: 0.3200222\tbest: 0.3200222 (2950)\ttotal: 4m 14s\tremaining: 4.23s\n",
            "2999:\tlearn: 0.1964325\ttest: 0.3181914\tbest: 0.3181914 (2999)\ttotal: 4m 19s\tremaining: 0us\n",
            "\n",
            "bestTest = 0.3181913934\n",
            "bestIteration = 2999\n",
            "\n"
          ]
        },
        {
          "output_type": "execute_result",
          "data": {
            "text/plain": [
              "<catboost.core.CatBoostClassifier at 0x7c2720248290>"
            ]
          },
          "metadata": {},
          "execution_count": 77
        }
      ],
      "source": [
        "model.fit(X_train, y_train, eval_set=(X_test, y_test))"
      ]
    },
    {
      "cell_type": "markdown",
      "metadata": {
        "id": "FntxgSBsErX3"
      },
      "source": [
        "### Plotting Loss"
      ]
    },
    {
      "cell_type": "code",
      "execution_count": 78,
      "metadata": {
        "colab": {
          "base_uri": "https://localhost:8080/",
          "height": 564
        },
        "id": "wVlp_T4NErEP",
        "outputId": "7e84d581-92f9-44d2-a09c-daec398d4bae"
      },
      "outputs": [
        {
          "output_type": "display_data",
          "data": {
            "text/plain": [
              "<Figure size 1000x600 with 1 Axes>"
            ],
            "image/png": "[encoded data removed]"
          },
          "metadata": {}
        }
      ],
      "source": [
        "evals_result = model.get_evals_result()\n",
        "\n",
        "train_loss = evals_result['learn']['MultiClass']\n",
        "valid_loss = evals_result['validation']['MultiClass']\n",
        "\n",
        "# Plot\n",
        "plt.figure(figsize=(10,6))\n",
        "plt.plot(train_loss, label='Training Loss')\n",
        "plt.plot(valid_loss, label='Validation Loss')\n",
        "plt.xlabel('Iteration')\n",
        "plt.ylabel('MultiClass Loss')\n",
        "plt.title('CatBoost Training & Validation Loss')\n",
        "plt.legend()\n",
        "plt.grid(True)\n",
        "plt.show()"
      ]
    },
    {
      "cell_type": "markdown",
      "metadata": {
        "id": "WkJMiODf3jU8"
      },
      "source": [
        "# Evaluation"
      ]
    },
    {
      "cell_type": "code",
      "execution_count": 79,
      "metadata": {
        "id": "RlM3Gy033jCW"
      },
      "outputs": [],
      "source": [
        "y_pred = model.predict(X_test)"
      ]
    },
    {
      "cell_type": "markdown",
      "metadata": {
        "id": "z-JQB_2z547j"
      },
      "source": [
        "### Confusion Matrix"
      ]
    },
    {
      "cell_type": "code",
      "execution_count": 80,
      "metadata": {
        "colab": {
          "base_uri": "https://localhost:8080/",
          "height": 487
        },
        "id": "CMTh0eHt4dxE",
        "outputId": "70976ad4-333f-4df7-fe3e-06bf5b0de98a"
      },
      "outputs": [
        {
          "output_type": "display_data",
          "data": {
            "text/plain": [
              "<Figure size 600x500 with 2 Axes>"
            ],
            "image/png": "[encoded data removed]"
          },
          "metadata": {}
        }
      ],
      "source": [
        "cm = confusion_matrix(y_test, y_pred)\n",
        "\n",
        "class_names = [\"FP\", \"APC/PC\", \"CP/KP\"]\n",
        "\n",
        "plt.figure(figsize=(6,5))\n",
        "sns.heatmap(cm, annot=True, fmt='d', cmap='Blues',\n",
        "            xticklabels=class_names, yticklabels=class_names)\n",
        "plt.ylabel('True label')\n",
        "plt.xlabel('Predicted label')\n",
        "plt.title('Confusion Matrix')\n",
        "plt.show()"
      ]
    },
    {
      "cell_type": "markdown",
      "metadata": {
        "id": "niTwN6Ni6l4e"
      },
      "source": [
        "Accuracy"
      ]
    },
    {
      "cell_type": "code",
      "execution_count": 61,
      "metadata": {
        "colab": {
          "base_uri": "https://localhost:8080/"
        },
        "id": "5Ir2HlhM6oU_",
        "outputId": "c6ee7c0e-bf95-4e0d-c407-043661b0f713"
      },
      "outputs": [
        {
          "output_type": "stream",
          "name": "stdout",
          "text": [
            "Accuracy: 91.36%\n"
          ]
        }
      ],
      "source": [
        "acc = accuracy_score(y_test, y_pred)\n",
        "print(\"Accuracy: {:.2f}%\".format(acc * 100))"
      ]
    },
    {
      "cell_type": "code",
      "source": [],
      "metadata": {
        "id": "3wqJEEsJYY_k"
      },
      "execution_count": null,
      "outputs": []
    }
  ],
  "metadata": {
    "accelerator": "GPU",
    "colab": {
      "gpuType": "T4",
      "provenance": [],
      "include_colab_link": true
    },
    "kernelspec": {
      "display_name": "Python 3 (ipykernel)",
      "language": "python",
      "name": "python3"
    },
    "language_info": {
      "codemirror_mode": {
        "name": "ipython",
        "version": 3
      },
      "file_extension": ".py",
      "mimetype": "text/x-python",
      "name": "python",
      "nbconvert_exporter": "python",
      "pygments_lexer": "ipython3",
      "version": "3.13.7"
    }
  },
  "nbformat": 4,
  "nbformat_minor": 0
}