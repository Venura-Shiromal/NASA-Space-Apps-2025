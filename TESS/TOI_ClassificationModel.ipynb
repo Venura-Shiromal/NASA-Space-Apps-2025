{
 "cells": [
  {
   "cell_type": "markdown",
   "metadata": {
    "colab_type": "text",
    "id": "view-in-github"
   },
   "source": [
    "<a href=\"https://colab.research.google.com/github/Venura-Shiromal/NASA-Space-Apps-2025/blob/main/TOI_ClassificationModel.ipynb\" target=\"_parent\"><img src=\"https://colab.research.google.com/assets/colab-badge.svg\" alt=\"Open In Colab\"/></a>"
   ]
  },
  {
   "cell_type": "code",
   "execution_count": 1,
   "metadata": {
    "id": "dIyQR6pZ-t8K"
   },
   "outputs": [],
   "source": [
    "# just in case if needed\n",
    "# !pip install catboost"
   ]
  },
  {
   "cell_type": "markdown",
   "metadata": {
    "id": "fLvcuXZUkvI3"
   },
   "source": [
    "## Prerequisities"
   ]
  },
  {
   "cell_type": "code",
   "execution_count": 2,
   "metadata": {
    "id": "Sx0W_aW_Yyo0"
   },
   "outputs": [],
   "source": [
    "import pandas as pd\n",
    "from catboost import CatBoostClassifier\n",
    "from sklearn.model_selection import train_test_split, StratifiedKFold\n",
    "from sklearn.metrics import classification_report, confusion_matrix, accuracy_score\n",
    "from sklearn.utils.class_weight import compute_class_weight\n",
    "import numpy as np\n",
    "\n",
    "import matplotlib.pyplot as plt\n",
    "import seaborn as sns"
   ]
  },
  {
   "cell_type": "markdown",
   "metadata": {
    "id": "VVyWLHQuky2K"
   },
   "source": [
    "## Loading Data"
   ]
  },
  {
   "cell_type": "code",
   "execution_count": 3,
   "metadata": {
    "colab": {
     "base_uri": "https://localhost:8080/",
     "height": 429
    },
    "id": "uC2Meugwkt7e",
    "outputId": "ef2b136d-5603-4be5-cfe6-41b7a2333218"
   },
   "outputs": [
    {
     "data": {
      "text/html": [
       "<div>\n",
       "<style scoped>\n",
       "    .dataframe tbody tr th:only-of-type {\n",
       "        vertical-align: middle;\n",
       "    }\n",
       "\n",
       "    .dataframe tbody tr th {\n",
       "        vertical-align: top;\n",
       "    }\n",
       "\n",
       "    .dataframe thead th {\n",
       "        text-align: right;\n",
       "    }\n",
       "</style>\n",
       "<table border=\"1\" class=\"dataframe\">\n",
       "  <thead>\n",
       "    <tr style=\"text-align: right;\">\n",
       "      <th></th>\n",
       "      <th>toi</th>\n",
       "      <th>tid</th>\n",
       "      <th>tfopwg_disp</th>\n",
       "      <th>rastr</th>\n",
       "      <th>ra</th>\n",
       "      <th>decstr</th>\n",
       "      <th>dec</th>\n",
       "      <th>st_pmra</th>\n",
       "      <th>st_pmraerr1</th>\n",
       "      <th>st_pmraerr2</th>\n",
       "      <th>...</th>\n",
       "      <th>st_logg</th>\n",
       "      <th>st_loggerr1</th>\n",
       "      <th>st_loggerr2</th>\n",
       "      <th>st_logglim</th>\n",
       "      <th>st_rad</th>\n",
       "      <th>st_raderr1</th>\n",
       "      <th>st_raderr2</th>\n",
       "      <th>st_radlim</th>\n",
       "      <th>toi_created</th>\n",
       "      <th>rowupdate</th>\n",
       "    </tr>\n",
       "  </thead>\n",
       "  <tbody>\n",
       "    <tr>\n",
       "      <th>0</th>\n",
       "      <td>1000.01</td>\n",
       "      <td>50365310</td>\n",
       "      <td>FP</td>\n",
       "      <td>07h29m25.85s</td>\n",
       "      <td>112.357708</td>\n",
       "      <td>-12d41m45.46s</td>\n",
       "      <td>-12.695960</td>\n",
       "      <td>-5.964</td>\n",
       "      <td>0.085</td>\n",
       "      <td>-0.085</td>\n",
       "      <td>...</td>\n",
       "      <td>4.19</td>\n",
       "      <td>0.07</td>\n",
       "      <td>-0.07</td>\n",
       "      <td>0</td>\n",
       "      <td>2.16986</td>\n",
       "      <td>0.072573</td>\n",
       "      <td>-0.072573</td>\n",
       "      <td>0</td>\n",
       "      <td>2019-07-24 15:58:33</td>\n",
       "      <td>2024-09-09 10:08:01</td>\n",
       "    </tr>\n",
       "    <tr>\n",
       "      <th>1</th>\n",
       "      <td>1001.01</td>\n",
       "      <td>88863718</td>\n",
       "      <td>PC</td>\n",
       "      <td>08h10m19.31s</td>\n",
       "      <td>122.580465</td>\n",
       "      <td>-05d30m49.87s</td>\n",
       "      <td>-5.513852</td>\n",
       "      <td>-4.956</td>\n",
       "      <td>0.102</td>\n",
       "      <td>-0.102</td>\n",
       "      <td>...</td>\n",
       "      <td>4.03</td>\n",
       "      <td>0.09</td>\n",
       "      <td>-0.09</td>\n",
       "      <td>0</td>\n",
       "      <td>2.01000</td>\n",
       "      <td>0.090000</td>\n",
       "      <td>-0.090000</td>\n",
       "      <td>0</td>\n",
       "      <td>2019-07-24 15:58:33</td>\n",
       "      <td>2023-04-03 14:31:04</td>\n",
       "    </tr>\n",
       "    <tr>\n",
       "      <th>2</th>\n",
       "      <td>1002.01</td>\n",
       "      <td>124709665</td>\n",
       "      <td>FP</td>\n",
       "      <td>06h58m54.47s</td>\n",
       "      <td>104.726966</td>\n",
       "      <td>-10d34m49.64s</td>\n",
       "      <td>-10.580455</td>\n",
       "      <td>-1.462</td>\n",
       "      <td>0.206</td>\n",
       "      <td>-0.206</td>\n",
       "      <td>...</td>\n",
       "      <td>NaN</td>\n",
       "      <td>NaN</td>\n",
       "      <td>NaN</td>\n",
       "      <td>0</td>\n",
       "      <td>5.73000</td>\n",
       "      <td>NaN</td>\n",
       "      <td>NaN</td>\n",
       "      <td>0</td>\n",
       "      <td>2019-07-24 15:58:33</td>\n",
       "      <td>2022-07-11 16:02:02</td>\n",
       "    </tr>\n",
       "    <tr>\n",
       "      <th>3</th>\n",
       "      <td>1003.01</td>\n",
       "      <td>106997505</td>\n",
       "      <td>FP</td>\n",
       "      <td>07h22m14.39s</td>\n",
       "      <td>110.559945</td>\n",
       "      <td>-25d12m25.26s</td>\n",
       "      <td>-25.207017</td>\n",
       "      <td>-0.939</td>\n",
       "      <td>0.041</td>\n",
       "      <td>-0.041</td>\n",
       "      <td>...</td>\n",
       "      <td>4.15</td>\n",
       "      <td>1.64</td>\n",
       "      <td>-1.64</td>\n",
       "      <td>0</td>\n",
       "      <td>NaN</td>\n",
       "      <td>NaN</td>\n",
       "      <td>NaN</td>\n",
       "      <td>0</td>\n",
       "      <td>2019-07-24 15:58:33</td>\n",
       "      <td>2022-02-23 10:10:02</td>\n",
       "    </tr>\n",
       "    <tr>\n",
       "      <th>4</th>\n",
       "      <td>1004.01</td>\n",
       "      <td>238597883</td>\n",
       "      <td>FP</td>\n",
       "      <td>08h08m42.77s</td>\n",
       "      <td>122.178195</td>\n",
       "      <td>-48d48m10.12s</td>\n",
       "      <td>-48.802811</td>\n",
       "      <td>-4.496</td>\n",
       "      <td>0.069</td>\n",
       "      <td>-0.069</td>\n",
       "      <td>...</td>\n",
       "      <td>4.14</td>\n",
       "      <td>0.07</td>\n",
       "      <td>-0.07</td>\n",
       "      <td>0</td>\n",
       "      <td>2.15000</td>\n",
       "      <td>0.060000</td>\n",
       "      <td>-0.060000</td>\n",
       "      <td>0</td>\n",
       "      <td>2019-07-24 15:58:33</td>\n",
       "      <td>2024-09-09 10:08:01</td>\n",
       "    </tr>\n",
       "  </tbody>\n",
       "</table>\n",
       "<p>5 rows × 65 columns</p>\n",
       "</div>"
      ],
      "text/plain": [
       "       toi        tid tfopwg_disp         rastr          ra         decstr  \\\n",
       "0  1000.01   50365310          FP  07h29m25.85s  112.357708  -12d41m45.46s   \n",
       "1  1001.01   88863718          PC  08h10m19.31s  122.580465  -05d30m49.87s   \n",
       "2  1002.01  124709665          FP  06h58m54.47s  104.726966  -10d34m49.64s   \n",
       "3  1003.01  106997505          FP  07h22m14.39s  110.559945  -25d12m25.26s   \n",
       "4  1004.01  238597883          FP  08h08m42.77s  122.178195  -48d48m10.12s   \n",
       "\n",
       "         dec  st_pmra  st_pmraerr1  st_pmraerr2  ...  st_logg  st_loggerr1  \\\n",
       "0 -12.695960   -5.964        0.085       -0.085  ...     4.19         0.07   \n",
       "1  -5.513852   -4.956        0.102       -0.102  ...     4.03         0.09   \n",
       "2 -10.580455   -1.462        0.206       -0.206  ...      NaN          NaN   \n",
       "3 -25.207017   -0.939        0.041       -0.041  ...     4.15         1.64   \n",
       "4 -48.802811   -4.496        0.069       -0.069  ...     4.14         0.07   \n",
       "\n",
       "   st_loggerr2  st_logglim   st_rad  st_raderr1  st_raderr2  st_radlim  \\\n",
       "0        -0.07           0  2.16986    0.072573   -0.072573          0   \n",
       "1        -0.09           0  2.01000    0.090000   -0.090000          0   \n",
       "2          NaN           0  5.73000         NaN         NaN          0   \n",
       "3        -1.64           0      NaN         NaN         NaN          0   \n",
       "4        -0.07           0  2.15000    0.060000   -0.060000          0   \n",
       "\n",
       "           toi_created            rowupdate  \n",
       "0  2019-07-24 15:58:33  2024-09-09 10:08:01  \n",
       "1  2019-07-24 15:58:33  2023-04-03 14:31:04  \n",
       "2  2019-07-24 15:58:33  2022-07-11 16:02:02  \n",
       "3  2019-07-24 15:58:33  2022-02-23 10:10:02  \n",
       "4  2019-07-24 15:58:33  2024-09-09 10:08:01  \n",
       "\n",
       "[5 rows x 65 columns]"
      ]
     },
     "execution_count": 3,
     "metadata": {},
     "output_type": "execute_result"
    }
   ],
   "source": [
    "toi = pd.read_csv('TOI_Data.csv', comment='#')\n",
    "toi.head()"
   ]
  },
  {
   "cell_type": "markdown",
   "metadata": {
    "id": "07Hmh6kFmtFN"
   },
   "source": [
    "## Feature Selection"
   ]
  },
  {
   "cell_type": "code",
   "execution_count": 4,
   "metadata": {
    "id": "TrGOOBvmlER9"
   },
   "outputs": [],
   "source": [
    "features = [\n",
    "    \"tfopwg_disp\",\n",
    "    \"pl_orbper\",\n",
    "    \"pl_trandurh\",\n",
    "    \"pl_trandep\",\n",
    "    \"pl_rade\",\n",
    "    \"pl_insol\",\n",
    "    \"pl_eqt\",\n",
    "    \"st_tmag\",\n",
    "    \"st_dist\",\n",
    "    \"st_teff\",\n",
    "    \"st_rad\"\n",
    "]\n",
    "\n",
    "drop_list = [\n",
    "    \"toi\", \"tid\",\n",
    "    \"rastr\", \"ra\", \"decstr\", \"dec\",\n",
    "    \"st_pmra\", \"st_pmraerr1\", \"st_pmraerr2\", \"st_pmralim\",\n",
    "    \"st_pmdec\", \"st_pmdecerr1\", \"st_pmdecerr2\", \"st_pmdeclim\",\n",
    "    \"pl_tranmid\", \"pl_tranmiderr1\", \"pl_tranmiderr2\", \"pl_tranmidlim\",\n",
    "    \"pl_orbpererr1\", \"pl_orbpererr2\", \"pl_orbperlim\",\n",
    "    \"pl_trandurherr1\", \"pl_trandurherr2\", \"pl_trandurhlim\",\n",
    "    \"pl_trandeperr1\", \"pl_trandeperr2\", \"pl_trandeplim\",\n",
    "    \"pl_radelim\",\n",
    "    \"st_tmagerr1\", \"st_tmagerr2\", \"st_tmaglim\",\n",
    "    \"st_disterr1\", \"st_disterr2\", \"st_distlim\",\n",
    "    \"st_tefferr1\", \"st_tefferr2\", \"st_tefflim\",\n",
    "    \"st_logglim\",\n",
    "    \"st_radlim\",\n",
    "    \"toi_created\", \"rowupdate\",\n",
    "\n",
    "    # Missing Data\n",
    "    \"pl_radeerr1\", \"pl_radeerr2\",\n",
    "    \"pl_insolerr1\", \"pl_insolerr2\", \"pl_insollim\",\n",
    "    \"pl_eqterr1\", \"pl_eqterr2\", \"pl_eqtlim\",\n",
    "    \"st_logg\", \"st_loggerr1\", \"st_loggerr2\",\n",
    "    \"st_raderr1\", \"st_raderr2\"\n",
    "]\n"
   ]
  },
  {
   "cell_type": "code",
   "execution_count": 5,
   "metadata": {
    "id": "WuvHti_MBYuu"
   },
   "outputs": [],
   "source": [
    "toi = toi[features]"
   ]
  },
  {
   "cell_type": "markdown",
   "metadata": {
    "id": "JKSIKT4To9HZ"
   },
   "source": [
    "Label Mapping"
   ]
  },
  {
   "cell_type": "code",
   "execution_count": 6,
   "metadata": {
    "id": "_8K-UEG5o_DS"
   },
   "outputs": [],
   "source": [
    "label_map = {\n",
    "    \"CP\": 1,   # Confirmed Planet\n",
    "    \"KP\": 1,   # Known Planet\n",
    "    \"PC\": 0,   # Planetary Candidate\n",
    "    \"APC\": 0,  # Ambiguous Planetary Candidate\n",
    "    \"FP\": -1,  # False Positive\n",
    "    \"FA\": -1   # False Alarm\n",
    "}\n",
    "\n",
    "toi[\"tfopwg_disp\"] = toi[\"tfopwg_disp\"].map(label_map)"
   ]
  },
  {
   "cell_type": "markdown",
   "metadata": {
    "id": "Ne4pIk6jr0N-"
   },
   "source": [
    "## Filling empty cells"
   ]
  },
  {
   "cell_type": "code",
   "execution_count": 7,
   "metadata": {
    "colab": {
     "base_uri": "https://localhost:8080/"
    },
    "id": "I79FaLU-rz4P",
    "outputId": "04dc4a85-dfa4-4c48-f02f-3af7bd0aa094"
   },
   "outputs": [],
   "source": [
    "for col in features:\n",
    "    toi.fillna({col: toi[col].mean()}, inplace=True)"
   ]
  },
  {
   "cell_type": "markdown",
   "metadata": {
    "id": "DILU0J92sQkD"
   },
   "source": [
    "### Checking if NaN available"
   ]
  },
  {
   "cell_type": "code",
   "execution_count": 8,
   "metadata": {
    "colab": {
     "base_uri": "https://localhost:8080/"
    },
    "id": "-vAY-1XHsPL_",
    "outputId": "d2a5a2a8-bc6a-4a44-903d-4bb08ba9d233"
   },
   "outputs": [],
   "source": [
    "#print(toi.isna().sum()[toi.isna().sum() > 0])\n",
    "#for col in features:\n",
    "#    print(toi[col].dtype)"
   ]
  },
  {
   "cell_type": "markdown",
   "metadata": {
    "id": "BZZYmmphpiL2"
   },
   "source": [
    "## Defining data sets"
   ]
  },
  {
   "cell_type": "code",
   "execution_count": 9,
   "metadata": {
    "id": "PcnhnqBQpRHx"
   },
   "outputs": [],
   "source": [
    "X = toi.drop(\"tfopwg_disp\", axis=1)\n",
    "y = toi[\"tfopwg_disp\"]"
   ]
  },
  {
   "cell_type": "code",
   "execution_count": 10,
   "metadata": {
    "id": "AOpgnjyLpoV6"
   },
   "outputs": [],
   "source": [
    "X_train, X_test, y_train, y_test = train_test_split(\n",
    "    X, y, test_size=0.2, stratify=y, random_state=42\n",
    "    )"
   ]
  },
  {
   "cell_type": "markdown",
   "metadata": {
    "id": "2y8mTfRp05y2"
   },
   "source": [
    "Defining Classes"
   ]
  },
  {
   "cell_type": "code",
   "execution_count": 11,
   "metadata": {
    "id": "wawMFEOe091B"
   },
   "outputs": [],
   "source": [
    "classes = np.unique(y_train)"
   ]
  },
  {
   "cell_type": "markdown",
   "metadata": {
    "id": "NUalJl3109ld"
   },
   "source": [
    "Calculating Class Weights"
   ]
  },
  {
   "cell_type": "code",
   "execution_count": 12,
   "metadata": {
    "id": "Jl0IYZY6wvIU"
   },
   "outputs": [],
   "source": [
    "weights = compute_class_weight(\"balanced\", classes=classes, y=y_train)"
   ]
  },
  {
   "cell_type": "markdown",
   "metadata": {
    "id": "l05vbhRO137y"
   },
   "source": [
    "Combining both"
   ]
  },
  {
   "cell_type": "code",
   "execution_count": 13,
   "metadata": {
    "id": "u01MI-W11Ylq"
   },
   "outputs": [],
   "source": [
    "class_weights = dict(zip(classes, weights))"
   ]
  },
  {
   "cell_type": "markdown",
   "metadata": {
    "id": "B2ktYZ_CLb8M"
   },
   "source": [
    "### Cross-validation"
   ]
  },
  {
   "cell_type": "code",
   "execution_count": 14,
   "metadata": {
    "id": "tBDk3uGRKDF8"
   },
   "outputs": [],
   "source": [
    "skf = StratifiedKFold(n_splits=5, shuffle=True, random_state=42)\n",
    "\n",
    "for train_idx, valid_idx in skf.split(X, y):\n",
    "    X_train, X_valid = X.iloc[train_idx], X.iloc[valid_idx]\n",
    "    y_train, y_valid = y.iloc[train_idx], y.iloc[valid_idx]"
   ]
  },
  {
   "cell_type": "markdown",
   "metadata": {
    "id": "6WdykEBY2F1v"
   },
   "source": [
    "## Cat Boost Initiation"
   ]
  },
  {
   "cell_type": "markdown",
   "metadata": {
    "id": "disXqpzB24me"
   },
   "source": [
    "### Parameters\n"
   ]
  },
  {
   "cell_type": "code",
   "execution_count": 15,
   "metadata": {
    "id": "VCVzo7F63Aa4"
   },
   "outputs": [],
   "source": [
    "max_ite = 3000\n",
    "dep = 8\n",
    "l_rate = 0.04"
   ]
  },
  {
   "cell_type": "code",
   "execution_count": 16,
   "metadata": {
    "id": "whC-nezHq_WX"
   },
   "outputs": [],
   "source": [
    "model = CatBoostClassifier(\n",
    "    iterations=max_ite,\n",
    "    depth=dep,\n",
    "    learning_rate=l_rate,\n",
    "    loss_function=\"MultiClass\",\n",
    "    eval_metric=\"MultiClass\",\n",
    "    l2_leaf_reg=7,\n",
    "    border_count=1024,\n",
    "    early_stopping_rounds=50,\n",
    "    random_seed=42,\n",
    "    verbose=50,\n",
    "    class_weights=class_weights\n",
    ")\n"
   ]
  },
  {
   "cell_type": "markdown",
   "metadata": {
    "id": "zCqAjS8C3eCP"
   },
   "source": [
    "# Training"
   ]
  },
  {
   "cell_type": "code",
   "execution_count": 17,
   "metadata": {
    "colab": {
     "base_uri": "https://localhost:8080/"
    },
    "id": "uMb-AlB93Uej",
    "outputId": "6aa165e9-905e-4847-fdd0-ee4ac04fc360"
   },
   "outputs": [
    {
     "name": "stdout",
     "output_type": "stream",
     "text": [
      "0:\tlearn: 1.0840115\ttest: 1.0847438\tbest: 1.0847438 (0)\ttotal: 322ms\tremaining: 16m 6s\n",
      "50:\tlearn: 0.8269482\ttest: 0.8326687\tbest: 0.8326687 (50)\ttotal: 12.4s\tremaining: 11m 59s\n",
      "100:\tlearn: 0.7524251\ttest: 0.7634854\tbest: 0.7634854 (100)\ttotal: 25.5s\tremaining: 12m 12s\n"
     ]
    },
    {
     "name": "stderr",
     "output_type": "stream",
     "text": [
      "\n",
      "KeyboardInterrupt\n",
      "\n",
      "Exception ignored in: <bound method IPythonKernel._clean_thread_parent_frames of <ipykernel.ipkernel.IPythonKernel object at 0x0000022268FB6E40>>\n",
      "Traceback (most recent call last):\n",
      "  File \"C:\\Users\\MSI\\AppData\\Roaming\\Python\\Python313\\site-packages\\ipykernel\\ipkernel.py\", line 796, in _clean_thread_parent_frames\n",
      "    active_threads = {thread.ident for thread in threading.enumerate()}\n",
      "  File \"C:\\Users\\MSI\\AppData\\Local\\Programs\\Python\\Python313\\Lib\\threading.py\", line 1479, in enumerate\n",
      "KeyboardInterrupt: \n"
     ]
    }
   ],
   "source": [
    "model.fit(X_train, y_train, eval_set=(X_test, y_test))"
   ]
  },
  {
   "cell_type": "markdown",
   "metadata": {
    "id": "FntxgSBsErX3"
   },
   "source": [
    "### Plotting Loss"
   ]
  },
  {
   "cell_type": "code",
   "execution_count": 73,
   "metadata": {
    "colab": {
     "base_uri": "https://localhost:8080/",
     "height": 564
    },
    "id": "wVlp_T4NErEP",
    "outputId": "eab699b7-4f84-4556-c707-a53660745f3b"
   },
   "outputs": [
    {
     "data": {
      "image/png": "[encoded data removed]",
      "text/plain": [
       "<Figure size 1000x600 with 1 Axes>"
      ]
     },
     "metadata": {},
     "output_type": "display_data"
    }
   ],
   "source": [
    "evals_result = model.get_evals_result()\n",
    "\n",
    "train_loss = evals_result['learn']['MultiClass']\n",
    "valid_loss = evals_result['validation']['MultiClass']\n",
    "\n",
    "# Plot\n",
    "plt.figure(figsize=(10,6))\n",
    "plt.plot(train_loss, label='Training Loss')\n",
    "plt.plot(valid_loss, label='Validation Loss')\n",
    "plt.xlabel('Iteration')\n",
    "plt.ylabel('MultiClass Loss')\n",
    "plt.title('CatBoost Training & Validation Loss')\n",
    "plt.legend()\n",
    "plt.grid(True)\n",
    "plt.show()"
   ]
  },
  {
   "cell_type": "markdown",
   "metadata": {
    "id": "WkJMiODf3jU8"
   },
   "source": [
    "# Evaluation"
   ]
  },
  {
   "cell_type": "code",
   "execution_count": 74,
   "metadata": {
    "id": "RlM3Gy033jCW"
   },
   "outputs": [],
   "source": [
    "y_pred = model.predict(X_test)"
   ]
  },
  {
   "cell_type": "markdown",
   "metadata": {
    "id": "z-JQB_2z547j"
   },
   "source": [
    "### Confusion Matrix"
   ]
  },
  {
   "cell_type": "code",
   "execution_count": 75,
   "metadata": {
    "colab": {
     "base_uri": "https://localhost:8080/",
     "height": 487
    },
    "id": "CMTh0eHt4dxE",
    "outputId": "802bce9f-93c2-447b-c8f5-5e63dbe53779"
   },
   "outputs": [
    {
     "data": {
      "image/png": "[encoded data removed]",
      "text/plain": [
       "<Figure size 600x500 with 2 Axes>"
      ]
     },
     "metadata": {},
     "output_type": "display_data"
    }
   ],
   "source": [
    "cm = confusion_matrix(y_test, y_pred)\n",
    "\n",
    "class_names = [\"FP\", \"APC/PC\", \"CP/KP\"]\n",
    "\n",
    "plt.figure(figsize=(6,5))\n",
    "sns.heatmap(cm, annot=True, fmt='d', cmap='Blues',\n",
    "            xticklabels=class_names, yticklabels=class_names)\n",
    "plt.ylabel('True label')\n",
    "plt.xlabel('Predicted label')\n",
    "plt.title('Confusion Matrix')\n",
    "plt.show()"
   ]
  },
  {
   "cell_type": "markdown",
   "metadata": {
    "id": "niTwN6Ni6l4e"
   },
   "source": [
    "Accuracy"
   ]
  },
  {
   "cell_type": "code",
   "execution_count": 76,
   "metadata": {
    "colab": {
     "base_uri": "https://localhost:8080/"
    },
    "id": "5Ir2HlhM6oU_",
    "outputId": "6ae3c683-8adb-49a2-e7ab-08ef1f71a939"
   },
   "outputs": [
    {
     "name": "stdout",
     "output_type": "stream",
     "text": [
      "Accuracy: 94.39%\n"
     ]
    }
   ],
   "source": [
    "acc = accuracy_score(y_test, y_pred)\n",
    "print(\"Accuracy: {:.2f}%\".format(acc * 100))"
   ]
  }
 ],
 "metadata": {
  "accelerator": "GPU",
  "colab": {
   "authorship_tag": "ABX9TyPBSYzAFgWnsur/5Z6BW3ES",
   "gpuType": "T4",
   "include_colab_link": true,
   "provenance": []
  },
  "kernelspec": {
   "display_name": "Python 3 (ipykernel)",
   "language": "python",
   "name": "python3"
  },
  "language_info": {
   "codemirror_mode": {
    "name": "ipython",
    "version": 3
   },
   "file_extension": ".py",
   "mimetype": "text/x-python",
   "name": "python",
   "nbconvert_exporter": "python",
   "pygments_lexer": "ipython3",
   "version": "3.13.7"
  }
 },
 "nbformat": 4,
 "nbformat_minor": 4
}
