{
  "cells": [
    {
      "cell_type": "markdown",
      "metadata": {
        "id": "view-in-github",
        "colab_type": "text"
      },
      "source": [
        "<a href=\"https://colab.research.google.com/github/Venura-Shiromal/NASA-Space-Apps-2025/blob/main/TESS/TOI_ClassificationModel.ipynb\" target=\"_parent\"><img src=\"https://colab.research.google.com/assets/colab-badge.svg\" alt=\"Open In Colab\"/></a>"
      ]
    },
    {
      "cell_type": "code",
      "execution_count": 1,
      "metadata": {
        "id": "dIyQR6pZ-t8K",
        "outputId": "4aabf71b-2427-4b4f-fce6-2d79c712b9af",
        "colab": {
          "base_uri": "https://localhost:8080/"
        }
      },
      "outputs": [
        {
          "output_type": "stream",
          "name": "stdout",
          "text": [
            "Collecting catboost\n",
            "  Downloading catboost-1.2.8-cp312-cp312-manylinux2014_x86_64.whl.metadata (1.2 kB)\n",
            "Requirement already satisfied: graphviz in /usr/local/lib/python3.12/dist-packages (from catboost) (0.21)\n",
            "Requirement already satisfied: matplotlib in /usr/local/lib/python3.12/dist-packages (from catboost) (3.10.0)\n",
            "Requirement already satisfied: numpy<3.0,>=1.16.0 in /usr/local/lib/python3.12/dist-packages (from catboost) (2.0.2)\n",
            "Requirement already satisfied: pandas>=0.24 in /usr/local/lib/python3.12/dist-packages (from catboost) (2.2.2)\n",
            "Requirement already satisfied: scipy in /usr/local/lib/python3.12/dist-packages (from catboost) (1.16.2)\n",
            "Requirement already satisfied: plotly in /usr/local/lib/python3.12/dist-packages (from catboost) (5.24.1)\n",
            "Requirement already satisfied: six in /usr/local/lib/python3.12/dist-packages (from catboost) (1.17.0)\n",
            "Requirement already satisfied: python-dateutil>=2.8.2 in /usr/local/lib/python3.12/dist-packages (from pandas>=0.24->catboost) (2.9.0.post0)\n",
            "Requirement already satisfied: pytz>=2020.1 in /usr/local/lib/python3.12/dist-packages (from pandas>=0.24->catboost) (2025.2)\n",
            "Requirement already satisfied: tzdata>=2022.7 in /usr/local/lib/python3.12/dist-packages (from pandas>=0.24->catboost) (2025.2)\n",
            "Requirement already satisfied: contourpy>=1.0.1 in /usr/local/lib/python3.12/dist-packages (from matplotlib->catboost) (1.3.3)\n",
            "Requirement already satisfied: cycler>=0.10 in /usr/local/lib/python3.12/dist-packages (from matplotlib->catboost) (0.12.1)\n",
            "Requirement already satisfied: fonttools>=4.22.0 in /usr/local/lib/python3.12/dist-packages (from matplotlib->catboost) (4.60.0)\n",
            "Requirement already satisfied: kiwisolver>=1.3.1 in /usr/local/lib/python3.12/dist-packages (from matplotlib->catboost) (1.4.9)\n",
            "Requirement already satisfied: packaging>=20.0 in /usr/local/lib/python3.12/dist-packages (from matplotlib->catboost) (25.0)\n",
            "Requirement already satisfied: pillow>=8 in /usr/local/lib/python3.12/dist-packages (from matplotlib->catboost) (11.3.0)\n",
            "Requirement already satisfied: pyparsing>=2.3.1 in /usr/local/lib/python3.12/dist-packages (from matplotlib->catboost) (3.2.4)\n",
            "Requirement already satisfied: tenacity>=6.2.0 in /usr/local/lib/python3.12/dist-packages (from plotly->catboost) (8.5.0)\n",
            "Downloading catboost-1.2.8-cp312-cp312-manylinux2014_x86_64.whl (99.2 MB)\n",
            "\u001b[2K   \u001b[90m━━━━━━━━━━━━━━━━━━━━━━━━━━━━━━━━━━━━━━━━\u001b[0m \u001b[32m99.2/99.2 MB\u001b[0m \u001b[31m9.3 MB/s\u001b[0m eta \u001b[36m0:00:00\u001b[0m\n",
            "\u001b[?25hInstalling collected packages: catboost\n",
            "Successfully installed catboost-1.2.8\n"
          ]
        }
      ],
      "source": [
        "# just in case if needed\n",
        "!pip install catboost\n",
        "#!pip install pandas\n",
        "#!pip install numpy\n",
        "#!pip install scikit-learn\n",
        "#!pip install matplotlib\n",
        "#!pip install seaborn"
      ]
    },
    {
      "cell_type": "markdown",
      "metadata": {
        "id": "fLvcuXZUkvI3"
      },
      "source": [
        "## Prerequisities"
      ]
    },
    {
      "cell_type": "code",
      "execution_count": 3,
      "metadata": {
        "id": "Sx0W_aW_Yyo0"
      },
      "outputs": [],
      "source": [
        "import pandas as pd\n",
        "from catboost import CatBoostClassifier\n",
        "from sklearn.model_selection import train_test_split, StratifiedKFold\n",
        "from sklearn.metrics import classification_report, confusion_matrix, accuracy_score, precision_score, recall_score, f1_score\n",
        "from sklearn.utils.class_weight import compute_class_weight\n",
        "import numpy as np\n",
        "\n",
        "import matplotlib.pyplot as plt\n",
        "import seaborn as sns"
      ]
    },
    {
      "cell_type": "markdown",
      "metadata": {
        "id": "VVyWLHQuky2K"
      },
      "source": [
        "## Loading Data"
      ]
    },
    {
      "cell_type": "code",
      "execution_count": 4,
      "metadata": {
        "id": "uC2Meugwkt7e"
      },
      "outputs": [],
      "source": [
        "toi = pd.read_csv('TOI_Data.csv', comment='#')"
      ]
    },
    {
      "cell_type": "markdown",
      "metadata": {
        "id": "07Hmh6kFmtFN"
      },
      "source": [
        "## Feature Selection"
      ]
    },
    {
      "cell_type": "code",
      "execution_count": 5,
      "metadata": {
        "id": "TrGOOBvmlER9"
      },
      "outputs": [],
      "source": [
        "features = [\n",
        "    \"tfopwg_disp\",\n",
        "    \"pl_orbper\",\n",
        "    \"pl_trandurh\",\n",
        "    \"pl_trandep\",\n",
        "    \"pl_rade\",\n",
        "    \"pl_insol\",\n",
        "    \"pl_eqt\",\n",
        "    \"st_tmag\",\n",
        "    \"st_dist\",\n",
        "    \"st_teff\",\n",
        "    \"st_rad\",\n",
        "    \"st_logg\"\n",
        "]\n",
        "\n",
        "drop_list = [\n",
        "    \"toi\", \"tid\",\n",
        "    \"rastr\", \"ra\", \"decstr\", \"dec\",\n",
        "    \"st_pmra\", \"st_pmraerr1\", \"st_pmraerr2\", \"st_pmralim\",\n",
        "    \"st_pmdec\", \"st_pmdecerr1\", \"st_pmdecerr2\", \"st_pmdeclim\",\n",
        "    \"pl_tranmid\", \"pl_tranmiderr1\", \"pl_tranmiderr2\", \"pl_tranmidlim\",\n",
        "    \"pl_orbpererr1\", \"pl_orbpererr2\", \"pl_orbperlim\",\n",
        "    \"pl_trandurherr1\", \"pl_trandurherr2\", \"pl_trandurhlim\",\n",
        "    \"pl_trandeperr1\", \"pl_trandeperr2\", \"pl_trandeplim\",\n",
        "    \"pl_radelim\",\n",
        "    \"st_tmagerr1\", \"st_tmagerr2\", \"st_tmaglim\",\n",
        "    \"st_disterr1\", \"st_disterr2\", \"st_distlim\",\n",
        "    \"st_tefferr1\", \"st_tefferr2\", \"st_tefflim\",\n",
        "    \"st_logglim\",\n",
        "    \"st_radlim\",\n",
        "    \"toi_created\", \"rowupdate\",\n",
        "\n",
        "    # Missing Data\n",
        "    \"pl_radeerr1\", \"pl_radeerr2\",\n",
        "    \"pl_insolerr1\", \"pl_insolerr2\", \"pl_insollim\",\n",
        "    \"pl_eqterr1\", \"pl_eqterr2\", \"pl_eqtlim\",\n",
        "    \"st_loggerr1\", \"st_loggerr2\",\n",
        "    \"st_raderr1\", \"st_raderr2\"\n",
        "]\n"
      ]
    },
    {
      "cell_type": "code",
      "execution_count": 6,
      "metadata": {
        "id": "WuvHti_MBYuu"
      },
      "outputs": [],
      "source": [
        "toi = toi[features]"
      ]
    },
    {
      "cell_type": "markdown",
      "metadata": {
        "id": "JKSIKT4To9HZ"
      },
      "source": [
        "Label Mapping"
      ]
    },
    {
      "cell_type": "code",
      "execution_count": 7,
      "metadata": {
        "id": "_8K-UEG5o_DS"
      },
      "outputs": [],
      "source": [
        "label_map = {\n",
        "    \"CP\": 1,   # Confirmed Planet\n",
        "    \"KP\": 1,   # Known Planet\n",
        "    \"PC\": 0,   # Planetary Candidate\n",
        "    \"APC\": 0,  # Ambiguous Planetary Candidate\n",
        "    \"FP\": -1,  # False Positive\n",
        "    \"FA\": -1   # False Alarm\n",
        "}\n",
        "\n",
        "toi[\"tfopwg_disp\"] = toi[\"tfopwg_disp\"].map(label_map)"
      ]
    },
    {
      "cell_type": "markdown",
      "metadata": {
        "id": "Ne4pIk6jr0N-"
      },
      "source": [
        "## Filling empty cells"
      ]
    },
    {
      "cell_type": "code",
      "execution_count": 8,
      "metadata": {
        "colab": {
          "base_uri": "https://localhost:8080/"
        },
        "id": "I79FaLU-rz4P",
        "outputId": "9869e7b1-9e88-42a8-f8f8-f7f132909b45"
      },
      "outputs": [
        {
          "output_type": "stream",
          "name": "stderr",
          "text": [
            "/tmp/ipython-input-1020813461.py:2: FutureWarning: A value is trying to be set on a copy of a DataFrame or Series through chained assignment using an inplace method.\n",
            "The behavior will change in pandas 3.0. This inplace method will never work because the intermediate object on which we are setting values always behaves as a copy.\n",
            "\n",
            "For example, when doing 'df[col].method(value, inplace=True)', try using 'df.method({col: value}, inplace=True)' or df[col] = df[col].method(value) instead, to perform the operation inplace on the original object.\n",
            "\n",
            "\n",
            "  toi[col].fillna(toi[col].median(), inplace=True)\n"
          ]
        }
      ],
      "source": [
        "for col in features:\n",
        "    toi[col].fillna(toi[col].median(), inplace=True)"
      ]
    },
    {
      "cell_type": "markdown",
      "metadata": {
        "id": "DILU0J92sQkD"
      },
      "source": [
        "### Diagnoise"
      ]
    },
    {
      "cell_type": "code",
      "execution_count": null,
      "metadata": {
        "id": "-vAY-1XHsPL_"
      },
      "outputs": [],
      "source": [
        "#print(toi.isna().sum()[toi.isna().sum() > 0])\n",
        "#for col in features:\n",
        "#    print(toi[col].dtype)"
      ]
    },
    {
      "cell_type": "markdown",
      "metadata": {
        "id": "BZZYmmphpiL2"
      },
      "source": [
        "## Defining data sets"
      ]
    },
    {
      "cell_type": "code",
      "execution_count": 9,
      "metadata": {
        "id": "PcnhnqBQpRHx"
      },
      "outputs": [],
      "source": [
        "X = toi.drop(\"tfopwg_disp\", axis=1)\n",
        "y = toi[\"tfopwg_disp\"]"
      ]
    },
    {
      "cell_type": "code",
      "execution_count": 10,
      "metadata": {
        "id": "AOpgnjyLpoV6"
      },
      "outputs": [],
      "source": [
        "X_train, X_test, y_train, y_test = train_test_split(\n",
        "    X, y, test_size=0.2, stratify=y, random_state=42\n",
        "    )"
      ]
    },
    {
      "cell_type": "markdown",
      "metadata": {
        "id": "2y8mTfRp05y2"
      },
      "source": [
        "Defining Classes"
      ]
    },
    {
      "cell_type": "code",
      "execution_count": 11,
      "metadata": {
        "id": "wawMFEOe091B"
      },
      "outputs": [],
      "source": [
        "classes = np.unique(y_train)"
      ]
    },
    {
      "cell_type": "markdown",
      "metadata": {
        "id": "NUalJl3109ld"
      },
      "source": [
        "Calculating Class Weights"
      ]
    },
    {
      "cell_type": "code",
      "execution_count": 12,
      "metadata": {
        "id": "Jl0IYZY6wvIU"
      },
      "outputs": [],
      "source": [
        "weights = compute_class_weight(\"balanced\", classes=classes, y=y_train)"
      ]
    },
    {
      "cell_type": "markdown",
      "metadata": {
        "id": "l05vbhRO137y"
      },
      "source": [
        "Combining both"
      ]
    },
    {
      "cell_type": "code",
      "execution_count": 13,
      "metadata": {
        "id": "u01MI-W11Ylq"
      },
      "outputs": [],
      "source": [
        "class_weights = dict(zip(classes, weights))"
      ]
    },
    {
      "cell_type": "markdown",
      "metadata": {
        "id": "B2ktYZ_CLb8M"
      },
      "source": [
        "### Cross-validation"
      ]
    },
    {
      "cell_type": "code",
      "execution_count": 14,
      "metadata": {
        "id": "tBDk3uGRKDF8"
      },
      "outputs": [],
      "source": [
        "skf = StratifiedKFold(n_splits=5, shuffle=True, random_state=42)\n",
        "\n",
        "for train_idx, valid_idx in skf.split(X, y):\n",
        "    X_train, X_valid = X.iloc[train_idx], X.iloc[valid_idx]\n",
        "    y_train, y_valid = y.iloc[train_idx], y.iloc[valid_idx]"
      ]
    },
    {
      "cell_type": "markdown",
      "metadata": {
        "id": "6WdykEBY2F1v"
      },
      "source": [
        "## Cat Boost Initiation"
      ]
    },
    {
      "cell_type": "markdown",
      "metadata": {
        "id": "disXqpzB24me"
      },
      "source": [
        "### Parameters\n"
      ]
    },
    {
      "cell_type": "code",
      "execution_count": 15,
      "metadata": {
        "id": "VCVzo7F63Aa4"
      },
      "outputs": [],
      "source": [
        "max_ite = 3000\n",
        "dep = 8\n",
        "l_rate = 0.08"
      ]
    },
    {
      "cell_type": "code",
      "execution_count": 16,
      "metadata": {
        "id": "whC-nezHq_WX"
      },
      "outputs": [],
      "source": [
        "model = CatBoostClassifier(\n",
        "    iterations=max_ite,\n",
        "    depth=dep,\n",
        "    learning_rate=l_rate,\n",
        "    loss_function=\"MultiClass\",\n",
        "    eval_metric=\"MultiClass\",\n",
        "    l2_leaf_reg=7,\n",
        "    border_count=1024,\n",
        "    early_stopping_rounds=50,\n",
        "    random_seed=42,\n",
        "    verbose=50,\n",
        "    class_weights=class_weights\n",
        ")\n"
      ]
    },
    {
      "cell_type": "markdown",
      "metadata": {
        "id": "zCqAjS8C3eCP"
      },
      "source": [
        "# Training"
      ]
    },
    {
      "cell_type": "code",
      "execution_count": 17,
      "metadata": {
        "colab": {
          "base_uri": "https://localhost:8080/"
        },
        "id": "uMb-AlB93Uej",
        "outputId": "e5a488f3-df3e-45ad-d04e-46d534d9b625"
      },
      "outputs": [
        {
          "output_type": "stream",
          "name": "stdout",
          "text": [
            "0:\tlearn: 1.0716857\ttest: 1.0716878\tbest: 1.0716878 (0)\ttotal: 160ms\tremaining: 7m 58s\n",
            "50:\tlearn: 0.7511241\ttest: 0.7602014\tbest: 0.7602014 (50)\ttotal: 5.55s\tremaining: 5m 21s\n",
            "100:\tlearn: 0.6741030\ttest: 0.6940055\tbest: 0.6940055 (100)\ttotal: 12.1s\tremaining: 5m 46s\n",
            "150:\tlearn: 0.6220110\ttest: 0.6497136\tbest: 0.6497136 (150)\ttotal: 17.7s\tremaining: 5m 33s\n",
            "200:\tlearn: 0.5772428\ttest: 0.6130992\tbest: 0.6130992 (200)\ttotal: 24.2s\tremaining: 5m 37s\n",
            "250:\tlearn: 0.5392709\ttest: 0.5829446\tbest: 0.5829446 (250)\ttotal: 29.8s\tremaining: 5m 26s\n",
            "300:\tlearn: 0.5088868\ttest: 0.5596720\tbest: 0.5596720 (300)\ttotal: 36.4s\tremaining: 5m 26s\n",
            "350:\tlearn: 0.4844803\ttest: 0.5404605\tbest: 0.5404605 (350)\ttotal: 41.7s\tremaining: 5m 15s\n",
            "400:\tlearn: 0.4610508\ttest: 0.5211879\tbest: 0.5211879 (400)\ttotal: 48.2s\tremaining: 5m 12s\n",
            "450:\tlearn: 0.4386211\ttest: 0.5027307\tbest: 0.5027307 (450)\ttotal: 53.7s\tremaining: 5m 3s\n",
            "500:\tlearn: 0.4163850\ttest: 0.4854514\tbest: 0.4854514 (500)\ttotal: 59.9s\tremaining: 4m 58s\n",
            "550:\tlearn: 0.3952107\ttest: 0.4683834\tbest: 0.4683834 (550)\ttotal: 1m 6s\tremaining: 4m 55s\n",
            "600:\tlearn: 0.3771744\ttest: 0.4540546\tbest: 0.4540546 (600)\ttotal: 1m 12s\tremaining: 4m 49s\n",
            "650:\tlearn: 0.3612343\ttest: 0.4418659\tbest: 0.4418659 (650)\ttotal: 1m 18s\tremaining: 4m 42s\n",
            "700:\tlearn: 0.3452165\ttest: 0.4293170\tbest: 0.4293170 (700)\ttotal: 1m 23s\tremaining: 4m 35s\n",
            "750:\tlearn: 0.3310998\ttest: 0.4194488\tbest: 0.4194488 (750)\ttotal: 1m 30s\tremaining: 4m 30s\n",
            "800:\tlearn: 0.3172741\ttest: 0.4089474\tbest: 0.4089474 (800)\ttotal: 1m 35s\tremaining: 4m 22s\n",
            "850:\tlearn: 0.3050840\ttest: 0.3990283\tbest: 0.3990283 (850)\ttotal: 1m 42s\tremaining: 4m 17s\n",
            "900:\tlearn: 0.2929863\ttest: 0.3904768\tbest: 0.3904768 (900)\ttotal: 1m 47s\tremaining: 4m 10s\n",
            "950:\tlearn: 0.2814376\ttest: 0.3809403\tbest: 0.3809403 (950)\ttotal: 1m 53s\tremaining: 4m 5s\n",
            "1000:\tlearn: 0.2715357\ttest: 0.3739019\tbest: 0.3739019 (1000)\ttotal: 1m 59s\tremaining: 3m 58s\n",
            "1050:\tlearn: 0.2620422\ttest: 0.3677720\tbest: 0.3677720 (1050)\ttotal: 2m 5s\tremaining: 3m 53s\n",
            "1100:\tlearn: 0.2524381\ttest: 0.3606356\tbest: 0.3606356 (1100)\ttotal: 2m 11s\tremaining: 3m 46s\n",
            "1150:\tlearn: 0.2447837\ttest: 0.3550002\tbest: 0.3550002 (1150)\ttotal: 2m 17s\tremaining: 3m 41s\n",
            "1200:\tlearn: 0.2362218\ttest: 0.3489127\tbest: 0.3489127 (1200)\ttotal: 2m 23s\tremaining: 3m 34s\n",
            "1250:\tlearn: 0.2288161\ttest: 0.3436573\tbest: 0.3436573 (1250)\ttotal: 2m 29s\tremaining: 3m 29s\n",
            "1300:\tlearn: 0.2219942\ttest: 0.3383396\tbest: 0.3383396 (1300)\ttotal: 2m 35s\tremaining: 3m 22s\n",
            "1350:\tlearn: 0.2153170\ttest: 0.3334619\tbest: 0.3334619 (1350)\ttotal: 2m 40s\tremaining: 3m 16s\n",
            "1400:\tlearn: 0.2087943\ttest: 0.3291788\tbest: 0.3291665 (1399)\ttotal: 2m 47s\tremaining: 3m 10s\n",
            "1450:\tlearn: 0.2026501\ttest: 0.3245725\tbest: 0.3245725 (1450)\ttotal: 2m 54s\tremaining: 3m 6s\n",
            "1500:\tlearn: 0.1969555\ttest: 0.3203028\tbest: 0.3203028 (1500)\ttotal: 3m\tremaining: 3m\n",
            "1550:\tlearn: 0.1909701\ttest: 0.3160445\tbest: 0.3160445 (1550)\ttotal: 3m 5s\tremaining: 2m 53s\n",
            "1600:\tlearn: 0.1854849\ttest: 0.3127198\tbest: 0.3127198 (1600)\ttotal: 3m 12s\tremaining: 2m 48s\n",
            "1650:\tlearn: 0.1805364\ttest: 0.3096882\tbest: 0.3096882 (1650)\ttotal: 3m 17s\tremaining: 2m 41s\n",
            "1700:\tlearn: 0.1758831\ttest: 0.3065284\tbest: 0.3065284 (1700)\ttotal: 3m 24s\tremaining: 2m 35s\n",
            "1750:\tlearn: 0.1715342\ttest: 0.3034957\tbest: 0.3034957 (1750)\ttotal: 3m 29s\tremaining: 2m 29s\n",
            "1800:\tlearn: 0.1674747\ttest: 0.3007112\tbest: 0.3007112 (1800)\ttotal: 3m 36s\tremaining: 2m 23s\n",
            "1850:\tlearn: 0.1632311\ttest: 0.2978547\tbest: 0.2978547 (1850)\ttotal: 3m 41s\tremaining: 2m 17s\n",
            "1900:\tlearn: 0.1591256\ttest: 0.2951345\tbest: 0.2951337 (1898)\ttotal: 3m 48s\tremaining: 2m 11s\n",
            "1950:\tlearn: 0.1551938\ttest: 0.2927267\tbest: 0.2927201 (1948)\ttotal: 3m 53s\tremaining: 2m 5s\n",
            "2000:\tlearn: 0.1516041\ttest: 0.2904468\tbest: 0.2904468 (2000)\ttotal: 4m\tremaining: 1m 59s\n",
            "2050:\tlearn: 0.1477224\ttest: 0.2879792\tbest: 0.2879792 (2050)\ttotal: 4m 5s\tremaining: 1m 53s\n",
            "2100:\tlearn: 0.1446058\ttest: 0.2861219\tbest: 0.2861219 (2100)\ttotal: 4m 11s\tremaining: 1m 47s\n",
            "2150:\tlearn: 0.1412922\ttest: 0.2842643\tbest: 0.2842643 (2150)\ttotal: 4m 17s\tremaining: 1m 41s\n",
            "2200:\tlearn: 0.1380755\ttest: 0.2823821\tbest: 0.2823821 (2200)\ttotal: 4m 24s\tremaining: 1m 35s\n",
            "2250:\tlearn: 0.1345006\ttest: 0.2800331\tbest: 0.2800331 (2250)\ttotal: 4m 31s\tremaining: 1m 30s\n",
            "2300:\tlearn: 0.1313917\ttest: 0.2784815\tbest: 0.2784783 (2298)\ttotal: 4m 37s\tremaining: 1m 24s\n",
            "2350:\tlearn: 0.1284158\ttest: 0.2767807\tbest: 0.2767807 (2350)\ttotal: 4m 43s\tremaining: 1m 18s\n",
            "2400:\tlearn: 0.1258987\ttest: 0.2748485\tbest: 0.2748418 (2399)\ttotal: 4m 49s\tremaining: 1m 12s\n",
            "2450:\tlearn: 0.1231065\ttest: 0.2730688\tbest: 0.2730688 (2450)\ttotal: 4m 55s\tremaining: 1m 6s\n",
            "2500:\tlearn: 0.1204487\ttest: 0.2713442\tbest: 0.2713442 (2500)\ttotal: 5m 1s\tremaining: 1m\n",
            "2550:\tlearn: 0.1180970\ttest: 0.2697866\tbest: 0.2697866 (2550)\ttotal: 5m 7s\tremaining: 54.2s\n",
            "2600:\tlearn: 0.1157465\ttest: 0.2687104\tbest: 0.2687104 (2600)\ttotal: 5m 13s\tremaining: 48.1s\n",
            "2650:\tlearn: 0.1135233\ttest: 0.2677905\tbest: 0.2677365 (2642)\ttotal: 5m 19s\tremaining: 42.1s\n",
            "2700:\tlearn: 0.1113735\ttest: 0.2667901\tbest: 0.2667418 (2698)\ttotal: 5m 25s\tremaining: 36s\n",
            "2750:\tlearn: 0.1092939\ttest: 0.2659824\tbest: 0.2659531 (2748)\ttotal: 5m 31s\tremaining: 30s\n",
            "2800:\tlearn: 0.1073187\ttest: 0.2648117\tbest: 0.2648117 (2800)\ttotal: 5m 37s\tremaining: 24s\n",
            "2850:\tlearn: 0.1052287\ttest: 0.2633290\tbest: 0.2632918 (2849)\ttotal: 5m 43s\tremaining: 18s\n",
            "2900:\tlearn: 0.1033502\ttest: 0.2623957\tbest: 0.2623957 (2900)\ttotal: 5m 49s\tremaining: 11.9s\n",
            "2950:\tlearn: 0.1015679\ttest: 0.2615456\tbest: 0.2615456 (2950)\ttotal: 5m 56s\tremaining: 5.91s\n",
            "2999:\tlearn: 0.0997964\ttest: 0.2606232\tbest: 0.2605487 (2995)\ttotal: 6m 1s\tremaining: 0us\n",
            "\n",
            "bestTest = 0.2605486545\n",
            "bestIteration = 2995\n",
            "\n",
            "Shrink model to first 2996 iterations.\n"
          ]
        },
        {
          "output_type": "execute_result",
          "data": {
            "text/plain": [
              "<catboost.core.CatBoostClassifier at 0x7b2c5d095190>"
            ]
          },
          "metadata": {},
          "execution_count": 17
        }
      ],
      "source": [
        "model.fit(X_train, y_train, eval_set=(X_test, y_test))"
      ]
    },
    {
      "cell_type": "markdown",
      "metadata": {
        "id": "FntxgSBsErX3"
      },
      "source": [
        "### Plotting Loss"
      ]
    },
    {
      "cell_type": "code",
      "execution_count": 18,
      "metadata": {
        "colab": {
          "base_uri": "https://localhost:8080/",
          "height": 564
        },
        "id": "wVlp_T4NErEP",
        "outputId": "8c9dc214-d175-4dc8-e522-753bbbda81e4"
      },
      "outputs": [
        {
          "output_type": "display_data",
          "data": {
            "text/plain": [
              "<Figure size 1000x600 with 1 Axes>"
            ],
            "image/png": "[encoded data removed]"
          },
          "metadata": {}
        }
      ],
      "source": [
        "evals_result = model.get_evals_result()\n",
        "\n",
        "train_loss = evals_result['learn']['MultiClass']\n",
        "valid_loss = evals_result['validation']['MultiClass']\n",
        "\n",
        "# Plot\n",
        "plt.figure(figsize=(10,6))\n",
        "plt.plot(train_loss, label='Training Loss')\n",
        "plt.plot(valid_loss, label='Validation Loss')\n",
        "plt.xlabel('Iteration')\n",
        "plt.ylabel('MultiClass Loss')\n",
        "plt.title('CatBoost Training & Validation Loss')\n",
        "plt.legend()\n",
        "plt.grid(True)\n",
        "plt.show()"
      ]
    },
    {
      "cell_type": "markdown",
      "metadata": {
        "id": "WkJMiODf3jU8"
      },
      "source": [
        "# Evaluation"
      ]
    },
    {
      "cell_type": "code",
      "execution_count": 19,
      "metadata": {
        "id": "RlM3Gy033jCW"
      },
      "outputs": [],
      "source": [
        "y_pred = model.predict(X_test)"
      ]
    },
    {
      "cell_type": "markdown",
      "metadata": {
        "id": "z-JQB_2z547j"
      },
      "source": [
        "### Confusion Matrix"
      ]
    },
    {
      "cell_type": "code",
      "execution_count": 20,
      "metadata": {
        "colab": {
          "base_uri": "https://localhost:8080/",
          "height": 487
        },
        "id": "CMTh0eHt4dxE",
        "outputId": "3e8ab930-0072-46e8-d728-f93ee8f97417"
      },
      "outputs": [
        {
          "output_type": "display_data",
          "data": {
            "text/plain": [
              "<Figure size 600x500 with 2 Axes>"
            ],
            "image/png": "[encoded data removed]"
          },
          "metadata": {}
        }
      ],
      "source": [
        "cm = confusion_matrix(y_test, y_pred)\n",
        "\n",
        "class_names = [\"FP\", \"APC/PC\", \"CP/KP\"]\n",
        "\n",
        "plt.figure(figsize=(6,5))\n",
        "sns.heatmap(cm, annot=True, fmt='d', cmap='Blues',\n",
        "            xticklabels=class_names, yticklabels=class_names)\n",
        "plt.ylabel('True label')\n",
        "plt.xlabel('Predicted label')\n",
        "plt.title('Confusion Matrix')\n",
        "plt.show()"
      ]
    },
    {
      "cell_type": "markdown",
      "metadata": {
        "id": "niTwN6Ni6l4e"
      },
      "source": [
        "Accuracy"
      ]
    },
    {
      "cell_type": "code",
      "execution_count": 22,
      "metadata": {
        "colab": {
          "base_uri": "https://localhost:8080/"
        },
        "id": "5Ir2HlhM6oU_",
        "outputId": "d1cbe9d5-8d90-4706-f27d-616b6ac8bde7"
      },
      "outputs": [
        {
          "output_type": "stream",
          "name": "stdout",
          "text": [
            "Accuracy: 94.22%\n",
            "Precision Score: 94.26%\n",
            "Recall Score: 94.22%\n",
            "F1 Score: 94.24%\n"
          ]
        }
      ],
      "source": [
        "acc = accuracy_score(y_test, y_pred)\n",
        "precision = precision_score(y_test, y_pred, average='weighted')\n",
        "recall = recall_score(y_test, y_pred, average='weighted')\n",
        "f1 = f1_score(y_test, y_pred, average='weighted')\n",
        "\n",
        "print(\"Accuracy: {:.2f}%\".format(acc * 100))\n",
        "print(\"Precision Score: {:.2f}%\".format(precision * 100))\n",
        "print(\"Recall Score: {:.2f}%\".format(recall * 100))\n",
        "print(\"F1 Score: {:.2f}%\".format(f1 * 100))"
      ]
    },
    {
      "cell_type": "code",
      "source": [
        "model.save_model(\"TESS_Model.onnx\", format=\"onnx\")"
      ],
      "metadata": {
        "id": "3wqJEEsJYY_k"
      },
      "execution_count": 23,
      "outputs": []
    }
  ],
  "metadata": {
    "accelerator": "GPU",
    "colab": {
      "gpuType": "T4",
      "provenance": [],
      "include_colab_link": true
    },
    "kernelspec": {
      "display_name": "Python 3 (ipykernel)",
      "language": "python",
      "name": "python3"
    },
    "language_info": {
      "codemirror_mode": {
        "name": "ipython",
        "version": 3
      },
      "file_extension": ".py",
      "mimetype": "text/x-python",
      "name": "python",
      "nbconvert_exporter": "python",
      "pygments_lexer": "ipython3",
      "version": "3.13.7"
    }
  },
  "nbformat": 4,
  "nbformat_minor": 0
}