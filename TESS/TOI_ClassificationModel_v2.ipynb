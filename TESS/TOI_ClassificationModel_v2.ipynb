{
 "cells": [
  {
   "cell_type": "code",
   "execution_count": 1,
   "metadata": {
    "colab": {
     "base_uri": "https://localhost:8080/"
    },
    "id": "dIyQR6pZ-t8K",
    "outputId": "2a77efb1-3058-47d4-bef4-8ed52e3b893a"
   },
   "outputs": [],
   "source": [
    "# just in case if needed\n",
    "# !pip install catboost\n",
    "# !pip install pandas\n",
    "# !pip install numpy\n",
    "# !pip install scikit-learn\n",
    "# !pip install matplotlib\n",
    "# !pip install seaborn"
   ]
  },
  {
   "cell_type": "markdown",
   "metadata": {
    "id": "fLvcuXZUkvI3"
   },
   "source": [
    "## Prerequisities"
   ]
  },
  {
   "cell_type": "code",
   "execution_count": 4,
   "metadata": {
    "id": "Sx0W_aW_Yyo0"
   },
   "outputs": [],
   "source": [
    "import pandas as pd\n",
    "from catboost import CatBoostClassifier\n",
    "from sklearn.model_selection import train_test_split, StratifiedKFold\n",
    "from sklearn.metrics import classification_report, confusion_matrix, accuracy_score, precision_score, recall_score, f1_score\n",
    "from sklearn.utils.class_weight import compute_class_weight\n",
    "import numpy as np\n",
    "\n",
    "import matplotlib.pyplot as plt\n",
    "import seaborn as sns"
   ]
  },
  {
   "cell_type": "markdown",
   "metadata": {
    "id": "VVyWLHQuky2K"
   },
   "source": [
    "## Loading Data"
   ]
  },
  {
   "cell_type": "code",
   "execution_count": 5,
   "metadata": {
    "id": "uC2Meugwkt7e"
   },
   "outputs": [],
   "source": [
    "toi = pd.read_csv('TOI_Data.csv', comment='#')"
   ]
  },
  {
   "cell_type": "markdown",
   "metadata": {
    "id": "07Hmh6kFmtFN"
   },
   "source": [
    "## Feature Selection"
   ]
  },
  {
   "cell_type": "code",
   "execution_count": 6,
   "metadata": {
    "id": "TrGOOBvmlER9"
   },
   "outputs": [],
   "source": [
    "features = [\n",
    "    \"pl_orbper\",      # Orbital period [days]\n",
    "    \"pl_trandurh\",    # Transit duration [hours]\n",
    "    \"pl_trandep\",     # Transit depth [ppm]\n",
    "\n",
    "    \"pl_eqt\",         # Equilibrium temperature [K]\n",
    "    \"st_tmag\",        # TESS magnitude\n",
    "    \"st_dist\",        # Distance [pc]\n",
    "    \"st_teff\",        # Stellar effective temperature [K]\n",
    "    \"st_rad\",         # Stellar radius [Solar radii]\n",
    "    \"st_logg\",        # Stellar surface gravity [log10(cm/s²)]\n",
    "    \"tfopwg_disp\"     # Label: CONFIRMED / CANDIDATE / FALSE POSITIVE\n",
    "]\n",
    "\n",
    "drop_list = [\n",
    "    \"toi\", \"tid\",\n",
    "    \"rastr\", \"ra\", \"decstr\", \"dec\",\n",
    "    \"st_pmra\", \"st_pmraerr1\", \"st_pmraerr2\", \"st_pmralim\",\n",
    "    \"st_pmdec\", \"st_pmdecerr1\", \"st_pmdecerr2\", \"st_pmdeclim\",\n",
    "    \"pl_tranmid\", \"pl_tranmiderr1\", \"pl_tranmiderr2\", \"pl_tranmidlim\",\n",
    "    \"pl_orbpererr1\", \"pl_orbpererr2\", \"pl_orbperlim\",\n",
    "    \"pl_trandurherr1\", \"pl_trandurherr2\", \"pl_trandurhlim\",\n",
    "    \"pl_trandeperr1\", \"pl_trandeperr2\", \"pl_trandeplim\",\n",
    "    \"pl_radelim\",\n",
    "    \"st_tmagerr1\", \"st_tmagerr2\", \"st_tmaglim\",\n",
    "    \"st_disterr1\", \"st_disterr2\", \"st_distlim\",\n",
    "    \"st_tefferr1\", \"st_tefferr2\", \"st_tefflim\",\n",
    "    \"st_logglim\",\n",
    "    \"st_radlim\",\n",
    "    \"toi_created\", \"rowupdate\",\n",
    "    \"pl_rade\", \"pl_insol\",\n",
    "\n",
    "    # Missing Data\n",
    "    \"pl_radeerr1\", \"pl_radeerr2\",\n",
    "    \"pl_insolerr1\", \"pl_insolerr2\", \"pl_insollim\",\n",
    "    \"pl_eqterr1\", \"pl_eqterr2\", \"pl_eqtlim\",\n",
    "    \"st_loggerr1\", \"st_loggerr2\",\n",
    "    \"st_raderr1\", \"st_raderr2\"\n",
    "\n",
    "    # Leakage Data\n",
    "    \"pl_rade\", \"pl_insol\"\n",
    "]\n"
   ]
  },
  {
   "cell_type": "code",
   "execution_count": 26,
   "metadata": {
    "id": "WuvHti_MBYuu"
   },
   "outputs": [],
   "source": [
    "toi = toi[features]"
   ]
  },
  {
   "cell_type": "markdown",
   "metadata": {
    "id": "JKSIKT4To9HZ"
   },
   "source": [
    "Label Mapping"
   ]
  },
  {
   "cell_type": "code",
   "execution_count": 8,
   "metadata": {
    "id": "_8K-UEG5o_DS"
   },
   "outputs": [],
   "source": [
    "label_map = {\n",
    "    \"CP\": 1,   # Confirmed Planet\n",
    "    \"KP\": 1,   # Known Planet\n",
    "    \"PC\": 1,   # Planetary Candidate\n",
    "    \"APC\": 1,  # Ambiguous Planetary Candidate\n",
    "    \"FP\": 0,  # False Positive\n",
    "    \"FA\": 0   # False Alarm\n",
    "}\n",
    "\n",
    "toi[\"tfopwg_disp\"] = toi[\"tfopwg_disp\"].map(label_map)"
   ]
  },
  {
   "cell_type": "markdown",
   "metadata": {
    "id": "Ne4pIk6jr0N-"
   },
   "source": [
    "## Filling empty cells"
   ]
  },
  {
   "cell_type": "code",
   "execution_count": 9,
   "metadata": {
    "colab": {
     "base_uri": "https://localhost:8080/"
    },
    "id": "YkLUqgkSW_mc",
    "outputId": "e5d9149b-6316-44a3-f5bc-952834894056"
   },
   "outputs": [
    {
     "name": "stdout",
     "output_type": "stream",
     "text": [
      "pl_orbper       1.389791\n",
      "pl_trandurh     0.000000\n",
      "pl_trandep      0.000000\n",
      "pl_eqt          4.039486\n",
      "st_tmag         0.000000\n",
      "st_dist         2.792570\n",
      "st_teff         2.091181\n",
      "st_rad          6.585271\n",
      "st_logg        11.118327\n",
      "tfopwg_disp     0.000000\n",
      "dtype: float64\n"
     ]
    }
   ],
   "source": [
    "#print(toi.isna().sum())\n",
    "print(toi.isna().sum() / len(toi) * 100)"
   ]
  },
  {
   "cell_type": "code",
   "execution_count": 10,
   "metadata": {
    "colab": {
     "base_uri": "https://localhost:8080/"
    },
    "id": "cc5AD2CjXK0O",
    "outputId": "128b2977-076d-4b29-a613-fb3842743f6d"
   },
   "outputs": [
    {
     "data": {
      "text/plain": [
       "7699"
      ]
     },
     "execution_count": 10,
     "metadata": {},
     "output_type": "execute_result"
    }
   ],
   "source": [
    "len(toi)"
   ]
  },
  {
   "cell_type": "code",
   "execution_count": 11,
   "metadata": {
    "id": "sl4rIQOIXdqE"
   },
   "outputs": [],
   "source": [
    "toi.dropna(inplace=True)"
   ]
  },
  {
   "cell_type": "code",
   "execution_count": 12,
   "metadata": {
    "colab": {
     "base_uri": "https://localhost:8080/"
    },
    "id": "2W4mvjleXnTd",
    "outputId": "3f2307af-481a-488b-d366-fbdf6ec1ee8b"
   },
   "outputs": [
    {
     "data": {
      "text/plain": [
       "6589"
      ]
     },
     "execution_count": 12,
     "metadata": {},
     "output_type": "execute_result"
    }
   ],
   "source": [
    "len(toi)"
   ]
  },
  {
   "cell_type": "code",
   "execution_count": null,
   "metadata": {
    "id": "I79FaLU-rz4P"
   },
   "outputs": [],
   "source": [
    "#for col in features:\n",
    "#    toi[col].fillna(toi[col].median(), inplace=True)"
   ]
  },
  {
   "cell_type": "markdown",
   "metadata": {
    "id": "DILU0J92sQkD"
   },
   "source": [
    "### Diagnoise"
   ]
  },
  {
   "cell_type": "code",
   "execution_count": null,
   "metadata": {
    "id": "-vAY-1XHsPL_"
   },
   "outputs": [],
   "source": [
    "#print(toi.isna().sum()[toi.isna().sum() > 0])\n",
    "#for col in features:\n",
    "#    print(toi[col].dtype)"
   ]
  },
  {
   "cell_type": "markdown",
   "metadata": {
    "id": "BZZYmmphpiL2"
   },
   "source": [
    "## Defining data sets"
   ]
  },
  {
   "cell_type": "code",
   "execution_count": 13,
   "metadata": {
    "id": "PcnhnqBQpRHx"
   },
   "outputs": [],
   "source": [
    "X = toi.drop(\"tfopwg_disp\", axis=1)\n",
    "y = toi[\"tfopwg_disp\"]"
   ]
  },
  {
   "cell_type": "code",
   "execution_count": 14,
   "metadata": {
    "id": "AOpgnjyLpoV6"
   },
   "outputs": [],
   "source": [
    "X_train, X_test, y_train, y_test = train_test_split(\n",
    "    X, y, test_size=0.2, stratify=y, random_state=42\n",
    "    )"
   ]
  },
  {
   "cell_type": "markdown",
   "metadata": {
    "id": "2y8mTfRp05y2"
   },
   "source": [
    "Defining Classes"
   ]
  },
  {
   "cell_type": "code",
   "execution_count": 15,
   "metadata": {
    "id": "wawMFEOe091B"
   },
   "outputs": [],
   "source": [
    "classes = np.unique(y_train)"
   ]
  },
  {
   "cell_type": "markdown",
   "metadata": {
    "id": "NUalJl3109ld"
   },
   "source": [
    "Calculating Class Weights"
   ]
  },
  {
   "cell_type": "code",
   "execution_count": 16,
   "metadata": {
    "id": "Jl0IYZY6wvIU"
   },
   "outputs": [],
   "source": [
    "weights = compute_class_weight(\"balanced\", classes=classes, y=y_train)"
   ]
  },
  {
   "cell_type": "markdown",
   "metadata": {
    "id": "l05vbhRO137y"
   },
   "source": [
    "Combining both"
   ]
  },
  {
   "cell_type": "code",
   "execution_count": 17,
   "metadata": {
    "id": "u01MI-W11Ylq"
   },
   "outputs": [],
   "source": [
    "class_weights = dict(zip(classes, weights))"
   ]
  },
  {
   "cell_type": "markdown",
   "metadata": {
    "id": "B2ktYZ_CLb8M"
   },
   "source": [
    "### Cross-validation"
   ]
  },
  {
   "cell_type": "code",
   "execution_count": 18,
   "metadata": {
    "id": "tBDk3uGRKDF8"
   },
   "outputs": [],
   "source": [
    "skf = StratifiedKFold(n_splits=5, shuffle=True, random_state=42)\n",
    "\n",
    "for train_idx, valid_idx in skf.split(X, y):\n",
    "    X_train, X_valid = X.iloc[train_idx], X.iloc[valid_idx]\n",
    "    y_train, y_valid = y.iloc[train_idx], y.iloc[valid_idx]"
   ]
  },
  {
   "cell_type": "markdown",
   "metadata": {
    "id": "6WdykEBY2F1v"
   },
   "source": [
    "## Cat Boost Initiation"
   ]
  },
  {
   "cell_type": "markdown",
   "metadata": {
    "id": "disXqpzB24me"
   },
   "source": [
    "### Parameters\n"
   ]
  },
  {
   "cell_type": "code",
   "execution_count": 19,
   "metadata": {
    "id": "VCVzo7F63Aa4"
   },
   "outputs": [],
   "source": [
    "max_ite = 3000\n",
    "dep = 8\n",
    "l_rate = 0.08"
   ]
  },
  {
   "cell_type": "code",
   "execution_count": 20,
   "metadata": {
    "id": "whC-nezHq_WX"
   },
   "outputs": [],
   "source": [
    "model = CatBoostClassifier(\n",
    "    iterations=max_ite,\n",
    "    depth=dep,\n",
    "    learning_rate=l_rate,\n",
    "    loss_function=\"MultiClass\",\n",
    "    eval_metric=\"MultiClass\",\n",
    "    l2_leaf_reg=7,\n",
    "    border_count=1024,\n",
    "    early_stopping_rounds=50,\n",
    "    random_seed=42,\n",
    "    verbose=50,\n",
    "    class_weights=class_weights\n",
    ")\n"
   ]
  },
  {
   "cell_type": "markdown",
   "metadata": {
    "id": "zCqAjS8C3eCP"
   },
   "source": [
    "# Training"
   ]
  },
  {
   "cell_type": "code",
   "execution_count": 21,
   "metadata": {
    "colab": {
     "base_uri": "https://localhost:8080/"
    },
    "id": "uMb-AlB93Uej",
    "outputId": "5bb85ac5-7e7d-403b-fc0f-d0e03b0eca9c"
   },
   "outputs": [
    {
     "name": "stdout",
     "output_type": "stream",
     "text": [
      "0:\tlearn: 0.6769748\ttest: 0.6759749\tbest: 0.6759749 (0)\ttotal: 191ms\tremaining: 9m 31s\n",
      "50:\tlearn: 0.4780739\ttest: 0.4695104\tbest: 0.4695104 (50)\ttotal: 1.46s\tremaining: 1m 24s\n",
      "100:\tlearn: 0.4210819\ttest: 0.4241046\tbest: 0.4241046 (100)\ttotal: 2.7s\tremaining: 1m 17s\n",
      "150:\tlearn: 0.3822588\ttest: 0.3952731\tbest: 0.3952731 (150)\ttotal: 3.94s\tremaining: 1m 14s\n",
      "200:\tlearn: 0.3462548\ttest: 0.3717870\tbest: 0.3717870 (200)\ttotal: 5.17s\tremaining: 1m 12s\n",
      "250:\tlearn: 0.3180617\ttest: 0.3526822\tbest: 0.3526822 (250)\ttotal: 6.4s\tremaining: 1m 10s\n",
      "300:\tlearn: 0.2920882\ttest: 0.3366277\tbest: 0.3366277 (300)\ttotal: 7.64s\tremaining: 1m 8s\n",
      "350:\tlearn: 0.2713551\ttest: 0.3240570\tbest: 0.3240474 (349)\ttotal: 8.88s\tremaining: 1m 7s\n",
      "400:\tlearn: 0.2533399\ttest: 0.3131315\tbest: 0.3131315 (400)\ttotal: 10.1s\tremaining: 1m 5s\n",
      "450:\tlearn: 0.2382770\ttest: 0.3037170\tbest: 0.3037169 (449)\ttotal: 11.3s\tremaining: 1m 4s\n",
      "500:\tlearn: 0.2236670\ttest: 0.2950820\tbest: 0.2950820 (500)\ttotal: 12.6s\tremaining: 1m 2s\n",
      "550:\tlearn: 0.2105348\ttest: 0.2879148\tbest: 0.2879148 (550)\ttotal: 13.8s\tremaining: 1m 1s\n",
      "600:\tlearn: 0.1986656\ttest: 0.2810090\tbest: 0.2810090 (600)\ttotal: 15.1s\tremaining: 1m\n",
      "650:\tlearn: 0.1884841\ttest: 0.2754624\tbest: 0.2753215 (648)\ttotal: 16.3s\tremaining: 58.8s\n",
      "700:\tlearn: 0.1781382\ttest: 0.2709233\tbest: 0.2709233 (700)\ttotal: 17.5s\tremaining: 57.5s\n",
      "750:\tlearn: 0.1698450\ttest: 0.2659431\tbest: 0.2659095 (749)\ttotal: 18.8s\tremaining: 56.3s\n",
      "800:\tlearn: 0.1605573\ttest: 0.2619112\tbest: 0.2619112 (800)\ttotal: 20s\tremaining: 55s\n",
      "850:\tlearn: 0.1528929\ttest: 0.2583593\tbest: 0.2583593 (850)\ttotal: 21.3s\tremaining: 53.7s\n",
      "900:\tlearn: 0.1456883\ttest: 0.2558332\tbest: 0.2556916 (899)\ttotal: 22.5s\tremaining: 52.4s\n",
      "950:\tlearn: 0.1393683\ttest: 0.2525529\tbest: 0.2525529 (950)\ttotal: 23.8s\tremaining: 51.2s\n",
      "1000:\tlearn: 0.1328102\ttest: 0.2499567\tbest: 0.2499536 (999)\ttotal: 25s\tremaining: 49.9s\n",
      "1050:\tlearn: 0.1270542\ttest: 0.2479204\tbest: 0.2479204 (1050)\ttotal: 26.2s\tremaining: 48.6s\n",
      "1100:\tlearn: 0.1215839\ttest: 0.2452902\tbest: 0.2452902 (1100)\ttotal: 27.5s\tremaining: 47.4s\n",
      "1150:\tlearn: 0.1165001\ttest: 0.2427468\tbest: 0.2427468 (1150)\ttotal: 28.7s\tremaining: 46.1s\n",
      "1200:\tlearn: 0.1118220\ttest: 0.2415249\tbest: 0.2415249 (1200)\ttotal: 30s\tremaining: 44.9s\n",
      "1250:\tlearn: 0.1073606\ttest: 0.2395224\tbest: 0.2394787 (1246)\ttotal: 31.2s\tremaining: 43.6s\n",
      "1300:\tlearn: 0.1034475\ttest: 0.2370816\tbest: 0.2370816 (1300)\ttotal: 32.4s\tremaining: 42.4s\n",
      "1350:\tlearn: 0.0994712\ttest: 0.2354994\tbest: 0.2354891 (1348)\ttotal: 33.7s\tremaining: 41.1s\n",
      "1400:\tlearn: 0.0958615\ttest: 0.2344497\tbest: 0.2342711 (1397)\ttotal: 34.9s\tremaining: 39.8s\n",
      "Stopped by overfitting detector  (50 iterations wait)\n",
      "\n",
      "bestTest = 0.2342711398\n",
      "bestIteration = 1397\n",
      "\n",
      "Shrink model to first 1398 iterations.\n"
     ]
    },
    {
     "data": {
      "text/plain": [
       "<catboost.core.CatBoostClassifier at 0x27f03af2cf0>"
      ]
     },
     "execution_count": 21,
     "metadata": {},
     "output_type": "execute_result"
    }
   ],
   "source": [
    "model.fit(X_train, y_train, eval_set=(X_test, y_test))"
   ]
  },
  {
   "cell_type": "markdown",
   "metadata": {
    "id": "FntxgSBsErX3"
   },
   "source": [
    "### Plotting Loss"
   ]
  },
  {
   "cell_type": "code",
   "execution_count": null,
   "metadata": {
    "colab": {
     "base_uri": "https://localhost:8080/",
     "height": 546
    },
    "id": "wVlp_T4NErEP",
    "outputId": "56bf50cf-83dd-4791-ffa0-70059ec7908b"
   },
   "outputs": [
    {
     "data": {
      "image/png": "[encoded data removed]",
      "text/plain": [
       "<Figure size 1000x600 with 1 Axes>"
      ]
     },
     "metadata": {},
     "output_type": "display_data"
    }
   ],
   "source": [
    "evals_result = model.get_evals_result()\n",
    "\n",
    "train_loss = evals_result['learn']['MultiClass']\n",
    "valid_loss = evals_result['validation']['MultiClass']\n",
    "\n",
    "# Plot\n",
    "plt.figure(figsize=(10,6))\n",
    "plt.plot(train_loss, label='Training Loss')\n",
    "plt.plot(valid_loss, label='Validation Loss')\n",
    "plt.xlabel('Iteration')\n",
    "plt.ylabel('MultiClass Loss')\n",
    "plt.title('CatBoost Training & Validation Loss')\n",
    "plt.legend()\n",
    "plt.grid(True)\n",
    "plt.show()"
   ]
  },
  {
   "cell_type": "markdown",
   "metadata": {
    "id": "WkJMiODf3jU8"
   },
   "source": [
    "# Evaluation"
   ]
  },
  {
   "cell_type": "code",
   "execution_count": 22,
   "metadata": {
    "id": "RlM3Gy033jCW"
   },
   "outputs": [],
   "source": [
    "y_pred = model.predict(X_test)"
   ]
  },
  {
   "cell_type": "markdown",
   "metadata": {
    "id": "z-JQB_2z547j"
   },
   "source": [
    "### Confusion Matrix"
   ]
  },
  {
   "cell_type": "code",
   "execution_count": 23,
   "metadata": {
    "colab": {
     "base_uri": "https://localhost:8080/",
     "height": 487
    },
    "id": "CMTh0eHt4dxE",
    "outputId": "646d43fa-9b80-4242-ac75-e4d03594bf3d"
   },
   "outputs": [
    {
     "data": {
      "image/png": "[encoded data removed]",
      "text/plain": [
       "<Figure size 600x500 with 2 Axes>"
      ]
     },
     "metadata": {},
     "output_type": "display_data"
    }
   ],
   "source": [
    "cm = confusion_matrix(y_test, y_pred)\n",
    "\n",
    "class_names = [\"False Positive\", \"Candidate\"]\n",
    "\n",
    "plt.figure(figsize=(6,5))\n",
    "sns.heatmap(cm, annot=True, fmt='d', cmap='Blues',\n",
    "            xticklabels=class_names, yticklabels=class_names)\n",
    "plt.ylabel('True label')\n",
    "plt.xlabel('Predicted label')\n",
    "plt.title('Confusion Matrix')\n",
    "plt.show()"
   ]
  },
  {
   "cell_type": "markdown",
   "metadata": {
    "id": "niTwN6Ni6l4e"
   },
   "source": [
    "Accuracy"
   ]
  },
  {
   "cell_type": "code",
   "execution_count": 29,
   "metadata": {
    "colab": {
     "base_uri": "https://localhost:8080/"
    },
    "id": "5Ir2HlhM6oU_",
    "outputId": "beefb57f-4d50-4065-80ea-2dd880994bf2"
   },
   "outputs": [
    {
     "name": "stdout",
     "output_type": "stream",
     "text": [
      "Accuracy: 96.59%\n",
      "Precision Score: 96.53%\n",
      "Recall Score: 96.59%\n",
      "F1 Score: 96.55%\n"
     ]
    }
   ],
   "source": [
    "acc = accuracy_score(y_test, y_pred)\n",
    "precision = precision_score(y_test, y_pred, average='weighted')\n",
    "recall = recall_score(y_test, y_pred, average='weighted')\n",
    "f1 = f1_score(y_test, y_pred, average='weighted')\n",
    "\n",
    "print(\"Accuracy: {:.2f}%\".format(acc * 100))\n",
    "print(\"Precision Score: {:.2f}%\".format(precision * 100))\n",
    "print(\"Recall Score: {:.2f}%\".format(recall * 100))\n",
    "print(\"F1 Score: {:.2f}%\".format(f1 * 100))"
   ]
  },
  {
   "cell_type": "code",
   "execution_count": 25,
   "metadata": {
    "id": "3wqJEEsJYY_k"
   },
   "outputs": [],
   "source": [
    "model.save_model(\"TESS_Model_Updated.onnx\", format=\"onnx\")"
   ]
  }
 ],
 "metadata": {
  "accelerator": "GPU",
  "colab": {
   "gpuType": "T4",
   "provenance": []
  },
  "kernelspec": {
   "display_name": "Python 3 (ipykernel)",
   "language": "python",
   "name": "python3"
  },
  "language_info": {
   "codemirror_mode": {
    "name": "ipython",
    "version": 3
   },
   "file_extension": ".py",
   "mimetype": "text/x-python",
   "name": "python",
   "nbconvert_exporter": "python",
   "pygments_lexer": "ipython3",
   "version": "3.13.7"
  }
 },
 "nbformat": 4,
 "nbformat_minor": 4
}
