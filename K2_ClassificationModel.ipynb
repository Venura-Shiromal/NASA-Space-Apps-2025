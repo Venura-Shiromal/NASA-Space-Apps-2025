{
 "cells": [
  {
   "cell_type": "markdown",
   "metadata": {
    "id": "qZwhouh0vW8A"
   },
   "source": [
    "## Prerequisities"
   ]
  },
  {
   "cell_type": "code",
   "execution_count": 24,
   "metadata": {
    "id": "jyn3rXAOvGc6"
   },
   "outputs": [],
   "source": [
    "### If hasn't installed already\n",
    "# !pip install pandas\n",
    "# !pip install catboost\n",
    "# !pip install sklearn\n",
    "# !pip install numpy\n",
    "# !pip install matplotlib\n",
    "# !pip install seaborn"
   ]
  },
  {
   "cell_type": "code",
   "execution_count": 1,
   "metadata": {
    "id": "Sx0W_aW_Yyo0"
   },
   "outputs": [],
   "source": [
    "import pandas as pd\n",
    "from catboost import CatBoostClassifier\n",
    "from sklearn.model_selection import train_test_split, StratifiedKFold\n",
    "from sklearn.metrics import classification_report, confusion_matrix, accuracy_score\n",
    "from sklearn.utils.class_weight import compute_class_weight\n",
    "import numpy as np\n",
    "\n",
    "import matplotlib.pyplot as plt\n",
    "import seaborn as sns"
   ]
  },
  {
   "cell_type": "markdown",
   "metadata": {
    "id": "VVyWLHQuky2K"
   },
   "source": [
    "# Loading Data"
   ]
  },
  {
   "cell_type": "code",
   "execution_count": 25,
   "metadata": {
    "colab": {
     "base_uri": "https://localhost:8080/",
     "height": 342
    },
    "id": "uC2Meugwkt7e",
    "outputId": "67d18cdb-6c9a-477c-cca1-3f77b33350c6"
   },
   "outputs": [],
   "source": [
    "k2 = pd.read_csv('k2pandc_2025.09.26_11.17.56.csv', comment='#')"
   ]
  },
  {
   "cell_type": "markdown",
   "metadata": {
    "id": "07Hmh6kFmtFN"
   },
   "source": [
    "## Feature Selection"
   ]
  },
  {
   "cell_type": "code",
   "execution_count": 3,
   "metadata": {
    "id": "TrGOOBvmlER9"
   },
   "outputs": [],
   "source": [
    "drop_cols = [\n",
    "            # not needed\n",
    "            \"default_flag\",\n",
    "            \"disc_year\",\n",
    "            \"pl_refname\",\n",
    "            \"pl_name\", \n",
    "            \"hostname\", \n",
    "            \"disp_refname\",\n",
    "            \"pl_orbperlim\",\n",
    "            \"st_refname\",\n",
    "            \"st_radlim\",\n",
    "            \"sy_refname\",\n",
    "            \"rastr\",\n",
    "            \"ra\",\n",
    "            \"decstr\",\n",
    "            \"dec\",\n",
    "            \"sy_disterr1\",\n",
    "            \"sy_disterr2\",\n",
    "            \"sy_vmagerr1\",\n",
    "            \"sy_vmagerr2\",\n",
    "            \"sy_kmagerr1\",\n",
    "            \"sy_kmagerr2\",\n",
    "            \"sy_gaiamagerr1\",\n",
    "            \"sy_gaiamagerr2\",\n",
    "            \"rowupdate\",\n",
    "            \"pl_pubdate\",\n",
    "            \"releasedate\",\n",
    "    \n",
    "            # too much missing\n",
    "            \"pl_bmassjerr1\",\n",
    "            \"st_raderr2\",\n",
    "            \"pl_insollim\",\n",
    "            \"st_logg\",\n",
    "            \"st_meterr2\",\n",
    "            \"pl_eqtlim\",\n",
    "            \"pl_insol\",\n",
    "            \"pl_radelim\",\n",
    "            \"pl_radjerr1\",\n",
    "            \"st_spectype\",\n",
    "            \"pl_eqterr1\",\n",
    "            \"pl_bmassjerr2\",\n",
    "            \"st_loggerr1\",\n",
    "            \"st_tefferr1\",\n",
    "            \"st_masslim\",\n",
    "            \"st_teff\",\n",
    "            \"pl_radjerr2\",\n",
    "            \"pl_bmassj\",\n",
    "            \"pl_orbsmax\",\n",
    "            \"pl_eqt\",\n",
    "            \"pl_orbeccenlim\",\n",
    "            \"pl_radeerr2\",\n",
    "            \"pl_orbeccenerr2\",\n",
    "            \"pl_orbsmaxerr1\",\n",
    "            \"pl_orbeccen\",\n",
    "            \"pl_bmasseerr1\",\n",
    "            \"st_meterr1\",\n",
    "            \"pl_insolerr1\",\n",
    "            \"pl_eqterr2\",\n",
    "            \"st_loggerr2\",\n",
    "            \"pl_orbpererr1\",\n",
    "            \"pl_orbeccenerr1\",\n",
    "            \"st_masserr2\",\n",
    "            \"pl_radeerr1\",\n",
    "            \"pl_orbsmaxerr2\",\n",
    "            \"st_tefflim\",\n",
    "            \"st_masserr1\",\n",
    "            \"pl_orbpererr2\",\n",
    "            \"pl_bmasse\",\n",
    "            \"pl_bmassprov\",\n",
    "            \"pl_insolerr2\",\n",
    "            \"st_logglim\",\n",
    "            \"pl_radj\",\n",
    "            \"pl_orbsmaxlim\",\n",
    "            \"st_tefferr2\",\n",
    "            \"pl_bmasselim\",\n",
    "            \"pl_radjlim\",\n",
    "            \"st_metlim\",\n",
    "            \"st_raderr1\",\n",
    "            \"st_mass\",\n",
    "            \"st_metratio\",\n",
    "            \"pl_bmassjlim\",\n",
    "            \"pl_bmasseerr2\",\n",
    "            \"pl_rade\",\n",
    "            \"st_met\" \n",
    "    ]\n",
    "\n",
    "sel_cols = [\n",
    "        'disposition',\n",
    "        'sy_snum', \n",
    "        'sy_pnum', \n",
    "        'discoverymethod', \n",
    "        'disc_facility', \n",
    "        'soltype', \n",
    "        'pl_controv_flag', \n",
    "        'pl_orbper', \n",
    "        'ttv_flag', \n",
    "        'st_rad', \n",
    "        'sy_dist', \n",
    "        'sy_vmag', \n",
    "        'sy_kmag', \n",
    "        'sy_gaiamag'\n",
    "]"
   ]
  },
  {
   "cell_type": "markdown",
   "metadata": {
    "id": "JKSIKT4To9HZ"
   },
   "source": [
    "## Label Mapping"
   ]
  },
  {
   "cell_type": "code",
   "execution_count": 4,
   "metadata": {
    "id": "_8K-UEG5o_DS"
   },
   "outputs": [],
   "source": [
    "label_map = {\n",
    "    'CONFIRMED': 1,   # Confirmed Planet\n",
    "    'CANDIDATE': 0,   # Planetary Candidate\n",
    "    'FALSE POSITIVE': -1,  # False Positive\n",
    "    'REFUTED': -1   # False Alarm\n",
    "}\n",
    "\n",
    "method_map = {\n",
    "    'Transit': 2,\n",
    "    'Radial Velocity': 1,\n",
    "    'Microlensing': 0\n",
    "}\n",
    "\n",
    "'''\n",
    "spectral_map = {\n",
    "    'K3': 0, 'G': 1, 'G8': 2, 'K5': 3, 'K0': 4, 'K2': 5, 'M4': 6, 'F8': 7, 'K7': 8,\n",
    "    'G2': 9, 'G3': 10, 'F0': 11, 'G5': 12, 'G7': 13, 'G1': 14, 'G9': 15, 'M0': 16,\n",
    "    'G0': 17, 'M3': 18, 'K4': 19, 'G4': 20, 'F2': 21, 'F7': 22, 'G5 V': 23, 'M5': 24,\n",
    "    'M2': 25, 'M1': 26, 'A III': 27, 'F5 V': 28, 'F5': 29, 'F9': 30, 'F6': 31, 'G6': 32,\n",
    "    'G8 IV/V': 33, 'M2.5 V': 34, 'K6 V': 35, 'K7 V': 36, 'K5 V': 37, 'F': 38, 'G0 V': 39,\n",
    "    'G V': 40, 'K0 V': 41, 'F6 V': 42, 'K1': 43, 'F9 IV': 44, 'K3 V': 45, 'M1.0 V': 46,\n",
    "    'M1.5 V': 47, 'M1 V': 48, 'K5.5': 49, 'M3 V': 50, 'G8 V': 51, 'K1 V': 52, 'G6 V': 53,\n",
    "    'M3.0 V': 54, 'M0.0 V': 55, 'G9 V': 56, 'K2 V': 57, 'M0.0': 58, 'M0 V': 59, 'F9 V': 60,\n",
    "    'G2 V': 61, 'M0.5 V': 62, 'M4.5': 63, 'M4.5 V': 64, 'G7 IV/V': 65, 'G7 V': 66, 'G3 V': 67,\n",
    "    'M V': 68, 'M0.0&plusmn;0.5 V': 69, 'M(3.5+/-0.5) V': 70, 'M3.3': 71, 'K4 V': 72,\n",
    "    'M4 V': 73, 'M5 V': 74, 'K7.5 V': 75, 'G4 V': 76, 'M3.0': 77, 'F8 V': 78, 'G0 IV': 79,\n",
    "    'K6': 80, 'K3.5 V': 81\n",
    "}\n",
    "'''\n",
    "\n",
    "facility_map = {\n",
    "    \"K2\": 0,\n",
    "    \"HATNet\": 1,\n",
    "    \"HATSouth\": 2,\n",
    "    \"Multiple Observatories\": 3,\n",
    "    \"Roque de los Muchachos Observatory\": 4,\n",
    "    \"CHaracterising ExOPlanets Satellite (CHEOPS)\": 5,\n",
    "    \"La Silla Observatory\": 6,\n",
    "    \"Qatar\": 7,\n",
    "    \"SuperWASP-South\": 8,\n",
    "    \"SuperWASP\": 9\n",
    "}\n",
    "\n",
    "sol_map = {\n",
    "    \"Published Confirmed\": 1.0,\n",
    "    \"Published Candidate\": 0.0\n",
    "}\n",
    "\n",
    "k2[\"disposition\"] = k2[\"disposition\"].map(label_map)\n",
    "k2[\"discoverymethod\"] = k2[\"discoverymethod\"].map(method_map)\n",
    "#k2['st_spectype'] = k2['st_spectype'].map(spectral_map)\n",
    "k2[\"disc_facility\"] = k2[\"disc_facility\"].map(facility_map)\n",
    "k2[\"soltype\"] = k2[\"soltype\"].map(sol_map)"
   ]
  },
  {
   "cell_type": "markdown",
   "metadata": {},
   "source": [
    "### Removing Duplicates"
   ]
  },
  {
   "cell_type": "code",
   "execution_count": 26,
   "metadata": {},
   "outputs": [],
   "source": [
    "k2 = k2[k2[\"default_flag\"] == 1]"
   ]
  },
  {
   "cell_type": "markdown",
   "metadata": {},
   "source": [
    "### Selecting Features"
   ]
  },
  {
   "cell_type": "code",
   "execution_count": 6,
   "metadata": {},
   "outputs": [],
   "source": [
    "k2 = k2.drop(columns=drop_cols)"
   ]
  },
  {
   "cell_type": "markdown",
   "metadata": {
    "id": "Ne4pIk6jr0N-"
   },
   "source": [
    "### Filling empty cells"
   ]
  },
  {
   "cell_type": "code",
   "execution_count": 7,
   "metadata": {
    "colab": {
     "base_uri": "https://localhost:8080/"
    },
    "id": "SeH6ipCEpvRY",
    "outputId": "6e63cf22-6858-41e5-8494-05144e64bcb5"
   },
   "outputs": [],
   "source": [
    "for col in [\"discoverymethod\", \"disc_facility\", \"soltype\"]:\n",
    "    if k2[col].isnull().any():\n",
    "        k2.fillna({col: k2[col].mode()[0]}, inplace=True)\n",
    "\n",
    "k2 = k2.fillna(k2.mean()) "
   ]
  },
  {
   "cell_type": "markdown",
   "metadata": {
    "id": "DILU0J92sQkD"
   },
   "source": [
    "### Diagnoise if want"
   ]
  },
  {
   "cell_type": "code",
   "execution_count": 45,
   "metadata": {
    "colab": {
     "base_uri": "https://localhost:8080/"
    },
    "id": "-vAY-1XHsPL_",
    "outputId": "3f56915c-da11-4182-8fa3-aa3753c46e39"
   },
   "outputs": [
    {
     "name": "stdout",
     "output_type": "stream",
     "text": [
      "['disposition', 'sy_snum', 'sy_pnum', 'discoverymethod', 'disc_facility', 'soltype', 'pl_controv_flag', 'pl_orbper', 'ttv_flag', 'st_rad', 'sy_dist', 'sy_vmag', 'sy_kmag', 'sy_gaiamag']\n"
     ]
    }
   ],
   "source": [
    "#print(k2.shape[0])\n",
    "#print(k2[\"disposition\"].unique())\n",
    "#print(k2.dtypes)\n",
    "#np.isnan(k2).sum()\n",
    "#k2.head()"
   ]
  },
  {
   "cell_type": "markdown",
   "metadata": {
    "id": "BZZYmmphpiL2"
   },
   "source": [
    "# Defining data sets"
   ]
  },
  {
   "cell_type": "code",
   "execution_count": 8,
   "metadata": {
    "id": "PcnhnqBQpRHx"
   },
   "outputs": [],
   "source": [
    "X = k2.drop(\"disposition\", axis=1)\n",
    "y = k2[\"disposition\"]"
   ]
  },
  {
   "cell_type": "code",
   "execution_count": 9,
   "metadata": {
    "id": "AOpgnjyLpoV6"
   },
   "outputs": [],
   "source": [
    "X_train, X_test, y_train, y_test = train_test_split(\n",
    "    X, y, test_size=0.2, stratify=y, random_state=42\n",
    "    )"
   ]
  },
  {
   "cell_type": "markdown",
   "metadata": {
    "id": "2y8mTfRp05y2"
   },
   "source": [
    "## Defining Classes"
   ]
  },
  {
   "cell_type": "code",
   "execution_count": 10,
   "metadata": {
    "id": "wawMFEOe091B"
   },
   "outputs": [],
   "source": [
    "classes = np.unique(y_train)"
   ]
  },
  {
   "cell_type": "markdown",
   "metadata": {
    "id": "NUalJl3109ld"
   },
   "source": [
    "## Calculating Class Weights"
   ]
  },
  {
   "cell_type": "code",
   "execution_count": 11,
   "metadata": {
    "id": "Jl0IYZY6wvIU"
   },
   "outputs": [],
   "source": [
    "weights = compute_class_weight(\"balanced\", classes=classes, y=y_train)"
   ]
  },
  {
   "cell_type": "markdown",
   "metadata": {
    "id": "l05vbhRO137y"
   },
   "source": [
    "### Combining both"
   ]
  },
  {
   "cell_type": "code",
   "execution_count": 12,
   "metadata": {
    "id": "u01MI-W11Ylq"
   },
   "outputs": [],
   "source": [
    "class_weights = dict(zip(classes, weights))"
   ]
  },
  {
   "cell_type": "markdown",
   "metadata": {
    "id": "B2ktYZ_CLb8M"
   },
   "source": [
    "## Cross-validation"
   ]
  },
  {
   "cell_type": "code",
   "execution_count": 13,
   "metadata": {
    "id": "tBDk3uGRKDF8"
   },
   "outputs": [],
   "source": [
    "skf = StratifiedKFold(n_splits=5, shuffle=True, random_state=42)\n",
    "\n",
    "for train_idx, valid_idx in skf.split(X, y):\n",
    "    X_train, X_valid = X.iloc[train_idx], X.iloc[valid_idx]\n",
    "    y_train, y_valid = y.iloc[train_idx], y.iloc[valid_idx]"
   ]
  },
  {
   "cell_type": "markdown",
   "metadata": {
    "id": "6WdykEBY2F1v"
   },
   "source": [
    "# Cat Boost Initiation"
   ]
  },
  {
   "cell_type": "markdown",
   "metadata": {
    "id": "disXqpzB24me"
   },
   "source": [
    "## Parameters\n"
   ]
  },
  {
   "cell_type": "code",
   "execution_count": 15,
   "metadata": {
    "id": "whC-nezHq_WX"
   },
   "outputs": [],
   "source": [
    "model = CatBoostClassifier(\n",
    "    iterations=2500,\n",
    "    depth=8,\n",
    "    learning_rate=0.04,\n",
    "    loss_function=\"MultiClass\",\n",
    "    eval_metric=\"MultiClass\",\n",
    "    l2_leaf_reg=5,\n",
    "    early_stopping_rounds=50,\n",
    "    random_seed=42,\n",
    "    verbose=50,\n",
    "    class_weights=class_weights\n",
    ")"
   ]
  },
  {
   "cell_type": "markdown",
   "metadata": {
    "id": "zCqAjS8C3eCP"
   },
   "source": [
    "# Training"
   ]
  },
  {
   "cell_type": "code",
   "execution_count": 16,
   "metadata": {
    "colab": {
     "base_uri": "https://localhost:8080/"
    },
    "id": "uMb-AlB93Uej",
    "outputId": "5317a80f-83cd-44a5-ac25-84993665456b"
   },
   "outputs": [
    {
     "name": "stdout",
     "output_type": "stream",
     "text": [
      "0:\tlearn: 1.0588491\ttest: 1.0582245\tbest: 1.0582245 (0)\ttotal: 198ms\tremaining: 8m 13s\n",
      "50:\tlearn: 0.4665006\ttest: 0.4674665\tbest: 0.4674665 (50)\ttotal: 725ms\tremaining: 34.8s\n",
      "100:\tlearn: 0.3602734\ttest: 0.3664778\tbest: 0.3664778 (100)\ttotal: 1.23s\tremaining: 29.1s\n",
      "150:\tlearn: 0.3175225\ttest: 0.3287006\tbest: 0.3287006 (150)\ttotal: 1.75s\tremaining: 27.3s\n",
      "200:\tlearn: 0.2872521\ttest: 0.3063253\tbest: 0.3063253 (200)\ttotal: 2.25s\tremaining: 25.8s\n",
      "250:\tlearn: 0.2586573\ttest: 0.2863401\tbest: 0.2862477 (249)\ttotal: 2.78s\tremaining: 24.9s\n",
      "300:\tlearn: 0.2367845\ttest: 0.2698584\tbest: 0.2698584 (300)\ttotal: 3.29s\tremaining: 24.1s\n",
      "350:\tlearn: 0.2171202\ttest: 0.2562283\tbest: 0.2562283 (350)\ttotal: 3.83s\tremaining: 23.4s\n",
      "400:\tlearn: 0.1991196\ttest: 0.2454383\tbest: 0.2454383 (400)\ttotal: 4.32s\tremaining: 22.6s\n",
      "450:\tlearn: 0.1843869\ttest: 0.2355689\tbest: 0.2354600 (449)\ttotal: 4.83s\tremaining: 21.9s\n",
      "500:\tlearn: 0.1715838\ttest: 0.2285539\tbest: 0.2285539 (500)\ttotal: 5.33s\tremaining: 21.3s\n",
      "550:\tlearn: 0.1602034\ttest: 0.2210637\tbest: 0.2210637 (550)\ttotal: 5.82s\tremaining: 20.6s\n",
      "600:\tlearn: 0.1499565\ttest: 0.2156302\tbest: 0.2156302 (600)\ttotal: 6.33s\tremaining: 20s\n",
      "650:\tlearn: 0.1401616\ttest: 0.2099938\tbest: 0.2099659 (647)\ttotal: 6.88s\tremaining: 19.5s\n",
      "700:\tlearn: 0.1324673\ttest: 0.2055926\tbest: 0.2055068 (699)\ttotal: 7.4s\tremaining: 19s\n",
      "750:\tlearn: 0.1246342\ttest: 0.2011048\tbest: 0.2011048 (750)\ttotal: 7.95s\tremaining: 18.5s\n",
      "800:\tlearn: 0.1183581\ttest: 0.1976909\tbest: 0.1976909 (800)\ttotal: 8.49s\tremaining: 18s\n",
      "850:\tlearn: 0.1124758\ttest: 0.1949180\tbest: 0.1949180 (850)\ttotal: 9.02s\tremaining: 17.5s\n",
      "900:\tlearn: 0.1065809\ttest: 0.1917591\tbest: 0.1917591 (900)\ttotal: 9.56s\tremaining: 17s\n",
      "950:\tlearn: 0.1017127\ttest: 0.1887505\tbest: 0.1887505 (950)\ttotal: 10.1s\tremaining: 16.5s\n",
      "1000:\tlearn: 0.0967533\ttest: 0.1857274\tbest: 0.1857274 (1000)\ttotal: 10.6s\tremaining: 15.9s\n",
      "1050:\tlearn: 0.0922811\ttest: 0.1842840\tbest: 0.1842840 (1050)\ttotal: 11.2s\tremaining: 15.4s\n",
      "1100:\tlearn: 0.0882272\ttest: 0.1820740\tbest: 0.1820379 (1099)\ttotal: 11.7s\tremaining: 14.9s\n",
      "1150:\tlearn: 0.0842819\ttest: 0.1806366\tbest: 0.1805976 (1149)\ttotal: 12.2s\tremaining: 14.3s\n",
      "1200:\tlearn: 0.0808946\ttest: 0.1788719\tbest: 0.1788421 (1199)\ttotal: 12.8s\tremaining: 13.8s\n",
      "1250:\tlearn: 0.0774890\ttest: 0.1771728\tbest: 0.1771728 (1250)\ttotal: 13.3s\tremaining: 13.3s\n",
      "1300:\tlearn: 0.0745105\ttest: 0.1756749\tbest: 0.1756749 (1300)\ttotal: 13.8s\tremaining: 12.8s\n",
      "1350:\tlearn: 0.0713839\ttest: 0.1742791\tbest: 0.1742791 (1350)\ttotal: 14.4s\tremaining: 12.2s\n",
      "1400:\tlearn: 0.0687399\ttest: 0.1727896\tbest: 0.1727896 (1400)\ttotal: 14.9s\tremaining: 11.7s\n",
      "1450:\tlearn: 0.0661684\ttest: 0.1722873\tbest: 0.1722873 (1450)\ttotal: 15.5s\tremaining: 11.2s\n",
      "1500:\tlearn: 0.0639227\ttest: 0.1721332\tbest: 0.1718134 (1476)\ttotal: 16s\tremaining: 10.6s\n",
      "1550:\tlearn: 0.0616376\ttest: 0.1712256\tbest: 0.1711737 (1549)\ttotal: 16.5s\tremaining: 10.1s\n",
      "1600:\tlearn: 0.0595819\ttest: 0.1709543\tbest: 0.1709309 (1598)\ttotal: 17.1s\tremaining: 9.6s\n",
      "1650:\tlearn: 0.0574918\ttest: 0.1704296\tbest: 0.1704176 (1648)\ttotal: 17.6s\tremaining: 9.06s\n",
      "1700:\tlearn: 0.0555505\ttest: 0.1697898\tbest: 0.1697009 (1699)\ttotal: 18.2s\tremaining: 8.53s\n",
      "1750:\tlearn: 0.0538223\ttest: 0.1692789\tbest: 0.1692304 (1749)\ttotal: 18.7s\tremaining: 8s\n",
      "1800:\tlearn: 0.0521964\ttest: 0.1689010\tbest: 0.1688773 (1788)\ttotal: 19.2s\tremaining: 7.46s\n",
      "1850:\tlearn: 0.0505364\ttest: 0.1684160\tbest: 0.1683999 (1846)\ttotal: 19.8s\tremaining: 6.93s\n",
      "1900:\tlearn: 0.0490761\ttest: 0.1684187\tbest: 0.1682793 (1856)\ttotal: 20.3s\tremaining: 6.4s\n",
      "Stopped by overfitting detector  (50 iterations wait)\n",
      "\n",
      "bestTest = 0.1682793087\n",
      "bestIteration = 1856\n",
      "\n",
      "Shrink model to first 1857 iterations.\n"
     ]
    },
    {
     "data": {
      "text/plain": [
       "<catboost.core.CatBoostClassifier at 0x2da3c94d550>"
      ]
     },
     "execution_count": 16,
     "metadata": {},
     "output_type": "execute_result"
    }
   ],
   "source": [
    "model.fit(X_train, y_train, eval_set=(X_test, y_test))"
   ]
  },
  {
   "cell_type": "markdown",
   "metadata": {
    "id": "FntxgSBsErX3"
   },
   "source": [
    "## Plotting Loss"
   ]
  },
  {
   "cell_type": "code",
   "execution_count": 17,
   "metadata": {
    "colab": {
     "base_uri": "https://localhost:8080/",
     "height": 564
    },
    "id": "wVlp_T4NErEP",
    "outputId": "5e7078dc-8aa1-4289-a1ef-2137271bd590"
   },
   "outputs": [
    {
     "data": {
      "image/png": "[encoded data removed]",
      "text/plain": [
       "<Figure size 1000x600 with 1 Axes>"
      ]
     },
     "metadata": {},
     "output_type": "display_data"
    }
   ],
   "source": [
    "evals_result = model.get_evals_result()\n",
    "\n",
    "train_loss = evals_result['learn']['MultiClass']\n",
    "valid_loss = evals_result['validation']['MultiClass']\n",
    "\n",
    "plt.figure(figsize=(10,6))\n",
    "plt.plot(train_loss, label='Training Loss')\n",
    "plt.plot(valid_loss, label='Validation Loss')\n",
    "plt.xlabel('Iteration')\n",
    "plt.ylabel('MultiClass Loss')\n",
    "plt.title('CatBoost Training & Validation Loss')\n",
    "plt.legend()\n",
    "plt.grid(True)\n",
    "plt.show()"
   ]
  },
  {
   "cell_type": "markdown",
   "metadata": {
    "id": "WkJMiODf3jU8"
   },
   "source": [
    "# Evaluation"
   ]
  },
  {
   "cell_type": "code",
   "execution_count": 18,
   "metadata": {
    "id": "RlM3Gy033jCW"
   },
   "outputs": [],
   "source": [
    "y_pred = model.predict(X_test)"
   ]
  },
  {
   "cell_type": "markdown",
   "metadata": {
    "id": "z-JQB_2z547j"
   },
   "source": [
    "## Confusion Matrix"
   ]
  },
  {
   "cell_type": "code",
   "execution_count": 19,
   "metadata": {
    "colab": {
     "base_uri": "https://localhost:8080/",
     "height": 487
    },
    "id": "CMTh0eHt4dxE",
    "outputId": "3093a277-8dda-41b1-c89c-0f8e0719611a"
   },
   "outputs": [
    {
     "data": {
      "image/png": "[encoded data removed]",
      "text/plain": [
       "<Figure size 600x500 with 2 Axes>"
      ]
     },
     "metadata": {},
     "output_type": "display_data"
    }
   ],
   "source": [
    "cm = confusion_matrix(y_test, y_pred)\n",
    "\n",
    "class_names = [\"FALSE POSITIVE\", \"CANDIDATE\", \"CONFIRMED\"]\n",
    "\n",
    "plt.figure(figsize=(6,5))\n",
    "sns.heatmap(cm, annot=True, fmt='d', cmap='Blues',\n",
    "            xticklabels=class_names, yticklabels=class_names)\n",
    "plt.ylabel('True label')\n",
    "plt.xlabel('Predicted label')\n",
    "plt.title('Confusion Matrix')\n",
    "plt.show()"
   ]
  },
  {
   "cell_type": "markdown",
   "metadata": {
    "id": "niTwN6Ni6l4e"
   },
   "source": [
    "## Accuracy"
   ]
  },
  {
   "cell_type": "code",
   "execution_count": 20,
   "metadata": {
    "colab": {
     "base_uri": "https://localhost:8080/"
    },
    "id": "5Ir2HlhM6oU_",
    "outputId": "6e1186e7-f408-4108-bd5e-7a5e5a4317a5"
   },
   "outputs": [
    {
     "name": "stdout",
     "output_type": "stream",
     "text": [
      "Accuracy: 96.96%\n"
     ]
    }
   ],
   "source": [
    "acc = accuracy_score(y_test, y_pred)\n",
    "print(\"Accuracy: {:.2f}%\".format(acc * 100))"
   ]
  },
  {
   "cell_type": "markdown",
   "metadata": {},
   "source": [
    "# Saving Model"
   ]
  },
  {
   "cell_type": "code",
   "execution_count": 22,
   "metadata": {},
   "outputs": [],
   "source": [
    "model.save_model(\"k2_model.onnx\", format=\"onnx\")"
   ]
  }
 ],
 "metadata": {
  "accelerator": "GPU",
  "colab": {
   "gpuType": "T4",
   "provenance": []
  },
  "kernelspec": {
   "display_name": "Python 3 (ipykernel)",
   "language": "python",
   "name": "python3"
  },
  "language_info": {
   "codemirror_mode": {
    "name": "ipython",
    "version": 3
   },
   "file_extension": ".py",
   "mimetype": "text/x-python",
   "name": "python",
   "nbconvert_exporter": "python",
   "pygments_lexer": "ipython3",
   "version": "3.13.7"
  }
 },
 "nbformat": 4,
 "nbformat_minor": 4
}
