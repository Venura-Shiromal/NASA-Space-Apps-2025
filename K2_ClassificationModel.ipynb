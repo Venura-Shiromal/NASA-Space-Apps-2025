{
  "nbformat": 4,
  "nbformat_minor": 0,
  "metadata": {
    "colab": {
      "provenance": [],
      "gpuType": "T4",
      "authorship_tag": "ABX9TyOcKcq/gaCekmIgiZSil4bJ",
      "include_colab_link": true
    },
    "kernelspec": {
      "name": "python3",
      "display_name": "Python 3"
    },
    "language_info": {
      "name": "python"
    },
    "accelerator": "GPU"
  },
  "cells": [
    {
      "cell_type": "markdown",
      "metadata": {
        "id": "view-in-github",
        "colab_type": "text"
      },
      "source": [
        "<a href=\"https://colab.research.google.com/github/Venura-Shiromal/NASA-Space-Apps-2025/blob/main/K2_ClassificationModel.ipynb\" target=\"_parent\"><img src=\"https://colab.research.google.com/assets/colab-badge.svg\" alt=\"Open In Colab\"/></a>"
      ]
    },
    {
      "cell_type": "markdown",
      "source": [
        "## Prerequisities"
      ],
      "metadata": {
        "id": "qZwhouh0vW8A"
      }
    },
    {
      "cell_type": "code",
      "source": [
        "# just in case if needed\n",
        "# !pip install catboost"
      ],
      "metadata": {
        "id": "jyn3rXAOvGc6"
      },
      "execution_count": 35,
      "outputs": []
    },
    {
      "cell_type": "code",
      "execution_count": 36,
      "metadata": {
        "id": "Sx0W_aW_Yyo0"
      },
      "outputs": [],
      "source": [
        "import pandas as pd\n",
        "from catboost import CatBoostClassifier\n",
        "from sklearn.model_selection import train_test_split, StratifiedKFold\n",
        "from sklearn.metrics import classification_report, confusion_matrix, accuracy_score\n",
        "from sklearn.utils.class_weight import compute_class_weight\n",
        "import numpy as np\n",
        "\n",
        "import matplotlib.pyplot as plt\n",
        "import seaborn as sns"
      ]
    },
    {
      "cell_type": "markdown",
      "source": [
        "## Loading Data"
      ],
      "metadata": {
        "id": "VVyWLHQuky2K"
      }
    },
    {
      "cell_type": "code",
      "source": [
        "k2 = pd.read_csv('sample_data/k2pandc_2025.09.26_11.17.56.csv', comment='#')\n",
        "k2.head()"
      ],
      "metadata": {
        "colab": {
          "base_uri": "https://localhost:8080/",
          "height": 342
        },
        "id": "uC2Meugwkt7e",
        "outputId": "67d18cdb-6c9a-477c-cca1-3f77b33350c6"
      },
      "execution_count": 37,
      "outputs": [
        {
          "output_type": "execute_result",
          "data": {
            "text/plain": [
              "             pl_name        hostname  default_flag disposition  \\\n",
              "0        BD+20 594 b       BD+20 594             0   CONFIRMED   \n",
              "1        BD+20 594 b       BD+20 594             0   CONFIRMED   \n",
              "2        BD+20 594 b       BD+20 594             1   CONFIRMED   \n",
              "3  EPIC 201111557.01  EPIC 201111557             1   CANDIDATE   \n",
              "4  EPIC 201111557.01  EPIC 201111557             0   CANDIDATE   \n",
              "\n",
              "             disp_refname  sy_snum  sy_pnum discoverymethod  disc_year  \\\n",
              "0    Espinoza et al. 2016      1.0      1.0         Transit     2016.0   \n",
              "1    Espinoza et al. 2016      1.0      1.0         Transit     2016.0   \n",
              "2    Espinoza et al. 2016      1.0      1.0         Transit     2016.0   \n",
              "3  Livingston et al. 2018      1.0      0.0         Transit     2018.0   \n",
              "4  Livingston et al. 2018      1.0      0.0         Transit     2018.0   \n",
              "\n",
              "  disc_facility  ... sy_vmagerr2  sy_kmag sy_kmagerr1  sy_kmagerr2  \\\n",
              "0            K2  ...      -0.012    9.368       0.018       -0.018   \n",
              "1            K2  ...      -0.012    9.368       0.018       -0.018   \n",
              "2            K2  ...      -0.012    9.368       0.018       -0.018   \n",
              "3            K2  ...      -0.046    9.220       0.019       -0.019   \n",
              "4            K2  ...      -0.046    9.220       0.019       -0.019   \n",
              "\n",
              "   sy_gaiamag  sy_gaiamagerr1  sy_gaiamagerr2   rowupdate  pl_pubdate  \\\n",
              "0     10.8644        0.000249       -0.000249  2018-04-25     2018-03   \n",
              "1     10.8644        0.000249       -0.000249  2018-04-25     2016-10   \n",
              "2     10.8644        0.000249       -0.000249  2018-04-25     2017-03   \n",
              "3     11.3995        0.001307       -0.001307  2018-08-02     2018-08   \n",
              "4     11.3995        0.001307       -0.001307  2018-02-15     2018-03   \n",
              "\n",
              "   releasedate  \n",
              "0   2018-02-15  \n",
              "1   2016-07-28  \n",
              "2   2018-04-26  \n",
              "3   2018-08-02  \n",
              "4   2018-02-15  \n",
              "\n",
              "[5 rows x 94 columns]"
            ],
            "text/html": [
              "\n",
              "  <div id=\"df-5dfc4d11-7a1c-456c-9741-f44036b6c4b2\" class=\"colab-df-container\">\n",
              "    <div>\n",
              "<style scoped>\n",
              "    .dataframe tbody tr th:only-of-type {\n",
              "        vertical-align: middle;\n",
              "    }\n",
              "\n",
              "    .dataframe tbody tr th {\n",
              "        vertical-align: top;\n",
              "    }\n",
              "\n",
              "    .dataframe thead th {\n",
              "        text-align: right;\n",
              "    }\n",
              "</style>\n",
              "<table border=\"1\" class=\"dataframe\">\n",
              "  <thead>\n",
              "    <tr style=\"text-align: right;\">\n",
              "      <th></th>\n",
              "      <th>pl_name</th>\n",
              "      <th>hostname</th>\n",
              "      <th>default_flag</th>\n",
              "      <th>disposition</th>\n",
              "      <th>disp_refname</th>\n",
              "      <th>sy_snum</th>\n",
              "      <th>sy_pnum</th>\n",
              "      <th>discoverymethod</th>\n",
              "      <th>disc_year</th>\n",
              "      <th>disc_facility</th>\n",
              "      <th>...</th>\n",
              "      <th>sy_vmagerr2</th>\n",
              "      <th>sy_kmag</th>\n",
              "      <th>sy_kmagerr1</th>\n",
              "      <th>sy_kmagerr2</th>\n",
              "      <th>sy_gaiamag</th>\n",
              "      <th>sy_gaiamagerr1</th>\n",
              "      <th>sy_gaiamagerr2</th>\n",
              "      <th>rowupdate</th>\n",
              "      <th>pl_pubdate</th>\n",
              "      <th>releasedate</th>\n",
              "    </tr>\n",
              "  </thead>\n",
              "  <tbody>\n",
              "    <tr>\n",
              "      <th>0</th>\n",
              "      <td>BD+20 594 b</td>\n",
              "      <td>BD+20 594</td>\n",
              "      <td>0</td>\n",
              "      <td>CONFIRMED</td>\n",
              "      <td>Espinoza et al. 2016</td>\n",
              "      <td>1.0</td>\n",
              "      <td>1.0</td>\n",
              "      <td>Transit</td>\n",
              "      <td>2016.0</td>\n",
              "      <td>K2</td>\n",
              "      <td>...</td>\n",
              "      <td>-0.012</td>\n",
              "      <td>9.368</td>\n",
              "      <td>0.018</td>\n",
              "      <td>-0.018</td>\n",
              "      <td>10.8644</td>\n",
              "      <td>0.000249</td>\n",
              "      <td>-0.000249</td>\n",
              "      <td>2018-04-25</td>\n",
              "      <td>2018-03</td>\n",
              "      <td>2018-02-15</td>\n",
              "    </tr>\n",
              "    <tr>\n",
              "      <th>1</th>\n",
              "      <td>BD+20 594 b</td>\n",
              "      <td>BD+20 594</td>\n",
              "      <td>0</td>\n",
              "      <td>CONFIRMED</td>\n",
              "      <td>Espinoza et al. 2016</td>\n",
              "      <td>1.0</td>\n",
              "      <td>1.0</td>\n",
              "      <td>Transit</td>\n",
              "      <td>2016.0</td>\n",
              "      <td>K2</td>\n",
              "      <td>...</td>\n",
              "      <td>-0.012</td>\n",
              "      <td>9.368</td>\n",
              "      <td>0.018</td>\n",
              "      <td>-0.018</td>\n",
              "      <td>10.8644</td>\n",
              "      <td>0.000249</td>\n",
              "      <td>-0.000249</td>\n",
              "      <td>2018-04-25</td>\n",
              "      <td>2016-10</td>\n",
              "      <td>2016-07-28</td>\n",
              "    </tr>\n",
              "    <tr>\n",
              "      <th>2</th>\n",
              "      <td>BD+20 594 b</td>\n",
              "      <td>BD+20 594</td>\n",
              "      <td>1</td>\n",
              "      <td>CONFIRMED</td>\n",
              "      <td>Espinoza et al. 2016</td>\n",
              "      <td>1.0</td>\n",
              "      <td>1.0</td>\n",
              "      <td>Transit</td>\n",
              "      <td>2016.0</td>\n",
              "      <td>K2</td>\n",
              "      <td>...</td>\n",
              "      <td>-0.012</td>\n",
              "      <td>9.368</td>\n",
              "      <td>0.018</td>\n",
              "      <td>-0.018</td>\n",
              "      <td>10.8644</td>\n",
              "      <td>0.000249</td>\n",
              "      <td>-0.000249</td>\n",
              "      <td>2018-04-25</td>\n",
              "      <td>2017-03</td>\n",
              "      <td>2018-04-26</td>\n",
              "    </tr>\n",
              "    <tr>\n",
              "      <th>3</th>\n",
              "      <td>EPIC 201111557.01</td>\n",
              "      <td>EPIC 201111557</td>\n",
              "      <td>1</td>\n",
              "      <td>CANDIDATE</td>\n",
              "      <td>Livingston et al. 2018</td>\n",
              "      <td>1.0</td>\n",
              "      <td>0.0</td>\n",
              "      <td>Transit</td>\n",
              "      <td>2018.0</td>\n",
              "      <td>K2</td>\n",
              "      <td>...</td>\n",
              "      <td>-0.046</td>\n",
              "      <td>9.220</td>\n",
              "      <td>0.019</td>\n",
              "      <td>-0.019</td>\n",
              "      <td>11.3995</td>\n",
              "      <td>0.001307</td>\n",
              "      <td>-0.001307</td>\n",
              "      <td>2018-08-02</td>\n",
              "      <td>2018-08</td>\n",
              "      <td>2018-08-02</td>\n",
              "    </tr>\n",
              "    <tr>\n",
              "      <th>4</th>\n",
              "      <td>EPIC 201111557.01</td>\n",
              "      <td>EPIC 201111557</td>\n",
              "      <td>0</td>\n",
              "      <td>CANDIDATE</td>\n",
              "      <td>Livingston et al. 2018</td>\n",
              "      <td>1.0</td>\n",
              "      <td>0.0</td>\n",
              "      <td>Transit</td>\n",
              "      <td>2018.0</td>\n",
              "      <td>K2</td>\n",
              "      <td>...</td>\n",
              "      <td>-0.046</td>\n",
              "      <td>9.220</td>\n",
              "      <td>0.019</td>\n",
              "      <td>-0.019</td>\n",
              "      <td>11.3995</td>\n",
              "      <td>0.001307</td>\n",
              "      <td>-0.001307</td>\n",
              "      <td>2018-02-15</td>\n",
              "      <td>2018-03</td>\n",
              "      <td>2018-02-15</td>\n",
              "    </tr>\n",
              "  </tbody>\n",
              "</table>\n",
              "<p>5 rows × 94 columns</p>\n",
              "</div>\n",
              "    <div class=\"colab-df-buttons\">\n",
              "\n",
              "  <div class=\"colab-df-container\">\n",
              "    <button class=\"colab-df-convert\" onclick=\"convertToInteractive('df-5dfc4d11-7a1c-456c-9741-f44036b6c4b2')\"\n",
              "            title=\"Convert this dataframe to an interactive table.\"\n",
              "            style=\"display:none;\">\n",
              "\n",
              "  <svg xmlns=\"http://www.w3.org/2000/svg\" height=\"24px\" viewBox=\"0 -960 960 960\">\n",
              "    <path d=\"M120-120v-720h720v720H120Zm60-500h600v-160H180v160Zm220 220h160v-160H400v160Zm0 220h160v-160H400v160ZM180-400h160v-160H180v160Zm440 0h160v-160H620v160ZM180-180h160v-160H180v160Zm440 0h160v-160H620v160Z\"/>\n",
              "  </svg>\n",
              "    </button>\n",
              "\n",
              "  <style>\n",
              "    .colab-df-container {\n",
              "      display:flex;\n",
              "      gap: 12px;\n",
              "    }\n",
              "\n",
              "    .colab-df-convert {\n",
              "      background-color: #E8F0FE;\n",
              "      border: none;\n",
              "      border-radius: 50%;\n",
              "      cursor: pointer;\n",
              "      display: none;\n",
              "      fill: #1967D2;\n",
              "      height: 32px;\n",
              "      padding: 0 0 0 0;\n",
              "      width: 32px;\n",
              "    }\n",
              "\n",
              "    .colab-df-convert:hover {\n",
              "      background-color: #E2EBFA;\n",
              "      box-shadow: 0px 1px 2px rgba(60, 64, 67, 0.3), 0px 1px 3px 1px rgba(60, 64, 67, 0.15);\n",
              "      fill: #174EA6;\n",
              "    }\n",
              "\n",
              "    .colab-df-buttons div {\n",
              "      margin-bottom: 4px;\n",
              "    }\n",
              "\n",
              "    [theme=dark] .colab-df-convert {\n",
              "      background-color: #3B4455;\n",
              "      fill: #D2E3FC;\n",
              "    }\n",
              "\n",
              "    [theme=dark] .colab-df-convert:hover {\n",
              "      background-color: #434B5C;\n",
              "      box-shadow: 0px 1px 3px 1px rgba(0, 0, 0, 0.15);\n",
              "      filter: drop-shadow(0px 1px 2px rgba(0, 0, 0, 0.3));\n",
              "      fill: #FFFFFF;\n",
              "    }\n",
              "  </style>\n",
              "\n",
              "    <script>\n",
              "      const buttonEl =\n",
              "        document.querySelector('#df-5dfc4d11-7a1c-456c-9741-f44036b6c4b2 button.colab-df-convert');\n",
              "      buttonEl.style.display =\n",
              "        google.colab.kernel.accessAllowed ? 'block' : 'none';\n",
              "\n",
              "      async function convertToInteractive(key) {\n",
              "        const element = document.querySelector('#df-5dfc4d11-7a1c-456c-9741-f44036b6c4b2');\n",
              "        const dataTable =\n",
              "          await google.colab.kernel.invokeFunction('convertToInteractive',\n",
              "                                                    [key], {});\n",
              "        if (!dataTable) return;\n",
              "\n",
              "        const docLinkHtml = 'Like what you see? Visit the ' +\n",
              "          '<a target=\"_blank\" href=https://colab.research.google.com/notebooks/data_table.ipynb>data table notebook</a>'\n",
              "          + ' to learn more about interactive tables.';\n",
              "        element.innerHTML = '';\n",
              "        dataTable['output_type'] = 'display_data';\n",
              "        await google.colab.output.renderOutput(dataTable, element);\n",
              "        const docLink = document.createElement('div');\n",
              "        docLink.innerHTML = docLinkHtml;\n",
              "        element.appendChild(docLink);\n",
              "      }\n",
              "    </script>\n",
              "  </div>\n",
              "\n",
              "\n",
              "    <div id=\"df-5585d88a-0be8-43d8-ac36-ed930cdd172e\">\n",
              "      <button class=\"colab-df-quickchart\" onclick=\"quickchart('df-5585d88a-0be8-43d8-ac36-ed930cdd172e')\"\n",
              "                title=\"Suggest charts\"\n",
              "                style=\"display:none;\">\n",
              "\n",
              "<svg xmlns=\"http://www.w3.org/2000/svg\" height=\"24px\"viewBox=\"0 0 24 24\"\n",
              "     width=\"24px\">\n",
              "    <g>\n",
              "        <path d=\"M19 3H5c-1.1 0-2 .9-2 2v14c0 1.1.9 2 2 2h14c1.1 0 2-.9 2-2V5c0-1.1-.9-2-2-2zM9 17H7v-7h2v7zm4 0h-2V7h2v10zm4 0h-2v-4h2v4z\"/>\n",
              "    </g>\n",
              "</svg>\n",
              "      </button>\n",
              "\n",
              "<style>\n",
              "  .colab-df-quickchart {\n",
              "      --bg-color: #E8F0FE;\n",
              "      --fill-color: #1967D2;\n",
              "      --hover-bg-color: #E2EBFA;\n",
              "      --hover-fill-color: #174EA6;\n",
              "      --disabled-fill-color: #AAA;\n",
              "      --disabled-bg-color: #DDD;\n",
              "  }\n",
              "\n",
              "  [theme=dark] .colab-df-quickchart {\n",
              "      --bg-color: #3B4455;\n",
              "      --fill-color: #D2E3FC;\n",
              "      --hover-bg-color: #434B5C;\n",
              "      --hover-fill-color: #FFFFFF;\n",
              "      --disabled-bg-color: #3B4455;\n",
              "      --disabled-fill-color: #666;\n",
              "  }\n",
              "\n",
              "  .colab-df-quickchart {\n",
              "    background-color: var(--bg-color);\n",
              "    border: none;\n",
              "    border-radius: 50%;\n",
              "    cursor: pointer;\n",
              "    display: none;\n",
              "    fill: var(--fill-color);\n",
              "    height: 32px;\n",
              "    padding: 0;\n",
              "    width: 32px;\n",
              "  }\n",
              "\n",
              "  .colab-df-quickchart:hover {\n",
              "    background-color: var(--hover-bg-color);\n",
              "    box-shadow: 0 1px 2px rgba(60, 64, 67, 0.3), 0 1px 3px 1px rgba(60, 64, 67, 0.15);\n",
              "    fill: var(--button-hover-fill-color);\n",
              "  }\n",
              "\n",
              "  .colab-df-quickchart-complete:disabled,\n",
              "  .colab-df-quickchart-complete:disabled:hover {\n",
              "    background-color: var(--disabled-bg-color);\n",
              "    fill: var(--disabled-fill-color);\n",
              "    box-shadow: none;\n",
              "  }\n",
              "\n",
              "  .colab-df-spinner {\n",
              "    border: 2px solid var(--fill-color);\n",
              "    border-color: transparent;\n",
              "    border-bottom-color: var(--fill-color);\n",
              "    animation:\n",
              "      spin 1s steps(1) infinite;\n",
              "  }\n",
              "\n",
              "  @keyframes spin {\n",
              "    0% {\n",
              "      border-color: transparent;\n",
              "      border-bottom-color: var(--fill-color);\n",
              "      border-left-color: var(--fill-color);\n",
              "    }\n",
              "    20% {\n",
              "      border-color: transparent;\n",
              "      border-left-color: var(--fill-color);\n",
              "      border-top-color: var(--fill-color);\n",
              "    }\n",
              "    30% {\n",
              "      border-color: transparent;\n",
              "      border-left-color: var(--fill-color);\n",
              "      border-top-color: var(--fill-color);\n",
              "      border-right-color: var(--fill-color);\n",
              "    }\n",
              "    40% {\n",
              "      border-color: transparent;\n",
              "      border-right-color: var(--fill-color);\n",
              "      border-top-color: var(--fill-color);\n",
              "    }\n",
              "    60% {\n",
              "      border-color: transparent;\n",
              "      border-right-color: var(--fill-color);\n",
              "    }\n",
              "    80% {\n",
              "      border-color: transparent;\n",
              "      border-right-color: var(--fill-color);\n",
              "      border-bottom-color: var(--fill-color);\n",
              "    }\n",
              "    90% {\n",
              "      border-color: transparent;\n",
              "      border-bottom-color: var(--fill-color);\n",
              "    }\n",
              "  }\n",
              "</style>\n",
              "\n",
              "      <script>\n",
              "        async function quickchart(key) {\n",
              "          const quickchartButtonEl =\n",
              "            document.querySelector('#' + key + ' button');\n",
              "          quickchartButtonEl.disabled = true;  // To prevent multiple clicks.\n",
              "          quickchartButtonEl.classList.add('colab-df-spinner');\n",
              "          try {\n",
              "            const charts = await google.colab.kernel.invokeFunction(\n",
              "                'suggestCharts', [key], {});\n",
              "          } catch (error) {\n",
              "            console.error('Error during call to suggestCharts:', error);\n",
              "          }\n",
              "          quickchartButtonEl.classList.remove('colab-df-spinner');\n",
              "          quickchartButtonEl.classList.add('colab-df-quickchart-complete');\n",
              "        }\n",
              "        (() => {\n",
              "          let quickchartButtonEl =\n",
              "            document.querySelector('#df-5585d88a-0be8-43d8-ac36-ed930cdd172e button');\n",
              "          quickchartButtonEl.style.display =\n",
              "            google.colab.kernel.accessAllowed ? 'block' : 'none';\n",
              "        })();\n",
              "      </script>\n",
              "    </div>\n",
              "\n",
              "    </div>\n",
              "  </div>\n"
            ],
            "application/vnd.google.colaboratory.intrinsic+json": {
              "type": "dataframe",
              "variable_name": "k2"
            }
          },
          "metadata": {},
          "execution_count": 37
        }
      ]
    },
    {
      "cell_type": "markdown",
      "source": [
        "## Feature Selection"
      ],
      "metadata": {
        "id": "07Hmh6kFmtFN"
      }
    },
    {
      "cell_type": "code",
      "source": [
        "features = [\n",
        "    \"pl_orbper\",\n",
        "    \"pl_orbsmax\",\n",
        "    \"pl_rade\",\n",
        "    \"pl_radj\",\n",
        "    \"pl_bmasse\",\n",
        "    \"pl_bmassj\",\n",
        "    \"pl_orbeccen\",\n",
        "    \"pl_insol\",\n",
        "    \"pl_eqt\",\n",
        "    \"st_teff\",\n",
        "    \"st_rad\",\n",
        "    \"st_mass\",\n",
        "    \"st_met\",\n",
        "    \"st_logg\",\n",
        "\n",
        "    \"disposition\",\n",
        "\n",
        "    \"discoverymethod\",\n",
        "    \"disc_year\",\n",
        "    \"sy_dist\",\n",
        "    \"st_spectype\"\n",
        "]"
      ],
      "metadata": {
        "id": "TrGOOBvmlER9"
      },
      "execution_count": 38,
      "outputs": []
    },
    {
      "cell_type": "markdown",
      "source": [
        "Label Mapping"
      ],
      "metadata": {
        "id": "JKSIKT4To9HZ"
      }
    },
    {
      "cell_type": "code",
      "source": [
        "label_map = {\n",
        "    'CONFIRMED': 1,   # Confirmed Planet\n",
        "    'CANDIDATE': 0,   # Planetary Candidate\n",
        "    'FALSE POSITIVE': -1,  # False Positive\n",
        "    'REFUTED': -1   # False Alarm\n",
        "}\n",
        "\n",
        "method_map = {\n",
        "    'Transit': 2,\n",
        "    'Radial Velocity': 1,\n",
        "    'Microlensing': 0\n",
        "}\n",
        "\n",
        "spectral_map = {\n",
        "    'K3': 0, 'G': 1, 'G8': 2, 'K5': 3, 'K0': 4, 'K2': 5, 'M4': 6, 'F8': 7, 'K7': 8,\n",
        "    'G2': 9, 'G3': 10, 'F0': 11, 'G5': 12, 'G7': 13, 'G1': 14, 'G9': 15, 'M0': 16,\n",
        "    'G0': 17, 'M3': 18, 'K4': 19, 'G4': 20, 'F2': 21, 'F7': 22, 'G5 V': 23, 'M5': 24,\n",
        "    'M2': 25, 'M1': 26, 'A III': 27, 'F5 V': 28, 'F5': 29, 'F9': 30, 'F6': 31, 'G6': 32,\n",
        "    'G8 IV/V': 33, 'M2.5 V': 34, 'K6 V': 35, 'K7 V': 36, 'K5 V': 37, 'F': 38, 'G0 V': 39,\n",
        "    'G V': 40, 'K0 V': 41, 'F6 V': 42, 'K1': 43, 'F9 IV': 44, 'K3 V': 45, 'M1.0 V': 46,\n",
        "    'M1.5 V': 47, 'M1 V': 48, 'K5.5': 49, 'M3 V': 50, 'G8 V': 51, 'K1 V': 52, 'G6 V': 53,\n",
        "    'M3.0 V': 54, 'M0.0 V': 55, 'G9 V': 56, 'K2 V': 57, 'M0.0': 58, 'M0 V': 59, 'F9 V': 60,\n",
        "    'G2 V': 61, 'M0.5 V': 62, 'M4.5': 63, 'M4.5 V': 64, 'G7 IV/V': 65, 'G7 V': 66, 'G3 V': 67,\n",
        "    'M V': 68, 'M0.0&plusmn;0.5 V': 69, 'M(3.5+/-0.5) V': 70, 'M3.3': 71, 'K4 V': 72,\n",
        "    'M4 V': 73, 'M5 V': 74, 'K7.5 V': 75, 'G4 V': 76, 'M3.0': 77, 'F8 V': 78, 'G0 IV': 79,\n",
        "    'K6': 80, 'K3.5 V': 81\n",
        "}\n",
        "\n",
        "k2[\"disposition\"] = k2[\"disposition\"].map(label_map)\n",
        "k2[\"discoverymethod\"] = k2[\"discoverymethod\"].map(method_map)\n",
        "k2['st_spectype'] = k2['st_spectype'].map(spectral_map)"
      ],
      "metadata": {
        "id": "_8K-UEG5o_DS"
      },
      "execution_count": 39,
      "outputs": []
    },
    {
      "cell_type": "code",
      "source": [
        "k2 = k2[features]"
      ],
      "metadata": {
        "id": "2QU8f3N9qSup"
      },
      "execution_count": 40,
      "outputs": []
    },
    {
      "cell_type": "markdown",
      "source": [
        "## Filling empty cells"
      ],
      "metadata": {
        "id": "Ne4pIk6jr0N-"
      }
    },
    {
      "cell_type": "code",
      "source": [
        "numerical_cols = [\n",
        "    \"pl_orbper\", \"pl_orbsmax\", \"pl_rade\", \"pl_radj\",\n",
        "    \"pl_bmasse\", \"pl_bmassj\", \"pl_orbeccen\", \"pl_insol\", \"pl_eqt\",\n",
        "    \"st_teff\", \"st_rad\", \"st_mass\", \"st_met\", \"st_logg\",\n",
        "    \"sy_dist\", \"discoverymethod\", \"st_spectype\", \"disc_year\"\n",
        "]\n",
        "\n",
        "for col in numerical_cols:\n",
        "    k2[col].fillna(k2[col].median(), inplace=True)"
      ],
      "metadata": {
        "colab": {
          "base_uri": "https://localhost:8080/"
        },
        "id": "SeH6ipCEpvRY",
        "outputId": "6e63cf22-6858-41e5-8494-05144e64bcb5"
      },
      "execution_count": 41,
      "outputs": [
        {
          "output_type": "stream",
          "name": "stderr",
          "text": [
            "/tmp/ipython-input-774407731.py:9: FutureWarning: A value is trying to be set on a copy of a DataFrame or Series through chained assignment using an inplace method.\n",
            "The behavior will change in pandas 3.0. This inplace method will never work because the intermediate object on which we are setting values always behaves as a copy.\n",
            "\n",
            "For example, when doing 'df[col].method(value, inplace=True)', try using 'df.method({col: value}, inplace=True)' or df[col] = df[col].method(value) instead, to perform the operation inplace on the original object.\n",
            "\n",
            "\n",
            "  k2[col].fillna(k2[col].median(), inplace=True)\n"
          ]
        }
      ]
    },
    {
      "cell_type": "markdown",
      "source": [
        "### Checking if NaN available"
      ],
      "metadata": {
        "id": "DILU0J92sQkD"
      }
    },
    {
      "cell_type": "code",
      "source": [
        "print(k2.isna().sum())"
      ],
      "metadata": {
        "colab": {
          "base_uri": "https://localhost:8080/"
        },
        "id": "-vAY-1XHsPL_",
        "outputId": "3f56915c-da11-4182-8fa3-aa3753c46e39"
      },
      "execution_count": 42,
      "outputs": [
        {
          "output_type": "stream",
          "name": "stdout",
          "text": [
            "pl_orbper          0\n",
            "pl_orbsmax         0\n",
            "pl_rade            0\n",
            "pl_radj            0\n",
            "pl_bmasse          0\n",
            "pl_bmassj          0\n",
            "pl_orbeccen        0\n",
            "pl_insol           0\n",
            "pl_eqt             0\n",
            "st_teff            0\n",
            "st_rad             0\n",
            "st_mass            0\n",
            "st_met             0\n",
            "st_logg            0\n",
            "disposition        0\n",
            "discoverymethod    0\n",
            "disc_year          0\n",
            "sy_dist            0\n",
            "st_spectype        0\n",
            "dtype: int64\n"
          ]
        }
      ]
    },
    {
      "cell_type": "markdown",
      "source": [
        "## Defining data sets"
      ],
      "metadata": {
        "id": "BZZYmmphpiL2"
      }
    },
    {
      "cell_type": "code",
      "source": [
        "X = k2.drop(\"disposition\", axis=1)\n",
        "y = k2[\"disposition\"]"
      ],
      "metadata": {
        "id": "PcnhnqBQpRHx"
      },
      "execution_count": 43,
      "outputs": []
    },
    {
      "cell_type": "code",
      "source": [
        "X_train, X_test, y_train, y_test = train_test_split(\n",
        "    X, y, test_size=0.2, stratify=y, random_state=42\n",
        "    )"
      ],
      "metadata": {
        "id": "AOpgnjyLpoV6"
      },
      "execution_count": 44,
      "outputs": []
    },
    {
      "cell_type": "markdown",
      "source": [
        "Defining Classes"
      ],
      "metadata": {
        "id": "2y8mTfRp05y2"
      }
    },
    {
      "cell_type": "code",
      "source": [
        "classes = np.unique(y_train)"
      ],
      "metadata": {
        "id": "wawMFEOe091B"
      },
      "execution_count": 45,
      "outputs": []
    },
    {
      "cell_type": "markdown",
      "source": [
        "Calculating Class Weights"
      ],
      "metadata": {
        "id": "NUalJl3109ld"
      }
    },
    {
      "cell_type": "code",
      "source": [
        "weights = compute_class_weight(\"balanced\", classes=classes, y=y_train)"
      ],
      "metadata": {
        "id": "Jl0IYZY6wvIU"
      },
      "execution_count": 46,
      "outputs": []
    },
    {
      "cell_type": "markdown",
      "source": [
        "Combining both"
      ],
      "metadata": {
        "id": "l05vbhRO137y"
      }
    },
    {
      "cell_type": "code",
      "source": [
        "class_weights = dict(zip(classes, weights))"
      ],
      "metadata": {
        "id": "u01MI-W11Ylq"
      },
      "execution_count": 47,
      "outputs": []
    },
    {
      "cell_type": "markdown",
      "source": [
        "### Cross-validation"
      ],
      "metadata": {
        "id": "B2ktYZ_CLb8M"
      }
    },
    {
      "cell_type": "code",
      "source": [
        "skf = StratifiedKFold(n_splits=5, shuffle=True, random_state=42)\n",
        "\n",
        "for train_idx, valid_idx in skf.split(X, y):\n",
        "    X_train, X_valid = X.iloc[train_idx], X.iloc[valid_idx]\n",
        "    y_train, y_valid = y.iloc[train_idx], y.iloc[valid_idx]"
      ],
      "metadata": {
        "id": "tBDk3uGRKDF8"
      },
      "execution_count": 48,
      "outputs": []
    },
    {
      "cell_type": "markdown",
      "source": [
        "## Cat Boost Initiation"
      ],
      "metadata": {
        "id": "6WdykEBY2F1v"
      }
    },
    {
      "cell_type": "markdown",
      "source": [
        "### Parameters\n"
      ],
      "metadata": {
        "id": "disXqpzB24me"
      }
    },
    {
      "cell_type": "code",
      "source": [
        "max_ite = 2500\n",
        "dep = 8\n",
        "l_rate = 0.04"
      ],
      "metadata": {
        "id": "VCVzo7F63Aa4"
      },
      "execution_count": 99,
      "outputs": []
    },
    {
      "cell_type": "code",
      "source": [
        "model = CatBoostClassifier(\n",
        "    iterations=max_ite,\n",
        "    depth=dep,\n",
        "    learning_rate=l_rate,\n",
        "    loss_function=\"MultiClass\",\n",
        "    eval_metric=\"MultiClass\",\n",
        "    l2_leaf_reg=5,\n",
        "    early_stopping_rounds=50,\n",
        "    random_seed=42,\n",
        "    verbose=50,\n",
        "    class_weights=class_weights\n",
        ")\n"
      ],
      "metadata": {
        "id": "whC-nezHq_WX"
      },
      "execution_count": 100,
      "outputs": []
    },
    {
      "cell_type": "markdown",
      "source": [
        "# Training"
      ],
      "metadata": {
        "id": "zCqAjS8C3eCP"
      }
    },
    {
      "cell_type": "code",
      "source": [
        "model.fit(X_train, y_train, eval_set=(X_test, y_test))"
      ],
      "metadata": {
        "colab": {
          "base_uri": "https://localhost:8080/"
        },
        "id": "uMb-AlB93Uej",
        "outputId": "5317a80f-83cd-44a5-ac25-84993665456b"
      },
      "execution_count": 101,
      "outputs": [
        {
          "output_type": "stream",
          "name": "stdout",
          "text": [
            "0:\tlearn: 1.0807041\ttest: 1.0802037\tbest: 1.0802037 (0)\ttotal: 29ms\tremaining: 1m 12s\n",
            "50:\tlearn: 0.6824775\ttest: 0.6766366\tbest: 0.6766366 (50)\ttotal: 1.42s\tremaining: 1m 7s\n",
            "100:\tlearn: 0.5573423\ttest: 0.5505363\tbest: 0.5505363 (100)\ttotal: 3.81s\tremaining: 1m 30s\n",
            "150:\tlearn: 0.4926440\ttest: 0.4876000\tbest: 0.4876000 (150)\ttotal: 5.18s\tremaining: 1m 20s\n",
            "200:\tlearn: 0.4434880\ttest: 0.4415390\tbest: 0.4415390 (200)\ttotal: 6.63s\tremaining: 1m 15s\n",
            "250:\tlearn: 0.3978963\ttest: 0.3997146\tbest: 0.3997146 (250)\ttotal: 8s\tremaining: 1m 11s\n",
            "300:\tlearn: 0.3593682\ttest: 0.3673693\tbest: 0.3673693 (300)\ttotal: 9.37s\tremaining: 1m 8s\n",
            "350:\tlearn: 0.3288768\ttest: 0.3401888\tbest: 0.3401888 (350)\ttotal: 10.7s\tremaining: 1m 5s\n",
            "400:\tlearn: 0.3045527\ttest: 0.3207708\tbest: 0.3207708 (400)\ttotal: 12.1s\tremaining: 1m 3s\n",
            "450:\tlearn: 0.2835434\ttest: 0.3025114\tbest: 0.3025114 (450)\ttotal: 13.5s\tremaining: 1m 1s\n",
            "500:\tlearn: 0.2650207\ttest: 0.2861253\tbest: 0.2861253 (500)\ttotal: 15.8s\tremaining: 1m 3s\n",
            "550:\tlearn: 0.2486223\ttest: 0.2716071\tbest: 0.2716071 (550)\ttotal: 17.3s\tremaining: 1m 1s\n",
            "600:\tlearn: 0.2337223\ttest: 0.2591082\tbest: 0.2591082 (600)\ttotal: 18.7s\tremaining: 59s\n",
            "650:\tlearn: 0.2214014\ttest: 0.2488012\tbest: 0.2488012 (650)\ttotal: 20s\tremaining: 56.9s\n",
            "700:\tlearn: 0.2098782\ttest: 0.2392821\tbest: 0.2392821 (700)\ttotal: 21.4s\tremaining: 55s\n",
            "750:\tlearn: 0.1994325\ttest: 0.2304454\tbest: 0.2304454 (750)\ttotal: 22.8s\tremaining: 53.1s\n",
            "800:\tlearn: 0.1901185\ttest: 0.2233247\tbest: 0.2233247 (800)\ttotal: 24.2s\tremaining: 51.3s\n",
            "850:\tlearn: 0.1816928\ttest: 0.2158280\tbest: 0.2158280 (850)\ttotal: 25.6s\tremaining: 49.6s\n",
            "900:\tlearn: 0.1739068\ttest: 0.2095157\tbest: 0.2095157 (900)\ttotal: 27.8s\tremaining: 49.4s\n",
            "950:\tlearn: 0.1669253\ttest: 0.2040103\tbest: 0.2040103 (950)\ttotal: 29.3s\tremaining: 47.8s\n",
            "1000:\tlearn: 0.1608023\ttest: 0.1994312\tbest: 0.1994312 (1000)\ttotal: 30.7s\tremaining: 46s\n",
            "1050:\tlearn: 0.1545626\ttest: 0.1947261\tbest: 0.1947261 (1050)\ttotal: 32.1s\tremaining: 44.3s\n",
            "1100:\tlearn: 0.1487207\ttest: 0.1901285\tbest: 0.1901285 (1100)\ttotal: 33.5s\tremaining: 42.5s\n",
            "1150:\tlearn: 0.1430074\ttest: 0.1854507\tbest: 0.1854507 (1150)\ttotal: 34.9s\tremaining: 40.9s\n",
            "1200:\tlearn: 0.1377305\ttest: 0.1815263\tbest: 0.1815263 (1200)\ttotal: 36.2s\tremaining: 39.2s\n",
            "1250:\tlearn: 0.1329279\ttest: 0.1778089\tbest: 0.1778089 (1250)\ttotal: 37.7s\tremaining: 37.6s\n",
            "1300:\tlearn: 0.1288437\ttest: 0.1747865\tbest: 0.1747865 (1300)\ttotal: 39.8s\tremaining: 36.7s\n",
            "1350:\tlearn: 0.1247028\ttest: 0.1713725\tbest: 0.1713725 (1350)\ttotal: 41.5s\tremaining: 35.3s\n",
            "1400:\tlearn: 0.1208242\ttest: 0.1687494\tbest: 0.1687494 (1400)\ttotal: 42.8s\tremaining: 33.6s\n",
            "1450:\tlearn: 0.1170128\ttest: 0.1658673\tbest: 0.1658673 (1450)\ttotal: 44.2s\tremaining: 32s\n",
            "1500:\tlearn: 0.1136322\ttest: 0.1631665\tbest: 0.1631665 (1500)\ttotal: 45.6s\tremaining: 30.3s\n",
            "1550:\tlearn: 0.1106641\ttest: 0.1607762\tbest: 0.1607762 (1550)\ttotal: 47s\tremaining: 28.7s\n",
            "1600:\tlearn: 0.1075793\ttest: 0.1586148\tbest: 0.1586148 (1600)\ttotal: 48.4s\tremaining: 27.2s\n",
            "1650:\tlearn: 0.1044989\ttest: 0.1562160\tbest: 0.1562160 (1650)\ttotal: 49.7s\tremaining: 25.6s\n",
            "1700:\tlearn: 0.1016740\ttest: 0.1543699\tbest: 0.1543699 (1700)\ttotal: 51.7s\tremaining: 24.3s\n",
            "1750:\tlearn: 0.0989793\ttest: 0.1528410\tbest: 0.1528410 (1750)\ttotal: 53.5s\tremaining: 22.9s\n",
            "1800:\tlearn: 0.0965995\ttest: 0.1514484\tbest: 0.1514484 (1800)\ttotal: 54.9s\tremaining: 21.3s\n",
            "1850:\tlearn: 0.0941230\ttest: 0.1495017\tbest: 0.1494744 (1849)\ttotal: 56.3s\tremaining: 19.7s\n",
            "1900:\tlearn: 0.0920300\ttest: 0.1483887\tbest: 0.1483887 (1900)\ttotal: 57.6s\tremaining: 18.2s\n",
            "1950:\tlearn: 0.0896081\ttest: 0.1467780\tbest: 0.1467780 (1950)\ttotal: 59.1s\tremaining: 16.6s\n",
            "2000:\tlearn: 0.0873173\ttest: 0.1454853\tbest: 0.1454853 (2000)\ttotal: 1m\tremaining: 15.1s\n",
            "2050:\tlearn: 0.0851855\ttest: 0.1439108\tbest: 0.1439108 (2050)\ttotal: 1m 1s\tremaining: 13.5s\n",
            "2100:\tlearn: 0.0833701\ttest: 0.1426540\tbest: 0.1426540 (2100)\ttotal: 1m 3s\tremaining: 12.1s\n",
            "2150:\tlearn: 0.0814735\ttest: 0.1415409\tbest: 0.1415409 (2150)\ttotal: 1m 5s\tremaining: 10.6s\n",
            "2200:\tlearn: 0.0794794\ttest: 0.1402422\tbest: 0.1402422 (2200)\ttotal: 1m 7s\tremaining: 9.11s\n",
            "2250:\tlearn: 0.0777040\ttest: 0.1392525\tbest: 0.1392525 (2250)\ttotal: 1m 8s\tremaining: 7.57s\n",
            "2300:\tlearn: 0.0761237\ttest: 0.1382101\tbest: 0.1381463 (2296)\ttotal: 1m 9s\tremaining: 6.04s\n",
            "2350:\tlearn: 0.0745597\ttest: 0.1370138\tbest: 0.1370138 (2350)\ttotal: 1m 11s\tremaining: 4.51s\n",
            "2400:\tlearn: 0.0730237\ttest: 0.1361564\tbest: 0.1361564 (2400)\ttotal: 1m 12s\tremaining: 3s\n",
            "2450:\tlearn: 0.0715776\ttest: 0.1350306\tbest: 0.1350055 (2443)\ttotal: 1m 14s\tremaining: 1.48s\n",
            "2499:\tlearn: 0.0701815\ttest: 0.1341722\tbest: 0.1341597 (2496)\ttotal: 1m 15s\tremaining: 0us\n",
            "\n",
            "bestTest = 0.134159672\n",
            "bestIteration = 2496\n",
            "\n",
            "Shrink model to first 2497 iterations.\n"
          ]
        },
        {
          "output_type": "execute_result",
          "data": {
            "text/plain": [
              "<catboost.core.CatBoostClassifier at 0x7cfa2809bec0>"
            ]
          },
          "metadata": {},
          "execution_count": 101
        }
      ]
    },
    {
      "cell_type": "markdown",
      "source": [
        "### Plotting Loss"
      ],
      "metadata": {
        "id": "FntxgSBsErX3"
      }
    },
    {
      "cell_type": "code",
      "source": [
        "evals_result = model.get_evals_result()\n",
        "\n",
        "train_loss = evals_result['learn']['MultiClass']\n",
        "valid_loss = evals_result['validation']['MultiClass']\n",
        "\n",
        "plt.figure(figsize=(10,6))\n",
        "plt.plot(train_loss, label='Training Loss')\n",
        "plt.plot(valid_loss, label='Validation Loss')\n",
        "plt.xlabel('Iteration')\n",
        "plt.ylabel('MultiClass Loss')\n",
        "plt.title('CatBoost Training & Validation Loss')\n",
        "plt.legend()\n",
        "plt.grid(True)\n",
        "plt.show()"
      ],
      "metadata": {
        "id": "wVlp_T4NErEP",
        "outputId": "5e7078dc-8aa1-4289-a1ef-2137271bd590",
        "colab": {
          "base_uri": "https://localhost:8080/",
          "height": 564
        }
      },
      "execution_count": 102,
      "outputs": [
        {
          "output_type": "display_data",
          "data": {
            "text/plain": [
              "<Figure size 1000x600 with 1 Axes>"
            ],
            "image/png": "[encoded data removed]"
          },
          "metadata": {}
        }
      ]
    },
    {
      "cell_type": "markdown",
      "source": [
        "# Evaluation"
      ],
      "metadata": {
        "id": "WkJMiODf3jU8"
      }
    },
    {
      "cell_type": "code",
      "source": [
        "y_pred = model.predict(X_test)"
      ],
      "metadata": {
        "id": "RlM3Gy033jCW"
      },
      "execution_count": 103,
      "outputs": []
    },
    {
      "cell_type": "markdown",
      "source": [
        "### Confusion Matrix"
      ],
      "metadata": {
        "id": "z-JQB_2z547j"
      }
    },
    {
      "cell_type": "code",
      "source": [
        "cm = confusion_matrix(y_test, y_pred)\n",
        "\n",
        "class_names = [\"FALSE POSITIVE\", \"CANDIDATE\", \"CONFIRMED\"]\n",
        "\n",
        "plt.figure(figsize=(6,5))\n",
        "sns.heatmap(cm, annot=True, fmt='d', cmap='Blues',\n",
        "            xticklabels=class_names, yticklabels=class_names)\n",
        "plt.ylabel('True label')\n",
        "plt.xlabel('Predicted label')\n",
        "plt.title('Confusion Matrix')\n",
        "plt.show()"
      ],
      "metadata": {
        "colab": {
          "base_uri": "https://localhost:8080/",
          "height": 487
        },
        "id": "CMTh0eHt4dxE",
        "outputId": "3093a277-8dda-41b1-c89c-0f8e0719611a"
      },
      "execution_count": 104,
      "outputs": [
        {
          "output_type": "display_data",
          "data": {
            "text/plain": [
              "<Figure size 600x500 with 2 Axes>"
            ],
            "image/png": "[encoded data removed]"
          },
          "metadata": {}
        }
      ]
    },
    {
      "cell_type": "markdown",
      "source": [
        "Accuracy"
      ],
      "metadata": {
        "id": "niTwN6Ni6l4e"
      }
    },
    {
      "cell_type": "code",
      "source": [
        "acc = accuracy_score(y_test, y_pred)\n",
        "print(\"Accuracy: {:.2f}%\".format(acc * 100))"
      ],
      "metadata": {
        "colab": {
          "base_uri": "https://localhost:8080/"
        },
        "id": "5Ir2HlhM6oU_",
        "outputId": "6e1186e7-f408-4108-bd5e-7a5e5a4317a5"
      },
      "execution_count": 105,
      "outputs": [
        {
          "output_type": "stream",
          "name": "stdout",
          "text": [
            "Accuracy: 97.88%\n"
          ]
        }
      ]
    },
    {
      "cell_type": "code",
      "source": [],
      "metadata": {
        "id": "NL0EDLAW3OUY"
      },
      "execution_count": null,
      "outputs": []
    }
  ]
}