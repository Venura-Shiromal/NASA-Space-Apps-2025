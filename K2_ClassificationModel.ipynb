{
  "nbformat": 4,
  "nbformat_minor": 0,
  "metadata": {
    "colab": {
      "provenance": [],
      "authorship_tag": "ABX9TyMdrCpD/pgquT+r9ulmK4HK",
      "include_colab_link": true
    },
    "kernelspec": {
      "name": "python3",
      "display_name": "Python 3"
    },
    "language_info": {
      "name": "python"
    }
  },
  "cells": [
    {
      "cell_type": "markdown",
      "metadata": {
        "id": "view-in-github",
        "colab_type": "text"
      },
      "source": [
        "<a href=\"https://colab.research.google.com/github/Venura-Shiromal/NASA-Space-Apps-2025/blob/main/K2_ClassificationModel.ipynb\" target=\"_parent\"><img src=\"https://colab.research.google.com/assets/colab-badge.svg\" alt=\"Open In Colab\"/></a>"
      ]
    },
    {
      "cell_type": "markdown",
      "source": [
        "## Prerequisities"
      ],
      "metadata": {
        "id": "qZwhouh0vW8A"
      }
    },
    {
      "cell_type": "code",
      "source": [
        "# just in case if needed\n",
        "# !pip install catboost"
      ],
      "metadata": {
        "id": "jyn3rXAOvGc6"
      },
      "execution_count": null,
      "outputs": []
    },
    {
      "cell_type": "code",
      "execution_count": 25,
      "metadata": {
        "id": "Sx0W_aW_Yyo0"
      },
      "outputs": [],
      "source": [
        "import pandas as pd\n",
        "from catboost import CatBoostClassifier\n",
        "from sklearn.model_selection import train_test_split, StratifiedKFold\n",
        "from sklearn.metrics import classification_report, confusion_matrix, accuracy_score\n",
        "from sklearn.utils.class_weight import compute_class_weight\n",
        "import numpy as np\n",
        "\n",
        "import matplotlib.pyplot as plt\n",
        "import seaborn as sns"
      ]
    },
    {
      "cell_type": "markdown",
      "source": [
        "## Loading Data"
      ],
      "metadata": {
        "id": "VVyWLHQuky2K"
      }
    },
    {
      "cell_type": "code",
      "source": [
        "k2 = pd.read_csv('sample_data/k2pandc_2025.09.26_11.17.56.csv', comment='#')\n",
        "k2.head()"
      ],
      "metadata": {
        "colab": {
          "base_uri": "https://localhost:8080/",
          "height": 342
        },
        "id": "uC2Meugwkt7e",
        "outputId": "3dbd9d32-7968-46c8-d4c0-c1ba8e1f35f4"
      },
      "execution_count": 26,
      "outputs": [
        {
          "output_type": "execute_result",
          "data": {
            "text/plain": [
              "             pl_name        hostname  default_flag disposition  \\\n",
              "0        BD+20 594 b       BD+20 594             0   CONFIRMED   \n",
              "1        BD+20 594 b       BD+20 594             0   CONFIRMED   \n",
              "2        BD+20 594 b       BD+20 594             1   CONFIRMED   \n",
              "3  EPIC 201111557.01  EPIC 201111557             1   CANDIDATE   \n",
              "4  EPIC 201111557.01  EPIC 201111557             0   CANDIDATE   \n",
              "\n",
              "             disp_refname  sy_snum  sy_pnum discoverymethod  disc_year  \\\n",
              "0    Espinoza et al. 2016      1.0      1.0         Transit     2016.0   \n",
              "1    Espinoza et al. 2016      1.0      1.0         Transit     2016.0   \n",
              "2    Espinoza et al. 2016      1.0      1.0         Transit     2016.0   \n",
              "3  Livingston et al. 2018      1.0      0.0         Transit     2018.0   \n",
              "4  Livingston et al. 2018      1.0      0.0         Transit     2018.0   \n",
              "\n",
              "  disc_facility  ... sy_vmagerr2  sy_kmag sy_kmagerr1  sy_kmagerr2  \\\n",
              "0            K2  ...      -0.012    9.368       0.018       -0.018   \n",
              "1            K2  ...      -0.012    9.368       0.018       -0.018   \n",
              "2            K2  ...      -0.012    9.368       0.018       -0.018   \n",
              "3            K2  ...      -0.046    9.220       0.019       -0.019   \n",
              "4            K2  ...      -0.046    9.220       0.019       -0.019   \n",
              "\n",
              "   sy_gaiamag  sy_gaiamagerr1  sy_gaiamagerr2   rowupdate  pl_pubdate  \\\n",
              "0     10.8644        0.000249       -0.000249  2018-04-25     2018-03   \n",
              "1     10.8644        0.000249       -0.000249  2018-04-25     2016-10   \n",
              "2     10.8644        0.000249       -0.000249  2018-04-25     2017-03   \n",
              "3     11.3995        0.001307       -0.001307  2018-08-02     2018-08   \n",
              "4     11.3995        0.001307       -0.001307  2018-02-15     2018-03   \n",
              "\n",
              "   releasedate  \n",
              "0   2018-02-15  \n",
              "1   2016-07-28  \n",
              "2   2018-04-26  \n",
              "3   2018-08-02  \n",
              "4   2018-02-15  \n",
              "\n",
              "[5 rows x 94 columns]"
            ],
            "text/html": [
              "\n",
              "  <div id=\"df-3b56698f-c423-4576-a665-5c0d2605c49e\" class=\"colab-df-container\">\n",
              "    <div>\n",
              "<style scoped>\n",
              "    .dataframe tbody tr th:only-of-type {\n",
              "        vertical-align: middle;\n",
              "    }\n",
              "\n",
              "    .dataframe tbody tr th {\n",
              "        vertical-align: top;\n",
              "    }\n",
              "\n",
              "    .dataframe thead th {\n",
              "        text-align: right;\n",
              "    }\n",
              "</style>\n",
              "<table border=\"1\" class=\"dataframe\">\n",
              "  <thead>\n",
              "    <tr style=\"text-align: right;\">\n",
              "      <th></th>\n",
              "      <th>pl_name</th>\n",
              "      <th>hostname</th>\n",
              "      <th>default_flag</th>\n",
              "      <th>disposition</th>\n",
              "      <th>disp_refname</th>\n",
              "      <th>sy_snum</th>\n",
              "      <th>sy_pnum</th>\n",
              "      <th>discoverymethod</th>\n",
              "      <th>disc_year</th>\n",
              "      <th>disc_facility</th>\n",
              "      <th>...</th>\n",
              "      <th>sy_vmagerr2</th>\n",
              "      <th>sy_kmag</th>\n",
              "      <th>sy_kmagerr1</th>\n",
              "      <th>sy_kmagerr2</th>\n",
              "      <th>sy_gaiamag</th>\n",
              "      <th>sy_gaiamagerr1</th>\n",
              "      <th>sy_gaiamagerr2</th>\n",
              "      <th>rowupdate</th>\n",
              "      <th>pl_pubdate</th>\n",
              "      <th>releasedate</th>\n",
              "    </tr>\n",
              "  </thead>\n",
              "  <tbody>\n",
              "    <tr>\n",
              "      <th>0</th>\n",
              "      <td>BD+20 594 b</td>\n",
              "      <td>BD+20 594</td>\n",
              "      <td>0</td>\n",
              "      <td>CONFIRMED</td>\n",
              "      <td>Espinoza et al. 2016</td>\n",
              "      <td>1.0</td>\n",
              "      <td>1.0</td>\n",
              "      <td>Transit</td>\n",
              "      <td>2016.0</td>\n",
              "      <td>K2</td>\n",
              "      <td>...</td>\n",
              "      <td>-0.012</td>\n",
              "      <td>9.368</td>\n",
              "      <td>0.018</td>\n",
              "      <td>-0.018</td>\n",
              "      <td>10.8644</td>\n",
              "      <td>0.000249</td>\n",
              "      <td>-0.000249</td>\n",
              "      <td>2018-04-25</td>\n",
              "      <td>2018-03</td>\n",
              "      <td>2018-02-15</td>\n",
              "    </tr>\n",
              "    <tr>\n",
              "      <th>1</th>\n",
              "      <td>BD+20 594 b</td>\n",
              "      <td>BD+20 594</td>\n",
              "      <td>0</td>\n",
              "      <td>CONFIRMED</td>\n",
              "      <td>Espinoza et al. 2016</td>\n",
              "      <td>1.0</td>\n",
              "      <td>1.0</td>\n",
              "      <td>Transit</td>\n",
              "      <td>2016.0</td>\n",
              "      <td>K2</td>\n",
              "      <td>...</td>\n",
              "      <td>-0.012</td>\n",
              "      <td>9.368</td>\n",
              "      <td>0.018</td>\n",
              "      <td>-0.018</td>\n",
              "      <td>10.8644</td>\n",
              "      <td>0.000249</td>\n",
              "      <td>-0.000249</td>\n",
              "      <td>2018-04-25</td>\n",
              "      <td>2016-10</td>\n",
              "      <td>2016-07-28</td>\n",
              "    </tr>\n",
              "    <tr>\n",
              "      <th>2</th>\n",
              "      <td>BD+20 594 b</td>\n",
              "      <td>BD+20 594</td>\n",
              "      <td>1</td>\n",
              "      <td>CONFIRMED</td>\n",
              "      <td>Espinoza et al. 2016</td>\n",
              "      <td>1.0</td>\n",
              "      <td>1.0</td>\n",
              "      <td>Transit</td>\n",
              "      <td>2016.0</td>\n",
              "      <td>K2</td>\n",
              "      <td>...</td>\n",
              "      <td>-0.012</td>\n",
              "      <td>9.368</td>\n",
              "      <td>0.018</td>\n",
              "      <td>-0.018</td>\n",
              "      <td>10.8644</td>\n",
              "      <td>0.000249</td>\n",
              "      <td>-0.000249</td>\n",
              "      <td>2018-04-25</td>\n",
              "      <td>2017-03</td>\n",
              "      <td>2018-04-26</td>\n",
              "    </tr>\n",
              "    <tr>\n",
              "      <th>3</th>\n",
              "      <td>EPIC 201111557.01</td>\n",
              "      <td>EPIC 201111557</td>\n",
              "      <td>1</td>\n",
              "      <td>CANDIDATE</td>\n",
              "      <td>Livingston et al. 2018</td>\n",
              "      <td>1.0</td>\n",
              "      <td>0.0</td>\n",
              "      <td>Transit</td>\n",
              "      <td>2018.0</td>\n",
              "      <td>K2</td>\n",
              "      <td>...</td>\n",
              "      <td>-0.046</td>\n",
              "      <td>9.220</td>\n",
              "      <td>0.019</td>\n",
              "      <td>-0.019</td>\n",
              "      <td>11.3995</td>\n",
              "      <td>0.001307</td>\n",
              "      <td>-0.001307</td>\n",
              "      <td>2018-08-02</td>\n",
              "      <td>2018-08</td>\n",
              "      <td>2018-08-02</td>\n",
              "    </tr>\n",
              "    <tr>\n",
              "      <th>4</th>\n",
              "      <td>EPIC 201111557.01</td>\n",
              "      <td>EPIC 201111557</td>\n",
              "      <td>0</td>\n",
              "      <td>CANDIDATE</td>\n",
              "      <td>Livingston et al. 2018</td>\n",
              "      <td>1.0</td>\n",
              "      <td>0.0</td>\n",
              "      <td>Transit</td>\n",
              "      <td>2018.0</td>\n",
              "      <td>K2</td>\n",
              "      <td>...</td>\n",
              "      <td>-0.046</td>\n",
              "      <td>9.220</td>\n",
              "      <td>0.019</td>\n",
              "      <td>-0.019</td>\n",
              "      <td>11.3995</td>\n",
              "      <td>0.001307</td>\n",
              "      <td>-0.001307</td>\n",
              "      <td>2018-02-15</td>\n",
              "      <td>2018-03</td>\n",
              "      <td>2018-02-15</td>\n",
              "    </tr>\n",
              "  </tbody>\n",
              "</table>\n",
              "<p>5 rows × 94 columns</p>\n",
              "</div>\n",
              "    <div class=\"colab-df-buttons\">\n",
              "\n",
              "  <div class=\"colab-df-container\">\n",
              "    <button class=\"colab-df-convert\" onclick=\"convertToInteractive('df-3b56698f-c423-4576-a665-5c0d2605c49e')\"\n",
              "            title=\"Convert this dataframe to an interactive table.\"\n",
              "            style=\"display:none;\">\n",
              "\n",
              "  <svg xmlns=\"http://www.w3.org/2000/svg\" height=\"24px\" viewBox=\"0 -960 960 960\">\n",
              "    <path d=\"M120-120v-720h720v720H120Zm60-500h600v-160H180v160Zm220 220h160v-160H400v160Zm0 220h160v-160H400v160ZM180-400h160v-160H180v160Zm440 0h160v-160H620v160ZM180-180h160v-160H180v160Zm440 0h160v-160H620v160Z\"/>\n",
              "  </svg>\n",
              "    </button>\n",
              "\n",
              "  <style>\n",
              "    .colab-df-container {\n",
              "      display:flex;\n",
              "      gap: 12px;\n",
              "    }\n",
              "\n",
              "    .colab-df-convert {\n",
              "      background-color: #E8F0FE;\n",
              "      border: none;\n",
              "      border-radius: 50%;\n",
              "      cursor: pointer;\n",
              "      display: none;\n",
              "      fill: #1967D2;\n",
              "      height: 32px;\n",
              "      padding: 0 0 0 0;\n",
              "      width: 32px;\n",
              "    }\n",
              "\n",
              "    .colab-df-convert:hover {\n",
              "      background-color: #E2EBFA;\n",
              "      box-shadow: 0px 1px 2px rgba(60, 64, 67, 0.3), 0px 1px 3px 1px rgba(60, 64, 67, 0.15);\n",
              "      fill: #174EA6;\n",
              "    }\n",
              "\n",
              "    .colab-df-buttons div {\n",
              "      margin-bottom: 4px;\n",
              "    }\n",
              "\n",
              "    [theme=dark] .colab-df-convert {\n",
              "      background-color: #3B4455;\n",
              "      fill: #D2E3FC;\n",
              "    }\n",
              "\n",
              "    [theme=dark] .colab-df-convert:hover {\n",
              "      background-color: #434B5C;\n",
              "      box-shadow: 0px 1px 3px 1px rgba(0, 0, 0, 0.15);\n",
              "      filter: drop-shadow(0px 1px 2px rgba(0, 0, 0, 0.3));\n",
              "      fill: #FFFFFF;\n",
              "    }\n",
              "  </style>\n",
              "\n",
              "    <script>\n",
              "      const buttonEl =\n",
              "        document.querySelector('#df-3b56698f-c423-4576-a665-5c0d2605c49e button.colab-df-convert');\n",
              "      buttonEl.style.display =\n",
              "        google.colab.kernel.accessAllowed ? 'block' : 'none';\n",
              "\n",
              "      async function convertToInteractive(key) {\n",
              "        const element = document.querySelector('#df-3b56698f-c423-4576-a665-5c0d2605c49e');\n",
              "        const dataTable =\n",
              "          await google.colab.kernel.invokeFunction('convertToInteractive',\n",
              "                                                    [key], {});\n",
              "        if (!dataTable) return;\n",
              "\n",
              "        const docLinkHtml = 'Like what you see? Visit the ' +\n",
              "          '<a target=\"_blank\" href=https://colab.research.google.com/notebooks/data_table.ipynb>data table notebook</a>'\n",
              "          + ' to learn more about interactive tables.';\n",
              "        element.innerHTML = '';\n",
              "        dataTable['output_type'] = 'display_data';\n",
              "        await google.colab.output.renderOutput(dataTable, element);\n",
              "        const docLink = document.createElement('div');\n",
              "        docLink.innerHTML = docLinkHtml;\n",
              "        element.appendChild(docLink);\n",
              "      }\n",
              "    </script>\n",
              "  </div>\n",
              "\n",
              "\n",
              "    <div id=\"df-2a466cb4-849c-4bad-b9e0-a4d710853b59\">\n",
              "      <button class=\"colab-df-quickchart\" onclick=\"quickchart('df-2a466cb4-849c-4bad-b9e0-a4d710853b59')\"\n",
              "                title=\"Suggest charts\"\n",
              "                style=\"display:none;\">\n",
              "\n",
              "<svg xmlns=\"http://www.w3.org/2000/svg\" height=\"24px\"viewBox=\"0 0 24 24\"\n",
              "     width=\"24px\">\n",
              "    <g>\n",
              "        <path d=\"M19 3H5c-1.1 0-2 .9-2 2v14c0 1.1.9 2 2 2h14c1.1 0 2-.9 2-2V5c0-1.1-.9-2-2-2zM9 17H7v-7h2v7zm4 0h-2V7h2v10zm4 0h-2v-4h2v4z\"/>\n",
              "    </g>\n",
              "</svg>\n",
              "      </button>\n",
              "\n",
              "<style>\n",
              "  .colab-df-quickchart {\n",
              "      --bg-color: #E8F0FE;\n",
              "      --fill-color: #1967D2;\n",
              "      --hover-bg-color: #E2EBFA;\n",
              "      --hover-fill-color: #174EA6;\n",
              "      --disabled-fill-color: #AAA;\n",
              "      --disabled-bg-color: #DDD;\n",
              "  }\n",
              "\n",
              "  [theme=dark] .colab-df-quickchart {\n",
              "      --bg-color: #3B4455;\n",
              "      --fill-color: #D2E3FC;\n",
              "      --hover-bg-color: #434B5C;\n",
              "      --hover-fill-color: #FFFFFF;\n",
              "      --disabled-bg-color: #3B4455;\n",
              "      --disabled-fill-color: #666;\n",
              "  }\n",
              "\n",
              "  .colab-df-quickchart {\n",
              "    background-color: var(--bg-color);\n",
              "    border: none;\n",
              "    border-radius: 50%;\n",
              "    cursor: pointer;\n",
              "    display: none;\n",
              "    fill: var(--fill-color);\n",
              "    height: 32px;\n",
              "    padding: 0;\n",
              "    width: 32px;\n",
              "  }\n",
              "\n",
              "  .colab-df-quickchart:hover {\n",
              "    background-color: var(--hover-bg-color);\n",
              "    box-shadow: 0 1px 2px rgba(60, 64, 67, 0.3), 0 1px 3px 1px rgba(60, 64, 67, 0.15);\n",
              "    fill: var(--button-hover-fill-color);\n",
              "  }\n",
              "\n",
              "  .colab-df-quickchart-complete:disabled,\n",
              "  .colab-df-quickchart-complete:disabled:hover {\n",
              "    background-color: var(--disabled-bg-color);\n",
              "    fill: var(--disabled-fill-color);\n",
              "    box-shadow: none;\n",
              "  }\n",
              "\n",
              "  .colab-df-spinner {\n",
              "    border: 2px solid var(--fill-color);\n",
              "    border-color: transparent;\n",
              "    border-bottom-color: var(--fill-color);\n",
              "    animation:\n",
              "      spin 1s steps(1) infinite;\n",
              "  }\n",
              "\n",
              "  @keyframes spin {\n",
              "    0% {\n",
              "      border-color: transparent;\n",
              "      border-bottom-color: var(--fill-color);\n",
              "      border-left-color: var(--fill-color);\n",
              "    }\n",
              "    20% {\n",
              "      border-color: transparent;\n",
              "      border-left-color: var(--fill-color);\n",
              "      border-top-color: var(--fill-color);\n",
              "    }\n",
              "    30% {\n",
              "      border-color: transparent;\n",
              "      border-left-color: var(--fill-color);\n",
              "      border-top-color: var(--fill-color);\n",
              "      border-right-color: var(--fill-color);\n",
              "    }\n",
              "    40% {\n",
              "      border-color: transparent;\n",
              "      border-right-color: var(--fill-color);\n",
              "      border-top-color: var(--fill-color);\n",
              "    }\n",
              "    60% {\n",
              "      border-color: transparent;\n",
              "      border-right-color: var(--fill-color);\n",
              "    }\n",
              "    80% {\n",
              "      border-color: transparent;\n",
              "      border-right-color: var(--fill-color);\n",
              "      border-bottom-color: var(--fill-color);\n",
              "    }\n",
              "    90% {\n",
              "      border-color: transparent;\n",
              "      border-bottom-color: var(--fill-color);\n",
              "    }\n",
              "  }\n",
              "</style>\n",
              "\n",
              "      <script>\n",
              "        async function quickchart(key) {\n",
              "          const quickchartButtonEl =\n",
              "            document.querySelector('#' + key + ' button');\n",
              "          quickchartButtonEl.disabled = true;  // To prevent multiple clicks.\n",
              "          quickchartButtonEl.classList.add('colab-df-spinner');\n",
              "          try {\n",
              "            const charts = await google.colab.kernel.invokeFunction(\n",
              "                'suggestCharts', [key], {});\n",
              "          } catch (error) {\n",
              "            console.error('Error during call to suggestCharts:', error);\n",
              "          }\n",
              "          quickchartButtonEl.classList.remove('colab-df-spinner');\n",
              "          quickchartButtonEl.classList.add('colab-df-quickchart-complete');\n",
              "        }\n",
              "        (() => {\n",
              "          let quickchartButtonEl =\n",
              "            document.querySelector('#df-2a466cb4-849c-4bad-b9e0-a4d710853b59 button');\n",
              "          quickchartButtonEl.style.display =\n",
              "            google.colab.kernel.accessAllowed ? 'block' : 'none';\n",
              "        })();\n",
              "      </script>\n",
              "    </div>\n",
              "\n",
              "    </div>\n",
              "  </div>\n"
            ],
            "application/vnd.google.colaboratory.intrinsic+json": {
              "type": "dataframe",
              "variable_name": "k2"
            }
          },
          "metadata": {},
          "execution_count": 26
        }
      ]
    },
    {
      "cell_type": "markdown",
      "source": [
        "## Feature Selection"
      ],
      "metadata": {
        "id": "07Hmh6kFmtFN"
      }
    },
    {
      "cell_type": "code",
      "source": [
        "features = [\n",
        "    \"pl_orbper\",\n",
        "    \"pl_orbsmax\",\n",
        "    \"pl_rade\",\n",
        "    \"pl_radj\",\n",
        "    \"pl_bmasse\",\n",
        "    \"pl_bmassj\",\n",
        "    \"pl_orbeccen\",\n",
        "    \"pl_insol\",\n",
        "    \"pl_eqt\",\n",
        "    \"st_teff\",\n",
        "    \"st_rad\",\n",
        "    \"st_mass\",\n",
        "    \"st_met\",\n",
        "    \"st_logg\",\n",
        "\n",
        "    \"disposition\",\n",
        "\n",
        "    \"discoverymethod\",\n",
        "    \"disc_year\",\n",
        "    \"sy_dist\",\n",
        "    \"st_spectype\"\n",
        "]\n",
        "print(k2[\"disposition\"].unique())"
      ],
      "metadata": {
        "id": "TrGOOBvmlER9",
        "colab": {
          "base_uri": "https://localhost:8080/"
        },
        "outputId": "73ed78fd-015b-4680-8e9e-95b589c206aa"
      },
      "execution_count": 27,
      "outputs": [
        {
          "output_type": "stream",
          "name": "stdout",
          "text": [
            "['CONFIRMED' 'CANDIDATE' 'FALSE POSITIVE' 'REFUTED']\n"
          ]
        }
      ]
    },
    {
      "cell_type": "markdown",
      "source": [
        "Label Mapping"
      ],
      "metadata": {
        "id": "JKSIKT4To9HZ"
      }
    },
    {
      "cell_type": "code",
      "source": [
        "label_map = {\n",
        "    'CONFIRMED': 1,   # Confirmed Planet\n",
        "    'CANDIDATE': 0,   # Planetary Candidate\n",
        "    'FALSE POSITIVE': -1,  # False Positive\n",
        "    'REFUTED': -1   # False Alarm\n",
        "}\n",
        "\n",
        "k2[\"disposition\"] = k2[\"disposition\"].map(label_map)"
      ],
      "metadata": {
        "id": "_8K-UEG5o_DS"
      },
      "execution_count": 29,
      "outputs": []
    },
    {
      "cell_type": "code",
      "source": [
        "k2 = k2[features]\n",
        "k2.head()"
      ],
      "metadata": {
        "colab": {
          "base_uri": "https://localhost:8080/",
          "height": 226
        },
        "id": "2QU8f3N9qSup",
        "outputId": "ada6d64a-9fdd-4edb-bc24-6d19dd33c7c9"
      },
      "execution_count": 30,
      "outputs": [
        {
          "output_type": "execute_result",
          "data": {
            "text/plain": [
              "   pl_orbper  pl_orbsmax   pl_rade   pl_radj  pl_bmasse  pl_bmassj  \\\n",
              "0  41.688644         NaN  2.355454  0.210139        NaN        NaN   \n",
              "1  41.685500       0.241  2.230000  0.198947    16.3000   0.051285   \n",
              "2  41.685500         NaN  2.578070  0.230000    22.2481   0.070000   \n",
              "3   2.301830         NaN  1.120000  0.099900        NaN        NaN   \n",
              "4   2.302368         NaN  1.312588  0.120000        NaN        NaN   \n",
              "\n",
              "   pl_orbeccen  pl_insol  pl_eqt  st_teff    st_rad   st_mass  st_met  \\\n",
              "0          NaN       NaN     NaN  5703.00  0.956122  0.963861   -0.06   \n",
              "1          0.0       NaN   546.0  5766.00  0.928000  0.961000   -0.15   \n",
              "2          0.0       NaN     NaN  5766.00  1.080000  1.670000   -0.15   \n",
              "3          NaN       NaN  1054.0  4616.52  0.762602  0.730000   -0.03   \n",
              "4          NaN       NaN     NaN  4720.00  0.710995       NaN   -0.06   \n",
              "\n",
              "   st_logg  disposition discoverymethod  disc_year   sy_dist st_spectype  \n",
              "0  4.38000            1         Transit     2016.0  179.4610         NaN  \n",
              "1  4.50000            1         Transit     2016.0  179.4610           G  \n",
              "2  4.50000            1         Transit     2016.0  179.4610         NaN  \n",
              "3  4.53679            0         Transit     2018.0   97.1795         NaN  \n",
              "4  4.50000            0         Transit     2018.0   97.1795         NaN  "
            ],
            "text/html": [
              "\n",
              "  <div id=\"df-61a599bf-b4bf-44a9-85e6-f1fa8297b2c7\" class=\"colab-df-container\">\n",
              "    <div>\n",
              "<style scoped>\n",
              "    .dataframe tbody tr th:only-of-type {\n",
              "        vertical-align: middle;\n",
              "    }\n",
              "\n",
              "    .dataframe tbody tr th {\n",
              "        vertical-align: top;\n",
              "    }\n",
              "\n",
              "    .dataframe thead th {\n",
              "        text-align: right;\n",
              "    }\n",
              "</style>\n",
              "<table border=\"1\" class=\"dataframe\">\n",
              "  <thead>\n",
              "    <tr style=\"text-align: right;\">\n",
              "      <th></th>\n",
              "      <th>pl_orbper</th>\n",
              "      <th>pl_orbsmax</th>\n",
              "      <th>pl_rade</th>\n",
              "      <th>pl_radj</th>\n",
              "      <th>pl_bmasse</th>\n",
              "      <th>pl_bmassj</th>\n",
              "      <th>pl_orbeccen</th>\n",
              "      <th>pl_insol</th>\n",
              "      <th>pl_eqt</th>\n",
              "      <th>st_teff</th>\n",
              "      <th>st_rad</th>\n",
              "      <th>st_mass</th>\n",
              "      <th>st_met</th>\n",
              "      <th>st_logg</th>\n",
              "      <th>disposition</th>\n",
              "      <th>discoverymethod</th>\n",
              "      <th>disc_year</th>\n",
              "      <th>sy_dist</th>\n",
              "      <th>st_spectype</th>\n",
              "    </tr>\n",
              "  </thead>\n",
              "  <tbody>\n",
              "    <tr>\n",
              "      <th>0</th>\n",
              "      <td>41.688644</td>\n",
              "      <td>NaN</td>\n",
              "      <td>2.355454</td>\n",
              "      <td>0.210139</td>\n",
              "      <td>NaN</td>\n",
              "      <td>NaN</td>\n",
              "      <td>NaN</td>\n",
              "      <td>NaN</td>\n",
              "      <td>NaN</td>\n",
              "      <td>5703.00</td>\n",
              "      <td>0.956122</td>\n",
              "      <td>0.963861</td>\n",
              "      <td>-0.06</td>\n",
              "      <td>4.38000</td>\n",
              "      <td>1</td>\n",
              "      <td>Transit</td>\n",
              "      <td>2016.0</td>\n",
              "      <td>179.4610</td>\n",
              "      <td>NaN</td>\n",
              "    </tr>\n",
              "    <tr>\n",
              "      <th>1</th>\n",
              "      <td>41.685500</td>\n",
              "      <td>0.241</td>\n",
              "      <td>2.230000</td>\n",
              "      <td>0.198947</td>\n",
              "      <td>16.3000</td>\n",
              "      <td>0.051285</td>\n",
              "      <td>0.0</td>\n",
              "      <td>NaN</td>\n",
              "      <td>546.0</td>\n",
              "      <td>5766.00</td>\n",
              "      <td>0.928000</td>\n",
              "      <td>0.961000</td>\n",
              "      <td>-0.15</td>\n",
              "      <td>4.50000</td>\n",
              "      <td>1</td>\n",
              "      <td>Transit</td>\n",
              "      <td>2016.0</td>\n",
              "      <td>179.4610</td>\n",
              "      <td>G</td>\n",
              "    </tr>\n",
              "    <tr>\n",
              "      <th>2</th>\n",
              "      <td>41.685500</td>\n",
              "      <td>NaN</td>\n",
              "      <td>2.578070</td>\n",
              "      <td>0.230000</td>\n",
              "      <td>22.2481</td>\n",
              "      <td>0.070000</td>\n",
              "      <td>0.0</td>\n",
              "      <td>NaN</td>\n",
              "      <td>NaN</td>\n",
              "      <td>5766.00</td>\n",
              "      <td>1.080000</td>\n",
              "      <td>1.670000</td>\n",
              "      <td>-0.15</td>\n",
              "      <td>4.50000</td>\n",
              "      <td>1</td>\n",
              "      <td>Transit</td>\n",
              "      <td>2016.0</td>\n",
              "      <td>179.4610</td>\n",
              "      <td>NaN</td>\n",
              "    </tr>\n",
              "    <tr>\n",
              "      <th>3</th>\n",
              "      <td>2.301830</td>\n",
              "      <td>NaN</td>\n",
              "      <td>1.120000</td>\n",
              "      <td>0.099900</td>\n",
              "      <td>NaN</td>\n",
              "      <td>NaN</td>\n",
              "      <td>NaN</td>\n",
              "      <td>NaN</td>\n",
              "      <td>1054.0</td>\n",
              "      <td>4616.52</td>\n",
              "      <td>0.762602</td>\n",
              "      <td>0.730000</td>\n",
              "      <td>-0.03</td>\n",
              "      <td>4.53679</td>\n",
              "      <td>0</td>\n",
              "      <td>Transit</td>\n",
              "      <td>2018.0</td>\n",
              "      <td>97.1795</td>\n",
              "      <td>NaN</td>\n",
              "    </tr>\n",
              "    <tr>\n",
              "      <th>4</th>\n",
              "      <td>2.302368</td>\n",
              "      <td>NaN</td>\n",
              "      <td>1.312588</td>\n",
              "      <td>0.120000</td>\n",
              "      <td>NaN</td>\n",
              "      <td>NaN</td>\n",
              "      <td>NaN</td>\n",
              "      <td>NaN</td>\n",
              "      <td>NaN</td>\n",
              "      <td>4720.00</td>\n",
              "      <td>0.710995</td>\n",
              "      <td>NaN</td>\n",
              "      <td>-0.06</td>\n",
              "      <td>4.50000</td>\n",
              "      <td>0</td>\n",
              "      <td>Transit</td>\n",
              "      <td>2018.0</td>\n",
              "      <td>97.1795</td>\n",
              "      <td>NaN</td>\n",
              "    </tr>\n",
              "  </tbody>\n",
              "</table>\n",
              "</div>\n",
              "    <div class=\"colab-df-buttons\">\n",
              "\n",
              "  <div class=\"colab-df-container\">\n",
              "    <button class=\"colab-df-convert\" onclick=\"convertToInteractive('df-61a599bf-b4bf-44a9-85e6-f1fa8297b2c7')\"\n",
              "            title=\"Convert this dataframe to an interactive table.\"\n",
              "            style=\"display:none;\">\n",
              "\n",
              "  <svg xmlns=\"http://www.w3.org/2000/svg\" height=\"24px\" viewBox=\"0 -960 960 960\">\n",
              "    <path d=\"M120-120v-720h720v720H120Zm60-500h600v-160H180v160Zm220 220h160v-160H400v160Zm0 220h160v-160H400v160ZM180-400h160v-160H180v160Zm440 0h160v-160H620v160ZM180-180h160v-160H180v160Zm440 0h160v-160H620v160Z\"/>\n",
              "  </svg>\n",
              "    </button>\n",
              "\n",
              "  <style>\n",
              "    .colab-df-container {\n",
              "      display:flex;\n",
              "      gap: 12px;\n",
              "    }\n",
              "\n",
              "    .colab-df-convert {\n",
              "      background-color: #E8F0FE;\n",
              "      border: none;\n",
              "      border-radius: 50%;\n",
              "      cursor: pointer;\n",
              "      display: none;\n",
              "      fill: #1967D2;\n",
              "      height: 32px;\n",
              "      padding: 0 0 0 0;\n",
              "      width: 32px;\n",
              "    }\n",
              "\n",
              "    .colab-df-convert:hover {\n",
              "      background-color: #E2EBFA;\n",
              "      box-shadow: 0px 1px 2px rgba(60, 64, 67, 0.3), 0px 1px 3px 1px rgba(60, 64, 67, 0.15);\n",
              "      fill: #174EA6;\n",
              "    }\n",
              "\n",
              "    .colab-df-buttons div {\n",
              "      margin-bottom: 4px;\n",
              "    }\n",
              "\n",
              "    [theme=dark] .colab-df-convert {\n",
              "      background-color: #3B4455;\n",
              "      fill: #D2E3FC;\n",
              "    }\n",
              "\n",
              "    [theme=dark] .colab-df-convert:hover {\n",
              "      background-color: #434B5C;\n",
              "      box-shadow: 0px 1px 3px 1px rgba(0, 0, 0, 0.15);\n",
              "      filter: drop-shadow(0px 1px 2px rgba(0, 0, 0, 0.3));\n",
              "      fill: #FFFFFF;\n",
              "    }\n",
              "  </style>\n",
              "\n",
              "    <script>\n",
              "      const buttonEl =\n",
              "        document.querySelector('#df-61a599bf-b4bf-44a9-85e6-f1fa8297b2c7 button.colab-df-convert');\n",
              "      buttonEl.style.display =\n",
              "        google.colab.kernel.accessAllowed ? 'block' : 'none';\n",
              "\n",
              "      async function convertToInteractive(key) {\n",
              "        const element = document.querySelector('#df-61a599bf-b4bf-44a9-85e6-f1fa8297b2c7');\n",
              "        const dataTable =\n",
              "          await google.colab.kernel.invokeFunction('convertToInteractive',\n",
              "                                                    [key], {});\n",
              "        if (!dataTable) return;\n",
              "\n",
              "        const docLinkHtml = 'Like what you see? Visit the ' +\n",
              "          '<a target=\"_blank\" href=https://colab.research.google.com/notebooks/data_table.ipynb>data table notebook</a>'\n",
              "          + ' to learn more about interactive tables.';\n",
              "        element.innerHTML = '';\n",
              "        dataTable['output_type'] = 'display_data';\n",
              "        await google.colab.output.renderOutput(dataTable, element);\n",
              "        const docLink = document.createElement('div');\n",
              "        docLink.innerHTML = docLinkHtml;\n",
              "        element.appendChild(docLink);\n",
              "      }\n",
              "    </script>\n",
              "  </div>\n",
              "\n",
              "\n",
              "    <div id=\"df-57ad92aa-33ad-4d86-91b5-dcf86813a7c1\">\n",
              "      <button class=\"colab-df-quickchart\" onclick=\"quickchart('df-57ad92aa-33ad-4d86-91b5-dcf86813a7c1')\"\n",
              "                title=\"Suggest charts\"\n",
              "                style=\"display:none;\">\n",
              "\n",
              "<svg xmlns=\"http://www.w3.org/2000/svg\" height=\"24px\"viewBox=\"0 0 24 24\"\n",
              "     width=\"24px\">\n",
              "    <g>\n",
              "        <path d=\"M19 3H5c-1.1 0-2 .9-2 2v14c0 1.1.9 2 2 2h14c1.1 0 2-.9 2-2V5c0-1.1-.9-2-2-2zM9 17H7v-7h2v7zm4 0h-2V7h2v10zm4 0h-2v-4h2v4z\"/>\n",
              "    </g>\n",
              "</svg>\n",
              "      </button>\n",
              "\n",
              "<style>\n",
              "  .colab-df-quickchart {\n",
              "      --bg-color: #E8F0FE;\n",
              "      --fill-color: #1967D2;\n",
              "      --hover-bg-color: #E2EBFA;\n",
              "      --hover-fill-color: #174EA6;\n",
              "      --disabled-fill-color: #AAA;\n",
              "      --disabled-bg-color: #DDD;\n",
              "  }\n",
              "\n",
              "  [theme=dark] .colab-df-quickchart {\n",
              "      --bg-color: #3B4455;\n",
              "      --fill-color: #D2E3FC;\n",
              "      --hover-bg-color: #434B5C;\n",
              "      --hover-fill-color: #FFFFFF;\n",
              "      --disabled-bg-color: #3B4455;\n",
              "      --disabled-fill-color: #666;\n",
              "  }\n",
              "\n",
              "  .colab-df-quickchart {\n",
              "    background-color: var(--bg-color);\n",
              "    border: none;\n",
              "    border-radius: 50%;\n",
              "    cursor: pointer;\n",
              "    display: none;\n",
              "    fill: var(--fill-color);\n",
              "    height: 32px;\n",
              "    padding: 0;\n",
              "    width: 32px;\n",
              "  }\n",
              "\n",
              "  .colab-df-quickchart:hover {\n",
              "    background-color: var(--hover-bg-color);\n",
              "    box-shadow: 0 1px 2px rgba(60, 64, 67, 0.3), 0 1px 3px 1px rgba(60, 64, 67, 0.15);\n",
              "    fill: var(--button-hover-fill-color);\n",
              "  }\n",
              "\n",
              "  .colab-df-quickchart-complete:disabled,\n",
              "  .colab-df-quickchart-complete:disabled:hover {\n",
              "    background-color: var(--disabled-bg-color);\n",
              "    fill: var(--disabled-fill-color);\n",
              "    box-shadow: none;\n",
              "  }\n",
              "\n",
              "  .colab-df-spinner {\n",
              "    border: 2px solid var(--fill-color);\n",
              "    border-color: transparent;\n",
              "    border-bottom-color: var(--fill-color);\n",
              "    animation:\n",
              "      spin 1s steps(1) infinite;\n",
              "  }\n",
              "\n",
              "  @keyframes spin {\n",
              "    0% {\n",
              "      border-color: transparent;\n",
              "      border-bottom-color: var(--fill-color);\n",
              "      border-left-color: var(--fill-color);\n",
              "    }\n",
              "    20% {\n",
              "      border-color: transparent;\n",
              "      border-left-color: var(--fill-color);\n",
              "      border-top-color: var(--fill-color);\n",
              "    }\n",
              "    30% {\n",
              "      border-color: transparent;\n",
              "      border-left-color: var(--fill-color);\n",
              "      border-top-color: var(--fill-color);\n",
              "      border-right-color: var(--fill-color);\n",
              "    }\n",
              "    40% {\n",
              "      border-color: transparent;\n",
              "      border-right-color: var(--fill-color);\n",
              "      border-top-color: var(--fill-color);\n",
              "    }\n",
              "    60% {\n",
              "      border-color: transparent;\n",
              "      border-right-color: var(--fill-color);\n",
              "    }\n",
              "    80% {\n",
              "      border-color: transparent;\n",
              "      border-right-color: var(--fill-color);\n",
              "      border-bottom-color: var(--fill-color);\n",
              "    }\n",
              "    90% {\n",
              "      border-color: transparent;\n",
              "      border-bottom-color: var(--fill-color);\n",
              "    }\n",
              "  }\n",
              "</style>\n",
              "\n",
              "      <script>\n",
              "        async function quickchart(key) {\n",
              "          const quickchartButtonEl =\n",
              "            document.querySelector('#' + key + ' button');\n",
              "          quickchartButtonEl.disabled = true;  // To prevent multiple clicks.\n",
              "          quickchartButtonEl.classList.add('colab-df-spinner');\n",
              "          try {\n",
              "            const charts = await google.colab.kernel.invokeFunction(\n",
              "                'suggestCharts', [key], {});\n",
              "          } catch (error) {\n",
              "            console.error('Error during call to suggestCharts:', error);\n",
              "          }\n",
              "          quickchartButtonEl.classList.remove('colab-df-spinner');\n",
              "          quickchartButtonEl.classList.add('colab-df-quickchart-complete');\n",
              "        }\n",
              "        (() => {\n",
              "          let quickchartButtonEl =\n",
              "            document.querySelector('#df-57ad92aa-33ad-4d86-91b5-dcf86813a7c1 button');\n",
              "          quickchartButtonEl.style.display =\n",
              "            google.colab.kernel.accessAllowed ? 'block' : 'none';\n",
              "        })();\n",
              "      </script>\n",
              "    </div>\n",
              "\n",
              "    </div>\n",
              "  </div>\n"
            ],
            "application/vnd.google.colaboratory.intrinsic+json": {
              "type": "dataframe",
              "variable_name": "k2",
              "summary": "{\n  \"name\": \"k2\",\n  \"rows\": 4004,\n  \"fields\": [\n    {\n      \"column\": \"pl_orbper\",\n      \"properties\": {\n        \"dtype\": \"number\",\n        \"std\": 1346.6681433757697,\n        \"min\": 0.17566,\n        \"max\": 83830.0,\n        \"num_unique_values\": 3806,\n        \"samples\": [\n          20.2729861,\n          17.81188,\n          3.5990666\n        ],\n        \"semantic_type\": \"\",\n        \"description\": \"\"\n      }\n    },\n    {\n      \"column\": \"pl_orbsmax\",\n      \"properties\": {\n        \"dtype\": \"number\",\n        \"std\": 0.2826907863209105,\n        \"min\": 0.0034,\n        \"max\": 4.5,\n        \"num_unique_values\": 671,\n        \"samples\": [\n          0.037,\n          0.11569,\n          0.1412\n        ],\n        \"semantic_type\": \"\",\n        \"description\": \"\"\n      }\n    },\n    {\n      \"column\": \"pl_rade\",\n      \"properties\": {\n        \"dtype\": \"number\",\n        \"std\": 30.083071388515112,\n        \"min\": 0.4064,\n        \"max\": 1080.0,\n        \"num_unique_values\": 1662,\n        \"samples\": [\n          2.46598,\n          86.2,\n          12.81\n        ],\n        \"semantic_type\": \"\",\n        \"description\": \"\"\n      }\n    },\n    {\n      \"column\": \"pl_radj\",\n      \"properties\": {\n        \"dtype\": \"number\",\n        \"std\": 2.6873213090642607,\n        \"min\": 0.03625664,\n        \"max\": 96.4,\n        \"num_unique_values\": 1891,\n        \"samples\": [\n          1.04648051,\n          0.93127112,\n          0.342\n        ],\n        \"semantic_type\": \"\",\n        \"description\": \"\"\n      }\n    },\n    {\n      \"column\": \"pl_bmasse\",\n      \"properties\": {\n        \"dtype\": \"number\",\n        \"std\": 317.4445133263156,\n        \"min\": 0.29013072,\n        \"max\": 4131.79,\n        \"num_unique_values\": 356,\n        \"samples\": [\n          2.8,\n          5.2,\n          15.23\n        ],\n        \"semantic_type\": \"\",\n        \"description\": \"\"\n      }\n    },\n    {\n      \"column\": \"pl_bmassj\",\n      \"properties\": {\n        \"dtype\": \"number\",\n        \"std\": 0.9987911107966696,\n        \"min\": 0.00091285,\n        \"max\": 13.0,\n        \"num_unique_values\": 388,\n        \"samples\": [\n          0.03240726,\n          2.18,\n          0.04404871\n        ],\n        \"semantic_type\": \"\",\n        \"description\": \"\"\n      }\n    },\n    {\n      \"column\": \"pl_orbeccen\",\n      \"properties\": {\n        \"dtype\": \"number\",\n        \"std\": 0.14288820721843043,\n        \"min\": 0.0,\n        \"max\": 0.853,\n        \"num_unique_values\": 144,\n        \"samples\": [\n          0.011,\n          0.075,\n          0.1999\n        ],\n        \"semantic_type\": \"\",\n        \"description\": \"\"\n      }\n    },\n    {\n      \"column\": \"pl_insol\",\n      \"properties\": {\n        \"dtype\": \"number\",\n        \"std\": 992.2268226362013,\n        \"min\": 0.0279,\n        \"max\": 9667.9228,\n        \"num_unique_values\": 568,\n        \"samples\": [\n          57.5,\n          37.7733,\n          3515.0\n        ],\n        \"semantic_type\": \"\",\n        \"description\": \"\"\n      }\n    },\n    {\n      \"column\": \"pl_eqt\",\n      \"properties\": {\n        \"dtype\": \"number\",\n        \"std\": 445.3007838593661,\n        \"min\": 82.0,\n        \"max\": 2529.02,\n        \"num_unique_values\": 672,\n        \"samples\": [\n          738.4,\n          1185.55,\n          1057.0\n        ],\n        \"semantic_type\": \"\",\n        \"description\": \"\"\n      }\n    },\n    {\n      \"column\": \"st_teff\",\n      \"properties\": {\n        \"dtype\": \"number\",\n        \"std\": 1233.5855627109247,\n        \"min\": 2520.0,\n        \"max\": 46696.0,\n        \"num_unique_values\": 1658,\n        \"samples\": [\n          5372.0,\n          5309.0,\n          4514.0\n        ],\n        \"semantic_type\": \"\",\n        \"description\": \"\"\n      }\n    },\n    {\n      \"column\": \"st_rad\",\n      \"properties\": {\n        \"dtype\": \"number\",\n        \"std\": 2.4094411835888385,\n        \"min\": 0.11,\n        \"max\": 85.0,\n        \"num_unique_values\": 1833,\n        \"samples\": [\n          1.882,\n          1.161,\n          0.951\n        ],\n        \"semantic_type\": \"\",\n        \"description\": \"\"\n      }\n    },\n    {\n      \"column\": \"st_mass\",\n      \"properties\": {\n        \"dtype\": \"number\",\n        \"std\": 0.42681559456666585,\n        \"min\": 0.08,\n        \"max\": 14.336,\n        \"num_unique_values\": 767,\n        \"samples\": [\n          0.789,\n          1.895,\n          0.561\n        ],\n        \"semantic_type\": \"\",\n        \"description\": \"\"\n      }\n    },\n    {\n      \"column\": \"st_met\",\n      \"properties\": {\n        \"dtype\": \"number\",\n        \"std\": 0.22791758340130214,\n        \"min\": -1.432,\n        \"max\": 0.528,\n        \"num_unique_values\": 463,\n        \"samples\": [\n          0.036,\n          -0.144,\n          -0.18\n        ],\n        \"semantic_type\": \"\",\n        \"description\": \"\"\n      }\n    },\n    {\n      \"column\": \"st_logg\",\n      \"properties\": {\n        \"dtype\": \"number\",\n        \"std\": 0.3203054450179182,\n        \"min\": 1.773,\n        \"max\": 5.27596,\n        \"num_unique_values\": 1015,\n        \"samples\": [\n          4.707,\n          4.52512,\n          4.417\n        ],\n        \"semantic_type\": \"\",\n        \"description\": \"\"\n      }\n    },\n    {\n      \"column\": \"disposition\",\n      \"properties\": {\n        \"dtype\": \"number\",\n        \"std\": 0,\n        \"min\": -1,\n        \"max\": 1,\n        \"num_unique_values\": 3,\n        \"samples\": [\n          1,\n          0,\n          -1\n        ],\n        \"semantic_type\": \"\",\n        \"description\": \"\"\n      }\n    },\n    {\n      \"column\": \"discoverymethod\",\n      \"properties\": {\n        \"dtype\": \"category\",\n        \"num_unique_values\": 3,\n        \"samples\": [\n          \"Transit\",\n          \"Radial Velocity\",\n          \"Microlensing\"\n        ],\n        \"semantic_type\": \"\",\n        \"description\": \"\"\n      }\n    },\n    {\n      \"column\": \"disc_year\",\n      \"properties\": {\n        \"dtype\": \"number\",\n        \"std\": 2.0331676469124758,\n        \"min\": 2011.0,\n        \"max\": 2025.0,\n        \"num_unique_values\": 15,\n        \"samples\": [\n          2025.0,\n          2014.0,\n          2016.0\n        ],\n        \"semantic_type\": \"\",\n        \"description\": \"\"\n      }\n    },\n    {\n      \"column\": \"sy_dist\",\n      \"properties\": {\n        \"dtype\": \"number\",\n        \"std\": 545.2551508641826,\n        \"min\": 21.8182,\n        \"max\": 9319.51,\n        \"num_unique_values\": 1500,\n        \"samples\": [\n          1230.58,\n          162.408,\n          374.534\n        ],\n        \"semantic_type\": \"\",\n        \"description\": \"\"\n      }\n    },\n    {\n      \"column\": \"st_spectype\",\n      \"properties\": {\n        \"dtype\": \"category\",\n        \"num_unique_values\": 82,\n        \"samples\": [\n          \"F9\",\n          \"G\",\n          \"F7\"\n        ],\n        \"semantic_type\": \"\",\n        \"description\": \"\"\n      }\n    }\n  ]\n}"
            }
          },
          "metadata": {},
          "execution_count": 30
        }
      ]
    },
    {
      "cell_type": "markdown",
      "source": [
        "## Filling empty cells"
      ],
      "metadata": {
        "id": "Ne4pIk6jr0N-"
      }
    },
    {
      "cell_type": "code",
      "source": [
        "numerical_cols = [\n",
        "    \"pl_orbper\", \"pl_orbsmax\", \"pl_rade\", \"pl_radj\",\n",
        "    \"pl_bmasse\", \"pl_bmassj\", \"pl_orbeccen\", \"pl_insol\", \"pl_eqt\",\n",
        "    \"st_teff\", \"st_rad\", \"st_mass\", \"st_met\", \"st_logg\",\n",
        "    \"sy_dist\"\n",
        "]\n",
        "\n",
        "categorical_cols = [\n",
        "    \"discoverymethod\", \"disc_year\", \"st_spectype\"\n",
        "]\n",
        "\n",
        "for col in numerical_cols:\n",
        "    k2[col].fillna(k2[col].median(), inplace=True)\n",
        "\n",
        "for col in categorical_cols:\n",
        "    k2[col].fillna(k2[col].mode()[0], inplace=True)"
      ],
      "metadata": {
        "colab": {
          "base_uri": "https://localhost:8080/"
        },
        "id": "SeH6ipCEpvRY",
        "outputId": "04cbaa01-b8a9-49ca-aa1f-8b7c62156ab9"
      },
      "execution_count": 31,
      "outputs": [
        {
          "output_type": "stream",
          "name": "stderr",
          "text": [
            "/tmp/ipython-input-3308888265.py:13: FutureWarning: A value is trying to be set on a copy of a DataFrame or Series through chained assignment using an inplace method.\n",
            "The behavior will change in pandas 3.0. This inplace method will never work because the intermediate object on which we are setting values always behaves as a copy.\n",
            "\n",
            "For example, when doing 'df[col].method(value, inplace=True)', try using 'df.method({col: value}, inplace=True)' or df[col] = df[col].method(value) instead, to perform the operation inplace on the original object.\n",
            "\n",
            "\n",
            "  k2[col].fillna(k2[col].median(), inplace=True)\n",
            "/tmp/ipython-input-3308888265.py:16: FutureWarning: A value is trying to be set on a copy of a DataFrame or Series through chained assignment using an inplace method.\n",
            "The behavior will change in pandas 3.0. This inplace method will never work because the intermediate object on which we are setting values always behaves as a copy.\n",
            "\n",
            "For example, when doing 'df[col].method(value, inplace=True)', try using 'df.method({col: value}, inplace=True)' or df[col] = df[col].method(value) instead, to perform the operation inplace on the original object.\n",
            "\n",
            "\n",
            "  k2[col].fillna(k2[col].mode()[0], inplace=True)\n"
          ]
        }
      ]
    },
    {
      "cell_type": "markdown",
      "source": [
        "### Checking if NaN available"
      ],
      "metadata": {
        "id": "DILU0J92sQkD"
      }
    },
    {
      "cell_type": "code",
      "source": [
        "print(k2.isna().sum())"
      ],
      "metadata": {
        "colab": {
          "base_uri": "https://localhost:8080/"
        },
        "id": "-vAY-1XHsPL_",
        "outputId": "a73e9265-c771-4a79-f374-d59b81171129"
      },
      "execution_count": 32,
      "outputs": [
        {
          "output_type": "stream",
          "name": "stdout",
          "text": [
            "pl_orbper          0\n",
            "pl_orbsmax         0\n",
            "pl_rade            0\n",
            "pl_radj            0\n",
            "pl_bmasse          0\n",
            "pl_bmassj          0\n",
            "pl_orbeccen        0\n",
            "pl_insol           0\n",
            "pl_eqt             0\n",
            "st_teff            0\n",
            "st_rad             0\n",
            "st_mass            0\n",
            "st_met             0\n",
            "st_logg            0\n",
            "disposition        0\n",
            "discoverymethod    0\n",
            "disc_year          0\n",
            "sy_dist            0\n",
            "st_spectype        0\n",
            "dtype: int64\n"
          ]
        }
      ]
    },
    {
      "cell_type": "markdown",
      "source": [
        "## Defining data sets"
      ],
      "metadata": {
        "id": "BZZYmmphpiL2"
      }
    },
    {
      "cell_type": "code",
      "source": [
        "X = k2.drop(\"disposition\", axis=1)\n",
        "y = k2[\"disposition\"]"
      ],
      "metadata": {
        "id": "PcnhnqBQpRHx"
      },
      "execution_count": 33,
      "outputs": []
    },
    {
      "cell_type": "code",
      "source": [
        "X_train, X_test, y_train, y_test = train_test_split(\n",
        "    X, y, test_size=0.2, stratify=y, random_state=42\n",
        "    )"
      ],
      "metadata": {
        "id": "AOpgnjyLpoV6"
      },
      "execution_count": 34,
      "outputs": []
    },
    {
      "cell_type": "markdown",
      "source": [
        "Defining Classes"
      ],
      "metadata": {
        "id": "2y8mTfRp05y2"
      }
    },
    {
      "cell_type": "code",
      "source": [
        "classes = np.unique(y_train)"
      ],
      "metadata": {
        "id": "wawMFEOe091B"
      },
      "execution_count": 35,
      "outputs": []
    },
    {
      "cell_type": "markdown",
      "source": [
        "Calculating Class Weights"
      ],
      "metadata": {
        "id": "NUalJl3109ld"
      }
    },
    {
      "cell_type": "code",
      "source": [
        "weights = compute_class_weight(\"balanced\", classes=classes, y=y_train)"
      ],
      "metadata": {
        "id": "Jl0IYZY6wvIU"
      },
      "execution_count": 36,
      "outputs": []
    },
    {
      "cell_type": "markdown",
      "source": [
        "Combining both"
      ],
      "metadata": {
        "id": "l05vbhRO137y"
      }
    },
    {
      "cell_type": "code",
      "source": [
        "class_weights = dict(zip(classes, weights))"
      ],
      "metadata": {
        "id": "u01MI-W11Ylq"
      },
      "execution_count": 37,
      "outputs": []
    },
    {
      "cell_type": "markdown",
      "source": [
        "### Cross-validation"
      ],
      "metadata": {
        "id": "B2ktYZ_CLb8M"
      }
    },
    {
      "cell_type": "code",
      "source": [
        "skf = StratifiedKFold(n_splits=5, shuffle=True, random_state=42)\n",
        "\n",
        "for train_idx, valid_idx in skf.split(X, y):\n",
        "    X_train, X_valid = X.iloc[train_idx], X.iloc[valid_idx]\n",
        "    y_train, y_valid = y.iloc[train_idx], y.iloc[valid_idx]"
      ],
      "metadata": {
        "id": "tBDk3uGRKDF8"
      },
      "execution_count": 38,
      "outputs": []
    },
    {
      "cell_type": "markdown",
      "source": [
        "## Cat Boost Initiation"
      ],
      "metadata": {
        "id": "6WdykEBY2F1v"
      }
    },
    {
      "cell_type": "markdown",
      "source": [
        "### Parameters\n"
      ],
      "metadata": {
        "id": "disXqpzB24me"
      }
    },
    {
      "cell_type": "code",
      "source": [
        "max_ite = 2500\n",
        "dep = 8\n",
        "l_rate = 0.01"
      ],
      "metadata": {
        "id": "VCVzo7F63Aa4"
      },
      "execution_count": 39,
      "outputs": []
    },
    {
      "cell_type": "code",
      "source": [
        "model = CatBoostClassifier(\n",
        "    iterations=max_ite,\n",
        "    depth=dep,\n",
        "    learning_rate=l_rate,\n",
        "    loss_function=\"MultiClass\",\n",
        "    eval_metric=\"MultiClass\",\n",
        "    l2_leaf_reg=7,\n",
        "    early_stopping_rounds=50,\n",
        "    random_seed=42,\n",
        "    verbose=50,\n",
        "    class_weights=class_weights\n",
        ")\n"
      ],
      "metadata": {
        "id": "whC-nezHq_WX"
      },
      "execution_count": 40,
      "outputs": []
    },
    {
      "cell_type": "markdown",
      "source": [
        "# Training"
      ],
      "metadata": {
        "id": "zCqAjS8C3eCP"
      }
    },
    {
      "cell_type": "code",
      "source": [
        "model.fit(X_train, y_train, eval_set=(X_test, y_test))"
      ],
      "metadata": {
        "colab": {
          "base_uri": "https://localhost:8080/"
        },
        "id": "uMb-AlB93Uej",
        "outputId": "e9fbed80-2554-42ae-a709-45bc37984a78"
      },
      "execution_count": null,
      "outputs": [
        {
          "output_type": "stream",
          "name": "stdout",
          "text": [
            "0:\tlearn: 1.0954046\ttest: 1.0954694\tbest: 1.0954694 (0)\ttotal: 219ms\tremaining: 9m 6s\n",
            "50:\tlearn: 0.9746021\ttest: 0.9753692\tbest: 0.9753692 (50)\ttotal: 2.14s\tremaining: 1m 42s\n",
            "100:\tlearn: 0.9045325\ttest: 0.9060901\tbest: 0.9060901 (100)\ttotal: 3.88s\tremaining: 1m 32s\n",
            "150:\tlearn: 0.8600109\ttest: 0.8621513\tbest: 0.8621513 (150)\ttotal: 5.61s\tremaining: 1m 27s\n",
            "200:\tlearn: 0.8271665\ttest: 0.8301611\tbest: 0.8301611 (200)\ttotal: 8.01s\tremaining: 1m 31s\n",
            "250:\tlearn: 0.8022124\ttest: 0.8058478\tbest: 0.8058478 (250)\ttotal: 10.8s\tremaining: 1m 37s\n",
            "300:\tlearn: 0.7817909\ttest: 0.7858551\tbest: 0.7858551 (300)\ttotal: 13.7s\tremaining: 1m 39s\n",
            "350:\tlearn: 0.7653542\ttest: 0.7701819\tbest: 0.7701819 (350)\ttotal: 15.4s\tremaining: 1m 34s\n",
            "400:\tlearn: 0.7510467\ttest: 0.7569731\tbest: 0.7569731 (400)\ttotal: 17.1s\tremaining: 1m 29s\n",
            "450:\tlearn: 0.7379723\ttest: 0.7445267\tbest: 0.7445267 (450)\ttotal: 18.8s\tremaining: 1m 25s\n",
            "500:\tlearn: 0.7255363\ttest: 0.7332411\tbest: 0.7332411 (500)\ttotal: 20.5s\tremaining: 1m 21s\n",
            "550:\tlearn: 0.7144776\ttest: 0.7233001\tbest: 0.7233001 (550)\ttotal: 22.2s\tremaining: 1m 18s\n",
            "600:\tlearn: 0.7038737\ttest: 0.7141654\tbest: 0.7141654 (600)\ttotal: 24.6s\tremaining: 1m 17s\n",
            "650:\tlearn: 0.6947785\ttest: 0.7060154\tbest: 0.7060154 (650)\ttotal: 26.9s\tremaining: 1m 16s\n",
            "700:\tlearn: 0.6859258\ttest: 0.6979332\tbest: 0.6979332 (700)\ttotal: 28.6s\tremaining: 1m 13s\n",
            "750:\tlearn: 0.6769314\ttest: 0.6900063\tbest: 0.6900063 (750)\ttotal: 30.4s\tremaining: 1m 10s\n",
            "800:\tlearn: 0.6686780\ttest: 0.6826869\tbest: 0.6826869 (800)\ttotal: 32.1s\tremaining: 1m 8s\n",
            "850:\tlearn: 0.6610884\ttest: 0.6762796\tbest: 0.6762796 (850)\ttotal: 33.8s\tremaining: 1m 5s\n",
            "900:\tlearn: 0.6530598\ttest: 0.6695840\tbest: 0.6695840 (900)\ttotal: 35.5s\tremaining: 1m 3s\n",
            "950:\tlearn: 0.6455404\ttest: 0.6633643\tbest: 0.6633643 (950)\ttotal: 38.3s\tremaining: 1m 2s\n",
            "1000:\tlearn: 0.6384751\ttest: 0.6572935\tbest: 0.6572935 (1000)\ttotal: 40.2s\tremaining: 1m\n",
            "1050:\tlearn: 0.6314924\ttest: 0.6512502\tbest: 0.6512502 (1050)\ttotal: 41.9s\tremaining: 57.8s\n",
            "1100:\tlearn: 0.6243849\ttest: 0.6452945\tbest: 0.6452945 (1100)\ttotal: 43.7s\tremaining: 55.5s\n",
            "1150:\tlearn: 0.6175589\ttest: 0.6396348\tbest: 0.6396348 (1150)\ttotal: 45.3s\tremaining: 53.1s\n",
            "1200:\tlearn: 0.6107378\ttest: 0.6341360\tbest: 0.6341360 (1200)\ttotal: 47s\tremaining: 50.9s\n",
            "1250:\tlearn: 0.6041873\ttest: 0.6290091\tbest: 0.6290091 (1250)\ttotal: 48.9s\tremaining: 48.8s\n",
            "1300:\tlearn: 0.5980906\ttest: 0.6239794\tbest: 0.6239794 (1300)\ttotal: 51.7s\tremaining: 47.7s\n",
            "1350:\tlearn: 0.5924216\ttest: 0.6192665\tbest: 0.6192665 (1350)\ttotal: 53.5s\tremaining: 45.5s\n",
            "1400:\tlearn: 0.5863243\ttest: 0.6146562\tbest: 0.6146562 (1400)\ttotal: 55.2s\tremaining: 43.3s\n",
            "1450:\tlearn: 0.5808580\ttest: 0.6103306\tbest: 0.6103306 (1450)\ttotal: 56.9s\tremaining: 41.1s\n",
            "1500:\tlearn: 0.5752077\ttest: 0.6058095\tbest: 0.6058095 (1500)\ttotal: 58.6s\tremaining: 39s\n",
            "1550:\tlearn: 0.5697910\ttest: 0.6017237\tbest: 0.6017237 (1550)\ttotal: 1m\tremaining: 36.9s\n",
            "1600:\tlearn: 0.5643394\ttest: 0.5973602\tbest: 0.5973602 (1600)\ttotal: 1m 2s\tremaining: 35.1s\n",
            "1650:\tlearn: 0.5589744\ttest: 0.5931274\tbest: 0.5931274 (1650)\ttotal: 1m 4s\tremaining: 33.4s\n",
            "1700:\tlearn: 0.5538573\ttest: 0.5891042\tbest: 0.5891042 (1700)\ttotal: 1m 6s\tremaining: 31.3s\n",
            "1750:\tlearn: 0.5492311\ttest: 0.5852593\tbest: 0.5852593 (1750)\ttotal: 1m 8s\tremaining: 29.3s\n",
            "1800:\tlearn: 0.5445402\ttest: 0.5816795\tbest: 0.5816795 (1800)\ttotal: 1m 10s\tremaining: 27.2s\n",
            "1850:\tlearn: 0.5393667\ttest: 0.5776245\tbest: 0.5776245 (1850)\ttotal: 1m 11s\tremaining: 25.2s\n",
            "1900:\tlearn: 0.5348005\ttest: 0.5741599\tbest: 0.5741599 (1900)\ttotal: 1m 13s\tremaining: 23.2s\n",
            "1950:\tlearn: 0.5298905\ttest: 0.5701778\tbest: 0.5701778 (1950)\ttotal: 1m 16s\tremaining: 21.4s\n",
            "2000:\tlearn: 0.5255228\ttest: 0.5668024\tbest: 0.5668024 (2000)\ttotal: 1m 18s\tremaining: 19.5s\n",
            "2050:\tlearn: 0.5210657\ttest: 0.5632070\tbest: 0.5632070 (2050)\ttotal: 1m 19s\tremaining: 17.5s\n",
            "2100:\tlearn: 0.5166264\ttest: 0.5594008\tbest: 0.5594008 (2100)\ttotal: 1m 21s\tremaining: 15.5s\n",
            "2150:\tlearn: 0.5122935\ttest: 0.5558295\tbest: 0.5558295 (2150)\ttotal: 1m 23s\tremaining: 13.5s\n",
            "2200:\tlearn: 0.5081772\ttest: 0.5526510\tbest: 0.5526510 (2200)\ttotal: 1m 25s\tremaining: 11.6s\n",
            "2250:\tlearn: 0.5040639\ttest: 0.5492421\tbest: 0.5492421 (2250)\ttotal: 1m 26s\tremaining: 9.61s\n",
            "2300:\tlearn: 0.4998073\ttest: 0.5459447\tbest: 0.5459447 (2300)\ttotal: 1m 29s\tremaining: 7.77s\n",
            "2350:\tlearn: 0.4958238\ttest: 0.5430414\tbest: 0.5430414 (2350)\ttotal: 1m 31s\tremaining: 5.8s\n",
            "2400:\tlearn: 0.4918006\ttest: 0.5398860\tbest: 0.5398860 (2400)\ttotal: 1m 33s\tremaining: 3.85s\n",
            "2450:\tlearn: 0.4882821\ttest: 0.5371429\tbest: 0.5371429 (2450)\ttotal: 1m 35s\tremaining: 1.9s\n",
            "2499:\tlearn: 0.4846833\ttest: 0.5342964\tbest: 0.5342964 (2499)\ttotal: 1m 36s\tremaining: 0us\n",
            "\n",
            "bestTest = 0.5342963669\n",
            "bestIteration = 2499\n",
            "\n"
          ]
        },
        {
          "output_type": "execute_result",
          "data": {
            "text/plain": [
              "<catboost.core.CatBoostClassifier at 0x7beb0a1142f0>"
            ]
          },
          "metadata": {},
          "execution_count": 247
        }
      ]
    },
    {
      "cell_type": "markdown",
      "source": [
        "### Plotting Loss"
      ],
      "metadata": {
        "id": "FntxgSBsErX3"
      }
    },
    {
      "cell_type": "code",
      "source": [
        "evals_result = model.get_evals_result()\n",
        "\n",
        "train_loss = evals_result['learn']['MultiClass']\n",
        "valid_loss = evals_result['validation']['MultiClass']\n",
        "\n",
        "plt.figure(figsize=(10,6))\n",
        "plt.plot(train_loss, label='Training Loss')\n",
        "plt.plot(valid_loss, label='Validation Loss')\n",
        "plt.xlabel('Iteration')\n",
        "plt.ylabel('MultiClass Loss')\n",
        "plt.title('CatBoost Training & Validation Loss')\n",
        "plt.legend()\n",
        "plt.grid(True)\n",
        "plt.show()"
      ],
      "metadata": {
        "id": "wVlp_T4NErEP",
        "outputId": "725a9358-4cb2-46ec-9ff0-db54f415f607",
        "colab": {
          "base_uri": "https://localhost:8080/",
          "height": 564
        }
      },
      "execution_count": null,
      "outputs": [
        {
          "output_type": "display_data",
          "data": {
            "text/plain": [
              "<Figure size 1000x600 with 1 Axes>"
            ],
            "image/png": "[encoded data removed]"
          },
          "metadata": {}
        }
      ]
    },
    {
      "cell_type": "markdown",
      "source": [
        "# Evaluation"
      ],
      "metadata": {
        "id": "WkJMiODf3jU8"
      }
    },
    {
      "cell_type": "code",
      "source": [
        "y_pred = model.predict(X_test)"
      ],
      "metadata": {
        "id": "RlM3Gy033jCW"
      },
      "execution_count": null,
      "outputs": []
    },
    {
      "cell_type": "markdown",
      "source": [
        "### Confusion Matrix"
      ],
      "metadata": {
        "id": "z-JQB_2z547j"
      }
    },
    {
      "cell_type": "code",
      "source": [
        "cm = confusion_matrix(y_test, y_pred)\n",
        "\n",
        "class_names = [\"FP\", \"APC/PC\", \"CP/KP\"]\n",
        "\n",
        "plt.figure(figsize=(6,5))\n",
        "sns.heatmap(cm, annot=True, fmt='d', cmap='Blues',\n",
        "            xticklabels=class_names, yticklabels=class_names)\n",
        "plt.ylabel('True label')\n",
        "plt.xlabel('Predicted label')\n",
        "plt.title('Confusion Matrix')\n",
        "plt.show()"
      ],
      "metadata": {
        "colab": {
          "base_uri": "https://localhost:8080/",
          "height": 487
        },
        "id": "CMTh0eHt4dxE",
        "outputId": "6916d177-cbe1-4e18-943c-55015fba0b28"
      },
      "execution_count": null,
      "outputs": [
        {
          "output_type": "display_data",
          "data": {
            "text/plain": [
              "<Figure size 600x500 with 2 Axes>"
            ],
            "image/png": "[encoded data removed]"
          },
          "metadata": {}
        }
      ]
    },
    {
      "cell_type": "markdown",
      "source": [
        "Accuracy"
      ],
      "metadata": {
        "id": "niTwN6Ni6l4e"
      }
    },
    {
      "cell_type": "code",
      "source": [
        "acc = accuracy_score(y_test, y_pred)\n",
        "print(\"Accuracy: {:.2f}%\".format(acc * 100))"
      ],
      "metadata": {
        "colab": {
          "base_uri": "https://localhost:8080/"
        },
        "id": "5Ir2HlhM6oU_",
        "outputId": "37f8c784-8fb8-4ab1-c84f-71f4dffa01b6"
      },
      "execution_count": null,
      "outputs": [
        {
          "output_type": "stream",
          "name": "stdout",
          "text": [
            "Accuracy: 76.49%\n"
          ]
        }
      ]
    }
  ]
}