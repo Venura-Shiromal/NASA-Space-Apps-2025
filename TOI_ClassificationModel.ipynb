{
  "nbformat": 4,
  "nbformat_minor": 0,
  "metadata": {
    "colab": {
      "provenance": [],
      "authorship_tag": "ABX9TyMlX7qhvhmGblExbBsKhFo6",
      "include_colab_link": true
    },
    "kernelspec": {
      "name": "python3",
      "display_name": "Python 3"
    },
    "language_info": {
      "name": "python"
    }
  },
  "cells": [
    {
      "cell_type": "markdown",
      "metadata": {
        "id": "view-in-github",
        "colab_type": "text"
      },
      "source": [
        "<a href=\"https://colab.research.google.com/github/Venura-Shiromal/NASA-Space-Apps-2025/blob/main/TOI_ClassificationModel.ipynb\" target=\"_parent\"><img src=\"https://colab.research.google.com/assets/colab-badge.svg\" alt=\"Open In Colab\"/></a>"
      ]
    },
    {
      "cell_type": "markdown",
      "source": [
        "## Prerequisities"
      ],
      "metadata": {
        "id": "fLvcuXZUkvI3"
      }
    },
    {
      "cell_type": "code",
      "execution_count": 94,
      "metadata": {
        "id": "Sx0W_aW_Yyo0"
      },
      "outputs": [],
      "source": [
        "import pandas as pd\n",
        "from catboost import CatBoostClassifier\n",
        "from sklearn.model_selection import train_test_split\n",
        "from sklearn.metrics import classification_report, confusion_matrix, accuracy_score\n",
        "from sklearn.utils.class_weight import compute_class_weight\n",
        "import numpy as np\n",
        "\n",
        "import matplotlib.pyplot as plt\n",
        "import seaborn as sns"
      ]
    },
    {
      "cell_type": "markdown",
      "source": [
        "## Loading Data"
      ],
      "metadata": {
        "id": "VVyWLHQuky2K"
      }
    },
    {
      "cell_type": "code",
      "source": [
        "toi = pd.read_csv('sample_data/TOI_2025.09.26_07.08.49.csv', comment='#')\n",
        "toi.head()"
      ],
      "metadata": {
        "colab": {
          "base_uri": "https://localhost:8080/",
          "height": 429
        },
        "id": "uC2Meugwkt7e",
        "outputId": "c417296c-2a63-4efa-8b67-13dc0166cd0d"
      },
      "execution_count": 95,
      "outputs": [
        {
          "output_type": "execute_result",
          "data": {
            "text/plain": [
              "       toi        tid tfopwg_disp         rastr          ra         decstr  \\\n",
              "0  1000.01   50365310          FP  07h29m25.85s  112.357708  -12d41m45.46s   \n",
              "1  1001.01   88863718          PC  08h10m19.31s  122.580465  -05d30m49.87s   \n",
              "2  1002.01  124709665          FP  06h58m54.47s  104.726966  -10d34m49.64s   \n",
              "3  1003.01  106997505          FP  07h22m14.39s  110.559945  -25d12m25.26s   \n",
              "4  1004.01  238597883          FP  08h08m42.77s  122.178195  -48d48m10.12s   \n",
              "\n",
              "         dec  st_pmra  st_pmraerr1  st_pmraerr2  ...  st_logg  st_loggerr1  \\\n",
              "0 -12.695960   -5.964        0.085       -0.085  ...     4.19         0.07   \n",
              "1  -5.513852   -4.956        0.102       -0.102  ...     4.03         0.09   \n",
              "2 -10.580455   -1.462        0.206       -0.206  ...      NaN          NaN   \n",
              "3 -25.207017   -0.939        0.041       -0.041  ...     4.15         1.64   \n",
              "4 -48.802811   -4.496        0.069       -0.069  ...     4.14         0.07   \n",
              "\n",
              "   st_loggerr2  st_logglim   st_rad  st_raderr1  st_raderr2  st_radlim  \\\n",
              "0        -0.07           0  2.16986    0.072573   -0.072573          0   \n",
              "1        -0.09           0  2.01000    0.090000   -0.090000          0   \n",
              "2          NaN           0  5.73000         NaN         NaN          0   \n",
              "3        -1.64           0      NaN         NaN         NaN          0   \n",
              "4        -0.07           0  2.15000    0.060000   -0.060000          0   \n",
              "\n",
              "           toi_created            rowupdate  \n",
              "0  2019-07-24 15:58:33  2024-09-09 10:08:01  \n",
              "1  2019-07-24 15:58:33  2023-04-03 14:31:04  \n",
              "2  2019-07-24 15:58:33  2022-07-11 16:02:02  \n",
              "3  2019-07-24 15:58:33  2022-02-23 10:10:02  \n",
              "4  2019-07-24 15:58:33  2024-09-09 10:08:01  \n",
              "\n",
              "[5 rows x 65 columns]"
            ],
            "text/html": [
              "\n",
              "  <div id=\"df-a5f27c82-1443-432d-baa3-d725c0d3a935\" class=\"colab-df-container\">\n",
              "    <div>\n",
              "<style scoped>\n",
              "    .dataframe tbody tr th:only-of-type {\n",
              "        vertical-align: middle;\n",
              "    }\n",
              "\n",
              "    .dataframe tbody tr th {\n",
              "        vertical-align: top;\n",
              "    }\n",
              "\n",
              "    .dataframe thead th {\n",
              "        text-align: right;\n",
              "    }\n",
              "</style>\n",
              "<table border=\"1\" class=\"dataframe\">\n",
              "  <thead>\n",
              "    <tr style=\"text-align: right;\">\n",
              "      <th></th>\n",
              "      <th>toi</th>\n",
              "      <th>tid</th>\n",
              "      <th>tfopwg_disp</th>\n",
              "      <th>rastr</th>\n",
              "      <th>ra</th>\n",
              "      <th>decstr</th>\n",
              "      <th>dec</th>\n",
              "      <th>st_pmra</th>\n",
              "      <th>st_pmraerr1</th>\n",
              "      <th>st_pmraerr2</th>\n",
              "      <th>...</th>\n",
              "      <th>st_logg</th>\n",
              "      <th>st_loggerr1</th>\n",
              "      <th>st_loggerr2</th>\n",
              "      <th>st_logglim</th>\n",
              "      <th>st_rad</th>\n",
              "      <th>st_raderr1</th>\n",
              "      <th>st_raderr2</th>\n",
              "      <th>st_radlim</th>\n",
              "      <th>toi_created</th>\n",
              "      <th>rowupdate</th>\n",
              "    </tr>\n",
              "  </thead>\n",
              "  <tbody>\n",
              "    <tr>\n",
              "      <th>0</th>\n",
              "      <td>1000.01</td>\n",
              "      <td>50365310</td>\n",
              "      <td>FP</td>\n",
              "      <td>07h29m25.85s</td>\n",
              "      <td>112.357708</td>\n",
              "      <td>-12d41m45.46s</td>\n",
              "      <td>-12.695960</td>\n",
              "      <td>-5.964</td>\n",
              "      <td>0.085</td>\n",
              "      <td>-0.085</td>\n",
              "      <td>...</td>\n",
              "      <td>4.19</td>\n",
              "      <td>0.07</td>\n",
              "      <td>-0.07</td>\n",
              "      <td>0</td>\n",
              "      <td>2.16986</td>\n",
              "      <td>0.072573</td>\n",
              "      <td>-0.072573</td>\n",
              "      <td>0</td>\n",
              "      <td>2019-07-24 15:58:33</td>\n",
              "      <td>2024-09-09 10:08:01</td>\n",
              "    </tr>\n",
              "    <tr>\n",
              "      <th>1</th>\n",
              "      <td>1001.01</td>\n",
              "      <td>88863718</td>\n",
              "      <td>PC</td>\n",
              "      <td>08h10m19.31s</td>\n",
              "      <td>122.580465</td>\n",
              "      <td>-05d30m49.87s</td>\n",
              "      <td>-5.513852</td>\n",
              "      <td>-4.956</td>\n",
              "      <td>0.102</td>\n",
              "      <td>-0.102</td>\n",
              "      <td>...</td>\n",
              "      <td>4.03</td>\n",
              "      <td>0.09</td>\n",
              "      <td>-0.09</td>\n",
              "      <td>0</td>\n",
              "      <td>2.01000</td>\n",
              "      <td>0.090000</td>\n",
              "      <td>-0.090000</td>\n",
              "      <td>0</td>\n",
              "      <td>2019-07-24 15:58:33</td>\n",
              "      <td>2023-04-03 14:31:04</td>\n",
              "    </tr>\n",
              "    <tr>\n",
              "      <th>2</th>\n",
              "      <td>1002.01</td>\n",
              "      <td>124709665</td>\n",
              "      <td>FP</td>\n",
              "      <td>06h58m54.47s</td>\n",
              "      <td>104.726966</td>\n",
              "      <td>-10d34m49.64s</td>\n",
              "      <td>-10.580455</td>\n",
              "      <td>-1.462</td>\n",
              "      <td>0.206</td>\n",
              "      <td>-0.206</td>\n",
              "      <td>...</td>\n",
              "      <td>NaN</td>\n",
              "      <td>NaN</td>\n",
              "      <td>NaN</td>\n",
              "      <td>0</td>\n",
              "      <td>5.73000</td>\n",
              "      <td>NaN</td>\n",
              "      <td>NaN</td>\n",
              "      <td>0</td>\n",
              "      <td>2019-07-24 15:58:33</td>\n",
              "      <td>2022-07-11 16:02:02</td>\n",
              "    </tr>\n",
              "    <tr>\n",
              "      <th>3</th>\n",
              "      <td>1003.01</td>\n",
              "      <td>106997505</td>\n",
              "      <td>FP</td>\n",
              "      <td>07h22m14.39s</td>\n",
              "      <td>110.559945</td>\n",
              "      <td>-25d12m25.26s</td>\n",
              "      <td>-25.207017</td>\n",
              "      <td>-0.939</td>\n",
              "      <td>0.041</td>\n",
              "      <td>-0.041</td>\n",
              "      <td>...</td>\n",
              "      <td>4.15</td>\n",
              "      <td>1.64</td>\n",
              "      <td>-1.64</td>\n",
              "      <td>0</td>\n",
              "      <td>NaN</td>\n",
              "      <td>NaN</td>\n",
              "      <td>NaN</td>\n",
              "      <td>0</td>\n",
              "      <td>2019-07-24 15:58:33</td>\n",
              "      <td>2022-02-23 10:10:02</td>\n",
              "    </tr>\n",
              "    <tr>\n",
              "      <th>4</th>\n",
              "      <td>1004.01</td>\n",
              "      <td>238597883</td>\n",
              "      <td>FP</td>\n",
              "      <td>08h08m42.77s</td>\n",
              "      <td>122.178195</td>\n",
              "      <td>-48d48m10.12s</td>\n",
              "      <td>-48.802811</td>\n",
              "      <td>-4.496</td>\n",
              "      <td>0.069</td>\n",
              "      <td>-0.069</td>\n",
              "      <td>...</td>\n",
              "      <td>4.14</td>\n",
              "      <td>0.07</td>\n",
              "      <td>-0.07</td>\n",
              "      <td>0</td>\n",
              "      <td>2.15000</td>\n",
              "      <td>0.060000</td>\n",
              "      <td>-0.060000</td>\n",
              "      <td>0</td>\n",
              "      <td>2019-07-24 15:58:33</td>\n",
              "      <td>2024-09-09 10:08:01</td>\n",
              "    </tr>\n",
              "  </tbody>\n",
              "</table>\n",
              "<p>5 rows × 65 columns</p>\n",
              "</div>\n",
              "    <div class=\"colab-df-buttons\">\n",
              "\n",
              "  <div class=\"colab-df-container\">\n",
              "    <button class=\"colab-df-convert\" onclick=\"convertToInteractive('df-a5f27c82-1443-432d-baa3-d725c0d3a935')\"\n",
              "            title=\"Convert this dataframe to an interactive table.\"\n",
              "            style=\"display:none;\">\n",
              "\n",
              "  <svg xmlns=\"http://www.w3.org/2000/svg\" height=\"24px\" viewBox=\"0 -960 960 960\">\n",
              "    <path d=\"M120-120v-720h720v720H120Zm60-500h600v-160H180v160Zm220 220h160v-160H400v160Zm0 220h160v-160H400v160ZM180-400h160v-160H180v160Zm440 0h160v-160H620v160ZM180-180h160v-160H180v160Zm440 0h160v-160H620v160Z\"/>\n",
              "  </svg>\n",
              "    </button>\n",
              "\n",
              "  <style>\n",
              "    .colab-df-container {\n",
              "      display:flex;\n",
              "      gap: 12px;\n",
              "    }\n",
              "\n",
              "    .colab-df-convert {\n",
              "      background-color: #E8F0FE;\n",
              "      border: none;\n",
              "      border-radius: 50%;\n",
              "      cursor: pointer;\n",
              "      display: none;\n",
              "      fill: #1967D2;\n",
              "      height: 32px;\n",
              "      padding: 0 0 0 0;\n",
              "      width: 32px;\n",
              "    }\n",
              "\n",
              "    .colab-df-convert:hover {\n",
              "      background-color: #E2EBFA;\n",
              "      box-shadow: 0px 1px 2px rgba(60, 64, 67, 0.3), 0px 1px 3px 1px rgba(60, 64, 67, 0.15);\n",
              "      fill: #174EA6;\n",
              "    }\n",
              "\n",
              "    .colab-df-buttons div {\n",
              "      margin-bottom: 4px;\n",
              "    }\n",
              "\n",
              "    [theme=dark] .colab-df-convert {\n",
              "      background-color: #3B4455;\n",
              "      fill: #D2E3FC;\n",
              "    }\n",
              "\n",
              "    [theme=dark] .colab-df-convert:hover {\n",
              "      background-color: #434B5C;\n",
              "      box-shadow: 0px 1px 3px 1px rgba(0, 0, 0, 0.15);\n",
              "      filter: drop-shadow(0px 1px 2px rgba(0, 0, 0, 0.3));\n",
              "      fill: #FFFFFF;\n",
              "    }\n",
              "  </style>\n",
              "\n",
              "    <script>\n",
              "      const buttonEl =\n",
              "        document.querySelector('#df-a5f27c82-1443-432d-baa3-d725c0d3a935 button.colab-df-convert');\n",
              "      buttonEl.style.display =\n",
              "        google.colab.kernel.accessAllowed ? 'block' : 'none';\n",
              "\n",
              "      async function convertToInteractive(key) {\n",
              "        const element = document.querySelector('#df-a5f27c82-1443-432d-baa3-d725c0d3a935');\n",
              "        const dataTable =\n",
              "          await google.colab.kernel.invokeFunction('convertToInteractive',\n",
              "                                                    [key], {});\n",
              "        if (!dataTable) return;\n",
              "\n",
              "        const docLinkHtml = 'Like what you see? Visit the ' +\n",
              "          '<a target=\"_blank\" href=https://colab.research.google.com/notebooks/data_table.ipynb>data table notebook</a>'\n",
              "          + ' to learn more about interactive tables.';\n",
              "        element.innerHTML = '';\n",
              "        dataTable['output_type'] = 'display_data';\n",
              "        await google.colab.output.renderOutput(dataTable, element);\n",
              "        const docLink = document.createElement('div');\n",
              "        docLink.innerHTML = docLinkHtml;\n",
              "        element.appendChild(docLink);\n",
              "      }\n",
              "    </script>\n",
              "  </div>\n",
              "\n",
              "\n",
              "    <div id=\"df-5b65ddc3-52a1-41f4-8935-eaed69858b1f\">\n",
              "      <button class=\"colab-df-quickchart\" onclick=\"quickchart('df-5b65ddc3-52a1-41f4-8935-eaed69858b1f')\"\n",
              "                title=\"Suggest charts\"\n",
              "                style=\"display:none;\">\n",
              "\n",
              "<svg xmlns=\"http://www.w3.org/2000/svg\" height=\"24px\"viewBox=\"0 0 24 24\"\n",
              "     width=\"24px\">\n",
              "    <g>\n",
              "        <path d=\"M19 3H5c-1.1 0-2 .9-2 2v14c0 1.1.9 2 2 2h14c1.1 0 2-.9 2-2V5c0-1.1-.9-2-2-2zM9 17H7v-7h2v7zm4 0h-2V7h2v10zm4 0h-2v-4h2v4z\"/>\n",
              "    </g>\n",
              "</svg>\n",
              "      </button>\n",
              "\n",
              "<style>\n",
              "  .colab-df-quickchart {\n",
              "      --bg-color: #E8F0FE;\n",
              "      --fill-color: #1967D2;\n",
              "      --hover-bg-color: #E2EBFA;\n",
              "      --hover-fill-color: #174EA6;\n",
              "      --disabled-fill-color: #AAA;\n",
              "      --disabled-bg-color: #DDD;\n",
              "  }\n",
              "\n",
              "  [theme=dark] .colab-df-quickchart {\n",
              "      --bg-color: #3B4455;\n",
              "      --fill-color: #D2E3FC;\n",
              "      --hover-bg-color: #434B5C;\n",
              "      --hover-fill-color: #FFFFFF;\n",
              "      --disabled-bg-color: #3B4455;\n",
              "      --disabled-fill-color: #666;\n",
              "  }\n",
              "\n",
              "  .colab-df-quickchart {\n",
              "    background-color: var(--bg-color);\n",
              "    border: none;\n",
              "    border-radius: 50%;\n",
              "    cursor: pointer;\n",
              "    display: none;\n",
              "    fill: var(--fill-color);\n",
              "    height: 32px;\n",
              "    padding: 0;\n",
              "    width: 32px;\n",
              "  }\n",
              "\n",
              "  .colab-df-quickchart:hover {\n",
              "    background-color: var(--hover-bg-color);\n",
              "    box-shadow: 0 1px 2px rgba(60, 64, 67, 0.3), 0 1px 3px 1px rgba(60, 64, 67, 0.15);\n",
              "    fill: var(--button-hover-fill-color);\n",
              "  }\n",
              "\n",
              "  .colab-df-quickchart-complete:disabled,\n",
              "  .colab-df-quickchart-complete:disabled:hover {\n",
              "    background-color: var(--disabled-bg-color);\n",
              "    fill: var(--disabled-fill-color);\n",
              "    box-shadow: none;\n",
              "  }\n",
              "\n",
              "  .colab-df-spinner {\n",
              "    border: 2px solid var(--fill-color);\n",
              "    border-color: transparent;\n",
              "    border-bottom-color: var(--fill-color);\n",
              "    animation:\n",
              "      spin 1s steps(1) infinite;\n",
              "  }\n",
              "\n",
              "  @keyframes spin {\n",
              "    0% {\n",
              "      border-color: transparent;\n",
              "      border-bottom-color: var(--fill-color);\n",
              "      border-left-color: var(--fill-color);\n",
              "    }\n",
              "    20% {\n",
              "      border-color: transparent;\n",
              "      border-left-color: var(--fill-color);\n",
              "      border-top-color: var(--fill-color);\n",
              "    }\n",
              "    30% {\n",
              "      border-color: transparent;\n",
              "      border-left-color: var(--fill-color);\n",
              "      border-top-color: var(--fill-color);\n",
              "      border-right-color: var(--fill-color);\n",
              "    }\n",
              "    40% {\n",
              "      border-color: transparent;\n",
              "      border-right-color: var(--fill-color);\n",
              "      border-top-color: var(--fill-color);\n",
              "    }\n",
              "    60% {\n",
              "      border-color: transparent;\n",
              "      border-right-color: var(--fill-color);\n",
              "    }\n",
              "    80% {\n",
              "      border-color: transparent;\n",
              "      border-right-color: var(--fill-color);\n",
              "      border-bottom-color: var(--fill-color);\n",
              "    }\n",
              "    90% {\n",
              "      border-color: transparent;\n",
              "      border-bottom-color: var(--fill-color);\n",
              "    }\n",
              "  }\n",
              "</style>\n",
              "\n",
              "      <script>\n",
              "        async function quickchart(key) {\n",
              "          const quickchartButtonEl =\n",
              "            document.querySelector('#' + key + ' button');\n",
              "          quickchartButtonEl.disabled = true;  // To prevent multiple clicks.\n",
              "          quickchartButtonEl.classList.add('colab-df-spinner');\n",
              "          try {\n",
              "            const charts = await google.colab.kernel.invokeFunction(\n",
              "                'suggestCharts', [key], {});\n",
              "          } catch (error) {\n",
              "            console.error('Error during call to suggestCharts:', error);\n",
              "          }\n",
              "          quickchartButtonEl.classList.remove('colab-df-spinner');\n",
              "          quickchartButtonEl.classList.add('colab-df-quickchart-complete');\n",
              "        }\n",
              "        (() => {\n",
              "          let quickchartButtonEl =\n",
              "            document.querySelector('#df-5b65ddc3-52a1-41f4-8935-eaed69858b1f button');\n",
              "          quickchartButtonEl.style.display =\n",
              "            google.colab.kernel.accessAllowed ? 'block' : 'none';\n",
              "        })();\n",
              "      </script>\n",
              "    </div>\n",
              "\n",
              "    </div>\n",
              "  </div>\n"
            ],
            "application/vnd.google.colaboratory.intrinsic+json": {
              "type": "dataframe",
              "variable_name": "toi"
            }
          },
          "metadata": {},
          "execution_count": 95
        }
      ]
    },
    {
      "cell_type": "markdown",
      "source": [
        "## Feature Selection"
      ],
      "metadata": {
        "id": "07Hmh6kFmtFN"
      }
    },
    {
      "cell_type": "code",
      "source": [
        "features = [\"pl_orbper\", \"pl_trandurh\", \"pl_trandep\", \"pl_rade\", \"pl_eqt\", \"pl_insol\",\"st_teff\", \"st_logg\", \"st_rad\", \"st_tmag\", \"st_dist\", \"st_raderr1\", \"st_raderr2\"]"
      ],
      "metadata": {
        "id": "TrGOOBvmlER9"
      },
      "execution_count": 96,
      "outputs": []
    },
    {
      "cell_type": "markdown",
      "source": [
        "Label Mapping"
      ],
      "metadata": {
        "id": "JKSIKT4To9HZ"
      }
    },
    {
      "cell_type": "code",
      "source": [
        "label_map = {\n",
        "    \"CP\": 1,   # Confirmed Planet\n",
        "    \"KP\": 1,   # Known Planet\n",
        "    \"PC\": 0,   # Planet Candidate\n",
        "    \"APC\": 0,  # Ambiguous Planet Candidate\n",
        "    \"FP\": -1,  # False Positive\n",
        "    \"FA\": -1   # False Alarm\n",
        "}\n",
        "\n",
        "toi[\"tfopwg_disp\"] = toi[\"tfopwg_disp\"].map(label_map)"
      ],
      "metadata": {
        "id": "_8K-UEG5o_DS"
      },
      "execution_count": 97,
      "outputs": []
    },
    {
      "cell_type": "markdown",
      "source": [
        "## Filling empty cells"
      ],
      "metadata": {
        "id": "Ne4pIk6jr0N-"
      }
    },
    {
      "cell_type": "markdown",
      "source": [
        "### Numerical Values"
      ],
      "metadata": {
        "id": "qqUfLf0Zr9Mj"
      }
    },
    {
      "cell_type": "code",
      "source": [
        "numerical_cols = [\"pl_orbper\",\"pl_trandurh\",\"pl_trandep\",\"pl_rade\",\n",
        "                  \"pl_insol\",\"pl_eqt\",\"st_teff\",\"st_logg\",\"st_rad\",\n",
        "                  \"st_tmag\",\"st_dist\", \"st_raderr1\", \"st_raderr2\"]\n",
        "\n",
        "for col in numerical_cols:\n",
        "    toi[col].fillna(toi[col].mean(), inplace=True)\n"
      ],
      "metadata": {
        "colab": {
          "base_uri": "https://localhost:8080/"
        },
        "id": "I79FaLU-rz4P",
        "outputId": "5a7ea49f-fe58-47d1-e02f-154f3dbc38c9"
      },
      "execution_count": 98,
      "outputs": [
        {
          "output_type": "stream",
          "name": "stderr",
          "text": [
            "/tmp/ipython-input-2967634529.py:6: FutureWarning: A value is trying to be set on a copy of a DataFrame or Series through chained assignment using an inplace method.\n",
            "The behavior will change in pandas 3.0. This inplace method will never work because the intermediate object on which we are setting values always behaves as a copy.\n",
            "\n",
            "For example, when doing 'df[col].method(value, inplace=True)', try using 'df.method({col: value}, inplace=True)' or df[col] = df[col].method(value) instead, to perform the operation inplace on the original object.\n",
            "\n",
            "\n",
            "  toi[col].fillna(toi[col].mean(), inplace=True)\n"
          ]
        }
      ]
    },
    {
      "cell_type": "markdown",
      "source": [
        "### Strings"
      ],
      "metadata": {
        "id": "5bhqBFe0r_nV"
      }
    },
    {
      "cell_type": "code",
      "source": [
        "toi[\"tfopwg_disp\"].fillna(toi[\"tfopwg_disp\"].mode(), inplace=True)"
      ],
      "metadata": {
        "colab": {
          "base_uri": "https://localhost:8080/"
        },
        "id": "bXfCRdYdsCjo",
        "outputId": "8dbaca26-d286-44df-c2d7-513e39b04b61"
      },
      "execution_count": 99,
      "outputs": [
        {
          "output_type": "stream",
          "name": "stderr",
          "text": [
            "/tmp/ipython-input-2156541520.py:1: FutureWarning: A value is trying to be set on a copy of a DataFrame or Series through chained assignment using an inplace method.\n",
            "The behavior will change in pandas 3.0. This inplace method will never work because the intermediate object on which we are setting values always behaves as a copy.\n",
            "\n",
            "For example, when doing 'df[col].method(value, inplace=True)', try using 'df.method({col: value}, inplace=True)' or df[col] = df[col].method(value) instead, to perform the operation inplace on the original object.\n",
            "\n",
            "\n",
            "  toi[\"tfopwg_disp\"].fillna(toi[\"tfopwg_disp\"].mode(), inplace=True)\n"
          ]
        }
      ]
    },
    {
      "cell_type": "markdown",
      "source": [
        "Checking if NaN available"
      ],
      "metadata": {
        "id": "DILU0J92sQkD"
      }
    },
    {
      "cell_type": "code",
      "source": [
        "print(toi.isna().sum())"
      ],
      "metadata": {
        "colab": {
          "base_uri": "https://localhost:8080/"
        },
        "id": "-vAY-1XHsPL_",
        "outputId": "ce07b91f-a5a2-4d73-fe91-fb59659c86f6"
      },
      "execution_count": 100,
      "outputs": [
        {
          "output_type": "stream",
          "name": "stdout",
          "text": [
            "toi            0\n",
            "tid            0\n",
            "tfopwg_disp    0\n",
            "rastr          0\n",
            "ra             0\n",
            "              ..\n",
            "st_raderr1     0\n",
            "st_raderr2     0\n",
            "st_radlim      0\n",
            "toi_created    0\n",
            "rowupdate      0\n",
            "Length: 65, dtype: int64\n"
          ]
        }
      ]
    },
    {
      "cell_type": "markdown",
      "source": [
        "Defining data sets"
      ],
      "metadata": {
        "id": "BZZYmmphpiL2"
      }
    },
    {
      "cell_type": "code",
      "source": [
        "X = toi[features]\n",
        "y = toi[\"tfopwg_disp\"]"
      ],
      "metadata": {
        "id": "PcnhnqBQpRHx"
      },
      "execution_count": 101,
      "outputs": []
    },
    {
      "cell_type": "code",
      "source": [
        "X_train, X_test, y_train, y_test = train_test_split(\n",
        "    X, y, test_size=0.2, stratify=y, random_state=42\n",
        "    )"
      ],
      "metadata": {
        "id": "AOpgnjyLpoV6"
      },
      "execution_count": 102,
      "outputs": []
    },
    {
      "cell_type": "markdown",
      "source": [
        "Defining Classes"
      ],
      "metadata": {
        "id": "2y8mTfRp05y2"
      }
    },
    {
      "cell_type": "code",
      "source": [
        "classes = np.unique(y_train)"
      ],
      "metadata": {
        "id": "wawMFEOe091B"
      },
      "execution_count": 103,
      "outputs": []
    },
    {
      "cell_type": "markdown",
      "source": [
        "Calculating Class Weights"
      ],
      "metadata": {
        "id": "NUalJl3109ld"
      }
    },
    {
      "cell_type": "code",
      "source": [
        "weights = compute_class_weight(\"balanced\", classes=classes, y=y_train)"
      ],
      "metadata": {
        "id": "Jl0IYZY6wvIU"
      },
      "execution_count": 104,
      "outputs": []
    },
    {
      "cell_type": "markdown",
      "source": [
        "Combining both"
      ],
      "metadata": {
        "id": "l05vbhRO137y"
      }
    },
    {
      "cell_type": "code",
      "source": [
        "class_weights = dict(zip(classes, weights))"
      ],
      "metadata": {
        "id": "u01MI-W11Ylq"
      },
      "execution_count": 105,
      "outputs": []
    },
    {
      "cell_type": "markdown",
      "source": [
        "## Cat Boost Initiation"
      ],
      "metadata": {
        "id": "6WdykEBY2F1v"
      }
    },
    {
      "cell_type": "markdown",
      "source": [
        "### Parameters\n"
      ],
      "metadata": {
        "id": "disXqpzB24me"
      }
    },
    {
      "cell_type": "code",
      "source": [
        "max_ite = 1000\n",
        "dep = 6\n",
        "l_rate = 0.05"
      ],
      "metadata": {
        "id": "VCVzo7F63Aa4"
      },
      "execution_count": 106,
      "outputs": []
    },
    {
      "cell_type": "code",
      "source": [
        "model = CatBoostClassifier(\n",
        "    iterations=max_ite,\n",
        "    depth=dep,\n",
        "    learning_rate=l_rate,\n",
        "    loss_function=\"MultiClass\",\n",
        "    eval_metric=\"MultiClass\",\n",
        "    random_seed=42,\n",
        "    verbose=50,\n",
        "    class_weights=class_weights\n",
        ")\n"
      ],
      "metadata": {
        "id": "whC-nezHq_WX"
      },
      "execution_count": 107,
      "outputs": []
    },
    {
      "cell_type": "markdown",
      "source": [
        "# Training"
      ],
      "metadata": {
        "id": "zCqAjS8C3eCP"
      }
    },
    {
      "cell_type": "code",
      "source": [
        "model.fit(X_train, y_train, eval_set=(X_test, y_test))"
      ],
      "metadata": {
        "colab": {
          "base_uri": "https://localhost:8080/"
        },
        "id": "uMb-AlB93Uej",
        "outputId": "8ec68397-f46c-4139-89fd-3dc39c3967ac"
      },
      "execution_count": 108,
      "outputs": [
        {
          "output_type": "stream",
          "name": "stdout",
          "text": [
            "0:\tlearn: 1.0806250\ttest: 1.0815141\tbest: 1.0815141 (0)\ttotal: 24.1ms\tremaining: 24.1s\n",
            "50:\tlearn: 0.8233387\ttest: 0.8481035\tbest: 0.8481035 (50)\ttotal: 682ms\tremaining: 12.7s\n",
            "100:\tlearn: 0.7526764\ttest: 0.7958415\tbest: 0.7958415 (100)\ttotal: 1.36s\tremaining: 12.1s\n",
            "150:\tlearn: 0.7132965\ttest: 0.7709808\tbest: 0.7709808 (150)\ttotal: 1.94s\tremaining: 10.9s\n",
            "200:\tlearn: 0.6809468\ttest: 0.7553719\tbest: 0.7553719 (200)\ttotal: 2.55s\tremaining: 10.1s\n",
            "250:\tlearn: 0.6469268\ttest: 0.7430682\tbest: 0.7430682 (250)\ttotal: 3.15s\tremaining: 9.39s\n",
            "300:\tlearn: 0.6199268\ttest: 0.7373377\tbest: 0.7373377 (300)\ttotal: 3.76s\tremaining: 8.73s\n",
            "350:\tlearn: 0.5967166\ttest: 0.7334222\tbest: 0.7334222 (350)\ttotal: 4.37s\tremaining: 8.08s\n",
            "400:\tlearn: 0.5746707\ttest: 0.7318763\tbest: 0.7315845 (397)\ttotal: 4.97s\tremaining: 7.43s\n",
            "450:\tlearn: 0.5554931\ttest: 0.7316835\tbest: 0.7312681 (445)\ttotal: 5.58s\tremaining: 6.79s\n",
            "500:\tlearn: 0.5368511\ttest: 0.7307342\tbest: 0.7305564 (484)\ttotal: 6.35s\tremaining: 6.32s\n",
            "550:\tlearn: 0.5211573\ttest: 0.7304190\tbest: 0.7298857 (542)\ttotal: 7.56s\tremaining: 6.16s\n",
            "600:\tlearn: 0.5070256\ttest: 0.7308334\tbest: 0.7298857 (542)\ttotal: 8.75s\tremaining: 5.81s\n",
            "650:\tlearn: 0.4934251\ttest: 0.7324541\tbest: 0.7298857 (542)\ttotal: 9.38s\tremaining: 5.03s\n",
            "700:\tlearn: 0.4809865\ttest: 0.7319301\tbest: 0.7298857 (542)\ttotal: 9.99s\tremaining: 4.26s\n",
            "750:\tlearn: 0.4675450\ttest: 0.7321769\tbest: 0.7298857 (542)\ttotal: 10.6s\tremaining: 3.52s\n",
            "800:\tlearn: 0.4547458\ttest: 0.7334328\tbest: 0.7298857 (542)\ttotal: 11.2s\tremaining: 2.79s\n",
            "850:\tlearn: 0.4427440\ttest: 0.7338842\tbest: 0.7298857 (542)\ttotal: 11.8s\tremaining: 2.07s\n",
            "900:\tlearn: 0.4316767\ttest: 0.7343729\tbest: 0.7298857 (542)\ttotal: 12.4s\tremaining: 1.36s\n",
            "950:\tlearn: 0.4206353\ttest: 0.7358411\tbest: 0.7298857 (542)\ttotal: 13s\tremaining: 671ms\n",
            "999:\tlearn: 0.4097131\ttest: 0.7361192\tbest: 0.7298857 (542)\ttotal: 13.6s\tremaining: 0us\n",
            "\n",
            "bestTest = 0.729885718\n",
            "bestIteration = 542\n",
            "\n",
            "Shrink model to first 543 iterations.\n"
          ]
        },
        {
          "output_type": "execute_result",
          "data": {
            "text/plain": [
              "<catboost.core.CatBoostClassifier at 0x7beb0a3d5fa0>"
            ]
          },
          "metadata": {},
          "execution_count": 108
        }
      ]
    },
    {
      "cell_type": "markdown",
      "source": [
        "# Evaluation"
      ],
      "metadata": {
        "id": "WkJMiODf3jU8"
      }
    },
    {
      "cell_type": "code",
      "source": [
        "y_pred = model.predict(X_test)"
      ],
      "metadata": {
        "id": "RlM3Gy033jCW"
      },
      "execution_count": 109,
      "outputs": []
    },
    {
      "cell_type": "markdown",
      "source": [
        "### Confusion Matrix"
      ],
      "metadata": {
        "id": "z-JQB_2z547j"
      }
    },
    {
      "cell_type": "code",
      "source": [
        "cm = confusion_matrix(y_test, y_pred)\n",
        "\n",
        "class_names = [\"FP\", \"APC/PC\", \"CP/KP\"]  # adjust if you have FA/APC classes\n",
        "\n",
        "# Plot heatmap\n",
        "plt.figure(figsize=(6,5))\n",
        "sns.heatmap(cm, annot=True, fmt='d', cmap='Blues',\n",
        "            xticklabels=class_names, yticklabels=class_names)\n",
        "plt.ylabel('True label')\n",
        "plt.xlabel('Predicted label')\n",
        "plt.title('Confusion Matrix')\n",
        "plt.show()"
      ],
      "metadata": {
        "colab": {
          "base_uri": "https://localhost:8080/",
          "height": 487
        },
        "id": "CMTh0eHt4dxE",
        "outputId": "d09720d4-3989-4a5c-aec8-292208452340"
      },
      "execution_count": 110,
      "outputs": [
        {
          "output_type": "display_data",
          "data": {
            "text/plain": [
              "<Figure size 600x500 with 2 Axes>"
            ],
            "image/png": "[encoded data removed]"
          },
          "metadata": {}
        }
      ]
    },
    {
      "cell_type": "markdown",
      "source": [
        "Accuracy"
      ],
      "metadata": {
        "id": "niTwN6Ni6l4e"
      }
    },
    {
      "cell_type": "code",
      "source": [
        "acc = accuracy_score(y_test, y_pred)\n",
        "print(\"Accuracy: {:.2f}%\".format(acc * 100))"
      ],
      "metadata": {
        "colab": {
          "base_uri": "https://localhost:8080/"
        },
        "id": "5Ir2HlhM6oU_",
        "outputId": "3da50c75-7114-4bd3-fb26-7e4741d570af"
      },
      "execution_count": 111,
      "outputs": [
        {
          "output_type": "stream",
          "name": "stdout",
          "text": [
            "Accuracy: 64.81%\n"
          ]
        }
      ]
    },
    {
      "cell_type": "code",
      "source": [],
      "metadata": {
        "id": "WabqqOi4_H_1"
      },
      "execution_count": 111,
      "outputs": []
    }
  ]
}