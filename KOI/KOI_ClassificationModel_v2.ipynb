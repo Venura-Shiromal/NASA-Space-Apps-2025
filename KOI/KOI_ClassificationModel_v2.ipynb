{
 "cells": [
  {
   "cell_type": "markdown",
   "metadata": {
    "id": "qZwhouh0vW8A"
   },
   "source": [
    "## Prerequisities"
   ]
  },
  {
   "cell_type": "code",
   "execution_count": 1,
   "metadata": {
    "colab": {
     "base_uri": "https://localhost:8080/"
    },
    "id": "jyn3rXAOvGc6",
    "outputId": "2d0b33c4-4aa5-40cb-a5c9-41c1098d2437"
   },
   "outputs": [],
   "source": [
    "### If hasn't installed already\n",
    "# !pip install pandas\n",
    "# !pip install catboost\n",
    "# !pip install sklearn\n",
    "# !pip install numpy\n",
    "# !pip install matplotlib\n",
    "# !pip install seaborn"
   ]
  },
  {
   "cell_type": "code",
   "execution_count": 2,
   "metadata": {
    "id": "Sx0W_aW_Yyo0"
   },
   "outputs": [],
   "source": [
    "import pandas as pd\n",
    "from catboost import CatBoostClassifier\n",
    "from sklearn.model_selection import train_test_split, StratifiedKFold\n",
    "from sklearn.metrics import classification_report, confusion_matrix, accuracy_score, precision_score, recall_score, f1_score\n",
    "from sklearn.utils.class_weight import compute_class_weight\n",
    "import numpy as np\n",
    "\n",
    "import matplotlib.pyplot as plt\n",
    "import seaborn as sns"
   ]
  },
  {
   "cell_type": "markdown",
   "metadata": {
    "id": "VVyWLHQuky2K"
   },
   "source": [
    "# Loading Data"
   ]
  },
  {
   "cell_type": "code",
   "execution_count": 4,
   "metadata": {
    "id": "uC2Meugwkt7e"
   },
   "outputs": [],
   "source": [
    "koi = pd.read_csv('KOI_Data.csv', comment='#')"
   ]
  },
  {
   "cell_type": "markdown",
   "metadata": {
    "id": "07Hmh6kFmtFN"
   },
   "source": [
    "## Feature Selection"
   ]
  },
  {
   "cell_type": "code",
   "execution_count": 5,
   "metadata": {
    "id": "TrGOOBvmlER9"
   },
   "outputs": [],
   "source": [
    "features = [\n",
    "    # Orbital / Transit properties\n",
    "    \"koi_period\",        # Orbital Period [days]\n",
    "    \"koi_time0bk\",       # Transit Epoch [BKJD]\n",
    "    \"koi_impact\",        # Impact Parameter\n",
    "    \"koi_duration\",      # Transit Duration [hrs]\n",
    "    \"koi_depth\",         # Transit Depth [ppm]\n",
    "    \"koi_model_snr\",     # Transit Signal-to-Noise Ratio\n",
    "\n",
    "    # Stellar properties\n",
    "    \"koi_steff\",         # Stellar Effective Temperature [K]\n",
    "    \"koi_slogg\",         # Stellar Surface Gravity [log10(cm/s**2)]\n",
    "    \"koi_srad\",          # Stellar Radius [Solar radii]\n",
    "    \"koi_kepmag\",         # Kepler Magnitude\n",
    "\n",
    "    \"koi_pdisposition\"   # Disposition\n",
    "]"
   ]
  },
  {
   "cell_type": "markdown",
   "metadata": {
    "id": "59n9RFoYmAee"
   },
   "source": [
    "### Selecting Features"
   ]
  },
  {
   "cell_type": "code",
   "execution_count": 6,
   "metadata": {
    "id": "Om9i03C6Rc5G"
   },
   "outputs": [],
   "source": [
    "koi = koi[features]"
   ]
  },
  {
   "cell_type": "markdown",
   "metadata": {
    "id": "JKSIKT4To9HZ"
   },
   "source": [
    "## Label Mapping"
   ]
  },
  {
   "cell_type": "code",
   "execution_count": 7,
   "metadata": {
    "id": "_8K-UEG5o_DS"
   },
   "outputs": [],
   "source": [
    "label_map = {\n",
    "    \"FALSE POSITIVE\" : 0,\n",
    "    \"CANDIDATE\" : 1,\n",
    "    \"CONFIRMED\" : 1\n",
    "  }\n",
    "\n",
    "koi[\"koi_pdisposition\"] = koi[\"koi_pdisposition\"].map(label_map)"
   ]
  },
  {
   "cell_type": "code",
   "execution_count": 8,
   "metadata": {
    "colab": {
     "base_uri": "https://localhost:8080/"
    },
    "id": "OuPIr8lfiMlG",
    "outputId": "a0e84dd4-7937-4c09-9897-63f2787a7f49"
   },
   "outputs": [
    {
     "name": "stdout",
     "output_type": "stream",
     "text": [
      "koi_period          0.000000\n",
      "koi_time0bk         0.000000\n",
      "koi_impact          3.795483\n",
      "koi_duration        0.000000\n",
      "koi_depth           3.795483\n",
      "koi_model_snr       3.795483\n",
      "koi_steff           3.795483\n",
      "koi_slogg           3.795483\n",
      "koi_srad            3.795483\n",
      "koi_kepmag          0.010456\n",
      "koi_pdisposition    0.000000\n",
      "dtype: float64\n"
     ]
    }
   ],
   "source": [
    "#print(koi.isnull().sum())\n",
    "print(koi.isnull().sum() / len(koi) * 100)"
   ]
  },
  {
   "cell_type": "markdown",
   "metadata": {
    "id": "Ne4pIk6jr0N-"
   },
   "source": [
    "### Dropping / Filling empty cells"
   ]
  },
  {
   "cell_type": "code",
   "execution_count": 9,
   "metadata": {
    "id": "SeH6ipCEpvRY"
   },
   "outputs": [],
   "source": [
    "koi = koi.dropna()\n",
    "#koi = koi.fillna(koi.mean())"
   ]
  },
  {
   "cell_type": "code",
   "execution_count": 10,
   "metadata": {
    "colab": {
     "base_uri": "https://localhost:8080/"
    },
    "id": "tc8tGXMVlvh3",
    "outputId": "08f20f27-a18f-4cd5-a7ec-e7497205ae7b"
   },
   "outputs": [
    {
     "data": {
      "text/plain": [
       "9200"
      ]
     },
     "execution_count": 10,
     "metadata": {},
     "output_type": "execute_result"
    }
   ],
   "source": [
    "len(koi)"
   ]
  },
  {
   "cell_type": "markdown",
   "metadata": {
    "id": "DILU0J92sQkD"
   },
   "source": [
    "### Diagnoise if want"
   ]
  },
  {
   "cell_type": "code",
   "execution_count": 11,
   "metadata": {
    "id": "-vAY-1XHsPL_"
   },
   "outputs": [],
   "source": [
    "#print(koi.shape[0])\n",
    "#print(koi[\"koi_pdisposition\"].unique())\n",
    "#print(koi.dtypes)\n",
    "#np.isnan(koi).sum()\n",
    "#koi.head()\n",
    "#print(koi.isna().sum()[koi.isna().sum() > 957])\n",
    "#for col in features:\n",
    "#    print(koi[col].dtype)"
   ]
  },
  {
   "cell_type": "markdown",
   "metadata": {
    "id": "BZZYmmphpiL2"
   },
   "source": [
    "# Defining data sets"
   ]
  },
  {
   "cell_type": "code",
   "execution_count": 12,
   "metadata": {
    "id": "PcnhnqBQpRHx"
   },
   "outputs": [],
   "source": [
    "X = koi.drop(\"koi_pdisposition\", axis=1)\n",
    "y = koi[\"koi_pdisposition\"]"
   ]
  },
  {
   "cell_type": "markdown",
   "metadata": {
    "id": "S4Us7seS9Hdt"
   },
   "source": [
    "### Normalizing/Scaling Data"
   ]
  },
  {
   "cell_type": "code",
   "execution_count": 13,
   "metadata": {
    "id": "Xqo2lwuv9Ft3"
   },
   "outputs": [],
   "source": [
    "from sklearn.preprocessing import MinMaxScaler\n",
    "\n",
    "scaler = MinMaxScaler()\n",
    "X_scaled = scaler.fit_transform(X)\n",
    "X = pd.DataFrame(X_scaled, columns=X.columns)"
   ]
  },
  {
   "cell_type": "code",
   "execution_count": 14,
   "metadata": {
    "id": "AOpgnjyLpoV6"
   },
   "outputs": [],
   "source": [
    "X_train, X_test, y_train, y_test = train_test_split(\n",
    "    X, y, test_size=0.2, stratify=y, random_state=42\n",
    "    )"
   ]
  },
  {
   "cell_type": "markdown",
   "metadata": {
    "id": "2y8mTfRp05y2"
   },
   "source": [
    "## Defining Classes"
   ]
  },
  {
   "cell_type": "code",
   "execution_count": 15,
   "metadata": {
    "id": "wawMFEOe091B"
   },
   "outputs": [],
   "source": [
    "classes = np.unique(y_train)"
   ]
  },
  {
   "cell_type": "markdown",
   "metadata": {
    "id": "NUalJl3109ld"
   },
   "source": [
    "## Calculating Class Weights"
   ]
  },
  {
   "cell_type": "code",
   "execution_count": 16,
   "metadata": {
    "id": "Jl0IYZY6wvIU"
   },
   "outputs": [],
   "source": [
    "weights = compute_class_weight(\"balanced\", classes=classes, y=y_train)"
   ]
  },
  {
   "cell_type": "markdown",
   "metadata": {
    "id": "l05vbhRO137y"
   },
   "source": [
    "### Combining both"
   ]
  },
  {
   "cell_type": "code",
   "execution_count": 17,
   "metadata": {
    "id": "u01MI-W11Ylq"
   },
   "outputs": [],
   "source": [
    "class_weights = dict(zip(classes, weights))"
   ]
  },
  {
   "cell_type": "markdown",
   "metadata": {
    "id": "B2ktYZ_CLb8M"
   },
   "source": [
    "## Cross-validation"
   ]
  },
  {
   "cell_type": "code",
   "execution_count": 18,
   "metadata": {
    "id": "tBDk3uGRKDF8"
   },
   "outputs": [],
   "source": [
    "skf = StratifiedKFold(n_splits=5, shuffle=True, random_state=42)\n",
    "\n",
    "for train_idx, valid_idx in skf.split(X, y):\n",
    "    X_train, X_valid = X.iloc[train_idx], X.iloc[valid_idx]\n",
    "    y_train, y_valid = y.iloc[train_idx], y.iloc[valid_idx]"
   ]
  },
  {
   "cell_type": "markdown",
   "metadata": {
    "id": "6WdykEBY2F1v"
   },
   "source": [
    "# Cat Boost Initiation"
   ]
  },
  {
   "cell_type": "markdown",
   "metadata": {
    "id": "disXqpzB24me"
   },
   "source": [
    "## Parameters\n"
   ]
  },
  {
   "cell_type": "code",
   "execution_count": 19,
   "metadata": {
    "id": "whC-nezHq_WX"
   },
   "outputs": [],
   "source": [
    "model = CatBoostClassifier(\n",
    "    iterations=2500,\n",
    "    depth=8,\n",
    "    learning_rate=0.06,\n",
    "    loss_function=\"MultiClass\",\n",
    "    eval_metric=\"MultiClass\",\n",
    "    l2_leaf_reg=5,\n",
    "    early_stopping_rounds=50,\n",
    "    random_seed=42,\n",
    "    verbose=50,\n",
    "    class_weights=class_weights\n",
    ")"
   ]
  },
  {
   "cell_type": "markdown",
   "metadata": {
    "id": "zCqAjS8C3eCP"
   },
   "source": [
    "# Training"
   ]
  },
  {
   "cell_type": "code",
   "execution_count": 20,
   "metadata": {
    "colab": {
     "base_uri": "https://localhost:8080/"
    },
    "id": "uMb-AlB93Uej",
    "outputId": "fc9be277-e4e4-42fd-fe7a-1bf8606b9ca9"
   },
   "outputs": [
    {
     "name": "stdout",
     "output_type": "stream",
     "text": [
      "0:\tlearn: 0.6713442\ttest: 0.6712732\tbest: 0.6712732 (0)\ttotal: 164ms\tremaining: 6m 50s\n",
      "50:\tlearn: 0.3774946\ttest: 0.3697865\tbest: 0.3697865 (50)\ttotal: 589ms\tremaining: 28.3s\n",
      "100:\tlearn: 0.3324206\ttest: 0.3261816\tbest: 0.3261816 (100)\ttotal: 969ms\tremaining: 23s\n",
      "150:\tlearn: 0.3073549\ttest: 0.3027181\tbest: 0.3027181 (150)\ttotal: 1.35s\tremaining: 21s\n",
      "200:\tlearn: 0.2876340\ttest: 0.2845713\tbest: 0.2845713 (200)\ttotal: 1.74s\tremaining: 19.9s\n",
      "250:\tlearn: 0.2709563\ttest: 0.2702928\tbest: 0.2702928 (250)\ttotal: 2.13s\tremaining: 19.1s\n",
      "300:\tlearn: 0.2570471\ttest: 0.2584925\tbest: 0.2584925 (300)\ttotal: 2.54s\tremaining: 18.5s\n",
      "350:\tlearn: 0.2441014\ttest: 0.2487271\tbest: 0.2487271 (350)\ttotal: 2.92s\tremaining: 17.9s\n",
      "400:\tlearn: 0.2320584\ttest: 0.2383561\tbest: 0.2383561 (400)\ttotal: 3.3s\tremaining: 17.3s\n",
      "450:\tlearn: 0.2211736\ttest: 0.2295550\tbest: 0.2295550 (450)\ttotal: 3.69s\tremaining: 16.8s\n",
      "500:\tlearn: 0.2115575\ttest: 0.2222432\tbest: 0.2222432 (500)\ttotal: 4.08s\tremaining: 16.3s\n",
      "550:\tlearn: 0.2024140\ttest: 0.2147210\tbest: 0.2147210 (550)\ttotal: 4.46s\tremaining: 15.8s\n",
      "600:\tlearn: 0.1939334\ttest: 0.2085479\tbest: 0.2085479 (600)\ttotal: 4.85s\tremaining: 15.3s\n",
      "650:\tlearn: 0.1856355\ttest: 0.2021901\tbest: 0.2021901 (650)\ttotal: 5.24s\tremaining: 14.9s\n",
      "700:\tlearn: 0.1785883\ttest: 0.1968028\tbest: 0.1968028 (700)\ttotal: 5.63s\tremaining: 14.5s\n",
      "750:\tlearn: 0.1714460\ttest: 0.1912655\tbest: 0.1912655 (750)\ttotal: 6.03s\tremaining: 14s\n",
      "800:\tlearn: 0.1651161\ttest: 0.1862416\tbest: 0.1862416 (800)\ttotal: 6.44s\tremaining: 13.7s\n",
      "850:\tlearn: 0.1592705\ttest: 0.1816328\tbest: 0.1816091 (849)\ttotal: 6.86s\tremaining: 13.3s\n",
      "900:\tlearn: 0.1532206\ttest: 0.1773194\tbest: 0.1773194 (900)\ttotal: 7.25s\tremaining: 12.9s\n",
      "950:\tlearn: 0.1474819\ttest: 0.1727791\tbest: 0.1727791 (950)\ttotal: 7.65s\tremaining: 12.5s\n",
      "1000:\tlearn: 0.1426519\ttest: 0.1689879\tbest: 0.1689879 (1000)\ttotal: 8.06s\tremaining: 12.1s\n",
      "1050:\tlearn: 0.1376098\ttest: 0.1651267\tbest: 0.1651267 (1050)\ttotal: 8.48s\tremaining: 11.7s\n",
      "1100:\tlearn: 0.1333547\ttest: 0.1617379\tbest: 0.1617379 (1100)\ttotal: 8.87s\tremaining: 11.3s\n",
      "1150:\tlearn: 0.1286351\ttest: 0.1579575\tbest: 0.1579575 (1150)\ttotal: 9.27s\tremaining: 10.9s\n",
      "1200:\tlearn: 0.1244623\ttest: 0.1545616\tbest: 0.1545616 (1200)\ttotal: 9.66s\tremaining: 10.5s\n",
      "1250:\tlearn: 0.1203373\ttest: 0.1517292\tbest: 0.1517292 (1250)\ttotal: 10.1s\tremaining: 10.1s\n",
      "1300:\tlearn: 0.1168187\ttest: 0.1489273\tbest: 0.1489273 (1300)\ttotal: 10.6s\tremaining: 9.77s\n",
      "1350:\tlearn: 0.1132406\ttest: 0.1460688\tbest: 0.1460688 (1350)\ttotal: 11s\tremaining: 9.36s\n",
      "1400:\tlearn: 0.1098085\ttest: 0.1434701\tbest: 0.1434701 (1400)\ttotal: 11.4s\tremaining: 8.94s\n",
      "1450:\tlearn: 0.1065902\ttest: 0.1412446\tbest: 0.1412446 (1450)\ttotal: 11.8s\tremaining: 8.52s\n",
      "1500:\tlearn: 0.1035864\ttest: 0.1387088\tbest: 0.1387088 (1500)\ttotal: 12.2s\tremaining: 8.12s\n",
      "1550:\tlearn: 0.1007199\ttest: 0.1367585\tbest: 0.1367585 (1550)\ttotal: 12.6s\tremaining: 7.71s\n",
      "1600:\tlearn: 0.0979639\ttest: 0.1348148\tbest: 0.1348065 (1599)\ttotal: 13s\tremaining: 7.29s\n",
      "1650:\tlearn: 0.0952415\ttest: 0.1326301\tbest: 0.1326301 (1650)\ttotal: 13.4s\tremaining: 6.88s\n",
      "1700:\tlearn: 0.0924674\ttest: 0.1305322\tbest: 0.1305322 (1700)\ttotal: 13.8s\tremaining: 6.47s\n",
      "1750:\tlearn: 0.0897994\ttest: 0.1284303\tbest: 0.1284303 (1750)\ttotal: 14.2s\tremaining: 6.06s\n",
      "1800:\tlearn: 0.0874226\ttest: 0.1264407\tbest: 0.1264407 (1800)\ttotal: 14.6s\tremaining: 5.65s\n",
      "1850:\tlearn: 0.0849171\ttest: 0.1244511\tbest: 0.1244511 (1850)\ttotal: 15s\tremaining: 5.24s\n",
      "1900:\tlearn: 0.0827576\ttest: 0.1226263\tbest: 0.1226263 (1900)\ttotal: 15.4s\tremaining: 4.85s\n",
      "1950:\tlearn: 0.0807867\ttest: 0.1210681\tbest: 0.1210681 (1950)\ttotal: 15.8s\tremaining: 4.45s\n",
      "2000:\tlearn: 0.0787761\ttest: 0.1195462\tbest: 0.1195462 (2000)\ttotal: 16.3s\tremaining: 4.06s\n",
      "2050:\tlearn: 0.0768554\ttest: 0.1181682\tbest: 0.1181682 (2050)\ttotal: 16.7s\tremaining: 3.66s\n",
      "2100:\tlearn: 0.0748578\ttest: 0.1166750\tbest: 0.1166750 (2100)\ttotal: 17.1s\tremaining: 3.25s\n",
      "2150:\tlearn: 0.0729816\ttest: 0.1153957\tbest: 0.1153957 (2150)\ttotal: 17.5s\tremaining: 2.84s\n",
      "2200:\tlearn: 0.0712286\ttest: 0.1139931\tbest: 0.1139931 (2200)\ttotal: 17.9s\tremaining: 2.44s\n",
      "2250:\tlearn: 0.0693768\ttest: 0.1123213\tbest: 0.1123213 (2250)\ttotal: 18.3s\tremaining: 2.03s\n",
      "2300:\tlearn: 0.0676815\ttest: 0.1108765\tbest: 0.1108765 (2300)\ttotal: 18.8s\tremaining: 1.62s\n",
      "2350:\tlearn: 0.0661249\ttest: 0.1097757\tbest: 0.1097757 (2350)\ttotal: 19.2s\tremaining: 1.22s\n",
      "2400:\tlearn: 0.0646114\ttest: 0.1085728\tbest: 0.1085728 (2400)\ttotal: 19.6s\tremaining: 807ms\n",
      "2450:\tlearn: 0.0631619\ttest: 0.1075979\tbest: 0.1075979 (2450)\ttotal: 20s\tremaining: 400ms\n",
      "2499:\tlearn: 0.0617129\ttest: 0.1064324\tbest: 0.1064324 (2499)\ttotal: 20.4s\tremaining: 0us\n",
      "\n",
      "bestTest = 0.1064323546\n",
      "bestIteration = 2499\n",
      "\n"
     ]
    },
    {
     "data": {
      "text/plain": [
       "<catboost.core.CatBoostClassifier at 0x1c129bcfcb0>"
      ]
     },
     "execution_count": 20,
     "metadata": {},
     "output_type": "execute_result"
    }
   ],
   "source": [
    "model.fit(X_train, y_train, eval_set=(X_test, y_test))"
   ]
  },
  {
   "cell_type": "markdown",
   "metadata": {
    "id": "FntxgSBsErX3"
   },
   "source": [
    "## Plotting Loss"
   ]
  },
  {
   "cell_type": "code",
   "execution_count": 21,
   "metadata": {
    "colab": {
     "base_uri": "https://localhost:8080/",
     "height": 546
    },
    "id": "wVlp_T4NErEP",
    "outputId": "149aa523-1408-4029-c153-9a4725aba118"
   },
   "outputs": [
    {
     "data": {
      "image/png": "[encoded data removed]",
      "text/plain": [
       "<Figure size 1000x600 with 1 Axes>"
      ]
     },
     "metadata": {},
     "output_type": "display_data"
    }
   ],
   "source": [
    "evals_result = model.get_evals_result()\n",
    "\n",
    "train_loss = evals_result['learn']['MultiClass']\n",
    "valid_loss = evals_result['validation']['MultiClass']\n",
    "\n",
    "plt.figure(figsize=(10,6))\n",
    "plt.plot(train_loss, label='Training Loss')\n",
    "plt.plot(valid_loss, label='Validation Loss')\n",
    "plt.xlabel('Iteration')\n",
    "plt.ylabel('MultiClass Loss')\n",
    "plt.title('CatBoost Training & Validation Loss')\n",
    "plt.legend()\n",
    "plt.grid(True)\n",
    "plt.show()"
   ]
  },
  {
   "cell_type": "markdown",
   "metadata": {
    "id": "WkJMiODf3jU8"
   },
   "source": [
    "# Evaluation"
   ]
  },
  {
   "cell_type": "code",
   "execution_count": 22,
   "metadata": {
    "id": "RlM3Gy033jCW"
   },
   "outputs": [],
   "source": [
    "y_pred = model.predict(X_test)"
   ]
  },
  {
   "cell_type": "markdown",
   "metadata": {
    "id": "z-JQB_2z547j"
   },
   "source": [
    "## Confusion Matrix"
   ]
  },
  {
   "cell_type": "code",
   "execution_count": 23,
   "metadata": {
    "colab": {
     "base_uri": "https://localhost:8080/",
     "height": 410
    },
    "id": "CMTh0eHt4dxE",
    "outputId": "fc1633ec-4ee1-41af-acf4-2601783346ef"
   },
   "outputs": [
    {
     "data": {
      "image/png": "[encoded data removed]",
      "text/plain": [
       "<Figure size 500x400 with 2 Axes>"
      ]
     },
     "metadata": {},
     "output_type": "display_data"
    }
   ],
   "source": [
    "cm = confusion_matrix(y_test, y_pred)\n",
    "\n",
    "class_names = [\"False Positive\", \"Candidate\"]\n",
    "\n",
    "plt.figure(figsize=(5,4))\n",
    "sns.heatmap(cm, annot=True, fmt='d', cmap='Blues',\n",
    "            xticklabels=class_names, yticklabels=class_names)\n",
    "plt.ylabel('True label')\n",
    "plt.xlabel('Predicted label')\n",
    "plt.title('Confusion Matrix')\n",
    "plt.show()"
   ]
  },
  {
   "cell_type": "markdown",
   "metadata": {
    "id": "niTwN6Ni6l4e"
   },
   "source": [
    "## Accuracy"
   ]
  },
  {
   "cell_type": "code",
   "execution_count": 26,
   "metadata": {
    "colab": {
     "base_uri": "https://localhost:8080/"
    },
    "id": "5Ir2HlhM6oU_",
    "outputId": "62561897-37d0-40c8-e627-39afe264de0c"
   },
   "outputs": [
    {
     "name": "stdout",
     "output_type": "stream",
     "text": [
      "Accuracy: 97.34%\n",
      "Precision Score: 97.36%\n",
      "Recall Score: 97.34%\n",
      "F1 Score: 97.34%\n"
     ]
    }
   ],
   "source": [
    "acc = accuracy_score(y_test, y_pred)\n",
    "precision = precision_score(y_test, y_pred, average='weighted')\n",
    "recall = recall_score(y_test, y_pred, average='weighted')\n",
    "f1 = f1_score(y_test, y_pred, average='weighted')\n",
    "\n",
    "print(\"Accuracy: {:.2f}%\".format(acc * 100))\n",
    "print(\"Precision Score: {:.2f}%\".format(precision * 100))\n",
    "print(\"Recall Score: {:.2f}%\".format(recall * 100))\n",
    "print(\"F1 Score: {:.2f}%\".format(f1 * 100))"
   ]
  },
  {
   "cell_type": "markdown",
   "metadata": {
    "id": "AG3c9EWVmAej"
   },
   "source": [
    "# Saving Model"
   ]
  },
  {
   "cell_type": "code",
   "execution_count": 25,
   "metadata": {
    "id": "ZY7M-a9MmAej"
   },
   "outputs": [],
   "source": [
    "model.save_model(\"koi_model_updated.onnx\", format=\"onnx\")"
   ]
  },
  {
   "cell_type": "code",
   "execution_count": null,
   "metadata": {},
   "outputs": [],
   "source": []
  }
 ],
 "metadata": {
  "accelerator": "GPU",
  "colab": {
   "gpuType": "T4",
   "provenance": []
  },
  "kernelspec": {
   "display_name": "Python 3 (ipykernel)",
   "language": "python",
   "name": "python3"
  },
  "language_info": {
   "codemirror_mode": {
    "name": "ipython",
    "version": 3
   },
   "file_extension": ".py",
   "mimetype": "text/x-python",
   "name": "python",
   "nbconvert_exporter": "python",
   "pygments_lexer": "ipython3",
   "version": "3.13.7"
  }
 },
 "nbformat": 4,
 "nbformat_minor": 4
}
