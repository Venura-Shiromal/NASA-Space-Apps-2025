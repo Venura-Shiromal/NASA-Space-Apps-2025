{
  "cells": [
    {
      "cell_type": "markdown",
      "metadata": {
        "id": "view-in-github",
        "colab_type": "text"
      },
      "source": [
        "<a href=\"https://colab.research.google.com/github/Venura-Shiromal/NASA-Space-Apps-2025/blob/main/KOI/KOI_ClassificationModel.ipynb\" target=\"_parent\"><img src=\"https://colab.research.google.com/assets/colab-badge.svg\" alt=\"Open In Colab\"/></a>"
      ]
    },
    {
      "cell_type": "markdown",
      "metadata": {
        "id": "qZwhouh0vW8A"
      },
      "source": [
        "## Prerequisities"
      ]
    },
    {
      "cell_type": "code",
      "execution_count": 3,
      "metadata": {
        "id": "jyn3rXAOvGc6"
      },
      "outputs": [],
      "source": [
        "### If hasn't installed already\n",
        "# !pip install pandas\n",
        "# !pip install catboost\n",
        "# !pip install sklearn\n",
        "# !pip install numpy\n",
        "# !pip install matplotlib\n",
        "# !pip install seaborn"
      ]
    },
    {
      "cell_type": "code",
      "execution_count": 2,
      "metadata": {
        "id": "Sx0W_aW_Yyo0"
      },
      "outputs": [],
      "source": [
        "import pandas as pd\n",
        "from catboost import CatBoostClassifier\n",
        "from sklearn.model_selection import train_test_split, StratifiedKFold\n",
        "from sklearn.metrics import classification_report, confusion_matrix, accuracy_score, precision_score, recall_score, f1_score\n",
        "from sklearn.utils.class_weight import compute_class_weight\n",
        "import numpy as np\n",
        "\n",
        "import matplotlib.pyplot as plt\n",
        "import seaborn as sns"
      ]
    },
    {
      "cell_type": "markdown",
      "metadata": {
        "id": "VVyWLHQuky2K"
      },
      "source": [
        "# Loading Data"
      ]
    },
    {
      "cell_type": "code",
      "execution_count": 4,
      "metadata": {
        "id": "uC2Meugwkt7e"
      },
      "outputs": [],
      "source": [
        "koi = pd.read_csv('KOI_Data.csv', comment='#')"
      ]
    },
    {
      "cell_type": "markdown",
      "metadata": {
        "id": "07Hmh6kFmtFN"
      },
      "source": [
        "## Feature Selection"
      ]
    },
    {
      "cell_type": "code",
      "execution_count": 5,
      "metadata": {
        "id": "TrGOOBvmlER9"
      },
      "outputs": [],
      "source": [
        "features = [\n",
        "    # Orbital / Transit properties\n",
        "    \"koi_period\",        # Orbital Period [days]\n",
        "    \"koi_time0bk\",       # Transit Epoch [BKJD]\n",
        "    \"koi_impact\",        # Impact Parameter\n",
        "    \"koi_duration\",      # Transit Duration [hrs]\n",
        "    \"koi_depth\",         # Transit Depth [ppm]\n",
        "    \"koi_model_snr\",     # Transit Signal-to-Noise Ratio\n",
        "\n",
        "    # Planetary physical properties\n",
        "    \"koi_prad\",          # Planetary Radius [Earth radii]\n",
        "    \"koi_teq\",           # Equilibrium Temperature [K]\n",
        "    \"koi_insol\",         # Insolation Flux [Earth flux]\n",
        "\n",
        "    # Stellar properties\n",
        "    \"koi_steff\",         # Stellar Effective Temperature [K]\n",
        "    \"koi_slogg\",         # Stellar Surface Gravity [log10(cm/s**2)]\n",
        "    \"koi_srad\",          # Stellar Radius [Solar radii]\n",
        "    \"koi_kepmag\",         # Kepler Magnitude\n",
        "\n",
        "    \"koi_pdisposition\"   # Disposition\n",
        "]"
      ]
    },
    {
      "cell_type": "markdown",
      "metadata": {
        "id": "59n9RFoYmAee"
      },
      "source": [
        "### Selecting Features"
      ]
    },
    {
      "cell_type": "code",
      "source": [
        "koi = koi[features]"
      ],
      "metadata": {
        "id": "Om9i03C6Rc5G"
      },
      "execution_count": 6,
      "outputs": []
    },
    {
      "cell_type": "markdown",
      "metadata": {
        "id": "JKSIKT4To9HZ"
      },
      "source": [
        "## Label Mapping"
      ]
    },
    {
      "cell_type": "code",
      "execution_count": 7,
      "metadata": {
        "id": "_8K-UEG5o_DS"
      },
      "outputs": [],
      "source": [
        "label_map = {\n",
        "    \"FALSE POSITIVE\" : 0,\n",
        "    \"CANDIDATE\" : 1\n",
        "  }\n",
        "\n",
        "koi[\"koi_pdisposition\"] = koi[\"koi_pdisposition\"].map(label_map)"
      ]
    },
    {
      "cell_type": "markdown",
      "metadata": {
        "id": "Ne4pIk6jr0N-"
      },
      "source": [
        "### Filling empty cells"
      ]
    },
    {
      "cell_type": "code",
      "execution_count": 8,
      "metadata": {
        "id": "SeH6ipCEpvRY"
      },
      "outputs": [],
      "source": [
        "koi = koi.fillna(koi.mean())"
      ]
    },
    {
      "cell_type": "markdown",
      "metadata": {
        "id": "DILU0J92sQkD"
      },
      "source": [
        "### Diagnoise if want"
      ]
    },
    {
      "cell_type": "code",
      "execution_count": null,
      "metadata": {
        "id": "-vAY-1XHsPL_"
      },
      "outputs": [],
      "source": [
        "#print(koi.shape[0])\n",
        "#print(koi[\"koi_pdisposition\"].unique())\n",
        "#print(koi.dtypes)\n",
        "#np.isnan(koi).sum()\n",
        "#koi.head()\n",
        "#print(koi.isna().sum()[koi.isna().sum() > 957])\n",
        "#for col in features:\n",
        "#    print(koi[col].dtype)"
      ]
    },
    {
      "cell_type": "markdown",
      "metadata": {
        "id": "BZZYmmphpiL2"
      },
      "source": [
        "# Defining data sets"
      ]
    },
    {
      "cell_type": "code",
      "execution_count": 9,
      "metadata": {
        "id": "PcnhnqBQpRHx"
      },
      "outputs": [],
      "source": [
        "X = koi.drop(\"koi_pdisposition\", axis=1)\n",
        "y = koi[\"koi_pdisposition\"]"
      ]
    },
    {
      "cell_type": "code",
      "execution_count": 10,
      "metadata": {
        "id": "AOpgnjyLpoV6"
      },
      "outputs": [],
      "source": [
        "X_train, X_test, y_train, y_test = train_test_split(\n",
        "    X, y, test_size=0.2, stratify=y, random_state=42\n",
        "    )"
      ]
    },
    {
      "cell_type": "markdown",
      "metadata": {
        "id": "2y8mTfRp05y2"
      },
      "source": [
        "## Defining Classes"
      ]
    },
    {
      "cell_type": "code",
      "execution_count": 11,
      "metadata": {
        "id": "wawMFEOe091B"
      },
      "outputs": [],
      "source": [
        "classes = np.unique(y_train)"
      ]
    },
    {
      "cell_type": "markdown",
      "metadata": {
        "id": "NUalJl3109ld"
      },
      "source": [
        "## Calculating Class Weights"
      ]
    },
    {
      "cell_type": "code",
      "execution_count": 12,
      "metadata": {
        "id": "Jl0IYZY6wvIU"
      },
      "outputs": [],
      "source": [
        "weights = compute_class_weight(\"balanced\", classes=classes, y=y_train)"
      ]
    },
    {
      "cell_type": "markdown",
      "metadata": {
        "id": "l05vbhRO137y"
      },
      "source": [
        "### Combining both"
      ]
    },
    {
      "cell_type": "code",
      "execution_count": 13,
      "metadata": {
        "id": "u01MI-W11Ylq"
      },
      "outputs": [],
      "source": [
        "class_weights = dict(zip(classes, weights))"
      ]
    },
    {
      "cell_type": "markdown",
      "metadata": {
        "id": "B2ktYZ_CLb8M"
      },
      "source": [
        "## Cross-validation"
      ]
    },
    {
      "cell_type": "code",
      "execution_count": 14,
      "metadata": {
        "id": "tBDk3uGRKDF8"
      },
      "outputs": [],
      "source": [
        "skf = StratifiedKFold(n_splits=5, shuffle=True, random_state=42)\n",
        "\n",
        "for train_idx, valid_idx in skf.split(X, y):\n",
        "    X_train, X_valid = X.iloc[train_idx], X.iloc[valid_idx]\n",
        "    y_train, y_valid = y.iloc[train_idx], y.iloc[valid_idx]"
      ]
    },
    {
      "cell_type": "markdown",
      "metadata": {
        "id": "6WdykEBY2F1v"
      },
      "source": [
        "# Cat Boost Initiation"
      ]
    },
    {
      "cell_type": "markdown",
      "metadata": {
        "id": "disXqpzB24me"
      },
      "source": [
        "## Parameters\n"
      ]
    },
    {
      "cell_type": "code",
      "execution_count": 15,
      "metadata": {
        "id": "whC-nezHq_WX"
      },
      "outputs": [],
      "source": [
        "model = CatBoostClassifier(\n",
        "    iterations=2500,\n",
        "    depth=8,\n",
        "    learning_rate=0.06,\n",
        "    loss_function=\"MultiClass\",\n",
        "    eval_metric=\"MultiClass\",\n",
        "    l2_leaf_reg=5,\n",
        "    early_stopping_rounds=50,\n",
        "    random_seed=42,\n",
        "    verbose=50,\n",
        "    class_weights=class_weights\n",
        ")"
      ]
    },
    {
      "cell_type": "markdown",
      "metadata": {
        "id": "zCqAjS8C3eCP"
      },
      "source": [
        "# Training"
      ]
    },
    {
      "cell_type": "code",
      "execution_count": 16,
      "metadata": {
        "id": "uMb-AlB93Uej",
        "colab": {
          "base_uri": "https://localhost:8080/"
        },
        "outputId": "8ffc2412-e7b2-49fd-907f-8cde11ad8e30"
      },
      "outputs": [
        {
          "output_type": "stream",
          "name": "stdout",
          "text": [
            "0:\tlearn: 0.6680474\ttest: 0.6672264\tbest: 0.6672264 (0)\ttotal: 78.8ms\tremaining: 3m 16s\n",
            "50:\tlearn: 0.3766153\ttest: 0.3622038\tbest: 0.3622038 (50)\ttotal: 1.32s\tremaining: 1m 3s\n",
            "100:\tlearn: 0.3355206\ttest: 0.3236186\tbest: 0.3236186 (100)\ttotal: 2.58s\tremaining: 1m 1s\n",
            "150:\tlearn: 0.3115843\ttest: 0.3035307\tbest: 0.3035307 (150)\ttotal: 3.82s\tremaining: 59.4s\n",
            "200:\tlearn: 0.2933735\ttest: 0.2871508\tbest: 0.2871508 (200)\ttotal: 5.04s\tremaining: 57.7s\n",
            "250:\tlearn: 0.2780303\ttest: 0.2740808\tbest: 0.2740808 (250)\ttotal: 6.27s\tremaining: 56.2s\n",
            "300:\tlearn: 0.2641964\ttest: 0.2635973\tbest: 0.2635973 (300)\ttotal: 7.51s\tremaining: 54.9s\n",
            "350:\tlearn: 0.2511367\ttest: 0.2528677\tbest: 0.2528677 (350)\ttotal: 9.06s\tremaining: 55.5s\n",
            "400:\tlearn: 0.2394917\ttest: 0.2442439\tbest: 0.2442439 (400)\ttotal: 11.2s\tremaining: 58.6s\n",
            "450:\tlearn: 0.2292239\ttest: 0.2360022\tbest: 0.2360022 (450)\ttotal: 12.4s\tremaining: 56.5s\n",
            "500:\tlearn: 0.2195189\ttest: 0.2290155\tbest: 0.2290155 (500)\ttotal: 13.7s\tremaining: 54.5s\n",
            "550:\tlearn: 0.2110893\ttest: 0.2226603\tbest: 0.2226603 (550)\ttotal: 14.9s\tremaining: 52.7s\n",
            "600:\tlearn: 0.2024864\ttest: 0.2162693\tbest: 0.2162693 (600)\ttotal: 16.1s\tremaining: 50.9s\n",
            "650:\tlearn: 0.1945853\ttest: 0.2102635\tbest: 0.2102635 (650)\ttotal: 17.4s\tremaining: 49.4s\n",
            "700:\tlearn: 0.1872366\ttest: 0.2045111\tbest: 0.2045111 (700)\ttotal: 18.6s\tremaining: 47.9s\n",
            "750:\tlearn: 0.1799375\ttest: 0.1991738\tbest: 0.1991738 (750)\ttotal: 19.9s\tremaining: 46.3s\n",
            "800:\tlearn: 0.1739868\ttest: 0.1944993\tbest: 0.1944993 (800)\ttotal: 21.1s\tremaining: 44.9s\n",
            "850:\tlearn: 0.1673400\ttest: 0.1895445\tbest: 0.1895445 (850)\ttotal: 23.4s\tremaining: 45.3s\n",
            "900:\tlearn: 0.1612988\ttest: 0.1846583\tbest: 0.1846583 (900)\ttotal: 24.8s\tremaining: 44s\n",
            "950:\tlearn: 0.1561690\ttest: 0.1810571\tbest: 0.1810571 (950)\ttotal: 26s\tremaining: 42.4s\n",
            "1000:\tlearn: 0.1509812\ttest: 0.1772716\tbest: 0.1772716 (1000)\ttotal: 27.3s\tremaining: 40.9s\n",
            "1050:\tlearn: 0.1460037\ttest: 0.1734162\tbest: 0.1734162 (1050)\ttotal: 28.5s\tremaining: 39.3s\n",
            "1100:\tlearn: 0.1411920\ttest: 0.1700228\tbest: 0.1700228 (1100)\ttotal: 29.8s\tremaining: 37.9s\n",
            "1150:\tlearn: 0.1369777\ttest: 0.1669924\tbest: 0.1669924 (1150)\ttotal: 31.1s\tremaining: 36.4s\n",
            "1200:\tlearn: 0.1328361\ttest: 0.1642663\tbest: 0.1642663 (1200)\ttotal: 32.3s\tremaining: 34.9s\n",
            "1250:\tlearn: 0.1288182\ttest: 0.1610510\tbest: 0.1610510 (1250)\ttotal: 33.5s\tremaining: 33.5s\n",
            "1300:\tlearn: 0.1252077\ttest: 0.1584460\tbest: 0.1584460 (1300)\ttotal: 35.5s\tremaining: 32.8s\n",
            "1350:\tlearn: 0.1216143\ttest: 0.1560460\tbest: 0.1560460 (1350)\ttotal: 37.2s\tremaining: 31.6s\n",
            "1400:\tlearn: 0.1181486\ttest: 0.1535945\tbest: 0.1535945 (1400)\ttotal: 38.5s\tremaining: 30.2s\n",
            "1450:\tlearn: 0.1147550\ttest: 0.1513587\tbest: 0.1513587 (1450)\ttotal: 39.7s\tremaining: 28.7s\n",
            "1500:\tlearn: 0.1113902\ttest: 0.1489542\tbest: 0.1489542 (1500)\ttotal: 40.9s\tremaining: 27.3s\n",
            "1550:\tlearn: 0.1081576\ttest: 0.1469165\tbest: 0.1469165 (1550)\ttotal: 42.2s\tremaining: 25.8s\n",
            "1600:\tlearn: 0.1053295\ttest: 0.1453146\tbest: 0.1453146 (1600)\ttotal: 43.4s\tremaining: 24.4s\n",
            "1650:\tlearn: 0.1022257\ttest: 0.1431279\tbest: 0.1431279 (1650)\ttotal: 44.7s\tremaining: 23s\n",
            "1700:\tlearn: 0.0995699\ttest: 0.1411592\tbest: 0.1411592 (1700)\ttotal: 45.9s\tremaining: 21.6s\n",
            "1750:\tlearn: 0.0970651\ttest: 0.1392512\tbest: 0.1392512 (1750)\ttotal: 47.7s\tremaining: 20.4s\n",
            "1800:\tlearn: 0.0945955\ttest: 0.1373792\tbest: 0.1373792 (1800)\ttotal: 49.6s\tremaining: 19.2s\n",
            "1850:\tlearn: 0.0921312\ttest: 0.1357438\tbest: 0.1357438 (1850)\ttotal: 50.8s\tremaining: 17.8s\n",
            "1900:\tlearn: 0.0897667\ttest: 0.1342999\tbest: 0.1342999 (1900)\ttotal: 52.1s\tremaining: 16.4s\n",
            "1950:\tlearn: 0.0874304\ttest: 0.1330149\tbest: 0.1330142 (1948)\ttotal: 53.3s\tremaining: 15s\n",
            "2000:\tlearn: 0.0853090\ttest: 0.1314106\tbest: 0.1314106 (2000)\ttotal: 54.6s\tremaining: 13.6s\n",
            "2050:\tlearn: 0.0831900\ttest: 0.1297668\tbest: 0.1297668 (2050)\ttotal: 56s\tremaining: 12.3s\n",
            "2100:\tlearn: 0.0813554\ttest: 0.1287824\tbest: 0.1287824 (2100)\ttotal: 57.5s\tremaining: 10.9s\n",
            "2150:\tlearn: 0.0796024\ttest: 0.1274701\tbest: 0.1274701 (2150)\ttotal: 58.7s\tremaining: 9.53s\n",
            "2200:\tlearn: 0.0776251\ttest: 0.1264319\tbest: 0.1264256 (2198)\ttotal: 1m\tremaining: 8.24s\n",
            "2250:\tlearn: 0.0757179\ttest: 0.1253325\tbest: 0.1253325 (2250)\ttotal: 1m 2s\tremaining: 6.91s\n",
            "2300:\tlearn: 0.0738753\ttest: 0.1239182\tbest: 0.1239182 (2300)\ttotal: 1m 4s\tremaining: 5.56s\n",
            "2350:\tlearn: 0.0721589\ttest: 0.1229286\tbest: 0.1229286 (2350)\ttotal: 1m 6s\tremaining: 4.19s\n",
            "2400:\tlearn: 0.0706192\ttest: 0.1218685\tbest: 0.1218685 (2400)\ttotal: 1m 7s\tremaining: 2.78s\n",
            "2450:\tlearn: 0.0690647\ttest: 0.1210144\tbest: 0.1210144 (2450)\ttotal: 1m 8s\tremaining: 1.37s\n",
            "2499:\tlearn: 0.0675514\ttest: 0.1202223\tbest: 0.1202223 (2499)\ttotal: 1m 9s\tremaining: 0us\n",
            "\n",
            "bestTest = 0.1202222635\n",
            "bestIteration = 2499\n",
            "\n"
          ]
        },
        {
          "output_type": "execute_result",
          "data": {
            "text/plain": [
              "<catboost.core.CatBoostClassifier at 0x7a8f5591fa10>"
            ]
          },
          "metadata": {},
          "execution_count": 16
        }
      ],
      "source": [
        "model.fit(X_train, y_train, eval_set=(X_test, y_test))"
      ]
    },
    {
      "cell_type": "markdown",
      "metadata": {
        "id": "FntxgSBsErX3"
      },
      "source": [
        "## Plotting Loss"
      ]
    },
    {
      "cell_type": "code",
      "execution_count": 17,
      "metadata": {
        "id": "wVlp_T4NErEP",
        "colab": {
          "base_uri": "https://localhost:8080/",
          "height": 564
        },
        "outputId": "93c8d05c-7d7f-471f-9013-91eeec0eadb3"
      },
      "outputs": [
        {
          "output_type": "display_data",
          "data": {
            "text/plain": [
              "<Figure size 1000x600 with 1 Axes>"
            ],
            "image/png": "[encoded data removed]"
          },
          "metadata": {}
        }
      ],
      "source": [
        "evals_result = model.get_evals_result()\n",
        "\n",
        "train_loss = evals_result['learn']['MultiClass']\n",
        "valid_loss = evals_result['validation']['MultiClass']\n",
        "\n",
        "plt.figure(figsize=(10,6))\n",
        "plt.plot(train_loss, label='Training Loss')\n",
        "plt.plot(valid_loss, label='Validation Loss')\n",
        "plt.xlabel('Iteration')\n",
        "plt.ylabel('MultiClass Loss')\n",
        "plt.title('CatBoost Training & Validation Loss')\n",
        "plt.legend()\n",
        "plt.grid(True)\n",
        "plt.show()"
      ]
    },
    {
      "cell_type": "markdown",
      "metadata": {
        "id": "WkJMiODf3jU8"
      },
      "source": [
        "# Evaluation"
      ]
    },
    {
      "cell_type": "code",
      "execution_count": 18,
      "metadata": {
        "id": "RlM3Gy033jCW"
      },
      "outputs": [],
      "source": [
        "y_pred = model.predict(X_test)"
      ]
    },
    {
      "cell_type": "markdown",
      "metadata": {
        "id": "z-JQB_2z547j"
      },
      "source": [
        "## Confusion Matrix"
      ]
    },
    {
      "cell_type": "code",
      "execution_count": 19,
      "metadata": {
        "id": "CMTh0eHt4dxE",
        "colab": {
          "base_uri": "https://localhost:8080/",
          "height": 410
        },
        "outputId": "690a8143-29c7-412f-f8b7-ca0de0c1be5e"
      },
      "outputs": [
        {
          "output_type": "display_data",
          "data": {
            "text/plain": [
              "<Figure size 500x400 with 2 Axes>"
            ],
            "image/png": "[encoded data removed]"
          },
          "metadata": {}
        }
      ],
      "source": [
        "cm = confusion_matrix(y_test, y_pred)\n",
        "\n",
        "class_names = [\"False Positive\", \"Candidate\"]\n",
        "\n",
        "plt.figure(figsize=(5,4))\n",
        "sns.heatmap(cm, annot=True, fmt='d', cmap='Blues',\n",
        "            xticklabels=class_names, yticklabels=class_names)\n",
        "plt.ylabel('True label')\n",
        "plt.xlabel('Predicted label')\n",
        "plt.title('Confusion Matrix')\n",
        "plt.show()"
      ]
    },
    {
      "cell_type": "markdown",
      "metadata": {
        "id": "niTwN6Ni6l4e"
      },
      "source": [
        "## Accuracy"
      ]
    },
    {
      "cell_type": "code",
      "execution_count": 20,
      "metadata": {
        "id": "5Ir2HlhM6oU_",
        "colab": {
          "base_uri": "https://localhost:8080/"
        },
        "outputId": "64d88e89-8256-4b2f-acc7-e78c772b4ee6"
      },
      "outputs": [
        {
          "output_type": "stream",
          "name": "stdout",
          "text": [
            "Accuracy: 97.18%\n",
            "Precision Score: 97.19%\n",
            "Recall Score: 97.18%\n",
            "F1 Score: 97.18%\n"
          ]
        }
      ],
      "source": [
        "acc = accuracy_score(y_test, y_pred)\n",
        "precision = precision_score(y_test, y_pred, average='weighted')\n",
        "recall = recall_score(y_test, y_pred, average='weighted')\n",
        "f1 = f1_score(y_test, y_pred, average='weighted')\n",
        "\n",
        "print(\"Accuracy: {:.2f}%\".format(acc * 100))\n",
        "print(\"Precision Score: {:.2f}%\".format(precision * 100))\n",
        "print(\"Recall Score: {:.2f}%\".format(recall * 100))\n",
        "print(\"F1 Score: {:.2f}%\".format(f1 * 100))"
      ]
    },
    {
      "cell_type": "markdown",
      "metadata": {
        "id": "AG3c9EWVmAej"
      },
      "source": [
        "# Saving Model"
      ]
    },
    {
      "cell_type": "code",
      "execution_count": 22,
      "metadata": {
        "id": "ZY7M-a9MmAej"
      },
      "outputs": [],
      "source": [
        "model.save_model(\"koi_model.onnx\", format=\"onnx\")"
      ]
    }
  ],
  "metadata": {
    "accelerator": "GPU",
    "colab": {
      "gpuType": "T4",
      "provenance": [],
      "include_colab_link": true
    },
    "kernelspec": {
      "display_name": "Python 3 (ipykernel)",
      "language": "python",
      "name": "python3"
    },
    "language_info": {
      "codemirror_mode": {
        "name": "ipython",
        "version": 3
      },
      "file_extension": ".py",
      "mimetype": "text/x-python",
      "name": "python",
      "nbconvert_exporter": "python",
      "pygments_lexer": "ipython3",
      "version": "3.13.7"
    }
  },
  "nbformat": 4,
  "nbformat_minor": 0
}