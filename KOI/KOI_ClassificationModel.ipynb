{
  "cells": [
    {
      "cell_type": "markdown",
      "metadata": {
        "id": "view-in-github",
        "colab_type": "text"
      },
      "source": [
        "<a href=\"https://colab.research.google.com/github/Venura-Shiromal/NASA-Space-Apps-2025/blob/main/KOI/KOI_ClassificationModel.ipynb\" target=\"_parent\"><img src=\"https://colab.research.google.com/assets/colab-badge.svg\" alt=\"Open In Colab\"/></a>"
      ]
    },
    {
      "cell_type": "markdown",
      "metadata": {
        "id": "4XcNyBVLmAeY"
      },
      "source": [
        "[![Open In Colab](https://colab.research.google.com/assets/colab-badge.svg)](https://colab.research.google.com/github/Venura-Shiromal/NASA-Space-Apps-2025/blob/main/K2/K2_ClassificationModel.ipynb)"
      ]
    },
    {
      "cell_type": "markdown",
      "metadata": {
        "id": "qZwhouh0vW8A"
      },
      "source": [
        "## Prerequisities"
      ]
    },
    {
      "cell_type": "code",
      "execution_count": 4,
      "metadata": {
        "id": "jyn3rXAOvGc6"
      },
      "outputs": [],
      "source": [
        "### If hasn't installed already\n",
        "# !pip install pandas\n",
        "# !pip install catboost\n",
        "# !pip install sklearn\n",
        "# !pip install numpy\n",
        "# !pip install matplotlib\n",
        "# !pip install seaborn"
      ]
    },
    {
      "cell_type": "code",
      "execution_count": 5,
      "metadata": {
        "id": "Sx0W_aW_Yyo0"
      },
      "outputs": [],
      "source": [
        "import pandas as pd\n",
        "from catboost import CatBoostClassifier\n",
        "from sklearn.model_selection import train_test_split, StratifiedKFold\n",
        "from sklearn.metrics import classification_report, confusion_matrix, accuracy_score, precision_score, recall_score, f1_score\n",
        "from sklearn.utils.class_weight import compute_class_weight\n",
        "import numpy as np\n",
        "\n",
        "import matplotlib.pyplot as plt\n",
        "import seaborn as sns"
      ]
    },
    {
      "cell_type": "markdown",
      "metadata": {
        "id": "VVyWLHQuky2K"
      },
      "source": [
        "# Loading Data"
      ]
    },
    {
      "cell_type": "code",
      "execution_count": 6,
      "metadata": {
        "id": "uC2Meugwkt7e"
      },
      "outputs": [],
      "source": [
        "koi = pd.read_csv('KOI_Data.csv', comment='#')"
      ]
    },
    {
      "cell_type": "markdown",
      "metadata": {
        "id": "07Hmh6kFmtFN"
      },
      "source": [
        "## Feature Selection"
      ]
    },
    {
      "cell_type": "code",
      "execution_count": 7,
      "metadata": {
        "id": "TrGOOBvmlER9"
      },
      "outputs": [],
      "source": [
        "features = [\n",
        "    # Orbital / Transit properties\n",
        "    \"koi_period\",        # Orbital Period [days]\n",
        "    \"koi_time0bk\",       # Transit Epoch [BKJD]\n",
        "    \"koi_impact\",        # Impact Parameter\n",
        "    \"koi_duration\",      # Transit Duration [hrs]\n",
        "    \"koi_depth\",         # Transit Depth [ppm]\n",
        "    \"koi_model_snr\",     # Transit Signal-to-Noise Ratio\n",
        "\n",
        "    # Planetary physical properties\n",
        "    \"koi_prad\",          # Planetary Radius [Earth radii]\n",
        "    \"koi_teq\",           # Equilibrium Temperature [K]\n",
        "    \"koi_insol\",         # Insolation Flux [Earth flux]\n",
        "\n",
        "    # Stellar properties\n",
        "    \"koi_steff\",         # Stellar Effective Temperature [K]\n",
        "    \"koi_slogg\",         # Stellar Surface Gravity [log10(cm/s**2)]\n",
        "    \"koi_srad\",          # Stellar Radius [Solar radii]\n",
        "    \"koi_kepmag\",         # Kepler Magnitude\n",
        "\n",
        "    \"koi_pdisposition\"   # Disposition\n",
        "]"
      ]
    },
    {
      "cell_type": "markdown",
      "metadata": {
        "id": "59n9RFoYmAee"
      },
      "source": [
        "### Selecting Features"
      ]
    },
    {
      "cell_type": "code",
      "source": [
        "koi = koi[features]"
      ],
      "metadata": {
        "id": "Om9i03C6Rc5G"
      },
      "execution_count": 8,
      "outputs": []
    },
    {
      "cell_type": "markdown",
      "metadata": {
        "id": "JKSIKT4To9HZ"
      },
      "source": [
        "## Label Mapping"
      ]
    },
    {
      "cell_type": "code",
      "execution_count": 9,
      "metadata": {
        "id": "_8K-UEG5o_DS"
      },
      "outputs": [],
      "source": [
        "label_map = {\n",
        "    \"FALSE POSITIVE\" : 0,\n",
        "    \"CANDIDATE\" : 1\n",
        "  }\n",
        "\n",
        "koi[\"koi_pdisposition\"] = koi[\"koi_pdisposition\"].map(label_map)"
      ]
    },
    {
      "cell_type": "markdown",
      "metadata": {
        "id": "Ne4pIk6jr0N-"
      },
      "source": [
        "### Filling empty cells"
      ]
    },
    {
      "cell_type": "code",
      "execution_count": 10,
      "metadata": {
        "id": "SeH6ipCEpvRY"
      },
      "outputs": [],
      "source": [
        "koi = koi.fillna(koi.mean())"
      ]
    },
    {
      "cell_type": "markdown",
      "metadata": {
        "id": "DILU0J92sQkD"
      },
      "source": [
        "### Diagnoise if want"
      ]
    },
    {
      "cell_type": "code",
      "execution_count": 11,
      "metadata": {
        "id": "-vAY-1XHsPL_"
      },
      "outputs": [],
      "source": [
        "#print(koi.shape[0])\n",
        "#print(koi[\"koi_pdisposition\"].unique())\n",
        "#print(koi.dtypes)\n",
        "#np.isnan(koi).sum()\n",
        "#koi.head()\n",
        "#print(koi.isna().sum()[koi.isna().sum() > 957])\n",
        "#for col in features:\n",
        "#    print(koi[col].dtype)"
      ]
    },
    {
      "cell_type": "markdown",
      "metadata": {
        "id": "BZZYmmphpiL2"
      },
      "source": [
        "# Defining data sets"
      ]
    },
    {
      "cell_type": "code",
      "execution_count": 12,
      "metadata": {
        "id": "PcnhnqBQpRHx"
      },
      "outputs": [],
      "source": [
        "X = koi.drop(\"koi_pdisposition\", axis=1)\n",
        "y = koi[\"koi_pdisposition\"]"
      ]
    },
    {
      "cell_type": "code",
      "execution_count": 13,
      "metadata": {
        "id": "AOpgnjyLpoV6"
      },
      "outputs": [],
      "source": [
        "X_train, X_test, y_train, y_test = train_test_split(\n",
        "    X, y, test_size=0.2, stratify=y, random_state=42\n",
        "    )"
      ]
    },
    {
      "cell_type": "markdown",
      "metadata": {
        "id": "2y8mTfRp05y2"
      },
      "source": [
        "## Defining Classes"
      ]
    },
    {
      "cell_type": "code",
      "execution_count": 14,
      "metadata": {
        "id": "wawMFEOe091B"
      },
      "outputs": [],
      "source": [
        "classes = np.unique(y_train)"
      ]
    },
    {
      "cell_type": "markdown",
      "metadata": {
        "id": "NUalJl3109ld"
      },
      "source": [
        "## Calculating Class Weights"
      ]
    },
    {
      "cell_type": "code",
      "execution_count": 15,
      "metadata": {
        "id": "Jl0IYZY6wvIU"
      },
      "outputs": [],
      "source": [
        "weights = compute_class_weight(\"balanced\", classes=classes, y=y_train)"
      ]
    },
    {
      "cell_type": "markdown",
      "metadata": {
        "id": "l05vbhRO137y"
      },
      "source": [
        "### Combining both"
      ]
    },
    {
      "cell_type": "code",
      "execution_count": 16,
      "metadata": {
        "id": "u01MI-W11Ylq"
      },
      "outputs": [],
      "source": [
        "class_weights = dict(zip(classes, weights))"
      ]
    },
    {
      "cell_type": "markdown",
      "metadata": {
        "id": "B2ktYZ_CLb8M"
      },
      "source": [
        "## Cross-validation"
      ]
    },
    {
      "cell_type": "code",
      "execution_count": 17,
      "metadata": {
        "id": "tBDk3uGRKDF8"
      },
      "outputs": [],
      "source": [
        "skf = StratifiedKFold(n_splits=5, shuffle=True, random_state=42)\n",
        "\n",
        "for train_idx, valid_idx in skf.split(X, y):\n",
        "    X_train, X_valid = X.iloc[train_idx], X.iloc[valid_idx]\n",
        "    y_train, y_valid = y.iloc[train_idx], y.iloc[valid_idx]"
      ]
    },
    {
      "cell_type": "markdown",
      "metadata": {
        "id": "6WdykEBY2F1v"
      },
      "source": [
        "# Cat Boost Initiation"
      ]
    },
    {
      "cell_type": "markdown",
      "metadata": {
        "id": "disXqpzB24me"
      },
      "source": [
        "## Parameters\n"
      ]
    },
    {
      "cell_type": "code",
      "execution_count": 35,
      "metadata": {
        "id": "whC-nezHq_WX"
      },
      "outputs": [],
      "source": [
        "model = CatBoostClassifier(\n",
        "    iterations=3000,\n",
        "    depth=8,\n",
        "    learning_rate=0.0,\n",
        "    loss_function=\"MultiClass\",\n",
        "    eval_metric=\"MultiClass\",\n",
        "    l2_leaf_reg=5,\n",
        "    early_stopping_rounds=50,\n",
        "    random_seed=42,\n",
        "    verbose=50,\n",
        "    class_weights=class_weights\n",
        ")"
      ]
    },
    {
      "cell_type": "markdown",
      "metadata": {
        "id": "zCqAjS8C3eCP"
      },
      "source": [
        "# Training"
      ]
    },
    {
      "cell_type": "code",
      "execution_count": 36,
      "metadata": {
        "id": "uMb-AlB93Uej",
        "colab": {
          "base_uri": "https://localhost:8080/"
        },
        "outputId": "61733507-b6c3-42b7-8321-d646772b6e38"
      },
      "outputs": [
        {
          "output_type": "stream",
          "name": "stdout",
          "text": [
            "0:\tlearn: 0.6721280\ttest: 0.6714437\tbest: 0.6714437 (0)\ttotal: 35.1ms\tremaining: 1m 45s\n",
            "50:\tlearn: 0.3913239\ttest: 0.3782715\tbest: 0.3782715 (50)\ttotal: 1.35s\tremaining: 1m 18s\n",
            "100:\tlearn: 0.3450256\ttest: 0.3323084\tbest: 0.3323084 (100)\ttotal: 2.68s\tremaining: 1m 16s\n",
            "150:\tlearn: 0.3218960\ttest: 0.3113685\tbest: 0.3113685 (150)\ttotal: 3.99s\tremaining: 1m 15s\n",
            "200:\tlearn: 0.3041172\ttest: 0.2953258\tbest: 0.2953258 (200)\ttotal: 5.29s\tremaining: 1m 13s\n",
            "250:\tlearn: 0.2902163\ttest: 0.2842095\tbest: 0.2842095 (250)\ttotal: 7.09s\tremaining: 1m 17s\n",
            "300:\tlearn: 0.2773566\ttest: 0.2739980\tbest: 0.2739980 (300)\ttotal: 9.28s\tremaining: 1m 23s\n",
            "350:\tlearn: 0.2649278\ttest: 0.2634918\tbest: 0.2634918 (350)\ttotal: 10.6s\tremaining: 1m 20s\n",
            "400:\tlearn: 0.2537576\ttest: 0.2550350\tbest: 0.2550350 (400)\ttotal: 11.9s\tremaining: 1m 17s\n",
            "450:\tlearn: 0.2438183\ttest: 0.2475219\tbest: 0.2475219 (450)\ttotal: 13.9s\tremaining: 1m 18s\n",
            "500:\tlearn: 0.2352709\ttest: 0.2409821\tbest: 0.2409821 (500)\ttotal: 15.9s\tremaining: 1m 19s\n",
            "550:\tlearn: 0.2270279\ttest: 0.2346223\tbest: 0.2346223 (550)\ttotal: 17.2s\tremaining: 1m 16s\n",
            "600:\tlearn: 0.2185920\ttest: 0.2287125\tbest: 0.2287125 (600)\ttotal: 18.6s\tremaining: 1m 14s\n",
            "650:\tlearn: 0.2108683\ttest: 0.2225851\tbest: 0.2225851 (650)\ttotal: 20.6s\tremaining: 1m 14s\n",
            "700:\tlearn: 0.2035444\ttest: 0.2172610\tbest: 0.2172610 (700)\ttotal: 22.5s\tremaining: 1m 13s\n",
            "750:\tlearn: 0.1963604\ttest: 0.2120105\tbest: 0.2120105 (750)\ttotal: 23.8s\tremaining: 1m 11s\n",
            "800:\tlearn: 0.1901662\ttest: 0.2071456\tbest: 0.2071456 (800)\ttotal: 25.1s\tremaining: 1m 8s\n",
            "850:\tlearn: 0.1839385\ttest: 0.2024409\tbest: 0.2024409 (850)\ttotal: 26.4s\tremaining: 1m 6s\n",
            "900:\tlearn: 0.1782665\ttest: 0.1983810\tbest: 0.1983810 (900)\ttotal: 27.8s\tremaining: 1m 4s\n",
            "950:\tlearn: 0.1729514\ttest: 0.1942895\tbest: 0.1942895 (950)\ttotal: 29.1s\tremaining: 1m 2s\n",
            "1000:\tlearn: 0.1673848\ttest: 0.1901388\tbest: 0.1901388 (1000)\ttotal: 30.4s\tremaining: 1m\n",
            "1050:\tlearn: 0.1621664\ttest: 0.1863965\tbest: 0.1863965 (1050)\ttotal: 31.7s\tremaining: 58.8s\n",
            "1100:\tlearn: 0.1574049\ttest: 0.1830501\tbest: 0.1830501 (1100)\ttotal: 34s\tremaining: 58.7s\n",
            "1150:\tlearn: 0.1530594\ttest: 0.1796758\tbest: 0.1796758 (1150)\ttotal: 35.7s\tremaining: 57.3s\n",
            "1200:\tlearn: 0.1489823\ttest: 0.1765865\tbest: 0.1765865 (1200)\ttotal: 37s\tremaining: 55.4s\n",
            "1250:\tlearn: 0.1450776\ttest: 0.1735318\tbest: 0.1735318 (1250)\ttotal: 38.3s\tremaining: 53.6s\n",
            "1300:\tlearn: 0.1413904\ttest: 0.1709879\tbest: 0.1709879 (1300)\ttotal: 39.7s\tremaining: 51.9s\n",
            "1350:\tlearn: 0.1379122\ttest: 0.1684981\tbest: 0.1684981 (1350)\ttotal: 41s\tremaining: 50.1s\n",
            "1400:\tlearn: 0.1343905\ttest: 0.1657664\tbest: 0.1657664 (1400)\ttotal: 42.3s\tremaining: 48.3s\n",
            "1450:\tlearn: 0.1310121\ttest: 0.1632577\tbest: 0.1632577 (1450)\ttotal: 43.6s\tremaining: 46.6s\n",
            "1500:\tlearn: 0.1276424\ttest: 0.1608095\tbest: 0.1608095 (1500)\ttotal: 45.2s\tremaining: 45.2s\n",
            "1550:\tlearn: 0.1242446\ttest: 0.1581366\tbest: 0.1581366 (1550)\ttotal: 47.5s\tremaining: 44.4s\n",
            "1600:\tlearn: 0.1213209\ttest: 0.1560356\tbest: 0.1560356 (1600)\ttotal: 48.8s\tremaining: 42.7s\n",
            "1650:\tlearn: 0.1182300\ttest: 0.1536990\tbest: 0.1536990 (1650)\ttotal: 50.2s\tremaining: 41s\n",
            "1700:\tlearn: 0.1152405\ttest: 0.1513904\tbest: 0.1513904 (1700)\ttotal: 51.5s\tremaining: 39.3s\n",
            "1750:\tlearn: 0.1126320\ttest: 0.1495976\tbest: 0.1495976 (1750)\ttotal: 52.8s\tremaining: 37.7s\n",
            "1800:\tlearn: 0.1098832\ttest: 0.1474700\tbest: 0.1474700 (1800)\ttotal: 54.1s\tremaining: 36s\n",
            "1850:\tlearn: 0.1072342\ttest: 0.1456697\tbest: 0.1456697 (1850)\ttotal: 55.4s\tremaining: 34.4s\n",
            "1900:\tlearn: 0.1048370\ttest: 0.1439699\tbest: 0.1439699 (1900)\ttotal: 56.7s\tremaining: 32.8s\n",
            "1950:\tlearn: 0.1024300\ttest: 0.1421125\tbest: 0.1421125 (1950)\ttotal: 58.8s\tremaining: 31.6s\n",
            "2000:\tlearn: 0.1000824\ttest: 0.1403508\tbest: 0.1403508 (2000)\ttotal: 1m\tremaining: 30.3s\n",
            "2050:\tlearn: 0.0979130\ttest: 0.1385840\tbest: 0.1385840 (2050)\ttotal: 1m 2s\tremaining: 28.7s\n",
            "2100:\tlearn: 0.0958789\ttest: 0.1372158\tbest: 0.1372158 (2100)\ttotal: 1m 3s\tremaining: 27.1s\n",
            "2150:\tlearn: 0.0941246\ttest: 0.1360729\tbest: 0.1360729 (2150)\ttotal: 1m 4s\tremaining: 25.5s\n",
            "2200:\tlearn: 0.0920761\ttest: 0.1348672\tbest: 0.1348672 (2200)\ttotal: 1m 6s\tremaining: 24s\n",
            "2250:\tlearn: 0.0901121\ttest: 0.1337922\tbest: 0.1337922 (2250)\ttotal: 1m 7s\tremaining: 22.4s\n",
            "2300:\tlearn: 0.0881254\ttest: 0.1323518\tbest: 0.1323518 (2300)\ttotal: 1m 8s\tremaining: 20.9s\n",
            "2350:\tlearn: 0.0861620\ttest: 0.1310400\tbest: 0.1310400 (2350)\ttotal: 1m 10s\tremaining: 19.3s\n",
            "2400:\tlearn: 0.0845392\ttest: 0.1300177\tbest: 0.1300177 (2400)\ttotal: 1m 12s\tremaining: 18.1s\n",
            "2450:\tlearn: 0.0827723\ttest: 0.1289295\tbest: 0.1289295 (2450)\ttotal: 1m 14s\tremaining: 16.6s\n",
            "2500:\tlearn: 0.0811054\ttest: 0.1277144\tbest: 0.1277144 (2500)\ttotal: 1m 15s\tremaining: 15s\n",
            "2550:\tlearn: 0.0793253\ttest: 0.1268231\tbest: 0.1268231 (2550)\ttotal: 1m 16s\tremaining: 13.5s\n",
            "2600:\tlearn: 0.0777154\ttest: 0.1255768\tbest: 0.1255704 (2597)\ttotal: 1m 17s\tremaining: 12s\n",
            "2650:\tlearn: 0.0761869\ttest: 0.1245854\tbest: 0.1245854 (2650)\ttotal: 1m 19s\tremaining: 10.4s\n",
            "2700:\tlearn: 0.0746049\ttest: 0.1235764\tbest: 0.1235764 (2700)\ttotal: 1m 20s\tremaining: 8.92s\n",
            "2750:\tlearn: 0.0732434\ttest: 0.1226566\tbest: 0.1226566 (2750)\ttotal: 1m 21s\tremaining: 7.42s\n",
            "2800:\tlearn: 0.0719060\ttest: 0.1216855\tbest: 0.1216844 (2799)\ttotal: 1m 23s\tremaining: 5.94s\n",
            "2850:\tlearn: 0.0705117\ttest: 0.1208884\tbest: 0.1208884 (2850)\ttotal: 1m 25s\tremaining: 4.49s\n",
            "2900:\tlearn: 0.0692130\ttest: 0.1200825\tbest: 0.1200825 (2900)\ttotal: 1m 27s\tremaining: 2.97s\n",
            "2950:\tlearn: 0.0680574\ttest: 0.1193584\tbest: 0.1193578 (2949)\ttotal: 1m 28s\tremaining: 1.47s\n",
            "2999:\tlearn: 0.0668495\ttest: 0.1184533\tbest: 0.1184429 (2996)\ttotal: 1m 29s\tremaining: 0us\n",
            "\n",
            "bestTest = 0.1184429111\n",
            "bestIteration = 2996\n",
            "\n",
            "Shrink model to first 2997 iterations.\n"
          ]
        },
        {
          "output_type": "execute_result",
          "data": {
            "text/plain": [
              "<catboost.core.CatBoostClassifier at 0x7df627d75010>"
            ]
          },
          "metadata": {},
          "execution_count": 36
        }
      ],
      "source": [
        "model.fit(X_train, y_train, eval_set=(X_test, y_test))"
      ]
    },
    {
      "cell_type": "markdown",
      "metadata": {
        "id": "FntxgSBsErX3"
      },
      "source": [
        "## Plotting Loss"
      ]
    },
    {
      "cell_type": "code",
      "execution_count": 37,
      "metadata": {
        "id": "wVlp_T4NErEP",
        "colab": {
          "base_uri": "https://localhost:8080/",
          "height": 564
        },
        "outputId": "31a6e7f0-d4c3-4eb0-c5de-56351b19efc9"
      },
      "outputs": [
        {
          "output_type": "display_data",
          "data": {
            "text/plain": [
              "<Figure size 1000x600 with 1 Axes>"
            ],
            "image/png": "[encoded data removed]"
          },
          "metadata": {}
        }
      ],
      "source": [
        "evals_result = model.get_evals_result()\n",
        "\n",
        "train_loss = evals_result['learn']['MultiClass']\n",
        "valid_loss = evals_result['validation']['MultiClass']\n",
        "\n",
        "plt.figure(figsize=(10,6))\n",
        "plt.plot(train_loss, label='Training Loss')\n",
        "plt.plot(valid_loss, label='Validation Loss')\n",
        "plt.xlabel('Iteration')\n",
        "plt.ylabel('MultiClass Loss')\n",
        "plt.title('CatBoost Training & Validation Loss')\n",
        "plt.legend()\n",
        "plt.grid(True)\n",
        "plt.show()"
      ]
    },
    {
      "cell_type": "markdown",
      "metadata": {
        "id": "WkJMiODf3jU8"
      },
      "source": [
        "# Evaluation"
      ]
    },
    {
      "cell_type": "code",
      "execution_count": 38,
      "metadata": {
        "id": "RlM3Gy033jCW"
      },
      "outputs": [],
      "source": [
        "y_pred = model.predict(X_test)"
      ]
    },
    {
      "cell_type": "markdown",
      "metadata": {
        "id": "z-JQB_2z547j"
      },
      "source": [
        "## Confusion Matrix"
      ]
    },
    {
      "cell_type": "code",
      "execution_count": 39,
      "metadata": {
        "id": "CMTh0eHt4dxE",
        "colab": {
          "base_uri": "https://localhost:8080/",
          "height": 410
        },
        "outputId": "053cb49e-0d02-4373-b774-adb4adeee0c4"
      },
      "outputs": [
        {
          "output_type": "display_data",
          "data": {
            "text/plain": [
              "<Figure size 500x400 with 2 Axes>"
            ],
            "image/png": "[encoded data removed]"
          },
          "metadata": {}
        }
      ],
      "source": [
        "cm = confusion_matrix(y_test, y_pred)\n",
        "\n",
        "class_names = [\"False Positive\", \"Candidate\"]\n",
        "\n",
        "plt.figure(figsize=(5,4))\n",
        "sns.heatmap(cm, annot=True, fmt='d', cmap='Blues',\n",
        "            xticklabels=class_names, yticklabels=class_names)\n",
        "plt.ylabel('True label')\n",
        "plt.xlabel('Predicted label')\n",
        "plt.title('Confusion Matrix')\n",
        "plt.show()"
      ]
    },
    {
      "cell_type": "markdown",
      "metadata": {
        "id": "niTwN6Ni6l4e"
      },
      "source": [
        "## Accuracy"
      ]
    },
    {
      "cell_type": "code",
      "execution_count": 40,
      "metadata": {
        "id": "5Ir2HlhM6oU_",
        "colab": {
          "base_uri": "https://localhost:8080/"
        },
        "outputId": "d7bbecb9-b63a-4630-8cff-80c225f19e63"
      },
      "outputs": [
        {
          "output_type": "stream",
          "name": "stdout",
          "text": [
            "Accuracy: 97.23%\n",
            "Precision Score: 97.25%\n",
            "Recall Score: 97.23%\n",
            "F1 Score: 97.23%\n"
          ]
        }
      ],
      "source": [
        "acc = accuracy_score(y_test, y_pred)\n",
        "precision = precision_score(y_test, y_pred, average='weighted')\n",
        "recall = recall_score(y_test, y_pred, average='weighted')\n",
        "f1 = f1_score(y_test, y_pred, average='weighted')\n",
        "\n",
        "print(\"Accuracy: {:.2f}%\".format(acc * 100))\n",
        "print(\"Precision Score: {:.2f}%\".format(precision * 100))\n",
        "print(\"Recall Score: {:.2f}%\".format(recall * 100))\n",
        "print(\"F1 Score: {:.2f}%\".format(f1 * 100))"
      ]
    },
    {
      "cell_type": "markdown",
      "metadata": {
        "id": "AG3c9EWVmAej"
      },
      "source": [
        "# Saving Model"
      ]
    },
    {
      "cell_type": "code",
      "execution_count": 41,
      "metadata": {
        "id": "ZY7M-a9MmAej"
      },
      "outputs": [],
      "source": [
        "model.save_model(\"k2_model.onnx\", format=\"onnx\")"
      ]
    },
    {
      "cell_type": "code",
      "source": [],
      "metadata": {
        "id": "rmjconVKZB-H"
      },
      "execution_count": null,
      "outputs": []
    }
  ],
  "metadata": {
    "accelerator": "GPU",
    "colab": {
      "gpuType": "T4",
      "provenance": [],
      "include_colab_link": true
    },
    "kernelspec": {
      "display_name": "Python 3 (ipykernel)",
      "language": "python",
      "name": "python3"
    },
    "language_info": {
      "codemirror_mode": {
        "name": "ipython",
        "version": 3
      },
      "file_extension": ".py",
      "mimetype": "text/x-python",
      "name": "python",
      "nbconvert_exporter": "python",
      "pygments_lexer": "ipython3",
      "version": "3.13.7"
    }
  },
  "nbformat": 4,
  "nbformat_minor": 0
}