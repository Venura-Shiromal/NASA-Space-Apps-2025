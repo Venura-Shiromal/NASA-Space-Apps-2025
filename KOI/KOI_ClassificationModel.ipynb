{
  "cells": [
    {
      "cell_type": "markdown",
      "metadata": {
        "id": "view-in-github",
        "colab_type": "text"
      },
      "source": [
        "<a href=\"https://colab.research.google.com/github/Venura-Shiromal/NASA-Space-Apps-2025/blob/main/KOI/KOI_ClassificationModel.ipynb\" target=\"_parent\"><img src=\"https://colab.research.google.com/assets/colab-badge.svg\" alt=\"Open In Colab\"/></a>"
      ]
    },
    {
      "cell_type": "markdown",
      "metadata": {
        "id": "qZwhouh0vW8A"
      },
      "source": [
        "## Prerequisities"
      ]
    },
    {
      "cell_type": "code",
      "execution_count": 1,
      "metadata": {
        "id": "jyn3rXAOvGc6",
        "outputId": "affffbe5-c22a-463f-e0df-31355faa2879",
        "colab": {
          "base_uri": "https://localhost:8080/"
        }
      },
      "outputs": [
        {
          "output_type": "stream",
          "name": "stdout",
          "text": [
            "Collecting catboost\n",
            "  Downloading catboost-1.2.8-cp312-cp312-manylinux2014_x86_64.whl.metadata (1.2 kB)\n",
            "Requirement already satisfied: graphviz in /usr/local/lib/python3.12/dist-packages (from catboost) (0.21)\n",
            "Requirement already satisfied: matplotlib in /usr/local/lib/python3.12/dist-packages (from catboost) (3.10.0)\n",
            "Requirement already satisfied: numpy<3.0,>=1.16.0 in /usr/local/lib/python3.12/dist-packages (from catboost) (2.0.2)\n",
            "Requirement already satisfied: pandas>=0.24 in /usr/local/lib/python3.12/dist-packages (from catboost) (2.2.2)\n",
            "Requirement already satisfied: scipy in /usr/local/lib/python3.12/dist-packages (from catboost) (1.16.2)\n",
            "Requirement already satisfied: plotly in /usr/local/lib/python3.12/dist-packages (from catboost) (5.24.1)\n",
            "Requirement already satisfied: six in /usr/local/lib/python3.12/dist-packages (from catboost) (1.17.0)\n",
            "Requirement already satisfied: python-dateutil>=2.8.2 in /usr/local/lib/python3.12/dist-packages (from pandas>=0.24->catboost) (2.9.0.post0)\n",
            "Requirement already satisfied: pytz>=2020.1 in /usr/local/lib/python3.12/dist-packages (from pandas>=0.24->catboost) (2025.2)\n",
            "Requirement already satisfied: tzdata>=2022.7 in /usr/local/lib/python3.12/dist-packages (from pandas>=0.24->catboost) (2025.2)\n",
            "Requirement already satisfied: contourpy>=1.0.1 in /usr/local/lib/python3.12/dist-packages (from matplotlib->catboost) (1.3.3)\n",
            "Requirement already satisfied: cycler>=0.10 in /usr/local/lib/python3.12/dist-packages (from matplotlib->catboost) (0.12.1)\n",
            "Requirement already satisfied: fonttools>=4.22.0 in /usr/local/lib/python3.12/dist-packages (from matplotlib->catboost) (4.60.1)\n",
            "Requirement already satisfied: kiwisolver>=1.3.1 in /usr/local/lib/python3.12/dist-packages (from matplotlib->catboost) (1.4.9)\n",
            "Requirement already satisfied: packaging>=20.0 in /usr/local/lib/python3.12/dist-packages (from matplotlib->catboost) (25.0)\n",
            "Requirement already satisfied: pillow>=8 in /usr/local/lib/python3.12/dist-packages (from matplotlib->catboost) (11.3.0)\n",
            "Requirement already satisfied: pyparsing>=2.3.1 in /usr/local/lib/python3.12/dist-packages (from matplotlib->catboost) (3.2.5)\n",
            "Requirement already satisfied: tenacity>=6.2.0 in /usr/local/lib/python3.12/dist-packages (from plotly->catboost) (8.5.0)\n",
            "Downloading catboost-1.2.8-cp312-cp312-manylinux2014_x86_64.whl (99.2 MB)\n",
            "\u001b[2K   \u001b[90m━━━━━━━━━━━━━━━━━━━━━━━━━━━━━━━━━━━━━━━━\u001b[0m \u001b[32m99.2/99.2 MB\u001b[0m \u001b[31m9.7 MB/s\u001b[0m eta \u001b[36m0:00:00\u001b[0m\n",
            "\u001b[?25hInstalling collected packages: catboost\n",
            "Successfully installed catboost-1.2.8\n"
          ]
        }
      ],
      "source": [
        "### If hasn't installed already\n",
        "# !pip install pandas\n",
        "# !pip install catboost\n",
        "# !pip install sklearn\n",
        "# !pip install numpy\n",
        "# !pip install matplotlib\n",
        "# !pip install seaborn"
      ]
    },
    {
      "cell_type": "code",
      "execution_count": 21,
      "metadata": {
        "id": "Sx0W_aW_Yyo0"
      },
      "outputs": [],
      "source": [
        "import pandas as pd\n",
        "from catboost import CatBoostClassifier\n",
        "from sklearn.model_selection import train_test_split, StratifiedKFold\n",
        "from sklearn.metrics import classification_report, confusion_matrix, accuracy_score, precision_score, recall_score, f1_score\n",
        "from sklearn.utils.class_weight import compute_class_weight\n",
        "import numpy as np\n",
        "\n",
        "import matplotlib.pyplot as plt\n",
        "import seaborn as sns"
      ]
    },
    {
      "cell_type": "markdown",
      "metadata": {
        "id": "VVyWLHQuky2K"
      },
      "source": [
        "# Loading Data"
      ]
    },
    {
      "cell_type": "code",
      "execution_count": 22,
      "metadata": {
        "id": "uC2Meugwkt7e"
      },
      "outputs": [],
      "source": [
        "koi = pd.read_csv('KOI_Data.csv', comment='#')"
      ]
    },
    {
      "cell_type": "markdown",
      "metadata": {
        "id": "07Hmh6kFmtFN"
      },
      "source": [
        "## Feature Selection"
      ]
    },
    {
      "cell_type": "code",
      "execution_count": 23,
      "metadata": {
        "id": "TrGOOBvmlER9"
      },
      "outputs": [],
      "source": [
        "features = [\n",
        "    # Orbital / Transit properties\n",
        "    \"koi_period\",        # Orbital Period [days]\n",
        "    \"koi_time0bk\",       # Transit Epoch [BKJD]\n",
        "    \"koi_impact\",        # Impact Parameter\n",
        "    \"koi_duration\",      # Transit Duration [hrs]\n",
        "    \"koi_depth\",         # Transit Depth [ppm]\n",
        "    \"koi_model_snr\",     # Transit Signal-to-Noise Ratio\n",
        "\n",
        "    # Stellar properties\n",
        "    \"koi_steff\",         # Stellar Effective Temperature [K]\n",
        "    \"koi_slogg\",         # Stellar Surface Gravity [log10(cm/s**2)]\n",
        "    \"koi_srad\",          # Stellar Radius [Solar radii]\n",
        "    \"koi_kepmag\",         # Kepler Magnitude\n",
        "\n",
        "    \"koi_pdisposition\"   # Disposition\n",
        "]"
      ]
    },
    {
      "cell_type": "markdown",
      "metadata": {
        "id": "59n9RFoYmAee"
      },
      "source": [
        "### Selecting Features"
      ]
    },
    {
      "cell_type": "code",
      "source": [
        "koi = koi[features]"
      ],
      "metadata": {
        "id": "Om9i03C6Rc5G"
      },
      "execution_count": 24,
      "outputs": []
    },
    {
      "cell_type": "markdown",
      "metadata": {
        "id": "JKSIKT4To9HZ"
      },
      "source": [
        "## Label Mapping"
      ]
    },
    {
      "cell_type": "code",
      "execution_count": 25,
      "metadata": {
        "id": "_8K-UEG5o_DS"
      },
      "outputs": [],
      "source": [
        "label_map = {\n",
        "    \"FALSE POSITIVE\" : 0,\n",
        "    \"CANDIDATE\" : 1\n",
        "  }\n",
        "\n",
        "koi[\"koi_pdisposition\"] = koi[\"koi_pdisposition\"].map(label_map)"
      ]
    },
    {
      "cell_type": "markdown",
      "metadata": {
        "id": "Ne4pIk6jr0N-"
      },
      "source": [
        "### Filling empty cells"
      ]
    },
    {
      "cell_type": "code",
      "execution_count": 26,
      "metadata": {
        "id": "SeH6ipCEpvRY"
      },
      "outputs": [],
      "source": [
        "koi = koi.fillna(koi.mean())"
      ]
    },
    {
      "cell_type": "markdown",
      "metadata": {
        "id": "DILU0J92sQkD"
      },
      "source": [
        "### Diagnoise if want"
      ]
    },
    {
      "cell_type": "code",
      "execution_count": 27,
      "metadata": {
        "id": "-vAY-1XHsPL_"
      },
      "outputs": [],
      "source": [
        "#print(koi.shape[0])\n",
        "#print(koi[\"koi_pdisposition\"].unique())\n",
        "#print(koi.dtypes)\n",
        "#np.isnan(koi).sum()\n",
        "#koi.head()\n",
        "#print(koi.isna().sum()[koi.isna().sum() > 957])\n",
        "#for col in features:\n",
        "#    print(koi[col].dtype)"
      ]
    },
    {
      "cell_type": "markdown",
      "metadata": {
        "id": "BZZYmmphpiL2"
      },
      "source": [
        "# Defining data sets"
      ]
    },
    {
      "cell_type": "code",
      "execution_count": 28,
      "metadata": {
        "id": "PcnhnqBQpRHx"
      },
      "outputs": [],
      "source": [
        "X = koi.drop(\"koi_pdisposition\", axis=1)\n",
        "y = koi[\"koi_pdisposition\"]"
      ]
    },
    {
      "cell_type": "code",
      "execution_count": 29,
      "metadata": {
        "id": "AOpgnjyLpoV6"
      },
      "outputs": [],
      "source": [
        "X_train, X_test, y_train, y_test = train_test_split(\n",
        "    X, y, test_size=0.2, stratify=y, random_state=42\n",
        "    )"
      ]
    },
    {
      "cell_type": "markdown",
      "metadata": {
        "id": "2y8mTfRp05y2"
      },
      "source": [
        "## Defining Classes"
      ]
    },
    {
      "cell_type": "code",
      "execution_count": 30,
      "metadata": {
        "id": "wawMFEOe091B"
      },
      "outputs": [],
      "source": [
        "classes = np.unique(y_train)"
      ]
    },
    {
      "cell_type": "markdown",
      "metadata": {
        "id": "NUalJl3109ld"
      },
      "source": [
        "## Calculating Class Weights"
      ]
    },
    {
      "cell_type": "code",
      "execution_count": 31,
      "metadata": {
        "id": "Jl0IYZY6wvIU"
      },
      "outputs": [],
      "source": [
        "weights = compute_class_weight(\"balanced\", classes=classes, y=y_train)"
      ]
    },
    {
      "cell_type": "markdown",
      "metadata": {
        "id": "l05vbhRO137y"
      },
      "source": [
        "### Combining both"
      ]
    },
    {
      "cell_type": "code",
      "execution_count": 32,
      "metadata": {
        "id": "u01MI-W11Ylq"
      },
      "outputs": [],
      "source": [
        "class_weights = dict(zip(classes, weights))"
      ]
    },
    {
      "cell_type": "markdown",
      "metadata": {
        "id": "B2ktYZ_CLb8M"
      },
      "source": [
        "## Cross-validation"
      ]
    },
    {
      "cell_type": "code",
      "execution_count": 33,
      "metadata": {
        "id": "tBDk3uGRKDF8"
      },
      "outputs": [],
      "source": [
        "skf = StratifiedKFold(n_splits=5, shuffle=True, random_state=42)\n",
        "\n",
        "for train_idx, valid_idx in skf.split(X, y):\n",
        "    X_train, X_valid = X.iloc[train_idx], X.iloc[valid_idx]\n",
        "    y_train, y_valid = y.iloc[train_idx], y.iloc[valid_idx]"
      ]
    },
    {
      "cell_type": "markdown",
      "metadata": {
        "id": "6WdykEBY2F1v"
      },
      "source": [
        "# Cat Boost Initiation"
      ]
    },
    {
      "cell_type": "markdown",
      "metadata": {
        "id": "disXqpzB24me"
      },
      "source": [
        "## Parameters\n"
      ]
    },
    {
      "cell_type": "code",
      "execution_count": 34,
      "metadata": {
        "id": "whC-nezHq_WX"
      },
      "outputs": [],
      "source": [
        "model = CatBoostClassifier(\n",
        "    iterations=2500,\n",
        "    depth=8,\n",
        "    learning_rate=0.06,\n",
        "    loss_function=\"MultiClass\",\n",
        "    eval_metric=\"MultiClass\",\n",
        "    l2_leaf_reg=5,\n",
        "    early_stopping_rounds=50,\n",
        "    random_seed=42,\n",
        "    verbose=50,\n",
        "    class_weights=class_weights\n",
        ")"
      ]
    },
    {
      "cell_type": "markdown",
      "metadata": {
        "id": "zCqAjS8C3eCP"
      },
      "source": [
        "# Training"
      ]
    },
    {
      "cell_type": "code",
      "execution_count": 35,
      "metadata": {
        "id": "uMb-AlB93Uej",
        "colab": {
          "base_uri": "https://localhost:8080/"
        },
        "outputId": "af45a0f2-6c28-4f61-8477-986d46cb18d9"
      },
      "outputs": [
        {
          "output_type": "stream",
          "name": "stdout",
          "text": [
            "0:\tlearn: 0.6720380\ttest: 0.6711012\tbest: 0.6711012 (0)\ttotal: 29.9ms\tremaining: 1m 14s\n",
            "50:\tlearn: 0.3853080\ttest: 0.3711278\tbest: 0.3711278 (50)\ttotal: 1.05s\tremaining: 50.6s\n",
            "100:\tlearn: 0.3410592\ttest: 0.3285225\tbest: 0.3285225 (100)\ttotal: 2.62s\tremaining: 1m 2s\n",
            "150:\tlearn: 0.3163900\ttest: 0.3056152\tbest: 0.3056152 (150)\ttotal: 4.35s\tremaining: 1m 7s\n",
            "200:\tlearn: 0.2980758\ttest: 0.2896674\tbest: 0.2896674 (200)\ttotal: 5.36s\tremaining: 1m 1s\n",
            "250:\tlearn: 0.2813900\ttest: 0.2759243\tbest: 0.2759243 (250)\ttotal: 6.37s\tremaining: 57.1s\n",
            "300:\tlearn: 0.2676941\ttest: 0.2654762\tbest: 0.2654762 (300)\ttotal: 7.38s\tremaining: 53.9s\n",
            "350:\tlearn: 0.2552730\ttest: 0.2552548\tbest: 0.2552548 (350)\ttotal: 8.38s\tremaining: 51.3s\n",
            "400:\tlearn: 0.2438924\ttest: 0.2462418\tbest: 0.2462418 (400)\ttotal: 9.39s\tremaining: 49.2s\n",
            "450:\tlearn: 0.2338116\ttest: 0.2387081\tbest: 0.2387081 (450)\ttotal: 10.4s\tremaining: 47.3s\n",
            "500:\tlearn: 0.2240145\ttest: 0.2311061\tbest: 0.2311061 (500)\ttotal: 11.4s\tremaining: 45.6s\n",
            "550:\tlearn: 0.2149167\ttest: 0.2244436\tbest: 0.2244436 (550)\ttotal: 12.5s\tremaining: 44.1s\n",
            "600:\tlearn: 0.2067505\ttest: 0.2183838\tbest: 0.2183838 (600)\ttotal: 13.5s\tremaining: 42.6s\n",
            "650:\tlearn: 0.1986401\ttest: 0.2123189\tbest: 0.2123189 (650)\ttotal: 14.8s\tremaining: 42.1s\n",
            "700:\tlearn: 0.1908341\ttest: 0.2065356\tbest: 0.2065356 (700)\ttotal: 16.8s\tremaining: 43.1s\n",
            "750:\tlearn: 0.1839791\ttest: 0.2015874\tbest: 0.2015874 (750)\ttotal: 17.8s\tremaining: 41.5s\n",
            "800:\tlearn: 0.1774648\ttest: 0.1968194\tbest: 0.1968194 (800)\ttotal: 18.9s\tremaining: 40s\n",
            "850:\tlearn: 0.1715829\ttest: 0.1920917\tbest: 0.1920917 (850)\ttotal: 20.2s\tremaining: 39.1s\n",
            "900:\tlearn: 0.1656320\ttest: 0.1875190\tbest: 0.1875190 (900)\ttotal: 22.1s\tremaining: 39.3s\n",
            "950:\tlearn: 0.1598529\ttest: 0.1830725\tbest: 0.1830725 (950)\ttotal: 23.2s\tremaining: 37.9s\n",
            "1000:\tlearn: 0.1545078\ttest: 0.1792113\tbest: 0.1792113 (1000)\ttotal: 24.3s\tremaining: 36.3s\n",
            "1050:\tlearn: 0.1497114\ttest: 0.1758602\tbest: 0.1758602 (1050)\ttotal: 25.3s\tremaining: 34.9s\n",
            "1100:\tlearn: 0.1447969\ttest: 0.1721200\tbest: 0.1721200 (1100)\ttotal: 26.3s\tremaining: 33.4s\n",
            "1150:\tlearn: 0.1400298\ttest: 0.1688872\tbest: 0.1688872 (1150)\ttotal: 27.8s\tremaining: 32.6s\n",
            "1200:\tlearn: 0.1356294\ttest: 0.1654910\tbest: 0.1654910 (1200)\ttotal: 29.6s\tremaining: 32s\n",
            "1250:\tlearn: 0.1312221\ttest: 0.1621519\tbest: 0.1621519 (1250)\ttotal: 30.6s\tremaining: 30.6s\n",
            "1300:\tlearn: 0.1270658\ttest: 0.1594371\tbest: 0.1594371 (1300)\ttotal: 31.7s\tremaining: 29.2s\n",
            "1350:\tlearn: 0.1231318\ttest: 0.1567927\tbest: 0.1567927 (1350)\ttotal: 32.7s\tremaining: 27.8s\n",
            "1400:\tlearn: 0.1195374\ttest: 0.1542252\tbest: 0.1542252 (1400)\ttotal: 33.7s\tremaining: 26.4s\n",
            "1450:\tlearn: 0.1160112\ttest: 0.1518725\tbest: 0.1518725 (1450)\ttotal: 34.7s\tremaining: 25.1s\n",
            "1500:\tlearn: 0.1129041\ttest: 0.1497840\tbest: 0.1497840 (1500)\ttotal: 35.7s\tremaining: 23.7s\n",
            "1550:\tlearn: 0.1097613\ttest: 0.1475651\tbest: 0.1475651 (1550)\ttotal: 36.7s\tremaining: 22.4s\n",
            "1600:\tlearn: 0.1069364\ttest: 0.1456880\tbest: 0.1456880 (1600)\ttotal: 37.7s\tremaining: 21.2s\n",
            "1650:\tlearn: 0.1043417\ttest: 0.1438839\tbest: 0.1438839 (1650)\ttotal: 38.7s\tremaining: 19.9s\n",
            "1700:\tlearn: 0.1014571\ttest: 0.1417464\tbest: 0.1417464 (1700)\ttotal: 40s\tremaining: 18.8s\n",
            "1750:\tlearn: 0.0990108\ttest: 0.1401453\tbest: 0.1401453 (1750)\ttotal: 42s\tremaining: 18s\n",
            "1800:\tlearn: 0.0966543\ttest: 0.1384959\tbest: 0.1384959 (1800)\ttotal: 43.1s\tremaining: 16.7s\n",
            "1850:\tlearn: 0.0942265\ttest: 0.1366729\tbest: 0.1366729 (1850)\ttotal: 44.1s\tremaining: 15.5s\n",
            "1900:\tlearn: 0.0918509\ttest: 0.1349643\tbest: 0.1349643 (1900)\ttotal: 45.1s\tremaining: 14.2s\n",
            "1950:\tlearn: 0.0895085\ttest: 0.1335718\tbest: 0.1335718 (1950)\ttotal: 46.1s\tremaining: 13s\n",
            "2000:\tlearn: 0.0873699\ttest: 0.1321335\tbest: 0.1321335 (2000)\ttotal: 47.2s\tremaining: 11.8s\n",
            "2050:\tlearn: 0.0852785\ttest: 0.1307276\tbest: 0.1307276 (2050)\ttotal: 48.2s\tremaining: 10.5s\n",
            "2100:\tlearn: 0.0833015\ttest: 0.1294254\tbest: 0.1294254 (2100)\ttotal: 49.2s\tremaining: 9.34s\n",
            "2150:\tlearn: 0.0812965\ttest: 0.1280143\tbest: 0.1280143 (2150)\ttotal: 50.2s\tremaining: 8.14s\n",
            "2200:\tlearn: 0.0795550\ttest: 0.1270252\tbest: 0.1270252 (2200)\ttotal: 51.2s\tremaining: 6.95s\n",
            "2250:\tlearn: 0.0778218\ttest: 0.1258140\tbest: 0.1258125 (2249)\ttotal: 52.3s\tremaining: 5.78s\n",
            "2300:\tlearn: 0.0760166\ttest: 0.1244703\tbest: 0.1244703 (2300)\ttotal: 54.2s\tremaining: 4.68s\n",
            "2350:\tlearn: 0.0744435\ttest: 0.1234880\tbest: 0.1234880 (2350)\ttotal: 55.5s\tremaining: 3.52s\n",
            "2400:\tlearn: 0.0728744\ttest: 0.1224881\tbest: 0.1224881 (2400)\ttotal: 56.5s\tremaining: 2.33s\n",
            "2450:\tlearn: 0.0713847\ttest: 0.1214973\tbest: 0.1214973 (2450)\ttotal: 57.5s\tremaining: 1.15s\n",
            "2499:\tlearn: 0.0697730\ttest: 0.1206320\tbest: 0.1206197 (2498)\ttotal: 58.5s\tremaining: 0us\n",
            "\n",
            "bestTest = 0.1206196946\n",
            "bestIteration = 2498\n",
            "\n",
            "Shrink model to first 2499 iterations.\n"
          ]
        },
        {
          "output_type": "execute_result",
          "data": {
            "text/plain": [
              "<catboost.core.CatBoostClassifier at 0x7d9755d996d0>"
            ]
          },
          "metadata": {},
          "execution_count": 35
        }
      ],
      "source": [
        "model.fit(X_train, y_train, eval_set=(X_test, y_test))"
      ]
    },
    {
      "cell_type": "markdown",
      "metadata": {
        "id": "FntxgSBsErX3"
      },
      "source": [
        "## Plotting Loss"
      ]
    },
    {
      "cell_type": "code",
      "execution_count": 37,
      "metadata": {
        "id": "wVlp_T4NErEP",
        "colab": {
          "base_uri": "https://localhost:8080/",
          "height": 564
        },
        "outputId": "bbfa7e2d-cf01-4230-81e1-2aee14e2ec95"
      },
      "outputs": [
        {
          "output_type": "display_data",
          "data": {
            "text/plain": [
              "<Figure size 1000x600 with 1 Axes>"
            ],
            "image/png": "[encoded data removed]"
          },
          "metadata": {}
        }
      ],
      "source": [
        "evals_result = model.get_evals_result()\n",
        "\n",
        "train_loss = evals_result['learn']['MultiClass']\n",
        "valid_loss = evals_result['validation']['MultiClass']\n",
        "\n",
        "plt.figure(figsize=(10,6))\n",
        "plt.plot(train_loss, label='Training Loss')\n",
        "plt.plot(valid_loss, label='Validation Loss')\n",
        "plt.xlabel('Iteration')\n",
        "plt.ylabel('MultiClass Loss')\n",
        "plt.title('CatBoost Training & Validation Loss')\n",
        "plt.legend()\n",
        "plt.grid(True)\n",
        "plt.show()"
      ]
    },
    {
      "cell_type": "markdown",
      "metadata": {
        "id": "WkJMiODf3jU8"
      },
      "source": [
        "# Evaluation"
      ]
    },
    {
      "cell_type": "code",
      "execution_count": 38,
      "metadata": {
        "id": "RlM3Gy033jCW"
      },
      "outputs": [],
      "source": [
        "y_pred = model.predict(X_test)"
      ]
    },
    {
      "cell_type": "markdown",
      "metadata": {
        "id": "z-JQB_2z547j"
      },
      "source": [
        "## Confusion Matrix"
      ]
    },
    {
      "cell_type": "code",
      "execution_count": 39,
      "metadata": {
        "id": "CMTh0eHt4dxE",
        "colab": {
          "base_uri": "https://localhost:8080/",
          "height": 410
        },
        "outputId": "8506bc64-8449-4c68-f368-099191068e26"
      },
      "outputs": [
        {
          "output_type": "display_data",
          "data": {
            "text/plain": [
              "<Figure size 500x400 with 2 Axes>"
            ],
            "image/png": "[encoded data removed]"
          },
          "metadata": {}
        }
      ],
      "source": [
        "cm = confusion_matrix(y_test, y_pred)\n",
        "\n",
        "class_names = [\"False Positive\", \"Candidate\"]\n",
        "\n",
        "plt.figure(figsize=(5,4))\n",
        "sns.heatmap(cm, annot=True, fmt='d', cmap='Blues',\n",
        "            xticklabels=class_names, yticklabels=class_names)\n",
        "plt.ylabel('True label')\n",
        "plt.xlabel('Predicted label')\n",
        "plt.title('Confusion Matrix')\n",
        "plt.show()"
      ]
    },
    {
      "cell_type": "markdown",
      "metadata": {
        "id": "niTwN6Ni6l4e"
      },
      "source": [
        "## Accuracy"
      ]
    },
    {
      "cell_type": "code",
      "execution_count": 40,
      "metadata": {
        "id": "5Ir2HlhM6oU_",
        "colab": {
          "base_uri": "https://localhost:8080/"
        },
        "outputId": "00953fc3-26d2-4f20-ea93-18597a20647c"
      },
      "outputs": [
        {
          "output_type": "stream",
          "name": "stdout",
          "text": [
            "Accuracy: 96.97%\n",
            "Precision Score: 97.00%\n",
            "Recall Score: 96.97%\n",
            "F1 Score: 96.97%\n"
          ]
        }
      ],
      "source": [
        "acc = accuracy_score(y_test, y_pred)\n",
        "precision = precision_score(y_test, y_pred, average='weighted')\n",
        "recall = recall_score(y_test, y_pred, average='weighted')\n",
        "f1 = f1_score(y_test, y_pred, average='weighted')\n",
        "\n",
        "print(\"Accuracy: {:.2f}%\".format(acc * 100))\n",
        "print(\"Precision Score: {:.2f}%\".format(precision * 100))\n",
        "print(\"Recall Score: {:.2f}%\".format(recall * 100))\n",
        "print(\"F1 Score: {:.2f}%\".format(f1 * 100))"
      ]
    },
    {
      "cell_type": "markdown",
      "metadata": {
        "id": "AG3c9EWVmAej"
      },
      "source": [
        "# Saving Model"
      ]
    },
    {
      "cell_type": "code",
      "execution_count": 41,
      "metadata": {
        "id": "ZY7M-a9MmAej"
      },
      "outputs": [],
      "source": [
        "model.save_model(\"koi_model.onnx\", format=\"onnx\")"
      ]
    }
  ],
  "metadata": {
    "accelerator": "GPU",
    "colab": {
      "gpuType": "T4",
      "provenance": [],
      "include_colab_link": true
    },
    "kernelspec": {
      "display_name": "Python 3 (ipykernel)",
      "language": "python",
      "name": "python3"
    },
    "language_info": {
      "codemirror_mode": {
        "name": "ipython",
        "version": 3
      },
      "file_extension": ".py",
      "mimetype": "text/x-python",
      "name": "python",
      "nbconvert_exporter": "python",
      "pygments_lexer": "ipython3",
      "version": "3.13.7"
    }
  },
  "nbformat": 4,
  "nbformat_minor": 0
}